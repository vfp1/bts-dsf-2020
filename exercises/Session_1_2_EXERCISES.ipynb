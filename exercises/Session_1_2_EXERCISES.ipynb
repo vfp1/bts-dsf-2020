{
  "nbformat": 4,
  "nbformat_minor": 0,
  "metadata": {
    "colab": {
      "name": "Session_1_2_EXERCISES.ipynb",
      "provenance": [],
      "collapsed_sections": []
    },
    "kernelspec": {
      "name": "python3",
      "display_name": "Python 3"
    }
  },
  "cells": [
    {
      "cell_type": "markdown",
      "metadata": {
        "id": "_a2hajcA99-K"
      },
      "source": [
        "![BTS](https://github.com/vfp1/bts-dsf-2020/blob/main/Logo-BTS.jpg?raw=1)\n",
        "\n",
        "# Session 1 and Session 2: Assignements\n",
        "\n",
        "### Victor F. Pajuelo Madrigal <victor.pajuelo@bts.tech> - Data Science Foundations (S1 - S2)\n",
        "\n",
        "Open this notebook in Google Colaboratory: [![Open in Colab](https://colab.research.google.com/assets/colab-badge.svg)](https://colab.research.google.com/github/vfp1/bts-dsf-2020/blob/main/exercises/Session_1_2_EXERCISES.ipynb)"
      ]
    },
    {
      "cell_type": "markdown",
      "metadata": {
        "id": "byRLEOBP1pet"
      },
      "source": [
        "## Exercise 1: CSV\n",
        "\n",
        "Analize the data of the JetBrains 2017 Python survey https://www.jetbrains.com/research/python-developers-survey-2017/\n",
        "\n",
        "1. Download raw data from http://jb.gg/pythondevsurvey2017raw\n",
        "2. Read it in pandas\n",
        "3. Reproduce \"What do you use Python for the most? (single answer)\" chart\n",
        "4. Reproduce \"What do you use Python for? (multiple answers)\" chart"
      ]
    },
    {
      "cell_type": "code",
      "metadata": {
        "id": "oBnQwY1c1peu"
      },
      "source": [
        ""
      ],
      "execution_count": null,
      "outputs": []
    },
    {
      "cell_type": "markdown",
      "metadata": {
        "id": "HCvH2cLM_1Cq"
      },
      "source": [
        "# Exercise 2: slicing arrays\n",
        "\n",
        "Given the array provided in the next cell. Do the following with slicing (check the other notebooks for examples)\n",
        "\n",
        "\n",
        "\n",
        "*   Print the whole array using slice\n",
        "*   Print number 12\n",
        "*   Reverse the array\n",
        "*   Reverse only one row in the array\n",
        "*   Slice the first three columns in the array\n",
        "*   Slice the last three columns and reverse them\n",
        "*   Slice the last two rows and print them\n",
        "*   Slice the last integers in a row\n",
        "*   Slice rows and columns\n",
        "\n",
        "\n",
        "[Here](https://machinelearningmastery.com/index-slice-reshape-numpy-arrays-machine-learning-python/) some good examples ;-)\n",
        "\n",
        "\n",
        "\n"
      ]
    },
    {
      "cell_type": "code",
      "metadata": {
        "id": "ksQUFmu3-HKl",
        "outputId": "66104521-8134-4fb8-d074-07d15e50771b",
        "colab": {
          "base_uri": "https://localhost:8080/",
          "height": 89
        }
      },
      "source": [
        "import numpy as np\n",
        "\n",
        "a = [[1, 2, 3, 4, 5], [6, 7, 8, 9, 10], [11, 12, 13, 14, 15], [16, 17, 18, 19, 20]]\n",
        "nd_a = np.array(a)\n",
        "nd_a"
      ],
      "execution_count": null,
      "outputs": [
        {
          "output_type": "execute_result",
          "data": {
            "text/plain": [
              "array([[ 1,  2,  3,  4,  5],\n",
              "       [ 6,  7,  8,  9, 10],\n",
              "       [11, 12, 13, 14, 15],\n",
              "       [16, 17, 18, 19, 20]])"
            ]
          },
          "metadata": {
            "tags": []
          },
          "execution_count": 1
        }
      ]
    },
    {
      "cell_type": "code",
      "metadata": {
        "id": "GDMyk3aOwotZ"
      },
      "source": [
        ""
      ],
      "execution_count": null,
      "outputs": []
    },
    {
      "cell_type": "markdown",
      "metadata": {
        "id": "XrA3YsGkQVY4"
      },
      "source": [
        "# Exercise 3: when is best to bike alone?\n",
        "\n",
        "Given the bike dataset:\n",
        "\n",
        "* Download the Dataset using curl\n",
        "* Open the dataset using Pandas\n",
        "* Display the DataFrame\n",
        "* Reply to the following questions (either by plotting the graph and summarizing the values):\n",
        "\n",
        "    * When are the busiest hours per week in Total?\n",
        "    * Where will you be more comfortable (alone) riding during the week in West or East?\n",
        "    * What about riding during the business days? When and where are the best hours to ride alone between 06:00 and 10:00? And between 15:00 and 20:00?\n",
        "    * What happened during the coronavirus pandemic? Did the daily riding hours change? How many riders are passing through the bridge comparing 2018 and 2020?"
      ]
    },
    {
      "cell_type": "code",
      "metadata": {
        "id": "007TRg0V4EUn"
      },
      "source": [
        "!curl -o FremontBridge.csv https://data.seattle.gov/api/views/65db-xm6k/rows.csv?accessType=DOWNLOAD"
      ],
      "execution_count": null,
      "outputs": []
    },
    {
      "cell_type": "markdown",
      "metadata": {
        "id": "kRIP0xZeYrvn"
      },
      "source": [
        "# Exercise 4: let's get rich!\n",
        "\n",
        "Given this apple stock history [this dataset](https://raw.githubusercontent.com/vfp1/bts-dsf-2020/main/data/appl_1980_2014.csv)\n",
        "\n",
        "* Open the dataset using Pandas\n",
        "* Display the DataFrame\n",
        "* Reply to the following questions (either by plotting the graph and summarizing the values):\n",
        "\n",
        "    * How much money will you have now if you bought 10 stocks for Apple at the end of January 2000 and you sold it at the end of 2013\n",
        "    * When was the peak maximum of volume of trades done?\n",
        "    * When was the month with the lowest close?\n",
        "    * And the lowest close of the day in the whole dataset?"
      ]
    },
    {
      "cell_type": "code",
      "metadata": {
        "id": "k0xMrNse3n8g"
      },
      "source": [
        ""
      ],
      "execution_count": null,
      "outputs": []
    }
  ]
}
