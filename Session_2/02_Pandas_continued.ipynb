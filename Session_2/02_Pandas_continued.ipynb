{
  "nbformat": 4,
  "nbformat_minor": 0,
  "metadata": {
    "colab": {
      "name": "02_Pandas_continued.ipynb",
      "provenance": [],
      "collapsed_sections": [
        "8A9xnGaB6BpF",
        "DS4n1x3fByQV"
      ]
    },
    "kernelspec": {
      "name": "python3",
      "display_name": "Python 3"
    }
  },
  "cells": [
    {
      "cell_type": "markdown",
      "metadata": {
        "id": "3hprLGZ55el6"
      },
      "source": [
        "![BTS](https://github.com/vfp1/bts-dsf-2020/blob/main/Logo-BTS.jpg?raw=1)\n",
        "\n",
        "# Session 2: Pandas continued\n",
        "\n",
        "### Victor F. Pajuelo Madrigal <victor.pajuelo@bts.tech> - Data Science Foundations (2020-10-08)\n",
        "\n",
        "Open this notebook in Google Colaboratory: [![Open in Colab](https://colab.research.google.com/assets/colab-badge.svg)](https://colab.research.google.com/github/vfp1/bts-dsf-2020/blob/main/Session_2/02_Pandas_continued.ipynb)"
      ]
    },
    {
      "cell_type": "markdown",
      "metadata": {
        "id": "kSdhqZa4vwku"
      },
      "source": [
        "Customarily, we import as follows:"
      ]
    },
    {
      "cell_type": "code",
      "metadata": {
        "id": "Tan88KvIvwkv"
      },
      "source": [
        "import pandas as pd\n",
        "import numpy as np\n",
        "import matplotlib.pyplot as plt"
      ],
      "execution_count": null,
      "outputs": []
    },
    {
      "cell_type": "code",
      "metadata": {
        "id": "os802H9O6Yi1"
      },
      "source": [
        "# Within IPython notebook, add multiple print capabilities\n",
        "from IPython.core.interactiveshell import InteractiveShell\n",
        "InteractiveShell.ast_node_interactivity = \"all\""
      ],
      "execution_count": null,
      "outputs": []
    },
    {
      "cell_type": "code",
      "metadata": {
        "id": "DP7ZFvmUvwk0"
      },
      "source": [
        "%matplotlib inline"
      ],
      "execution_count": null,
      "outputs": []
    },
    {
      "cell_type": "markdown",
      "metadata": {
        "id": "dpWTClqn6KdR"
      },
      "source": [
        "## Creating some dummy DataFrames"
      ]
    },
    {
      "cell_type": "code",
      "metadata": {
        "id": "kGukrb5D6OCZ",
        "outputId": "2ec923fa-85c5-4718-bc0a-f53dce63d1a2",
        "colab": {
          "base_uri": "https://localhost:8080/",
          "height": 71
        }
      },
      "source": [
        "dates = pd.date_range('20191208', periods=6)\n",
        "dates"
      ],
      "execution_count": null,
      "outputs": [
        {
          "output_type": "execute_result",
          "data": {
            "text/plain": [
              "DatetimeIndex(['2019-12-08', '2019-12-09', '2019-12-10', '2019-12-11',\n",
              "               '2019-12-12', '2019-12-13'],\n",
              "              dtype='datetime64[ns]', freq='D')"
            ]
          },
          "metadata": {
            "tags": []
          },
          "execution_count": 4
        }
      ]
    },
    {
      "cell_type": "code",
      "metadata": {
        "id": "TISMkCFW6OpD",
        "outputId": "88700d50-2909-4418-d23a-6b86a8a4f156",
        "colab": {
          "base_uri": "https://localhost:8080/",
          "height": 233
        }
      },
      "source": [
        "df = pd.DataFrame(np.random.randn(6, 5), index=dates, columns=list('ABCDE'))\n",
        "df"
      ],
      "execution_count": null,
      "outputs": [
        {
          "output_type": "execute_result",
          "data": {
            "text/html": [
              "<div>\n",
              "<style scoped>\n",
              "    .dataframe tbody tr th:only-of-type {\n",
              "        vertical-align: middle;\n",
              "    }\n",
              "\n",
              "    .dataframe tbody tr th {\n",
              "        vertical-align: top;\n",
              "    }\n",
              "\n",
              "    .dataframe thead th {\n",
              "        text-align: right;\n",
              "    }\n",
              "</style>\n",
              "<table border=\"1\" class=\"dataframe\">\n",
              "  <thead>\n",
              "    <tr style=\"text-align: right;\">\n",
              "      <th></th>\n",
              "      <th>A</th>\n",
              "      <th>B</th>\n",
              "      <th>C</th>\n",
              "      <th>D</th>\n",
              "      <th>E</th>\n",
              "    </tr>\n",
              "  </thead>\n",
              "  <tbody>\n",
              "    <tr>\n",
              "      <th>2019-12-08</th>\n",
              "      <td>-2.228925</td>\n",
              "      <td>-2.222460</td>\n",
              "      <td>-0.346469</td>\n",
              "      <td>0.916950</td>\n",
              "      <td>1.471064</td>\n",
              "    </tr>\n",
              "    <tr>\n",
              "      <th>2019-12-09</th>\n",
              "      <td>0.184910</td>\n",
              "      <td>1.257836</td>\n",
              "      <td>-0.192188</td>\n",
              "      <td>0.769516</td>\n",
              "      <td>2.113761</td>\n",
              "    </tr>\n",
              "    <tr>\n",
              "      <th>2019-12-10</th>\n",
              "      <td>-0.617080</td>\n",
              "      <td>-0.073227</td>\n",
              "      <td>-0.448079</td>\n",
              "      <td>-0.767040</td>\n",
              "      <td>0.102788</td>\n",
              "    </tr>\n",
              "    <tr>\n",
              "      <th>2019-12-11</th>\n",
              "      <td>0.692000</td>\n",
              "      <td>-0.285726</td>\n",
              "      <td>-0.027462</td>\n",
              "      <td>0.212309</td>\n",
              "      <td>0.558718</td>\n",
              "    </tr>\n",
              "    <tr>\n",
              "      <th>2019-12-12</th>\n",
              "      <td>-0.797931</td>\n",
              "      <td>1.370972</td>\n",
              "      <td>-1.105502</td>\n",
              "      <td>-0.597071</td>\n",
              "      <td>2.880826</td>\n",
              "    </tr>\n",
              "    <tr>\n",
              "      <th>2019-12-13</th>\n",
              "      <td>0.004226</td>\n",
              "      <td>0.701093</td>\n",
              "      <td>-0.589463</td>\n",
              "      <td>-1.992189</td>\n",
              "      <td>-2.412198</td>\n",
              "    </tr>\n",
              "  </tbody>\n",
              "</table>\n",
              "</div>"
            ],
            "text/plain": [
              "                   A         B         C         D         E\n",
              "2019-12-08 -2.228925 -2.222460 -0.346469  0.916950  1.471064\n",
              "2019-12-09  0.184910  1.257836 -0.192188  0.769516  2.113761\n",
              "2019-12-10 -0.617080 -0.073227 -0.448079 -0.767040  0.102788\n",
              "2019-12-11  0.692000 -0.285726 -0.027462  0.212309  0.558718\n",
              "2019-12-12 -0.797931  1.370972 -1.105502 -0.597071  2.880826\n",
              "2019-12-13  0.004226  0.701093 -0.589463 -1.992189 -2.412198"
            ]
          },
          "metadata": {
            "tags": []
          },
          "execution_count": 5
        }
      ]
    },
    {
      "cell_type": "markdown",
      "metadata": {
        "id": "lK1dyQ7B6b0s"
      },
      "source": [
        "# Pandas introduction: continued"
      ]
    },
    {
      "cell_type": "markdown",
      "metadata": {
        "id": "y5qmCizSBuzI"
      },
      "source": [
        "## Setting options\n",
        "\n",
        "pandas has an options system that lets you customize some aspects of its behaviour, display-related options being those the user is most likely to adjust.\n",
        "\n",
        "The most important settings are:\n",
        "\n",
        "*   get_option() / set_option()\n",
        "*   reset_option()\n",
        "\n"
      ]
    },
    {
      "cell_type": "markdown",
      "metadata": {
        "id": "Y3FZ0EZ_FJBg"
      },
      "source": [
        "### Getting and setting options"
      ]
    },
    {
      "cell_type": "markdown",
      "metadata": {
        "id": "rsxAcSOCFUIP"
      },
      "source": [
        "#### Number rows and columns"
      ]
    },
    {
      "cell_type": "code",
      "metadata": {
        "id": "ZWsg_9szC2UT",
        "outputId": "a4bf34f7-0474-44c6-8457-940e87501c4c",
        "colab": {
          "base_uri": "https://localhost:8080/",
          "height": 251
        }
      },
      "source": [
        "pd.get_option(\"display.max_rows\")\n",
        "df"
      ],
      "execution_count": null,
      "outputs": [
        {
          "output_type": "execute_result",
          "data": {
            "text/plain": [
              "60"
            ]
          },
          "metadata": {
            "tags": []
          },
          "execution_count": 6
        },
        {
          "output_type": "execute_result",
          "data": {
            "text/html": [
              "<div>\n",
              "<style scoped>\n",
              "    .dataframe tbody tr th:only-of-type {\n",
              "        vertical-align: middle;\n",
              "    }\n",
              "\n",
              "    .dataframe tbody tr th {\n",
              "        vertical-align: top;\n",
              "    }\n",
              "\n",
              "    .dataframe thead th {\n",
              "        text-align: right;\n",
              "    }\n",
              "</style>\n",
              "<table border=\"1\" class=\"dataframe\">\n",
              "  <thead>\n",
              "    <tr style=\"text-align: right;\">\n",
              "      <th></th>\n",
              "      <th>A</th>\n",
              "      <th>B</th>\n",
              "      <th>C</th>\n",
              "      <th>D</th>\n",
              "      <th>E</th>\n",
              "    </tr>\n",
              "  </thead>\n",
              "  <tbody>\n",
              "    <tr>\n",
              "      <th>2019-12-08</th>\n",
              "      <td>-2.228925</td>\n",
              "      <td>-2.222460</td>\n",
              "      <td>-0.346469</td>\n",
              "      <td>0.916950</td>\n",
              "      <td>1.471064</td>\n",
              "    </tr>\n",
              "    <tr>\n",
              "      <th>2019-12-09</th>\n",
              "      <td>0.184910</td>\n",
              "      <td>1.257836</td>\n",
              "      <td>-0.192188</td>\n",
              "      <td>0.769516</td>\n",
              "      <td>2.113761</td>\n",
              "    </tr>\n",
              "    <tr>\n",
              "      <th>2019-12-10</th>\n",
              "      <td>-0.617080</td>\n",
              "      <td>-0.073227</td>\n",
              "      <td>-0.448079</td>\n",
              "      <td>-0.767040</td>\n",
              "      <td>0.102788</td>\n",
              "    </tr>\n",
              "    <tr>\n",
              "      <th>2019-12-11</th>\n",
              "      <td>0.692000</td>\n",
              "      <td>-0.285726</td>\n",
              "      <td>-0.027462</td>\n",
              "      <td>0.212309</td>\n",
              "      <td>0.558718</td>\n",
              "    </tr>\n",
              "    <tr>\n",
              "      <th>2019-12-12</th>\n",
              "      <td>-0.797931</td>\n",
              "      <td>1.370972</td>\n",
              "      <td>-1.105502</td>\n",
              "      <td>-0.597071</td>\n",
              "      <td>2.880826</td>\n",
              "    </tr>\n",
              "    <tr>\n",
              "      <th>2019-12-13</th>\n",
              "      <td>0.004226</td>\n",
              "      <td>0.701093</td>\n",
              "      <td>-0.589463</td>\n",
              "      <td>-1.992189</td>\n",
              "      <td>-2.412198</td>\n",
              "    </tr>\n",
              "  </tbody>\n",
              "</table>\n",
              "</div>"
            ],
            "text/plain": [
              "                   A         B         C         D         E\n",
              "2019-12-08 -2.228925 -2.222460 -0.346469  0.916950  1.471064\n",
              "2019-12-09  0.184910  1.257836 -0.192188  0.769516  2.113761\n",
              "2019-12-10 -0.617080 -0.073227 -0.448079 -0.767040  0.102788\n",
              "2019-12-11  0.692000 -0.285726 -0.027462  0.212309  0.558718\n",
              "2019-12-12 -0.797931  1.370972 -1.105502 -0.597071  2.880826\n",
              "2019-12-13  0.004226  0.701093 -0.589463 -1.992189 -2.412198"
            ]
          },
          "metadata": {
            "tags": []
          },
          "execution_count": 6
        }
      ]
    },
    {
      "cell_type": "code",
      "metadata": {
        "id": "8hJnvA6EF46D",
        "outputId": "2efad1dc-abd7-42a1-a404-12c32f7f5a3f",
        "colab": {
          "base_uri": "https://localhost:8080/",
          "height": 251
        }
      },
      "source": [
        "pd.get_option(\"display.max_columns\")\n",
        "df"
      ],
      "execution_count": null,
      "outputs": [
        {
          "output_type": "execute_result",
          "data": {
            "text/plain": [
              "0"
            ]
          },
          "metadata": {
            "tags": []
          },
          "execution_count": 7
        },
        {
          "output_type": "execute_result",
          "data": {
            "text/html": [
              "<div>\n",
              "<style scoped>\n",
              "    .dataframe tbody tr th:only-of-type {\n",
              "        vertical-align: middle;\n",
              "    }\n",
              "\n",
              "    .dataframe tbody tr th {\n",
              "        vertical-align: top;\n",
              "    }\n",
              "\n",
              "    .dataframe thead th {\n",
              "        text-align: right;\n",
              "    }\n",
              "</style>\n",
              "<table border=\"1\" class=\"dataframe\">\n",
              "  <thead>\n",
              "    <tr style=\"text-align: right;\">\n",
              "      <th></th>\n",
              "      <th>A</th>\n",
              "      <th>B</th>\n",
              "      <th>C</th>\n",
              "      <th>D</th>\n",
              "      <th>E</th>\n",
              "    </tr>\n",
              "  </thead>\n",
              "  <tbody>\n",
              "    <tr>\n",
              "      <th>2019-12-08</th>\n",
              "      <td>-2.228925</td>\n",
              "      <td>-2.222460</td>\n",
              "      <td>-0.346469</td>\n",
              "      <td>0.916950</td>\n",
              "      <td>1.471064</td>\n",
              "    </tr>\n",
              "    <tr>\n",
              "      <th>2019-12-09</th>\n",
              "      <td>0.184910</td>\n",
              "      <td>1.257836</td>\n",
              "      <td>-0.192188</td>\n",
              "      <td>0.769516</td>\n",
              "      <td>2.113761</td>\n",
              "    </tr>\n",
              "    <tr>\n",
              "      <th>2019-12-10</th>\n",
              "      <td>-0.617080</td>\n",
              "      <td>-0.073227</td>\n",
              "      <td>-0.448079</td>\n",
              "      <td>-0.767040</td>\n",
              "      <td>0.102788</td>\n",
              "    </tr>\n",
              "    <tr>\n",
              "      <th>2019-12-11</th>\n",
              "      <td>0.692000</td>\n",
              "      <td>-0.285726</td>\n",
              "      <td>-0.027462</td>\n",
              "      <td>0.212309</td>\n",
              "      <td>0.558718</td>\n",
              "    </tr>\n",
              "    <tr>\n",
              "      <th>2019-12-12</th>\n",
              "      <td>-0.797931</td>\n",
              "      <td>1.370972</td>\n",
              "      <td>-1.105502</td>\n",
              "      <td>-0.597071</td>\n",
              "      <td>2.880826</td>\n",
              "    </tr>\n",
              "    <tr>\n",
              "      <th>2019-12-13</th>\n",
              "      <td>0.004226</td>\n",
              "      <td>0.701093</td>\n",
              "      <td>-0.589463</td>\n",
              "      <td>-1.992189</td>\n",
              "      <td>-2.412198</td>\n",
              "    </tr>\n",
              "  </tbody>\n",
              "</table>\n",
              "</div>"
            ],
            "text/plain": [
              "                   A         B         C         D         E\n",
              "2019-12-08 -2.228925 -2.222460 -0.346469  0.916950  1.471064\n",
              "2019-12-09  0.184910  1.257836 -0.192188  0.769516  2.113761\n",
              "2019-12-10 -0.617080 -0.073227 -0.448079 -0.767040  0.102788\n",
              "2019-12-11  0.692000 -0.285726 -0.027462  0.212309  0.558718\n",
              "2019-12-12 -0.797931  1.370972 -1.105502 -0.597071  2.880826\n",
              "2019-12-13  0.004226  0.701093 -0.589463 -1.992189 -2.412198"
            ]
          },
          "metadata": {
            "tags": []
          },
          "execution_count": 7
        }
      ]
    },
    {
      "cell_type": "code",
      "metadata": {
        "id": "4XFRaJ0ZGAvT",
        "outputId": "afee1917-ff9a-47ae-ab37-dabbea6511b5",
        "colab": {
          "base_uri": "https://localhost:8080/",
          "height": 257
        }
      },
      "source": [
        "pd.set_option(\"display.max_columns\", 2)\n",
        "df"
      ],
      "execution_count": null,
      "outputs": [
        {
          "output_type": "execute_result",
          "data": {
            "text/html": [
              "<div>\n",
              "<style scoped>\n",
              "    .dataframe tbody tr th:only-of-type {\n",
              "        vertical-align: middle;\n",
              "    }\n",
              "\n",
              "    .dataframe tbody tr th {\n",
              "        vertical-align: top;\n",
              "    }\n",
              "\n",
              "    .dataframe thead th {\n",
              "        text-align: right;\n",
              "    }\n",
              "</style>\n",
              "<table border=\"1\" class=\"dataframe\">\n",
              "  <thead>\n",
              "    <tr style=\"text-align: right;\">\n",
              "      <th></th>\n",
              "      <th>A</th>\n",
              "      <th>...</th>\n",
              "      <th>E</th>\n",
              "    </tr>\n",
              "  </thead>\n",
              "  <tbody>\n",
              "    <tr>\n",
              "      <th>2019-12-08</th>\n",
              "      <td>-0.695271</td>\n",
              "      <td>...</td>\n",
              "      <td>0.896255</td>\n",
              "    </tr>\n",
              "    <tr>\n",
              "      <th>2019-12-09</th>\n",
              "      <td>-0.528041</td>\n",
              "      <td>...</td>\n",
              "      <td>-0.921574</td>\n",
              "    </tr>\n",
              "    <tr>\n",
              "      <th>2019-12-10</th>\n",
              "      <td>-1.987154</td>\n",
              "      <td>...</td>\n",
              "      <td>0.098535</td>\n",
              "    </tr>\n",
              "    <tr>\n",
              "      <th>2019-12-11</th>\n",
              "      <td>-0.020985</td>\n",
              "      <td>...</td>\n",
              "      <td>1.087705</td>\n",
              "    </tr>\n",
              "    <tr>\n",
              "      <th>2019-12-12</th>\n",
              "      <td>0.334344</td>\n",
              "      <td>...</td>\n",
              "      <td>1.373191</td>\n",
              "    </tr>\n",
              "    <tr>\n",
              "      <th>2019-12-13</th>\n",
              "      <td>-1.820428</td>\n",
              "      <td>...</td>\n",
              "      <td>-0.788273</td>\n",
              "    </tr>\n",
              "  </tbody>\n",
              "</table>\n",
              "<p>6 rows × 5 columns</p>\n",
              "</div>"
            ],
            "text/plain": [
              "                   A  ...         E\n",
              "2019-12-08 -0.695271  ...  0.896255\n",
              "2019-12-09 -0.528041  ... -0.921574\n",
              "2019-12-10 -1.987154  ...  0.098535\n",
              "2019-12-11 -0.020985  ...  1.087705\n",
              "2019-12-12  0.334344  ...  1.373191\n",
              "2019-12-13 -1.820428  ... -0.788273\n",
              "\n",
              "[6 rows x 5 columns]"
            ]
          },
          "metadata": {
            "tags": []
          },
          "execution_count": 73
        }
      ]
    },
    {
      "cell_type": "code",
      "metadata": {
        "id": "OhxShDs-GNvm",
        "outputId": "764542f9-2455-43a6-c7a7-28d5146e6768",
        "colab": {
          "base_uri": "https://localhost:8080/",
          "height": 167
        }
      },
      "source": [
        "pd.set_option(\"display.max_rows\", 2)\n",
        "df"
      ],
      "execution_count": null,
      "outputs": [
        {
          "output_type": "execute_result",
          "data": {
            "text/html": [
              "<div>\n",
              "<style scoped>\n",
              "    .dataframe tbody tr th:only-of-type {\n",
              "        vertical-align: middle;\n",
              "    }\n",
              "\n",
              "    .dataframe tbody tr th {\n",
              "        vertical-align: top;\n",
              "    }\n",
              "\n",
              "    .dataframe thead th {\n",
              "        text-align: right;\n",
              "    }\n",
              "</style>\n",
              "<table border=\"1\" class=\"dataframe\">\n",
              "  <thead>\n",
              "    <tr style=\"text-align: right;\">\n",
              "      <th></th>\n",
              "      <th>A</th>\n",
              "      <th>...</th>\n",
              "      <th>E</th>\n",
              "    </tr>\n",
              "  </thead>\n",
              "  <tbody>\n",
              "    <tr>\n",
              "      <th>2019-12-08</th>\n",
              "      <td>-0.695271</td>\n",
              "      <td>...</td>\n",
              "      <td>0.896255</td>\n",
              "    </tr>\n",
              "    <tr>\n",
              "      <th>...</th>\n",
              "      <td>...</td>\n",
              "      <td>...</td>\n",
              "      <td>...</td>\n",
              "    </tr>\n",
              "    <tr>\n",
              "      <th>2019-12-13</th>\n",
              "      <td>-1.820428</td>\n",
              "      <td>...</td>\n",
              "      <td>-0.788273</td>\n",
              "    </tr>\n",
              "  </tbody>\n",
              "</table>\n",
              "<p>6 rows × 5 columns</p>\n",
              "</div>"
            ],
            "text/plain": [
              "                   A  ...         E\n",
              "2019-12-08 -0.695271  ...  0.896255\n",
              "...              ...  ...       ...\n",
              "2019-12-13 -1.820428  ... -0.788273\n",
              "\n",
              "[6 rows x 5 columns]"
            ]
          },
          "metadata": {
            "tags": []
          },
          "execution_count": 74
        }
      ]
    },
    {
      "cell_type": "code",
      "metadata": {
        "id": "-yILcmilGcU7",
        "outputId": "12183650-548e-448d-b953-806929aabc00",
        "colab": {
          "base_uri": "https://localhost:8080/",
          "height": 257
        }
      },
      "source": [
        "pd.reset_option(\"display.max_rows\")\n",
        "df"
      ],
      "execution_count": null,
      "outputs": [
        {
          "output_type": "execute_result",
          "data": {
            "text/html": [
              "<div>\n",
              "<style scoped>\n",
              "    .dataframe tbody tr th:only-of-type {\n",
              "        vertical-align: middle;\n",
              "    }\n",
              "\n",
              "    .dataframe tbody tr th {\n",
              "        vertical-align: top;\n",
              "    }\n",
              "\n",
              "    .dataframe thead th {\n",
              "        text-align: right;\n",
              "    }\n",
              "</style>\n",
              "<table border=\"1\" class=\"dataframe\">\n",
              "  <thead>\n",
              "    <tr style=\"text-align: right;\">\n",
              "      <th></th>\n",
              "      <th>A</th>\n",
              "      <th>...</th>\n",
              "      <th>E</th>\n",
              "    </tr>\n",
              "  </thead>\n",
              "  <tbody>\n",
              "    <tr>\n",
              "      <th>2019-12-08</th>\n",
              "      <td>-0.695271</td>\n",
              "      <td>...</td>\n",
              "      <td>0.896255</td>\n",
              "    </tr>\n",
              "    <tr>\n",
              "      <th>2019-12-09</th>\n",
              "      <td>-0.528041</td>\n",
              "      <td>...</td>\n",
              "      <td>-0.921574</td>\n",
              "    </tr>\n",
              "    <tr>\n",
              "      <th>2019-12-10</th>\n",
              "      <td>-1.987154</td>\n",
              "      <td>...</td>\n",
              "      <td>0.098535</td>\n",
              "    </tr>\n",
              "    <tr>\n",
              "      <th>2019-12-11</th>\n",
              "      <td>-0.020985</td>\n",
              "      <td>...</td>\n",
              "      <td>1.087705</td>\n",
              "    </tr>\n",
              "    <tr>\n",
              "      <th>2019-12-12</th>\n",
              "      <td>0.334344</td>\n",
              "      <td>...</td>\n",
              "      <td>1.373191</td>\n",
              "    </tr>\n",
              "    <tr>\n",
              "      <th>2019-12-13</th>\n",
              "      <td>-1.820428</td>\n",
              "      <td>...</td>\n",
              "      <td>-0.788273</td>\n",
              "    </tr>\n",
              "  </tbody>\n",
              "</table>\n",
              "<p>6 rows × 5 columns</p>\n",
              "</div>"
            ],
            "text/plain": [
              "                   A  ...         E\n",
              "2019-12-08 -0.695271  ...  0.896255\n",
              "2019-12-09 -0.528041  ... -0.921574\n",
              "2019-12-10 -1.987154  ...  0.098535\n",
              "2019-12-11 -0.020985  ...  1.087705\n",
              "2019-12-12  0.334344  ...  1.373191\n",
              "2019-12-13 -1.820428  ... -0.788273\n",
              "\n",
              "[6 rows x 5 columns]"
            ]
          },
          "metadata": {
            "tags": []
          },
          "execution_count": 75
        }
      ]
    },
    {
      "cell_type": "code",
      "metadata": {
        "id": "Mxja0AQkGjMJ",
        "outputId": "ccb246bd-3fbf-48de-c238-f21f893548c8",
        "colab": {
          "base_uri": "https://localhost:8080/",
          "height": 228
        }
      },
      "source": [
        "pd.reset_option(\"display.max_columns\")\n",
        "df"
      ],
      "execution_count": null,
      "outputs": [
        {
          "output_type": "execute_result",
          "data": {
            "text/html": [
              "<div>\n",
              "<style scoped>\n",
              "    .dataframe tbody tr th:only-of-type {\n",
              "        vertical-align: middle;\n",
              "    }\n",
              "\n",
              "    .dataframe tbody tr th {\n",
              "        vertical-align: top;\n",
              "    }\n",
              "\n",
              "    .dataframe thead th {\n",
              "        text-align: right;\n",
              "    }\n",
              "</style>\n",
              "<table border=\"1\" class=\"dataframe\">\n",
              "  <thead>\n",
              "    <tr style=\"text-align: right;\">\n",
              "      <th></th>\n",
              "      <th>A</th>\n",
              "      <th>B</th>\n",
              "      <th>C</th>\n",
              "      <th>D</th>\n",
              "      <th>E</th>\n",
              "    </tr>\n",
              "  </thead>\n",
              "  <tbody>\n",
              "    <tr>\n",
              "      <th>2019-12-08</th>\n",
              "      <td>-0.695271</td>\n",
              "      <td>0.404499</td>\n",
              "      <td>0.015104</td>\n",
              "      <td>-0.312824</td>\n",
              "      <td>0.896255</td>\n",
              "    </tr>\n",
              "    <tr>\n",
              "      <th>2019-12-09</th>\n",
              "      <td>-0.528041</td>\n",
              "      <td>0.004454</td>\n",
              "      <td>1.565640</td>\n",
              "      <td>0.672262</td>\n",
              "      <td>-0.921574</td>\n",
              "    </tr>\n",
              "    <tr>\n",
              "      <th>2019-12-10</th>\n",
              "      <td>-1.987154</td>\n",
              "      <td>1.021612</td>\n",
              "      <td>-0.441589</td>\n",
              "      <td>1.423274</td>\n",
              "      <td>0.098535</td>\n",
              "    </tr>\n",
              "    <tr>\n",
              "      <th>2019-12-11</th>\n",
              "      <td>-0.020985</td>\n",
              "      <td>-0.141185</td>\n",
              "      <td>-0.312906</td>\n",
              "      <td>-0.461655</td>\n",
              "      <td>1.087705</td>\n",
              "    </tr>\n",
              "    <tr>\n",
              "      <th>2019-12-12</th>\n",
              "      <td>0.334344</td>\n",
              "      <td>-1.649863</td>\n",
              "      <td>-1.608613</td>\n",
              "      <td>0.060180</td>\n",
              "      <td>1.373191</td>\n",
              "    </tr>\n",
              "    <tr>\n",
              "      <th>2019-12-13</th>\n",
              "      <td>-1.820428</td>\n",
              "      <td>-1.590143</td>\n",
              "      <td>-1.514392</td>\n",
              "      <td>0.519579</td>\n",
              "      <td>-0.788273</td>\n",
              "    </tr>\n",
              "  </tbody>\n",
              "</table>\n",
              "</div>"
            ],
            "text/plain": [
              "                   A         B         C         D         E\n",
              "2019-12-08 -0.695271  0.404499  0.015104 -0.312824  0.896255\n",
              "2019-12-09 -0.528041  0.004454  1.565640  0.672262 -0.921574\n",
              "2019-12-10 -1.987154  1.021612 -0.441589  1.423274  0.098535\n",
              "2019-12-11 -0.020985 -0.141185 -0.312906 -0.461655  1.087705\n",
              "2019-12-12  0.334344 -1.649863 -1.608613  0.060180  1.373191\n",
              "2019-12-13 -1.820428 -1.590143 -1.514392  0.519579 -0.788273"
            ]
          },
          "metadata": {
            "tags": []
          },
          "execution_count": 76
        }
      ]
    },
    {
      "cell_type": "markdown",
      "metadata": {
        "id": "4q5CLnq6GuJo"
      },
      "source": [
        "### Changing precision"
      ]
    },
    {
      "cell_type": "code",
      "metadata": {
        "id": "rHPmiObVGz7d",
        "outputId": "3082c4eb-f9b3-4102-e332-e81afd988667",
        "colab": {
          "base_uri": "https://localhost:8080/",
          "height": 246
        }
      },
      "source": [
        "pd.get_option(\"display.precision\")\n",
        "df"
      ],
      "execution_count": null,
      "outputs": [
        {
          "output_type": "execute_result",
          "data": {
            "text/plain": [
              "6"
            ]
          },
          "metadata": {
            "tags": []
          },
          "execution_count": 77
        },
        {
          "output_type": "execute_result",
          "data": {
            "text/html": [
              "<div>\n",
              "<style scoped>\n",
              "    .dataframe tbody tr th:only-of-type {\n",
              "        vertical-align: middle;\n",
              "    }\n",
              "\n",
              "    .dataframe tbody tr th {\n",
              "        vertical-align: top;\n",
              "    }\n",
              "\n",
              "    .dataframe thead th {\n",
              "        text-align: right;\n",
              "    }\n",
              "</style>\n",
              "<table border=\"1\" class=\"dataframe\">\n",
              "  <thead>\n",
              "    <tr style=\"text-align: right;\">\n",
              "      <th></th>\n",
              "      <th>A</th>\n",
              "      <th>B</th>\n",
              "      <th>C</th>\n",
              "      <th>D</th>\n",
              "      <th>E</th>\n",
              "    </tr>\n",
              "  </thead>\n",
              "  <tbody>\n",
              "    <tr>\n",
              "      <th>2019-12-08</th>\n",
              "      <td>-0.695271</td>\n",
              "      <td>0.404499</td>\n",
              "      <td>0.015104</td>\n",
              "      <td>-0.312824</td>\n",
              "      <td>0.896255</td>\n",
              "    </tr>\n",
              "    <tr>\n",
              "      <th>2019-12-09</th>\n",
              "      <td>-0.528041</td>\n",
              "      <td>0.004454</td>\n",
              "      <td>1.565640</td>\n",
              "      <td>0.672262</td>\n",
              "      <td>-0.921574</td>\n",
              "    </tr>\n",
              "    <tr>\n",
              "      <th>2019-12-10</th>\n",
              "      <td>-1.987154</td>\n",
              "      <td>1.021612</td>\n",
              "      <td>-0.441589</td>\n",
              "      <td>1.423274</td>\n",
              "      <td>0.098535</td>\n",
              "    </tr>\n",
              "    <tr>\n",
              "      <th>2019-12-11</th>\n",
              "      <td>-0.020985</td>\n",
              "      <td>-0.141185</td>\n",
              "      <td>-0.312906</td>\n",
              "      <td>-0.461655</td>\n",
              "      <td>1.087705</td>\n",
              "    </tr>\n",
              "    <tr>\n",
              "      <th>2019-12-12</th>\n",
              "      <td>0.334344</td>\n",
              "      <td>-1.649863</td>\n",
              "      <td>-1.608613</td>\n",
              "      <td>0.060180</td>\n",
              "      <td>1.373191</td>\n",
              "    </tr>\n",
              "    <tr>\n",
              "      <th>2019-12-13</th>\n",
              "      <td>-1.820428</td>\n",
              "      <td>-1.590143</td>\n",
              "      <td>-1.514392</td>\n",
              "      <td>0.519579</td>\n",
              "      <td>-0.788273</td>\n",
              "    </tr>\n",
              "  </tbody>\n",
              "</table>\n",
              "</div>"
            ],
            "text/plain": [
              "                   A         B         C         D         E\n",
              "2019-12-08 -0.695271  0.404499  0.015104 -0.312824  0.896255\n",
              "2019-12-09 -0.528041  0.004454  1.565640  0.672262 -0.921574\n",
              "2019-12-10 -1.987154  1.021612 -0.441589  1.423274  0.098535\n",
              "2019-12-11 -0.020985 -0.141185 -0.312906 -0.461655  1.087705\n",
              "2019-12-12  0.334344 -1.649863 -1.608613  0.060180  1.373191\n",
              "2019-12-13 -1.820428 -1.590143 -1.514392  0.519579 -0.788273"
            ]
          },
          "metadata": {
            "tags": []
          },
          "execution_count": 77
        }
      ]
    },
    {
      "cell_type": "code",
      "metadata": {
        "id": "tu-2MAC8G4z4",
        "outputId": "f9b18622-f5f8-4399-e4f9-6cdb1d9e180a",
        "colab": {
          "base_uri": "https://localhost:8080/",
          "height": 228
        }
      },
      "source": [
        "pd.set_option(\"display.precision\", 2)\n",
        "df"
      ],
      "execution_count": null,
      "outputs": [
        {
          "output_type": "execute_result",
          "data": {
            "text/html": [
              "<div>\n",
              "<style scoped>\n",
              "    .dataframe tbody tr th:only-of-type {\n",
              "        vertical-align: middle;\n",
              "    }\n",
              "\n",
              "    .dataframe tbody tr th {\n",
              "        vertical-align: top;\n",
              "    }\n",
              "\n",
              "    .dataframe thead th {\n",
              "        text-align: right;\n",
              "    }\n",
              "</style>\n",
              "<table border=\"1\" class=\"dataframe\">\n",
              "  <thead>\n",
              "    <tr style=\"text-align: right;\">\n",
              "      <th></th>\n",
              "      <th>A</th>\n",
              "      <th>B</th>\n",
              "      <th>C</th>\n",
              "      <th>D</th>\n",
              "      <th>E</th>\n",
              "    </tr>\n",
              "  </thead>\n",
              "  <tbody>\n",
              "    <tr>\n",
              "      <th>2019-12-08</th>\n",
              "      <td>-0.70</td>\n",
              "      <td>4.04e-01</td>\n",
              "      <td>0.02</td>\n",
              "      <td>-0.31</td>\n",
              "      <td>0.90</td>\n",
              "    </tr>\n",
              "    <tr>\n",
              "      <th>2019-12-09</th>\n",
              "      <td>-0.53</td>\n",
              "      <td>4.45e-03</td>\n",
              "      <td>1.57</td>\n",
              "      <td>0.67</td>\n",
              "      <td>-0.92</td>\n",
              "    </tr>\n",
              "    <tr>\n",
              "      <th>2019-12-10</th>\n",
              "      <td>-1.99</td>\n",
              "      <td>1.02e+00</td>\n",
              "      <td>-0.44</td>\n",
              "      <td>1.42</td>\n",
              "      <td>0.10</td>\n",
              "    </tr>\n",
              "    <tr>\n",
              "      <th>2019-12-11</th>\n",
              "      <td>-0.02</td>\n",
              "      <td>-1.41e-01</td>\n",
              "      <td>-0.31</td>\n",
              "      <td>-0.46</td>\n",
              "      <td>1.09</td>\n",
              "    </tr>\n",
              "    <tr>\n",
              "      <th>2019-12-12</th>\n",
              "      <td>0.33</td>\n",
              "      <td>-1.65e+00</td>\n",
              "      <td>-1.61</td>\n",
              "      <td>0.06</td>\n",
              "      <td>1.37</td>\n",
              "    </tr>\n",
              "    <tr>\n",
              "      <th>2019-12-13</th>\n",
              "      <td>-1.82</td>\n",
              "      <td>-1.59e+00</td>\n",
              "      <td>-1.51</td>\n",
              "      <td>0.52</td>\n",
              "      <td>-0.79</td>\n",
              "    </tr>\n",
              "  </tbody>\n",
              "</table>\n",
              "</div>"
            ],
            "text/plain": [
              "               A         B     C     D     E\n",
              "2019-12-08 -0.70  4.04e-01  0.02 -0.31  0.90\n",
              "2019-12-09 -0.53  4.45e-03  1.57  0.67 -0.92\n",
              "2019-12-10 -1.99  1.02e+00 -0.44  1.42  0.10\n",
              "2019-12-11 -0.02 -1.41e-01 -0.31 -0.46  1.09\n",
              "2019-12-12  0.33 -1.65e+00 -1.61  0.06  1.37\n",
              "2019-12-13 -1.82 -1.59e+00 -1.51  0.52 -0.79"
            ]
          },
          "metadata": {
            "tags": []
          },
          "execution_count": 78
        }
      ]
    },
    {
      "cell_type": "code",
      "metadata": {
        "id": "W4zdDOEkG93a",
        "outputId": "22f3e438-66df-4eb9-8786-ef62a83ba8ee",
        "colab": {
          "base_uri": "https://localhost:8080/",
          "height": 228
        }
      },
      "source": [
        "pd.reset_option(\"display.precision\")\n",
        "df"
      ],
      "execution_count": null,
      "outputs": [
        {
          "output_type": "execute_result",
          "data": {
            "text/html": [
              "<div>\n",
              "<style scoped>\n",
              "    .dataframe tbody tr th:only-of-type {\n",
              "        vertical-align: middle;\n",
              "    }\n",
              "\n",
              "    .dataframe tbody tr th {\n",
              "        vertical-align: top;\n",
              "    }\n",
              "\n",
              "    .dataframe thead th {\n",
              "        text-align: right;\n",
              "    }\n",
              "</style>\n",
              "<table border=\"1\" class=\"dataframe\">\n",
              "  <thead>\n",
              "    <tr style=\"text-align: right;\">\n",
              "      <th></th>\n",
              "      <th>A</th>\n",
              "      <th>B</th>\n",
              "      <th>C</th>\n",
              "      <th>D</th>\n",
              "      <th>E</th>\n",
              "    </tr>\n",
              "  </thead>\n",
              "  <tbody>\n",
              "    <tr>\n",
              "      <th>2019-12-08</th>\n",
              "      <td>-0.695271</td>\n",
              "      <td>0.404499</td>\n",
              "      <td>0.015104</td>\n",
              "      <td>-0.312824</td>\n",
              "      <td>0.896255</td>\n",
              "    </tr>\n",
              "    <tr>\n",
              "      <th>2019-12-09</th>\n",
              "      <td>-0.528041</td>\n",
              "      <td>0.004454</td>\n",
              "      <td>1.565640</td>\n",
              "      <td>0.672262</td>\n",
              "      <td>-0.921574</td>\n",
              "    </tr>\n",
              "    <tr>\n",
              "      <th>2019-12-10</th>\n",
              "      <td>-1.987154</td>\n",
              "      <td>1.021612</td>\n",
              "      <td>-0.441589</td>\n",
              "      <td>1.423274</td>\n",
              "      <td>0.098535</td>\n",
              "    </tr>\n",
              "    <tr>\n",
              "      <th>2019-12-11</th>\n",
              "      <td>-0.020985</td>\n",
              "      <td>-0.141185</td>\n",
              "      <td>-0.312906</td>\n",
              "      <td>-0.461655</td>\n",
              "      <td>1.087705</td>\n",
              "    </tr>\n",
              "    <tr>\n",
              "      <th>2019-12-12</th>\n",
              "      <td>0.334344</td>\n",
              "      <td>-1.649863</td>\n",
              "      <td>-1.608613</td>\n",
              "      <td>0.060180</td>\n",
              "      <td>1.373191</td>\n",
              "    </tr>\n",
              "    <tr>\n",
              "      <th>2019-12-13</th>\n",
              "      <td>-1.820428</td>\n",
              "      <td>-1.590143</td>\n",
              "      <td>-1.514392</td>\n",
              "      <td>0.519579</td>\n",
              "      <td>-0.788273</td>\n",
              "    </tr>\n",
              "  </tbody>\n",
              "</table>\n",
              "</div>"
            ],
            "text/plain": [
              "                   A         B         C         D         E\n",
              "2019-12-08 -0.695271  0.404499  0.015104 -0.312824  0.896255\n",
              "2019-12-09 -0.528041  0.004454  1.565640  0.672262 -0.921574\n",
              "2019-12-10 -1.987154  1.021612 -0.441589  1.423274  0.098535\n",
              "2019-12-11 -0.020985 -0.141185 -0.312906 -0.461655  1.087705\n",
              "2019-12-12  0.334344 -1.649863 -1.608613  0.060180  1.373191\n",
              "2019-12-13 -1.820428 -1.590143 -1.514392  0.519579 -0.788273"
            ]
          },
          "metadata": {
            "tags": []
          },
          "execution_count": 79
        }
      ]
    },
    {
      "cell_type": "markdown",
      "metadata": {
        "id": "bNj7rWPavwnL"
      },
      "source": [
        "## Boolean Indexing"
      ]
    },
    {
      "cell_type": "markdown",
      "metadata": {
        "id": "XuKP8O0rvwnM"
      },
      "source": [
        "Using a single column’s values to select data."
      ]
    },
    {
      "cell_type": "code",
      "metadata": {
        "scrolled": true,
        "id": "vNWKjnHovwnM",
        "outputId": "2e7183a8-3edc-4278-ecaf-457d43ce59c8",
        "colab": {
          "base_uri": "https://localhost:8080/",
          "height": 78
        }
      },
      "source": [
        "df[df.A > 0]"
      ],
      "execution_count": null,
      "outputs": [
        {
          "output_type": "execute_result",
          "data": {
            "text/html": [
              "<div>\n",
              "<style scoped>\n",
              "    .dataframe tbody tr th:only-of-type {\n",
              "        vertical-align: middle;\n",
              "    }\n",
              "\n",
              "    .dataframe tbody tr th {\n",
              "        vertical-align: top;\n",
              "    }\n",
              "\n",
              "    .dataframe thead th {\n",
              "        text-align: right;\n",
              "    }\n",
              "</style>\n",
              "<table border=\"1\" class=\"dataframe\">\n",
              "  <thead>\n",
              "    <tr style=\"text-align: right;\">\n",
              "      <th></th>\n",
              "      <th>A</th>\n",
              "      <th>B</th>\n",
              "      <th>C</th>\n",
              "      <th>D</th>\n",
              "      <th>E</th>\n",
              "    </tr>\n",
              "  </thead>\n",
              "  <tbody>\n",
              "    <tr>\n",
              "      <th>2019-12-12</th>\n",
              "      <td>0.334344</td>\n",
              "      <td>-1.649863</td>\n",
              "      <td>-1.608613</td>\n",
              "      <td>0.06018</td>\n",
              "      <td>1.373191</td>\n",
              "    </tr>\n",
              "  </tbody>\n",
              "</table>\n",
              "</div>"
            ],
            "text/plain": [
              "                   A         B         C        D         E\n",
              "2019-12-12  0.334344 -1.649863 -1.608613  0.06018  1.373191"
            ]
          },
          "metadata": {
            "tags": []
          },
          "execution_count": 80
        }
      ]
    },
    {
      "cell_type": "markdown",
      "metadata": {
        "id": "IBxPjLDovwnQ"
      },
      "source": [
        "A where operation for getting."
      ]
    },
    {
      "cell_type": "code",
      "metadata": {
        "id": "RECrAspxvwnS",
        "outputId": "142721eb-4250-438c-a156-b862e96afe97",
        "colab": {
          "base_uri": "https://localhost:8080/",
          "height": 228
        }
      },
      "source": [
        "df[df > 0]"
      ],
      "execution_count": null,
      "outputs": [
        {
          "output_type": "execute_result",
          "data": {
            "text/html": [
              "<div>\n",
              "<style scoped>\n",
              "    .dataframe tbody tr th:only-of-type {\n",
              "        vertical-align: middle;\n",
              "    }\n",
              "\n",
              "    .dataframe tbody tr th {\n",
              "        vertical-align: top;\n",
              "    }\n",
              "\n",
              "    .dataframe thead th {\n",
              "        text-align: right;\n",
              "    }\n",
              "</style>\n",
              "<table border=\"1\" class=\"dataframe\">\n",
              "  <thead>\n",
              "    <tr style=\"text-align: right;\">\n",
              "      <th></th>\n",
              "      <th>A</th>\n",
              "      <th>B</th>\n",
              "      <th>C</th>\n",
              "      <th>D</th>\n",
              "      <th>E</th>\n",
              "    </tr>\n",
              "  </thead>\n",
              "  <tbody>\n",
              "    <tr>\n",
              "      <th>2019-12-08</th>\n",
              "      <td>NaN</td>\n",
              "      <td>0.404499</td>\n",
              "      <td>0.015104</td>\n",
              "      <td>NaN</td>\n",
              "      <td>0.896255</td>\n",
              "    </tr>\n",
              "    <tr>\n",
              "      <th>2019-12-09</th>\n",
              "      <td>NaN</td>\n",
              "      <td>0.004454</td>\n",
              "      <td>1.565640</td>\n",
              "      <td>0.672262</td>\n",
              "      <td>NaN</td>\n",
              "    </tr>\n",
              "    <tr>\n",
              "      <th>2019-12-10</th>\n",
              "      <td>NaN</td>\n",
              "      <td>1.021612</td>\n",
              "      <td>NaN</td>\n",
              "      <td>1.423274</td>\n",
              "      <td>0.098535</td>\n",
              "    </tr>\n",
              "    <tr>\n",
              "      <th>2019-12-11</th>\n",
              "      <td>NaN</td>\n",
              "      <td>NaN</td>\n",
              "      <td>NaN</td>\n",
              "      <td>NaN</td>\n",
              "      <td>1.087705</td>\n",
              "    </tr>\n",
              "    <tr>\n",
              "      <th>2019-12-12</th>\n",
              "      <td>0.334344</td>\n",
              "      <td>NaN</td>\n",
              "      <td>NaN</td>\n",
              "      <td>0.060180</td>\n",
              "      <td>1.373191</td>\n",
              "    </tr>\n",
              "    <tr>\n",
              "      <th>2019-12-13</th>\n",
              "      <td>NaN</td>\n",
              "      <td>NaN</td>\n",
              "      <td>NaN</td>\n",
              "      <td>0.519579</td>\n",
              "      <td>NaN</td>\n",
              "    </tr>\n",
              "  </tbody>\n",
              "</table>\n",
              "</div>"
            ],
            "text/plain": [
              "                   A         B         C         D         E\n",
              "2019-12-08       NaN  0.404499  0.015104       NaN  0.896255\n",
              "2019-12-09       NaN  0.004454  1.565640  0.672262       NaN\n",
              "2019-12-10       NaN  1.021612       NaN  1.423274  0.098535\n",
              "2019-12-11       NaN       NaN       NaN       NaN  1.087705\n",
              "2019-12-12  0.334344       NaN       NaN  0.060180  1.373191\n",
              "2019-12-13       NaN       NaN       NaN  0.519579       NaN"
            ]
          },
          "metadata": {
            "tags": []
          },
          "execution_count": 81
        }
      ]
    },
    {
      "cell_type": "markdown",
      "metadata": {
        "id": "p_FEu1mdvwnU"
      },
      "source": [
        "Using the isin() method for filtering:"
      ]
    },
    {
      "cell_type": "code",
      "metadata": {
        "scrolled": true,
        "id": "TtFp_vuovwnU"
      },
      "source": [
        "df2 = df.copy()"
      ],
      "execution_count": null,
      "outputs": []
    },
    {
      "cell_type": "code",
      "metadata": {
        "id": "0zOWPicQvwnW"
      },
      "source": [
        "df2['E'] = ['one','one', 'two','three','four','three']"
      ],
      "execution_count": null,
      "outputs": []
    },
    {
      "cell_type": "code",
      "metadata": {
        "id": "As_ls0knvwna",
        "outputId": "cd9b20e5-565d-4cf8-e9df-29e045fcbe7c",
        "colab": {
          "base_uri": "https://localhost:8080/",
          "height": 228
        }
      },
      "source": [
        "df2"
      ],
      "execution_count": null,
      "outputs": [
        {
          "output_type": "execute_result",
          "data": {
            "text/html": [
              "<div>\n",
              "<style scoped>\n",
              "    .dataframe tbody tr th:only-of-type {\n",
              "        vertical-align: middle;\n",
              "    }\n",
              "\n",
              "    .dataframe tbody tr th {\n",
              "        vertical-align: top;\n",
              "    }\n",
              "\n",
              "    .dataframe thead th {\n",
              "        text-align: right;\n",
              "    }\n",
              "</style>\n",
              "<table border=\"1\" class=\"dataframe\">\n",
              "  <thead>\n",
              "    <tr style=\"text-align: right;\">\n",
              "      <th></th>\n",
              "      <th>A</th>\n",
              "      <th>B</th>\n",
              "      <th>C</th>\n",
              "      <th>D</th>\n",
              "      <th>E</th>\n",
              "    </tr>\n",
              "  </thead>\n",
              "  <tbody>\n",
              "    <tr>\n",
              "      <th>2019-12-08</th>\n",
              "      <td>-0.695271</td>\n",
              "      <td>0.404499</td>\n",
              "      <td>0.015104</td>\n",
              "      <td>-0.312824</td>\n",
              "      <td>one</td>\n",
              "    </tr>\n",
              "    <tr>\n",
              "      <th>2019-12-09</th>\n",
              "      <td>-0.528041</td>\n",
              "      <td>0.004454</td>\n",
              "      <td>1.565640</td>\n",
              "      <td>0.672262</td>\n",
              "      <td>one</td>\n",
              "    </tr>\n",
              "    <tr>\n",
              "      <th>2019-12-10</th>\n",
              "      <td>-1.987154</td>\n",
              "      <td>1.021612</td>\n",
              "      <td>-0.441589</td>\n",
              "      <td>1.423274</td>\n",
              "      <td>two</td>\n",
              "    </tr>\n",
              "    <tr>\n",
              "      <th>2019-12-11</th>\n",
              "      <td>-0.020985</td>\n",
              "      <td>-0.141185</td>\n",
              "      <td>-0.312906</td>\n",
              "      <td>-0.461655</td>\n",
              "      <td>three</td>\n",
              "    </tr>\n",
              "    <tr>\n",
              "      <th>2019-12-12</th>\n",
              "      <td>0.334344</td>\n",
              "      <td>-1.649863</td>\n",
              "      <td>-1.608613</td>\n",
              "      <td>0.060180</td>\n",
              "      <td>four</td>\n",
              "    </tr>\n",
              "    <tr>\n",
              "      <th>2019-12-13</th>\n",
              "      <td>-1.820428</td>\n",
              "      <td>-1.590143</td>\n",
              "      <td>-1.514392</td>\n",
              "      <td>0.519579</td>\n",
              "      <td>three</td>\n",
              "    </tr>\n",
              "  </tbody>\n",
              "</table>\n",
              "</div>"
            ],
            "text/plain": [
              "                   A         B         C         D      E\n",
              "2019-12-08 -0.695271  0.404499  0.015104 -0.312824    one\n",
              "2019-12-09 -0.528041  0.004454  1.565640  0.672262    one\n",
              "2019-12-10 -1.987154  1.021612 -0.441589  1.423274    two\n",
              "2019-12-11 -0.020985 -0.141185 -0.312906 -0.461655  three\n",
              "2019-12-12  0.334344 -1.649863 -1.608613  0.060180   four\n",
              "2019-12-13 -1.820428 -1.590143 -1.514392  0.519579  three"
            ]
          },
          "metadata": {
            "tags": []
          },
          "execution_count": 84
        }
      ]
    },
    {
      "cell_type": "code",
      "metadata": {
        "id": "icqIqnObvwnc",
        "outputId": "b2514b54-b3be-4682-89fb-f277035cbf60",
        "colab": {
          "base_uri": "https://localhost:8080/",
          "height": 108
        }
      },
      "source": [
        "df2[df2['E'].isin(['two','four'])]"
      ],
      "execution_count": null,
      "outputs": [
        {
          "output_type": "execute_result",
          "data": {
            "text/html": [
              "<div>\n",
              "<style scoped>\n",
              "    .dataframe tbody tr th:only-of-type {\n",
              "        vertical-align: middle;\n",
              "    }\n",
              "\n",
              "    .dataframe tbody tr th {\n",
              "        vertical-align: top;\n",
              "    }\n",
              "\n",
              "    .dataframe thead th {\n",
              "        text-align: right;\n",
              "    }\n",
              "</style>\n",
              "<table border=\"1\" class=\"dataframe\">\n",
              "  <thead>\n",
              "    <tr style=\"text-align: right;\">\n",
              "      <th></th>\n",
              "      <th>A</th>\n",
              "      <th>B</th>\n",
              "      <th>C</th>\n",
              "      <th>D</th>\n",
              "      <th>E</th>\n",
              "    </tr>\n",
              "  </thead>\n",
              "  <tbody>\n",
              "    <tr>\n",
              "      <th>2019-12-10</th>\n",
              "      <td>-1.987154</td>\n",
              "      <td>1.021612</td>\n",
              "      <td>-0.441589</td>\n",
              "      <td>1.423274</td>\n",
              "      <td>two</td>\n",
              "    </tr>\n",
              "    <tr>\n",
              "      <th>2019-12-12</th>\n",
              "      <td>0.334344</td>\n",
              "      <td>-1.649863</td>\n",
              "      <td>-1.608613</td>\n",
              "      <td>0.060180</td>\n",
              "      <td>four</td>\n",
              "    </tr>\n",
              "  </tbody>\n",
              "</table>\n",
              "</div>"
            ],
            "text/plain": [
              "                   A         B         C         D     E\n",
              "2019-12-10 -1.987154  1.021612 -0.441589  1.423274   two\n",
              "2019-12-12  0.334344 -1.649863 -1.608613  0.060180  four"
            ]
          },
          "metadata": {
            "tags": []
          },
          "execution_count": 85
        }
      ]
    },
    {
      "cell_type": "markdown",
      "metadata": {
        "id": "CbPNDQJYL7TW"
      },
      "source": [
        "### In class exercise:\n",
        "\n"
      ]
    },
    {
      "cell_type": "markdown",
      "metadata": {
        "id": "4cGmgbC2PBiY"
      },
      "source": [
        "With DataFrame (df), do the following:\n",
        "\n",
        "*   Change precision to 4 decimals\n",
        "*   **Where** data is less than zero, set it to NaN\n",
        "*   **Where** data is less than 0.5. Set it to 0\n",
        "*   **Filter** the rows by the appearance of 0 in column B\n"
      ]
    },
    {
      "cell_type": "code",
      "metadata": {
        "id": "VZUPKA1OPL-v",
        "outputId": "4b99a525-08f9-4cd4-9961-7aab1c4b0be9",
        "colab": {
          "base_uri": "https://localhost:8080/",
          "height": 228
        }
      },
      "source": [
        ""
      ],
      "execution_count": null,
      "outputs": [
        {
          "output_type": "execute_result",
          "data": {
            "text/html": [
              "<div>\n",
              "<style scoped>\n",
              "    .dataframe tbody tr th:only-of-type {\n",
              "        vertical-align: middle;\n",
              "    }\n",
              "\n",
              "    .dataframe tbody tr th {\n",
              "        vertical-align: top;\n",
              "    }\n",
              "\n",
              "    .dataframe thead th {\n",
              "        text-align: right;\n",
              "    }\n",
              "</style>\n",
              "<table border=\"1\" class=\"dataframe\">\n",
              "  <thead>\n",
              "    <tr style=\"text-align: right;\">\n",
              "      <th></th>\n",
              "      <th>A</th>\n",
              "      <th>B</th>\n",
              "      <th>C</th>\n",
              "      <th>D</th>\n",
              "      <th>E</th>\n",
              "    </tr>\n",
              "  </thead>\n",
              "  <tbody>\n",
              "    <tr>\n",
              "      <th>2019-12-08</th>\n",
              "      <td>-0.6953</td>\n",
              "      <td>0.4045</td>\n",
              "      <td>0.0151</td>\n",
              "      <td>-0.3128</td>\n",
              "      <td>0.8963</td>\n",
              "    </tr>\n",
              "    <tr>\n",
              "      <th>2019-12-09</th>\n",
              "      <td>-0.5280</td>\n",
              "      <td>0.0045</td>\n",
              "      <td>1.5656</td>\n",
              "      <td>0.6723</td>\n",
              "      <td>-0.9216</td>\n",
              "    </tr>\n",
              "    <tr>\n",
              "      <th>2019-12-10</th>\n",
              "      <td>-1.9872</td>\n",
              "      <td>1.0216</td>\n",
              "      <td>-0.4416</td>\n",
              "      <td>1.4233</td>\n",
              "      <td>0.0985</td>\n",
              "    </tr>\n",
              "    <tr>\n",
              "      <th>2019-12-11</th>\n",
              "      <td>-0.0210</td>\n",
              "      <td>-0.1412</td>\n",
              "      <td>-0.3129</td>\n",
              "      <td>-0.4617</td>\n",
              "      <td>1.0877</td>\n",
              "    </tr>\n",
              "    <tr>\n",
              "      <th>2019-12-12</th>\n",
              "      <td>0.3343</td>\n",
              "      <td>-1.6499</td>\n",
              "      <td>-1.6086</td>\n",
              "      <td>0.0602</td>\n",
              "      <td>1.3732</td>\n",
              "    </tr>\n",
              "    <tr>\n",
              "      <th>2019-12-13</th>\n",
              "      <td>-1.8204</td>\n",
              "      <td>-1.5901</td>\n",
              "      <td>-1.5144</td>\n",
              "      <td>0.5196</td>\n",
              "      <td>-0.7883</td>\n",
              "    </tr>\n",
              "  </tbody>\n",
              "</table>\n",
              "</div>"
            ],
            "text/plain": [
              "                 A       B       C       D       E\n",
              "2019-12-08 -0.6953  0.4045  0.0151 -0.3128  0.8963\n",
              "2019-12-09 -0.5280  0.0045  1.5656  0.6723 -0.9216\n",
              "2019-12-10 -1.9872  1.0216 -0.4416  1.4233  0.0985\n",
              "2019-12-11 -0.0210 -0.1412 -0.3129 -0.4617  1.0877\n",
              "2019-12-12  0.3343 -1.6499 -1.6086  0.0602  1.3732\n",
              "2019-12-13 -1.8204 -1.5901 -1.5144  0.5196 -0.7883"
            ]
          },
          "metadata": {
            "tags": []
          },
          "execution_count": 86
        }
      ]
    },
    {
      "cell_type": "code",
      "metadata": {
        "id": "Z-L2rtMJPZCi",
        "outputId": "2735a0e4-2a39-496b-9f3d-cb8a0dc19655",
        "colab": {
          "base_uri": "https://localhost:8080/",
          "height": 228
        }
      },
      "source": [
        ""
      ],
      "execution_count": null,
      "outputs": [
        {
          "output_type": "execute_result",
          "data": {
            "text/html": [
              "<div>\n",
              "<style scoped>\n",
              "    .dataframe tbody tr th:only-of-type {\n",
              "        vertical-align: middle;\n",
              "    }\n",
              "\n",
              "    .dataframe tbody tr th {\n",
              "        vertical-align: top;\n",
              "    }\n",
              "\n",
              "    .dataframe thead th {\n",
              "        text-align: right;\n",
              "    }\n",
              "</style>\n",
              "<table border=\"1\" class=\"dataframe\">\n",
              "  <thead>\n",
              "    <tr style=\"text-align: right;\">\n",
              "      <th></th>\n",
              "      <th>A</th>\n",
              "      <th>B</th>\n",
              "      <th>C</th>\n",
              "      <th>D</th>\n",
              "      <th>E</th>\n",
              "    </tr>\n",
              "  </thead>\n",
              "  <tbody>\n",
              "    <tr>\n",
              "      <th>2019-12-08</th>\n",
              "      <td>NaN</td>\n",
              "      <td>0.4045</td>\n",
              "      <td>0.0151</td>\n",
              "      <td>NaN</td>\n",
              "      <td>0.8963</td>\n",
              "    </tr>\n",
              "    <tr>\n",
              "      <th>2019-12-09</th>\n",
              "      <td>NaN</td>\n",
              "      <td>0.0045</td>\n",
              "      <td>1.5656</td>\n",
              "      <td>0.6723</td>\n",
              "      <td>NaN</td>\n",
              "    </tr>\n",
              "    <tr>\n",
              "      <th>2019-12-10</th>\n",
              "      <td>NaN</td>\n",
              "      <td>1.0216</td>\n",
              "      <td>NaN</td>\n",
              "      <td>1.4233</td>\n",
              "      <td>0.0985</td>\n",
              "    </tr>\n",
              "    <tr>\n",
              "      <th>2019-12-11</th>\n",
              "      <td>NaN</td>\n",
              "      <td>NaN</td>\n",
              "      <td>NaN</td>\n",
              "      <td>NaN</td>\n",
              "      <td>1.0877</td>\n",
              "    </tr>\n",
              "    <tr>\n",
              "      <th>2019-12-12</th>\n",
              "      <td>0.3343</td>\n",
              "      <td>NaN</td>\n",
              "      <td>NaN</td>\n",
              "      <td>0.0602</td>\n",
              "      <td>1.3732</td>\n",
              "    </tr>\n",
              "    <tr>\n",
              "      <th>2019-12-13</th>\n",
              "      <td>NaN</td>\n",
              "      <td>NaN</td>\n",
              "      <td>NaN</td>\n",
              "      <td>0.5196</td>\n",
              "      <td>NaN</td>\n",
              "    </tr>\n",
              "  </tbody>\n",
              "</table>\n",
              "</div>"
            ],
            "text/plain": [
              "                 A       B       C       D       E\n",
              "2019-12-08     NaN  0.4045  0.0151     NaN  0.8963\n",
              "2019-12-09     NaN  0.0045  1.5656  0.6723     NaN\n",
              "2019-12-10     NaN  1.0216     NaN  1.4233  0.0985\n",
              "2019-12-11     NaN     NaN     NaN     NaN  1.0877\n",
              "2019-12-12  0.3343     NaN     NaN  0.0602  1.3732\n",
              "2019-12-13     NaN     NaN     NaN  0.5196     NaN"
            ]
          },
          "metadata": {
            "tags": []
          },
          "execution_count": 87
        }
      ]
    },
    {
      "cell_type": "code",
      "metadata": {
        "id": "GHZaLKsgP7N9",
        "outputId": "ea2728e6-b773-4c1c-b940-1bdd2cb18c36",
        "colab": {
          "base_uri": "https://localhost:8080/",
          "height": 228
        }
      },
      "source": [
        ""
      ],
      "execution_count": null,
      "outputs": [
        {
          "output_type": "execute_result",
          "data": {
            "text/html": [
              "<div>\n",
              "<style scoped>\n",
              "    .dataframe tbody tr th:only-of-type {\n",
              "        vertical-align: middle;\n",
              "    }\n",
              "\n",
              "    .dataframe tbody tr th {\n",
              "        vertical-align: top;\n",
              "    }\n",
              "\n",
              "    .dataframe thead th {\n",
              "        text-align: right;\n",
              "    }\n",
              "</style>\n",
              "<table border=\"1\" class=\"dataframe\">\n",
              "  <thead>\n",
              "    <tr style=\"text-align: right;\">\n",
              "      <th></th>\n",
              "      <th>A</th>\n",
              "      <th>B</th>\n",
              "      <th>C</th>\n",
              "      <th>D</th>\n",
              "      <th>E</th>\n",
              "    </tr>\n",
              "  </thead>\n",
              "  <tbody>\n",
              "    <tr>\n",
              "      <th>2019-12-08</th>\n",
              "      <td>-0.6953</td>\n",
              "      <td>0.4045</td>\n",
              "      <td>0.0151</td>\n",
              "      <td>-0.3128</td>\n",
              "      <td>0.0000</td>\n",
              "    </tr>\n",
              "    <tr>\n",
              "      <th>2019-12-09</th>\n",
              "      <td>-0.5280</td>\n",
              "      <td>0.0045</td>\n",
              "      <td>0.0000</td>\n",
              "      <td>0.0000</td>\n",
              "      <td>-0.9216</td>\n",
              "    </tr>\n",
              "    <tr>\n",
              "      <th>2019-12-10</th>\n",
              "      <td>-1.9872</td>\n",
              "      <td>0.0000</td>\n",
              "      <td>-0.4416</td>\n",
              "      <td>0.0000</td>\n",
              "      <td>0.0985</td>\n",
              "    </tr>\n",
              "    <tr>\n",
              "      <th>2019-12-11</th>\n",
              "      <td>-0.0210</td>\n",
              "      <td>-0.1412</td>\n",
              "      <td>-0.3129</td>\n",
              "      <td>-0.4617</td>\n",
              "      <td>0.0000</td>\n",
              "    </tr>\n",
              "    <tr>\n",
              "      <th>2019-12-12</th>\n",
              "      <td>0.3343</td>\n",
              "      <td>-1.6499</td>\n",
              "      <td>-1.6086</td>\n",
              "      <td>0.0602</td>\n",
              "      <td>0.0000</td>\n",
              "    </tr>\n",
              "    <tr>\n",
              "      <th>2019-12-13</th>\n",
              "      <td>-1.8204</td>\n",
              "      <td>-1.5901</td>\n",
              "      <td>-1.5144</td>\n",
              "      <td>0.0000</td>\n",
              "      <td>-0.7883</td>\n",
              "    </tr>\n",
              "  </tbody>\n",
              "</table>\n",
              "</div>"
            ],
            "text/plain": [
              "                 A       B       C       D       E\n",
              "2019-12-08 -0.6953  0.4045  0.0151 -0.3128  0.0000\n",
              "2019-12-09 -0.5280  0.0045  0.0000  0.0000 -0.9216\n",
              "2019-12-10 -1.9872  0.0000 -0.4416  0.0000  0.0985\n",
              "2019-12-11 -0.0210 -0.1412 -0.3129 -0.4617  0.0000\n",
              "2019-12-12  0.3343 -1.6499 -1.6086  0.0602  0.0000\n",
              "2019-12-13 -1.8204 -1.5901 -1.5144  0.0000 -0.7883"
            ]
          },
          "metadata": {
            "tags": []
          },
          "execution_count": 88
        }
      ]
    },
    {
      "cell_type": "code",
      "metadata": {
        "id": "JKkiF-PtQUUW",
        "outputId": "9f70a8ef-0b5d-40b5-e7bb-5f0116005241",
        "colab": {
          "base_uri": "https://localhost:8080/",
          "height": 228
        }
      },
      "source": [
        ""
      ],
      "execution_count": null,
      "outputs": [
        {
          "output_type": "execute_result",
          "data": {
            "text/html": [
              "<div>\n",
              "<style scoped>\n",
              "    .dataframe tbody tr th:only-of-type {\n",
              "        vertical-align: middle;\n",
              "    }\n",
              "\n",
              "    .dataframe tbody tr th {\n",
              "        vertical-align: top;\n",
              "    }\n",
              "\n",
              "    .dataframe thead th {\n",
              "        text-align: right;\n",
              "    }\n",
              "</style>\n",
              "<table border=\"1\" class=\"dataframe\">\n",
              "  <thead>\n",
              "    <tr style=\"text-align: right;\">\n",
              "      <th></th>\n",
              "      <th>A</th>\n",
              "      <th>B</th>\n",
              "      <th>C</th>\n",
              "      <th>D</th>\n",
              "      <th>E</th>\n",
              "    </tr>\n",
              "  </thead>\n",
              "  <tbody>\n",
              "    <tr>\n",
              "      <th>2019-12-08</th>\n",
              "      <td>-0.695271</td>\n",
              "      <td>0.404499</td>\n",
              "      <td>0.015104</td>\n",
              "      <td>-0.312824</td>\n",
              "      <td>0.000000</td>\n",
              "    </tr>\n",
              "    <tr>\n",
              "      <th>2019-12-09</th>\n",
              "      <td>-0.528041</td>\n",
              "      <td>0.004454</td>\n",
              "      <td>0.000000</td>\n",
              "      <td>0.000000</td>\n",
              "      <td>-0.921574</td>\n",
              "    </tr>\n",
              "    <tr>\n",
              "      <th>2019-12-10</th>\n",
              "      <td>-1.987154</td>\n",
              "      <td>0.000000</td>\n",
              "      <td>-0.441589</td>\n",
              "      <td>0.000000</td>\n",
              "      <td>0.098535</td>\n",
              "    </tr>\n",
              "    <tr>\n",
              "      <th>2019-12-11</th>\n",
              "      <td>-0.020985</td>\n",
              "      <td>-0.141185</td>\n",
              "      <td>-0.312906</td>\n",
              "      <td>-0.461655</td>\n",
              "      <td>0.000000</td>\n",
              "    </tr>\n",
              "    <tr>\n",
              "      <th>2019-12-12</th>\n",
              "      <td>0.334344</td>\n",
              "      <td>-1.649863</td>\n",
              "      <td>-1.608613</td>\n",
              "      <td>0.060180</td>\n",
              "      <td>0.000000</td>\n",
              "    </tr>\n",
              "    <tr>\n",
              "      <th>2019-12-13</th>\n",
              "      <td>-1.820428</td>\n",
              "      <td>-1.590143</td>\n",
              "      <td>-1.514392</td>\n",
              "      <td>0.000000</td>\n",
              "      <td>-0.788273</td>\n",
              "    </tr>\n",
              "  </tbody>\n",
              "</table>\n",
              "</div>"
            ],
            "text/plain": [
              "                   A         B         C         D         E\n",
              "2019-12-08 -0.695271  0.404499  0.015104 -0.312824  0.000000\n",
              "2019-12-09 -0.528041  0.004454  0.000000  0.000000 -0.921574\n",
              "2019-12-10 -1.987154  0.000000 -0.441589  0.000000  0.098535\n",
              "2019-12-11 -0.020985 -0.141185 -0.312906 -0.461655  0.000000\n",
              "2019-12-12  0.334344 -1.649863 -1.608613  0.060180  0.000000\n",
              "2019-12-13 -1.820428 -1.590143 -1.514392  0.000000 -0.788273"
            ]
          },
          "metadata": {
            "tags": []
          },
          "execution_count": 89
        }
      ]
    },
    {
      "cell_type": "code",
      "metadata": {
        "id": "88gHfH-ITyau",
        "outputId": "ea0dc2f0-8710-4058-f5c8-67b1e6f00b98",
        "colab": {
          "base_uri": "https://localhost:8080/",
          "height": 108
        }
      },
      "source": [
        ""
      ],
      "execution_count": null,
      "outputs": [
        {
          "output_type": "execute_result",
          "data": {
            "text/html": [
              "<div>\n",
              "<style scoped>\n",
              "    .dataframe tbody tr th:only-of-type {\n",
              "        vertical-align: middle;\n",
              "    }\n",
              "\n",
              "    .dataframe tbody tr th {\n",
              "        vertical-align: top;\n",
              "    }\n",
              "\n",
              "    .dataframe thead th {\n",
              "        text-align: right;\n",
              "    }\n",
              "</style>\n",
              "<table border=\"1\" class=\"dataframe\">\n",
              "  <thead>\n",
              "    <tr style=\"text-align: right;\">\n",
              "      <th></th>\n",
              "      <th>A</th>\n",
              "      <th>B</th>\n",
              "      <th>C</th>\n",
              "      <th>D</th>\n",
              "      <th>E</th>\n",
              "    </tr>\n",
              "  </thead>\n",
              "  <tbody>\n",
              "    <tr>\n",
              "      <th>2019-12-09</th>\n",
              "      <td>-0.528041</td>\n",
              "      <td>0.004454</td>\n",
              "      <td>0.000000</td>\n",
              "      <td>0.0</td>\n",
              "      <td>-0.921574</td>\n",
              "    </tr>\n",
              "    <tr>\n",
              "      <th>2019-12-10</th>\n",
              "      <td>-1.987154</td>\n",
              "      <td>0.000000</td>\n",
              "      <td>-0.441589</td>\n",
              "      <td>0.0</td>\n",
              "      <td>0.098535</td>\n",
              "    </tr>\n",
              "  </tbody>\n",
              "</table>\n",
              "</div>"
            ],
            "text/plain": [
              "                   A         B         C    D         E\n",
              "2019-12-09 -0.528041  0.004454  0.000000  0.0 -0.921574\n",
              "2019-12-10 -1.987154  0.000000 -0.441589  0.0  0.098535"
            ]
          },
          "metadata": {
            "tags": []
          },
          "execution_count": 90
        }
      ]
    },
    {
      "cell_type": "markdown",
      "metadata": {
        "id": "ofT3QIgIvwqg"
      },
      "source": [
        "## Categoricals"
      ]
    },
    {
      "cell_type": "markdown",
      "metadata": {
        "id": "But4BMeGvwqh"
      },
      "source": [
        "Since version 0.15, pandas can include categorical data in a DataFrame. "
      ]
    },
    {
      "cell_type": "code",
      "metadata": {
        "id": "E1GnmQ5Ivwqj"
      },
      "source": [
        "df_cat = pd.DataFrame({\"id\":[1,2,3,4,5,6,7,8,9,10], \"raw_grade\":['a', 'b', 'b', 'a', 'a', 'e', 'c', 'd', 'b', 'a' ]})"
      ],
      "execution_count": null,
      "outputs": []
    },
    {
      "cell_type": "markdown",
      "metadata": {
        "id": "aNCCqe6Qvwqk"
      },
      "source": [
        "Convert the raw grades to a categorical data type."
      ]
    },
    {
      "cell_type": "code",
      "metadata": {
        "id": "z2JZRFDJvwqm"
      },
      "source": [
        "df_cat[\"grade\"] = df_cat[\"raw_grade\"].astype(\"category\")"
      ],
      "execution_count": null,
      "outputs": []
    },
    {
      "cell_type": "code",
      "metadata": {
        "id": "9pWbAfG2vwqo",
        "outputId": "85c78a39-e80b-453d-8234-4f2ca624c242",
        "colab": {
          "base_uri": "https://localhost:8080/",
          "height": 233
        }
      },
      "source": [
        "df_cat[\"grade\"]"
      ],
      "execution_count": null,
      "outputs": [
        {
          "output_type": "execute_result",
          "data": {
            "text/plain": [
              "0    a\n",
              "1    b\n",
              "2    b\n",
              "3    a\n",
              "4    a\n",
              "5    e\n",
              "6    c\n",
              "7    d\n",
              "8    b\n",
              "9    a\n",
              "Name: grade, dtype: category\n",
              "Categories (5, object): [a, b, c, d, e]"
            ]
          },
          "metadata": {
            "tags": []
          },
          "execution_count": 25
        }
      ]
    },
    {
      "cell_type": "markdown",
      "metadata": {
        "id": "V7GGUqZtvwqq"
      },
      "source": [
        "Rename the categories to more meaningful names (assigning to Series.cat.categories is inplace!)"
      ]
    },
    {
      "cell_type": "code",
      "metadata": {
        "id": "2DIBtBj1vwqr",
        "outputId": "4ef4f643-791d-42b9-c748-e83a96aaf1c6",
        "colab": {
          "base_uri": "https://localhost:8080/",
          "height": 355
        }
      },
      "source": [
        "df_cat[\"grade\"].cat.categories = [\"very good\", \"good\", \"horrible\", \"bad\", \"very bad\"]\n",
        "df_cat"
      ],
      "execution_count": null,
      "outputs": [
        {
          "output_type": "execute_result",
          "data": {
            "text/html": [
              "<div>\n",
              "<style scoped>\n",
              "    .dataframe tbody tr th:only-of-type {\n",
              "        vertical-align: middle;\n",
              "    }\n",
              "\n",
              "    .dataframe tbody tr th {\n",
              "        vertical-align: top;\n",
              "    }\n",
              "\n",
              "    .dataframe thead th {\n",
              "        text-align: right;\n",
              "    }\n",
              "</style>\n",
              "<table border=\"1\" class=\"dataframe\">\n",
              "  <thead>\n",
              "    <tr style=\"text-align: right;\">\n",
              "      <th></th>\n",
              "      <th>id</th>\n",
              "      <th>raw_grade</th>\n",
              "      <th>grade</th>\n",
              "    </tr>\n",
              "  </thead>\n",
              "  <tbody>\n",
              "    <tr>\n",
              "      <th>0</th>\n",
              "      <td>1</td>\n",
              "      <td>a</td>\n",
              "      <td>very good</td>\n",
              "    </tr>\n",
              "    <tr>\n",
              "      <th>1</th>\n",
              "      <td>2</td>\n",
              "      <td>b</td>\n",
              "      <td>good</td>\n",
              "    </tr>\n",
              "    <tr>\n",
              "      <th>2</th>\n",
              "      <td>3</td>\n",
              "      <td>b</td>\n",
              "      <td>good</td>\n",
              "    </tr>\n",
              "    <tr>\n",
              "      <th>3</th>\n",
              "      <td>4</td>\n",
              "      <td>a</td>\n",
              "      <td>very good</td>\n",
              "    </tr>\n",
              "    <tr>\n",
              "      <th>4</th>\n",
              "      <td>5</td>\n",
              "      <td>a</td>\n",
              "      <td>very good</td>\n",
              "    </tr>\n",
              "    <tr>\n",
              "      <th>5</th>\n",
              "      <td>6</td>\n",
              "      <td>e</td>\n",
              "      <td>very bad</td>\n",
              "    </tr>\n",
              "    <tr>\n",
              "      <th>6</th>\n",
              "      <td>7</td>\n",
              "      <td>c</td>\n",
              "      <td>horrible</td>\n",
              "    </tr>\n",
              "    <tr>\n",
              "      <th>7</th>\n",
              "      <td>8</td>\n",
              "      <td>d</td>\n",
              "      <td>bad</td>\n",
              "    </tr>\n",
              "    <tr>\n",
              "      <th>8</th>\n",
              "      <td>9</td>\n",
              "      <td>b</td>\n",
              "      <td>good</td>\n",
              "    </tr>\n",
              "    <tr>\n",
              "      <th>9</th>\n",
              "      <td>10</td>\n",
              "      <td>a</td>\n",
              "      <td>very good</td>\n",
              "    </tr>\n",
              "  </tbody>\n",
              "</table>\n",
              "</div>"
            ],
            "text/plain": [
              "   id raw_grade      grade\n",
              "0   1         a  very good\n",
              "1   2         b       good\n",
              "2   3         b       good\n",
              "3   4         a  very good\n",
              "4   5         a  very good\n",
              "5   6         e   very bad\n",
              "6   7         c   horrible\n",
              "7   8         d        bad\n",
              "8   9         b       good\n",
              "9  10         a  very good"
            ]
          },
          "metadata": {
            "tags": []
          },
          "execution_count": 27
        }
      ]
    },
    {
      "cell_type": "markdown",
      "metadata": {
        "id": "sFiW52K3vwqw"
      },
      "source": [
        "Reorder the categories and simultaneously add the missing categories (methods under Series .cat return a new Series per default)."
      ]
    },
    {
      "cell_type": "code",
      "metadata": {
        "id": "RPk4WhiWvwqw",
        "outputId": "822498b5-095c-4412-d1a5-be3fdf2f5cb7",
        "colab": {
          "base_uri": "https://localhost:8080/",
          "height": 228
        }
      },
      "source": [
        "df_cat[\"grade\"] = df_cat[\"grade\"].cat.set_categories([\"very bad\", \"bad\", \"medium\", \"good\", \"very good\"])\n",
        "df_cat"
      ],
      "execution_count": null,
      "outputs": [
        {
          "output_type": "execute_result",
          "data": {
            "text/html": [
              "<div>\n",
              "<style scoped>\n",
              "    .dataframe tbody tr th:only-of-type {\n",
              "        vertical-align: middle;\n",
              "    }\n",
              "\n",
              "    .dataframe tbody tr th {\n",
              "        vertical-align: top;\n",
              "    }\n",
              "\n",
              "    .dataframe thead th {\n",
              "        text-align: right;\n",
              "    }\n",
              "</style>\n",
              "<table border=\"1\" class=\"dataframe\">\n",
              "  <thead>\n",
              "    <tr style=\"text-align: right;\">\n",
              "      <th></th>\n",
              "      <th>id</th>\n",
              "      <th>raw_grade</th>\n",
              "      <th>grade</th>\n",
              "    </tr>\n",
              "  </thead>\n",
              "  <tbody>\n",
              "    <tr>\n",
              "      <th>0</th>\n",
              "      <td>1</td>\n",
              "      <td>a</td>\n",
              "      <td>very good</td>\n",
              "    </tr>\n",
              "    <tr>\n",
              "      <th>1</th>\n",
              "      <td>2</td>\n",
              "      <td>b</td>\n",
              "      <td>good</td>\n",
              "    </tr>\n",
              "    <tr>\n",
              "      <th>2</th>\n",
              "      <td>3</td>\n",
              "      <td>b</td>\n",
              "      <td>good</td>\n",
              "    </tr>\n",
              "    <tr>\n",
              "      <th>3</th>\n",
              "      <td>4</td>\n",
              "      <td>a</td>\n",
              "      <td>very good</td>\n",
              "    </tr>\n",
              "    <tr>\n",
              "      <th>4</th>\n",
              "      <td>5</td>\n",
              "      <td>a</td>\n",
              "      <td>very good</td>\n",
              "    </tr>\n",
              "    <tr>\n",
              "      <th>5</th>\n",
              "      <td>6</td>\n",
              "      <td>e</td>\n",
              "      <td>very bad</td>\n",
              "    </tr>\n",
              "  </tbody>\n",
              "</table>\n",
              "</div>"
            ],
            "text/plain": [
              "   id raw_grade      grade\n",
              "0   1         a  very good\n",
              "1   2         b       good\n",
              "2   3         b       good\n",
              "3   4         a  very good\n",
              "4   5         a  very good\n",
              "5   6         e   very bad"
            ]
          },
          "metadata": {
            "tags": []
          },
          "execution_count": 95
        }
      ]
    },
    {
      "cell_type": "code",
      "metadata": {
        "id": "jCWqe5Z2vwqx",
        "outputId": "efbe91ed-a7bb-4936-89e1-fea1ed9e342a",
        "colab": {
          "base_uri": "https://localhost:8080/",
          "height": 163
        }
      },
      "source": [
        "df_cat[\"grade\"]"
      ],
      "execution_count": null,
      "outputs": [
        {
          "output_type": "execute_result",
          "data": {
            "text/plain": [
              "0    very good\n",
              "1         good\n",
              "2         good\n",
              "3    very good\n",
              "4    very good\n",
              "5     very bad\n",
              "Name: grade, dtype: category\n",
              "Categories (5, object): [very bad, bad, medium, good, very good]"
            ]
          },
          "metadata": {
            "tags": []
          },
          "execution_count": 96
        }
      ]
    },
    {
      "cell_type": "markdown",
      "metadata": {
        "id": "R8w5j1qvvwq0"
      },
      "source": [
        "Sorting is per order in the categories, not lexical order."
      ]
    },
    {
      "cell_type": "code",
      "metadata": {
        "id": "vDp8ppygvwq1",
        "outputId": "dbcde7a3-f614-4944-a350-7c0003fd7819",
        "colab": {
          "base_uri": "https://localhost:8080/",
          "height": 228
        }
      },
      "source": [
        "df_cat.sort_values(by=\"grade\", ascending=False)"
      ],
      "execution_count": null,
      "outputs": [
        {
          "output_type": "execute_result",
          "data": {
            "text/html": [
              "<div>\n",
              "<style scoped>\n",
              "    .dataframe tbody tr th:only-of-type {\n",
              "        vertical-align: middle;\n",
              "    }\n",
              "\n",
              "    .dataframe tbody tr th {\n",
              "        vertical-align: top;\n",
              "    }\n",
              "\n",
              "    .dataframe thead th {\n",
              "        text-align: right;\n",
              "    }\n",
              "</style>\n",
              "<table border=\"1\" class=\"dataframe\">\n",
              "  <thead>\n",
              "    <tr style=\"text-align: right;\">\n",
              "      <th></th>\n",
              "      <th>id</th>\n",
              "      <th>raw_grade</th>\n",
              "      <th>grade</th>\n",
              "    </tr>\n",
              "  </thead>\n",
              "  <tbody>\n",
              "    <tr>\n",
              "      <th>4</th>\n",
              "      <td>5</td>\n",
              "      <td>a</td>\n",
              "      <td>very good</td>\n",
              "    </tr>\n",
              "    <tr>\n",
              "      <th>3</th>\n",
              "      <td>4</td>\n",
              "      <td>a</td>\n",
              "      <td>very good</td>\n",
              "    </tr>\n",
              "    <tr>\n",
              "      <th>0</th>\n",
              "      <td>1</td>\n",
              "      <td>a</td>\n",
              "      <td>very good</td>\n",
              "    </tr>\n",
              "    <tr>\n",
              "      <th>2</th>\n",
              "      <td>3</td>\n",
              "      <td>b</td>\n",
              "      <td>good</td>\n",
              "    </tr>\n",
              "    <tr>\n",
              "      <th>1</th>\n",
              "      <td>2</td>\n",
              "      <td>b</td>\n",
              "      <td>good</td>\n",
              "    </tr>\n",
              "    <tr>\n",
              "      <th>5</th>\n",
              "      <td>6</td>\n",
              "      <td>e</td>\n",
              "      <td>very bad</td>\n",
              "    </tr>\n",
              "  </tbody>\n",
              "</table>\n",
              "</div>"
            ],
            "text/plain": [
              "   id raw_grade      grade\n",
              "4   5         a  very good\n",
              "3   4         a  very good\n",
              "0   1         a  very good\n",
              "2   3         b       good\n",
              "1   2         b       good\n",
              "5   6         e   very bad"
            ]
          },
          "metadata": {
            "tags": []
          },
          "execution_count": 97
        }
      ]
    },
    {
      "cell_type": "markdown",
      "metadata": {
        "id": "SzBxS03Bvwq2"
      },
      "source": [
        "Grouping by a categorical column shows also empty categories."
      ]
    },
    {
      "cell_type": "code",
      "metadata": {
        "id": "r-cKJ8jxvwq2",
        "outputId": "a5d2461e-1e32-4c64-e47c-624956525681",
        "colab": {
          "base_uri": "https://localhost:8080/",
          "height": 145
        }
      },
      "source": [
        "df_cat.groupby(\"grade\").size()"
      ],
      "execution_count": null,
      "outputs": [
        {
          "output_type": "execute_result",
          "data": {
            "text/plain": [
              "grade\n",
              "very bad     1\n",
              "bad          0\n",
              "medium       0\n",
              "good         2\n",
              "very good    3\n",
              "dtype: int64"
            ]
          },
          "metadata": {
            "tags": []
          },
          "execution_count": 98
        }
      ]
    },
    {
      "cell_type": "markdown",
      "metadata": {
        "id": "gCxyDOJeLHHy"
      },
      "source": [
        "### In class exercise: do a plot bar and a pie chart of the groupby results"
      ]
    },
    {
      "cell_type": "code",
      "metadata": {
        "id": "g4P_me1dK4ib",
        "outputId": "7afc968d-ac0d-45fd-855d-bba301a35330",
        "colab": {
          "base_uri": "https://localhost:8080/",
          "height": 273
        }
      },
      "source": [
        ""
      ],
      "execution_count": null,
      "outputs": [
        {
          "output_type": "execute_result",
          "data": {
            "text/plain": [
              "<matplotlib.axes._subplots.AxesSubplot at 0x7f6466fc6ef0>"
            ]
          },
          "metadata": {
            "tags": []
          },
          "execution_count": 99
        },
        {
          "output_type": "display_data",
          "data": {
            "image/png": "[encoded data removed]",
            "text/plain": [
              "<Figure size 432x288 with 1 Axes>"
            ]
          },
          "metadata": {
            "tags": []
          }
        }
      ]
    },
    {
      "cell_type": "code",
      "metadata": {
        "id": "vQk3mgs_LUUP",
        "outputId": "ef1dd5e8-f927-4380-b829-b393e8d5ce41",
        "colab": {
          "base_uri": "https://localhost:8080/",
          "height": 341
        }
      },
      "source": [
        ""
      ],
      "execution_count": null,
      "outputs": [
        {
          "output_type": "execute_result",
          "data": {
            "text/plain": [
              "<matplotlib.axes._subplots.AxesSubplot at 0x7f64666edd68>"
            ]
          },
          "metadata": {
            "tags": []
          },
          "execution_count": 100
        },
        {
          "output_type": "display_data",
          "data": {
            "image/png": "[encoded data removed]",
            "text/plain": [
              "<Figure size 432x288 with 1 Axes>"
            ]
          },
          "metadata": {
            "tags": []
          }
        }
      ]
    },
    {
      "cell_type": "markdown",
      "metadata": {
        "id": "LHELiSu3vwow"
      },
      "source": [
        "## Merge"
      ]
    },
    {
      "cell_type": "markdown",
      "metadata": {
        "id": "O7Q1wbfIvwoz"
      },
      "source": [
        "### Concat\n",
        "\n",
        "pandas provides various facilities for easily combining together Series, DataFrame, and Panel objects with various kinds of set logic for the indexes and relational algebra functionality in the case of join / merge-type operations.\n"
      ]
    },
    {
      "cell_type": "markdown",
      "metadata": {
        "id": "cnzgfouvvwo0"
      },
      "source": [
        "Concatenating pandas objects together with concat():"
      ]
    },
    {
      "cell_type": "code",
      "metadata": {
        "id": "7gmk8Aemvwo2"
      },
      "source": [
        "df = pd.DataFrame(np.random.randn(10, 4))"
      ],
      "execution_count": null,
      "outputs": []
    },
    {
      "cell_type": "code",
      "metadata": {
        "id": "zhzUXk4Hvwo4",
        "outputId": "47611164-4f3b-4e3f-ae00-a4a320290006",
        "colab": {
          "base_uri": "https://localhost:8080/",
          "height": 355
        }
      },
      "source": [
        "df"
      ],
      "execution_count": null,
      "outputs": [
        {
          "output_type": "execute_result",
          "data": {
            "text/html": [
              "<div>\n",
              "<style scoped>\n",
              "    .dataframe tbody tr th:only-of-type {\n",
              "        vertical-align: middle;\n",
              "    }\n",
              "\n",
              "    .dataframe tbody tr th {\n",
              "        vertical-align: top;\n",
              "    }\n",
              "\n",
              "    .dataframe thead th {\n",
              "        text-align: right;\n",
              "    }\n",
              "</style>\n",
              "<table border=\"1\" class=\"dataframe\">\n",
              "  <thead>\n",
              "    <tr style=\"text-align: right;\">\n",
              "      <th></th>\n",
              "      <th>0</th>\n",
              "      <th>1</th>\n",
              "      <th>2</th>\n",
              "      <th>3</th>\n",
              "    </tr>\n",
              "  </thead>\n",
              "  <tbody>\n",
              "    <tr>\n",
              "      <th>0</th>\n",
              "      <td>-1.919836</td>\n",
              "      <td>1.570088</td>\n",
              "      <td>1.285748</td>\n",
              "      <td>-0.208079</td>\n",
              "    </tr>\n",
              "    <tr>\n",
              "      <th>1</th>\n",
              "      <td>-0.775456</td>\n",
              "      <td>-0.071747</td>\n",
              "      <td>0.022888</td>\n",
              "      <td>0.106461</td>\n",
              "    </tr>\n",
              "    <tr>\n",
              "      <th>2</th>\n",
              "      <td>1.284885</td>\n",
              "      <td>-0.851181</td>\n",
              "      <td>-0.026628</td>\n",
              "      <td>-0.127384</td>\n",
              "    </tr>\n",
              "    <tr>\n",
              "      <th>3</th>\n",
              "      <td>-0.157459</td>\n",
              "      <td>1.060791</td>\n",
              "      <td>-0.587813</td>\n",
              "      <td>-1.483927</td>\n",
              "    </tr>\n",
              "    <tr>\n",
              "      <th>4</th>\n",
              "      <td>1.167761</td>\n",
              "      <td>-1.373130</td>\n",
              "      <td>-0.462415</td>\n",
              "      <td>-0.919127</td>\n",
              "    </tr>\n",
              "    <tr>\n",
              "      <th>5</th>\n",
              "      <td>0.667723</td>\n",
              "      <td>-0.251614</td>\n",
              "      <td>-0.178508</td>\n",
              "      <td>-1.029996</td>\n",
              "    </tr>\n",
              "    <tr>\n",
              "      <th>6</th>\n",
              "      <td>0.529828</td>\n",
              "      <td>0.059455</td>\n",
              "      <td>-0.164063</td>\n",
              "      <td>-0.244196</td>\n",
              "    </tr>\n",
              "    <tr>\n",
              "      <th>7</th>\n",
              "      <td>-1.003764</td>\n",
              "      <td>-1.416779</td>\n",
              "      <td>-0.371149</td>\n",
              "      <td>-1.034899</td>\n",
              "    </tr>\n",
              "    <tr>\n",
              "      <th>8</th>\n",
              "      <td>-0.492688</td>\n",
              "      <td>0.409975</td>\n",
              "      <td>0.210786</td>\n",
              "      <td>0.591195</td>\n",
              "    </tr>\n",
              "    <tr>\n",
              "      <th>9</th>\n",
              "      <td>-0.491349</td>\n",
              "      <td>0.086439</td>\n",
              "      <td>1.152667</td>\n",
              "      <td>-1.075656</td>\n",
              "    </tr>\n",
              "  </tbody>\n",
              "</table>\n",
              "</div>"
            ],
            "text/plain": [
              "          0         1         2         3\n",
              "0 -1.919836  1.570088  1.285748 -0.208079\n",
              "1 -0.775456 -0.071747  0.022888  0.106461\n",
              "2  1.284885 -0.851181 -0.026628 -0.127384\n",
              "3 -0.157459  1.060791 -0.587813 -1.483927\n",
              "4  1.167761 -1.373130 -0.462415 -0.919127\n",
              "5  0.667723 -0.251614 -0.178508 -1.029996\n",
              "6  0.529828  0.059455 -0.164063 -0.244196\n",
              "7 -1.003764 -1.416779 -0.371149 -1.034899\n",
              "8 -0.492688  0.409975  0.210786  0.591195\n",
              "9 -0.491349  0.086439  1.152667 -1.075656"
            ]
          },
          "metadata": {
            "tags": []
          },
          "execution_count": 9
        }
      ]
    },
    {
      "cell_type": "code",
      "metadata": {
        "id": "tgHaLq2pvwo6",
        "outputId": "40a21d1d-4db2-45e1-a98a-4434fe0568e9",
        "colab": {
          "base_uri": "https://localhost:8080/",
          "height": 418
        }
      },
      "source": [
        "# break it into pieces\n",
        "pieces = [df[:3], df[3:7], df[7:]]\n",
        "\n",
        "df[:3]\n",
        "df[3:7]\n",
        "df[7:]"
      ],
      "execution_count": null,
      "outputs": [
        {
          "output_type": "execute_result",
          "data": {
            "text/html": [
              "<div>\n",
              "<style scoped>\n",
              "    .dataframe tbody tr th:only-of-type {\n",
              "        vertical-align: middle;\n",
              "    }\n",
              "\n",
              "    .dataframe tbody tr th {\n",
              "        vertical-align: top;\n",
              "    }\n",
              "\n",
              "    .dataframe thead th {\n",
              "        text-align: right;\n",
              "    }\n",
              "</style>\n",
              "<table border=\"1\" class=\"dataframe\">\n",
              "  <thead>\n",
              "    <tr style=\"text-align: right;\">\n",
              "      <th></th>\n",
              "      <th>0</th>\n",
              "      <th>1</th>\n",
              "      <th>2</th>\n",
              "      <th>3</th>\n",
              "    </tr>\n",
              "  </thead>\n",
              "  <tbody>\n",
              "    <tr>\n",
              "      <th>0</th>\n",
              "      <td>-1.919836</td>\n",
              "      <td>1.570088</td>\n",
              "      <td>1.285748</td>\n",
              "      <td>-0.208079</td>\n",
              "    </tr>\n",
              "    <tr>\n",
              "      <th>1</th>\n",
              "      <td>-0.775456</td>\n",
              "      <td>-0.071747</td>\n",
              "      <td>0.022888</td>\n",
              "      <td>0.106461</td>\n",
              "    </tr>\n",
              "    <tr>\n",
              "      <th>2</th>\n",
              "      <td>1.284885</td>\n",
              "      <td>-0.851181</td>\n",
              "      <td>-0.026628</td>\n",
              "      <td>-0.127384</td>\n",
              "    </tr>\n",
              "  </tbody>\n",
              "</table>\n",
              "</div>"
            ],
            "text/plain": [
              "          0         1         2         3\n",
              "0 -1.919836  1.570088  1.285748 -0.208079\n",
              "1 -0.775456 -0.071747  0.022888  0.106461\n",
              "2  1.284885 -0.851181 -0.026628 -0.127384"
            ]
          },
          "metadata": {
            "tags": []
          },
          "execution_count": 10
        },
        {
          "output_type": "execute_result",
          "data": {
            "text/html": [
              "<div>\n",
              "<style scoped>\n",
              "    .dataframe tbody tr th:only-of-type {\n",
              "        vertical-align: middle;\n",
              "    }\n",
              "\n",
              "    .dataframe tbody tr th {\n",
              "        vertical-align: top;\n",
              "    }\n",
              "\n",
              "    .dataframe thead th {\n",
              "        text-align: right;\n",
              "    }\n",
              "</style>\n",
              "<table border=\"1\" class=\"dataframe\">\n",
              "  <thead>\n",
              "    <tr style=\"text-align: right;\">\n",
              "      <th></th>\n",
              "      <th>0</th>\n",
              "      <th>1</th>\n",
              "      <th>2</th>\n",
              "      <th>3</th>\n",
              "    </tr>\n",
              "  </thead>\n",
              "  <tbody>\n",
              "    <tr>\n",
              "      <th>3</th>\n",
              "      <td>-0.157459</td>\n",
              "      <td>1.060791</td>\n",
              "      <td>-0.587813</td>\n",
              "      <td>-1.483927</td>\n",
              "    </tr>\n",
              "    <tr>\n",
              "      <th>4</th>\n",
              "      <td>1.167761</td>\n",
              "      <td>-1.373130</td>\n",
              "      <td>-0.462415</td>\n",
              "      <td>-0.919127</td>\n",
              "    </tr>\n",
              "    <tr>\n",
              "      <th>5</th>\n",
              "      <td>0.667723</td>\n",
              "      <td>-0.251614</td>\n",
              "      <td>-0.178508</td>\n",
              "      <td>-1.029996</td>\n",
              "    </tr>\n",
              "    <tr>\n",
              "      <th>6</th>\n",
              "      <td>0.529828</td>\n",
              "      <td>0.059455</td>\n",
              "      <td>-0.164063</td>\n",
              "      <td>-0.244196</td>\n",
              "    </tr>\n",
              "  </tbody>\n",
              "</table>\n",
              "</div>"
            ],
            "text/plain": [
              "          0         1         2         3\n",
              "3 -0.157459  1.060791 -0.587813 -1.483927\n",
              "4  1.167761 -1.373130 -0.462415 -0.919127\n",
              "5  0.667723 -0.251614 -0.178508 -1.029996\n",
              "6  0.529828  0.059455 -0.164063 -0.244196"
            ]
          },
          "metadata": {
            "tags": []
          },
          "execution_count": 10
        },
        {
          "output_type": "execute_result",
          "data": {
            "text/html": [
              "<div>\n",
              "<style scoped>\n",
              "    .dataframe tbody tr th:only-of-type {\n",
              "        vertical-align: middle;\n",
              "    }\n",
              "\n",
              "    .dataframe tbody tr th {\n",
              "        vertical-align: top;\n",
              "    }\n",
              "\n",
              "    .dataframe thead th {\n",
              "        text-align: right;\n",
              "    }\n",
              "</style>\n",
              "<table border=\"1\" class=\"dataframe\">\n",
              "  <thead>\n",
              "    <tr style=\"text-align: right;\">\n",
              "      <th></th>\n",
              "      <th>0</th>\n",
              "      <th>1</th>\n",
              "      <th>2</th>\n",
              "      <th>3</th>\n",
              "    </tr>\n",
              "  </thead>\n",
              "  <tbody>\n",
              "    <tr>\n",
              "      <th>7</th>\n",
              "      <td>-1.003764</td>\n",
              "      <td>-1.416779</td>\n",
              "      <td>-0.371149</td>\n",
              "      <td>-1.034899</td>\n",
              "    </tr>\n",
              "    <tr>\n",
              "      <th>8</th>\n",
              "      <td>-0.492688</td>\n",
              "      <td>0.409975</td>\n",
              "      <td>0.210786</td>\n",
              "      <td>0.591195</td>\n",
              "    </tr>\n",
              "    <tr>\n",
              "      <th>9</th>\n",
              "      <td>-0.491349</td>\n",
              "      <td>0.086439</td>\n",
              "      <td>1.152667</td>\n",
              "      <td>-1.075656</td>\n",
              "    </tr>\n",
              "  </tbody>\n",
              "</table>\n",
              "</div>"
            ],
            "text/plain": [
              "          0         1         2         3\n",
              "7 -1.003764 -1.416779 -0.371149 -1.034899\n",
              "8 -0.492688  0.409975  0.210786  0.591195\n",
              "9 -0.491349  0.086439  1.152667 -1.075656"
            ]
          },
          "metadata": {
            "tags": []
          },
          "execution_count": 10
        }
      ]
    },
    {
      "cell_type": "code",
      "metadata": {
        "id": "HMI3yNhmvwo-",
        "outputId": "b02dc173-d237-45bf-f56b-907fd261d747",
        "colab": {
          "base_uri": "https://localhost:8080/",
          "height": 348
        }
      },
      "source": [
        "pd.concat(pieces)"
      ],
      "execution_count": null,
      "outputs": [
        {
          "output_type": "execute_result",
          "data": {
            "text/html": [
              "<div>\n",
              "<style scoped>\n",
              "    .dataframe tbody tr th:only-of-type {\n",
              "        vertical-align: middle;\n",
              "    }\n",
              "\n",
              "    .dataframe tbody tr th {\n",
              "        vertical-align: top;\n",
              "    }\n",
              "\n",
              "    .dataframe thead th {\n",
              "        text-align: right;\n",
              "    }\n",
              "</style>\n",
              "<table border=\"1\" class=\"dataframe\">\n",
              "  <thead>\n",
              "    <tr style=\"text-align: right;\">\n",
              "      <th></th>\n",
              "      <th>0</th>\n",
              "      <th>1</th>\n",
              "      <th>2</th>\n",
              "      <th>3</th>\n",
              "    </tr>\n",
              "  </thead>\n",
              "  <tbody>\n",
              "    <tr>\n",
              "      <th>0</th>\n",
              "      <td>1.068528</td>\n",
              "      <td>-1.953400</td>\n",
              "      <td>-1.413204</td>\n",
              "      <td>-0.446180</td>\n",
              "    </tr>\n",
              "    <tr>\n",
              "      <th>1</th>\n",
              "      <td>1.045269</td>\n",
              "      <td>-0.850994</td>\n",
              "      <td>-0.027161</td>\n",
              "      <td>1.455011</td>\n",
              "    </tr>\n",
              "    <tr>\n",
              "      <th>2</th>\n",
              "      <td>1.393722</td>\n",
              "      <td>0.045630</td>\n",
              "      <td>-0.634953</td>\n",
              "      <td>1.471171</td>\n",
              "    </tr>\n",
              "    <tr>\n",
              "      <th>3</th>\n",
              "      <td>1.219012</td>\n",
              "      <td>-0.918120</td>\n",
              "      <td>-0.278443</td>\n",
              "      <td>1.367075</td>\n",
              "    </tr>\n",
              "    <tr>\n",
              "      <th>4</th>\n",
              "      <td>1.427819</td>\n",
              "      <td>-0.334904</td>\n",
              "      <td>0.475874</td>\n",
              "      <td>-1.420863</td>\n",
              "    </tr>\n",
              "    <tr>\n",
              "      <th>5</th>\n",
              "      <td>0.667494</td>\n",
              "      <td>-0.661154</td>\n",
              "      <td>-0.323277</td>\n",
              "      <td>-0.653750</td>\n",
              "    </tr>\n",
              "    <tr>\n",
              "      <th>6</th>\n",
              "      <td>1.731812</td>\n",
              "      <td>0.789231</td>\n",
              "      <td>0.426127</td>\n",
              "      <td>-0.892915</td>\n",
              "    </tr>\n",
              "    <tr>\n",
              "      <th>7</th>\n",
              "      <td>1.077027</td>\n",
              "      <td>-0.049447</td>\n",
              "      <td>-0.560181</td>\n",
              "      <td>1.094014</td>\n",
              "    </tr>\n",
              "    <tr>\n",
              "      <th>8</th>\n",
              "      <td>0.168458</td>\n",
              "      <td>0.400696</td>\n",
              "      <td>-0.062707</td>\n",
              "      <td>0.812356</td>\n",
              "    </tr>\n",
              "    <tr>\n",
              "      <th>9</th>\n",
              "      <td>0.539578</td>\n",
              "      <td>0.090921</td>\n",
              "      <td>-0.545495</td>\n",
              "      <td>-1.399818</td>\n",
              "    </tr>\n",
              "  </tbody>\n",
              "</table>\n",
              "</div>"
            ],
            "text/plain": [
              "          0         1         2         3\n",
              "0  1.068528 -1.953400 -1.413204 -0.446180\n",
              "1  1.045269 -0.850994 -0.027161  1.455011\n",
              "2  1.393722  0.045630 -0.634953  1.471171\n",
              "3  1.219012 -0.918120 -0.278443  1.367075\n",
              "4  1.427819 -0.334904  0.475874 -1.420863\n",
              "5  0.667494 -0.661154 -0.323277 -0.653750\n",
              "6  1.731812  0.789231  0.426127 -0.892915\n",
              "7  1.077027 -0.049447 -0.560181  1.094014\n",
              "8  0.168458  0.400696 -0.062707  0.812356\n",
              "9  0.539578  0.090921 -0.545495 -1.399818"
            ]
          },
          "metadata": {
            "tags": []
          },
          "execution_count": 104
        }
      ]
    },
    {
      "cell_type": "markdown",
      "metadata": {
        "id": "eBtcl9_kvwo_"
      },
      "source": [
        "### Join\n",
        "\n",
        "SQL style merges. \n"
      ]
    },
    {
      "cell_type": "code",
      "metadata": {
        "id": "q9fhgoGSvwpA",
        "outputId": "02341fe1-bfe0-458a-d730-6be9bfe88cea",
        "colab": {
          "base_uri": "https://localhost:8080/",
          "height": 108
        }
      },
      "source": [
        "left = pd.DataFrame({'key': ['foo', 'foo'], 'lval': [1, 2]})\n",
        "left"
      ],
      "execution_count": null,
      "outputs": [
        {
          "output_type": "execute_result",
          "data": {
            "text/html": [
              "<div>\n",
              "<style scoped>\n",
              "    .dataframe tbody tr th:only-of-type {\n",
              "        vertical-align: middle;\n",
              "    }\n",
              "\n",
              "    .dataframe tbody tr th {\n",
              "        vertical-align: top;\n",
              "    }\n",
              "\n",
              "    .dataframe thead th {\n",
              "        text-align: right;\n",
              "    }\n",
              "</style>\n",
              "<table border=\"1\" class=\"dataframe\">\n",
              "  <thead>\n",
              "    <tr style=\"text-align: right;\">\n",
              "      <th></th>\n",
              "      <th>key</th>\n",
              "      <th>lval</th>\n",
              "    </tr>\n",
              "  </thead>\n",
              "  <tbody>\n",
              "    <tr>\n",
              "      <th>0</th>\n",
              "      <td>foo</td>\n",
              "      <td>1</td>\n",
              "    </tr>\n",
              "    <tr>\n",
              "      <th>1</th>\n",
              "      <td>foo</td>\n",
              "      <td>2</td>\n",
              "    </tr>\n",
              "  </tbody>\n",
              "</table>\n",
              "</div>"
            ],
            "text/plain": [
              "   key  lval\n",
              "0  foo     1\n",
              "1  foo     2"
            ]
          },
          "metadata": {
            "tags": []
          },
          "execution_count": 105
        }
      ]
    },
    {
      "cell_type": "code",
      "metadata": {
        "id": "N3tjAhPYvwpC",
        "outputId": "29633b09-bbe9-4239-8606-0e51f64d1693",
        "colab": {
          "base_uri": "https://localhost:8080/",
          "height": 108
        }
      },
      "source": [
        "right = pd.DataFrame({'key': ['foo', 'foo'], 'rval': [4, 5]})\n",
        "right"
      ],
      "execution_count": null,
      "outputs": [
        {
          "output_type": "execute_result",
          "data": {
            "text/html": [
              "<div>\n",
              "<style scoped>\n",
              "    .dataframe tbody tr th:only-of-type {\n",
              "        vertical-align: middle;\n",
              "    }\n",
              "\n",
              "    .dataframe tbody tr th {\n",
              "        vertical-align: top;\n",
              "    }\n",
              "\n",
              "    .dataframe thead th {\n",
              "        text-align: right;\n",
              "    }\n",
              "</style>\n",
              "<table border=\"1\" class=\"dataframe\">\n",
              "  <thead>\n",
              "    <tr style=\"text-align: right;\">\n",
              "      <th></th>\n",
              "      <th>key</th>\n",
              "      <th>rval</th>\n",
              "    </tr>\n",
              "  </thead>\n",
              "  <tbody>\n",
              "    <tr>\n",
              "      <th>0</th>\n",
              "      <td>foo</td>\n",
              "      <td>4</td>\n",
              "    </tr>\n",
              "    <tr>\n",
              "      <th>1</th>\n",
              "      <td>foo</td>\n",
              "      <td>5</td>\n",
              "    </tr>\n",
              "  </tbody>\n",
              "</table>\n",
              "</div>"
            ],
            "text/plain": [
              "   key  rval\n",
              "0  foo     4\n",
              "1  foo     5"
            ]
          },
          "metadata": {
            "tags": []
          },
          "execution_count": 106
        }
      ]
    },
    {
      "cell_type": "code",
      "metadata": {
        "id": "vD5RX6EtvwpF",
        "outputId": "76f64f76-168c-4fd0-e281-d283aea9f3a8",
        "colab": {
          "base_uri": "https://localhost:8080/",
          "height": 108
        }
      },
      "source": [
        "left"
      ],
      "execution_count": null,
      "outputs": [
        {
          "output_type": "execute_result",
          "data": {
            "text/html": [
              "<div>\n",
              "<style scoped>\n",
              "    .dataframe tbody tr th:only-of-type {\n",
              "        vertical-align: middle;\n",
              "    }\n",
              "\n",
              "    .dataframe tbody tr th {\n",
              "        vertical-align: top;\n",
              "    }\n",
              "\n",
              "    .dataframe thead th {\n",
              "        text-align: right;\n",
              "    }\n",
              "</style>\n",
              "<table border=\"1\" class=\"dataframe\">\n",
              "  <thead>\n",
              "    <tr style=\"text-align: right;\">\n",
              "      <th></th>\n",
              "      <th>key</th>\n",
              "      <th>lval</th>\n",
              "    </tr>\n",
              "  </thead>\n",
              "  <tbody>\n",
              "    <tr>\n",
              "      <th>0</th>\n",
              "      <td>foo</td>\n",
              "      <td>1</td>\n",
              "    </tr>\n",
              "    <tr>\n",
              "      <th>1</th>\n",
              "      <td>foo</td>\n",
              "      <td>2</td>\n",
              "    </tr>\n",
              "  </tbody>\n",
              "</table>\n",
              "</div>"
            ],
            "text/plain": [
              "   key  lval\n",
              "0  foo     1\n",
              "1  foo     2"
            ]
          },
          "metadata": {
            "tags": []
          },
          "execution_count": 107
        }
      ]
    },
    {
      "cell_type": "code",
      "metadata": {
        "id": "CGQqP2BvvwpJ",
        "outputId": "1a3315be-6155-4d89-eb54-3ac901f394bd",
        "colab": {
          "base_uri": "https://localhost:8080/",
          "height": 108
        }
      },
      "source": [
        "right"
      ],
      "execution_count": null,
      "outputs": [
        {
          "output_type": "execute_result",
          "data": {
            "text/html": [
              "<div>\n",
              "<style scoped>\n",
              "    .dataframe tbody tr th:only-of-type {\n",
              "        vertical-align: middle;\n",
              "    }\n",
              "\n",
              "    .dataframe tbody tr th {\n",
              "        vertical-align: top;\n",
              "    }\n",
              "\n",
              "    .dataframe thead th {\n",
              "        text-align: right;\n",
              "    }\n",
              "</style>\n",
              "<table border=\"1\" class=\"dataframe\">\n",
              "  <thead>\n",
              "    <tr style=\"text-align: right;\">\n",
              "      <th></th>\n",
              "      <th>key</th>\n",
              "      <th>rval</th>\n",
              "    </tr>\n",
              "  </thead>\n",
              "  <tbody>\n",
              "    <tr>\n",
              "      <th>0</th>\n",
              "      <td>foo</td>\n",
              "      <td>4</td>\n",
              "    </tr>\n",
              "    <tr>\n",
              "      <th>1</th>\n",
              "      <td>foo</td>\n",
              "      <td>5</td>\n",
              "    </tr>\n",
              "  </tbody>\n",
              "</table>\n",
              "</div>"
            ],
            "text/plain": [
              "   key  rval\n",
              "0  foo     4\n",
              "1  foo     5"
            ]
          },
          "metadata": {
            "tags": []
          },
          "execution_count": 108
        }
      ]
    },
    {
      "cell_type": "code",
      "metadata": {
        "id": "I4T3DywfvwpK",
        "outputId": "58ae1c36-836c-45c9-a5d8-40cc3502a075",
        "colab": {
          "base_uri": "https://localhost:8080/",
          "height": 168
        }
      },
      "source": [
        "pd.merge(left, right, on='key')"
      ],
      "execution_count": null,
      "outputs": [
        {
          "output_type": "execute_result",
          "data": {
            "text/html": [
              "<div>\n",
              "<style scoped>\n",
              "    .dataframe tbody tr th:only-of-type {\n",
              "        vertical-align: middle;\n",
              "    }\n",
              "\n",
              "    .dataframe tbody tr th {\n",
              "        vertical-align: top;\n",
              "    }\n",
              "\n",
              "    .dataframe thead th {\n",
              "        text-align: right;\n",
              "    }\n",
              "</style>\n",
              "<table border=\"1\" class=\"dataframe\">\n",
              "  <thead>\n",
              "    <tr style=\"text-align: right;\">\n",
              "      <th></th>\n",
              "      <th>key</th>\n",
              "      <th>lval</th>\n",
              "      <th>rval</th>\n",
              "    </tr>\n",
              "  </thead>\n",
              "  <tbody>\n",
              "    <tr>\n",
              "      <th>0</th>\n",
              "      <td>foo</td>\n",
              "      <td>1</td>\n",
              "      <td>4</td>\n",
              "    </tr>\n",
              "    <tr>\n",
              "      <th>1</th>\n",
              "      <td>foo</td>\n",
              "      <td>1</td>\n",
              "      <td>5</td>\n",
              "    </tr>\n",
              "    <tr>\n",
              "      <th>2</th>\n",
              "      <td>foo</td>\n",
              "      <td>2</td>\n",
              "      <td>4</td>\n",
              "    </tr>\n",
              "    <tr>\n",
              "      <th>3</th>\n",
              "      <td>foo</td>\n",
              "      <td>2</td>\n",
              "      <td>5</td>\n",
              "    </tr>\n",
              "  </tbody>\n",
              "</table>\n",
              "</div>"
            ],
            "text/plain": [
              "   key  lval  rval\n",
              "0  foo     1     4\n",
              "1  foo     1     5\n",
              "2  foo     2     4\n",
              "3  foo     2     5"
            ]
          },
          "metadata": {
            "tags": []
          },
          "execution_count": 109
        }
      ]
    },
    {
      "cell_type": "markdown",
      "metadata": {
        "id": "9ogQUD2DvwpN"
      },
      "source": [
        "### Append\n",
        "\n",
        "Append rows to a dataframe. "
      ]
    },
    {
      "cell_type": "code",
      "metadata": {
        "id": "VYG6yt0IvwpN"
      },
      "source": [
        "df = pd.DataFrame(np.random.randn(8, 4), columns=['A','B','C','D'])"
      ],
      "execution_count": null,
      "outputs": []
    },
    {
      "cell_type": "code",
      "metadata": {
        "id": "TH3RuuNnvwpQ",
        "outputId": "8bdd85b4-0753-4d4c-d834-8b579fa290e5",
        "colab": {
          "base_uri": "https://localhost:8080/",
          "height": 288
        }
      },
      "source": [
        "df"
      ],
      "execution_count": null,
      "outputs": [
        {
          "output_type": "execute_result",
          "data": {
            "text/html": [
              "<div>\n",
              "<style scoped>\n",
              "    .dataframe tbody tr th:only-of-type {\n",
              "        vertical-align: middle;\n",
              "    }\n",
              "\n",
              "    .dataframe tbody tr th {\n",
              "        vertical-align: top;\n",
              "    }\n",
              "\n",
              "    .dataframe thead th {\n",
              "        text-align: right;\n",
              "    }\n",
              "</style>\n",
              "<table border=\"1\" class=\"dataframe\">\n",
              "  <thead>\n",
              "    <tr style=\"text-align: right;\">\n",
              "      <th></th>\n",
              "      <th>A</th>\n",
              "      <th>B</th>\n",
              "      <th>C</th>\n",
              "      <th>D</th>\n",
              "    </tr>\n",
              "  </thead>\n",
              "  <tbody>\n",
              "    <tr>\n",
              "      <th>0</th>\n",
              "      <td>-1.680741</td>\n",
              "      <td>0.255366</td>\n",
              "      <td>-0.419130</td>\n",
              "      <td>-1.631675</td>\n",
              "    </tr>\n",
              "    <tr>\n",
              "      <th>1</th>\n",
              "      <td>1.482570</td>\n",
              "      <td>1.321698</td>\n",
              "      <td>0.457030</td>\n",
              "      <td>1.267365</td>\n",
              "    </tr>\n",
              "    <tr>\n",
              "      <th>2</th>\n",
              "      <td>0.439472</td>\n",
              "      <td>-0.907133</td>\n",
              "      <td>0.974007</td>\n",
              "      <td>2.029016</td>\n",
              "    </tr>\n",
              "    <tr>\n",
              "      <th>3</th>\n",
              "      <td>-1.509170</td>\n",
              "      <td>-0.699214</td>\n",
              "      <td>-1.372606</td>\n",
              "      <td>-0.758352</td>\n",
              "    </tr>\n",
              "    <tr>\n",
              "      <th>4</th>\n",
              "      <td>-1.567430</td>\n",
              "      <td>-2.377187</td>\n",
              "      <td>-0.746512</td>\n",
              "      <td>0.995785</td>\n",
              "    </tr>\n",
              "    <tr>\n",
              "      <th>5</th>\n",
              "      <td>-0.508581</td>\n",
              "      <td>0.458846</td>\n",
              "      <td>0.162456</td>\n",
              "      <td>0.337127</td>\n",
              "    </tr>\n",
              "    <tr>\n",
              "      <th>6</th>\n",
              "      <td>-1.862496</td>\n",
              "      <td>-0.354023</td>\n",
              "      <td>-0.989923</td>\n",
              "      <td>0.693150</td>\n",
              "    </tr>\n",
              "    <tr>\n",
              "      <th>7</th>\n",
              "      <td>1.049283</td>\n",
              "      <td>-0.329513</td>\n",
              "      <td>-0.351728</td>\n",
              "      <td>-0.051703</td>\n",
              "    </tr>\n",
              "  </tbody>\n",
              "</table>\n",
              "</div>"
            ],
            "text/plain": [
              "          A         B         C         D\n",
              "0 -1.680741  0.255366 -0.419130 -1.631675\n",
              "1  1.482570  1.321698  0.457030  1.267365\n",
              "2  0.439472 -0.907133  0.974007  2.029016\n",
              "3 -1.509170 -0.699214 -1.372606 -0.758352\n",
              "4 -1.567430 -2.377187 -0.746512  0.995785\n",
              "5 -0.508581  0.458846  0.162456  0.337127\n",
              "6 -1.862496 -0.354023 -0.989923  0.693150\n",
              "7  1.049283 -0.329513 -0.351728 -0.051703"
            ]
          },
          "metadata": {
            "tags": []
          },
          "execution_count": 111
        }
      ]
    },
    {
      "cell_type": "code",
      "metadata": {
        "id": "OgzicEqhvwpU"
      },
      "source": [
        "s = df.iloc[3]"
      ],
      "execution_count": null,
      "outputs": []
    },
    {
      "cell_type": "code",
      "metadata": {
        "id": "jBAPZiZfvwpZ",
        "outputId": "e707131e-2f10-470e-8e83-1d3f7cf00228",
        "colab": {
          "base_uri": "https://localhost:8080/",
          "height": 318
        }
      },
      "source": [
        "df.append(s, ignore_index=True)"
      ],
      "execution_count": null,
      "outputs": [
        {
          "output_type": "execute_result",
          "data": {
            "text/html": [
              "<div>\n",
              "<style scoped>\n",
              "    .dataframe tbody tr th:only-of-type {\n",
              "        vertical-align: middle;\n",
              "    }\n",
              "\n",
              "    .dataframe tbody tr th {\n",
              "        vertical-align: top;\n",
              "    }\n",
              "\n",
              "    .dataframe thead th {\n",
              "        text-align: right;\n",
              "    }\n",
              "</style>\n",
              "<table border=\"1\" class=\"dataframe\">\n",
              "  <thead>\n",
              "    <tr style=\"text-align: right;\">\n",
              "      <th></th>\n",
              "      <th>A</th>\n",
              "      <th>B</th>\n",
              "      <th>C</th>\n",
              "      <th>D</th>\n",
              "    </tr>\n",
              "  </thead>\n",
              "  <tbody>\n",
              "    <tr>\n",
              "      <th>0</th>\n",
              "      <td>-1.680741</td>\n",
              "      <td>0.255366</td>\n",
              "      <td>-0.419130</td>\n",
              "      <td>-1.631675</td>\n",
              "    </tr>\n",
              "    <tr>\n",
              "      <th>1</th>\n",
              "      <td>1.482570</td>\n",
              "      <td>1.321698</td>\n",
              "      <td>0.457030</td>\n",
              "      <td>1.267365</td>\n",
              "    </tr>\n",
              "    <tr>\n",
              "      <th>2</th>\n",
              "      <td>0.439472</td>\n",
              "      <td>-0.907133</td>\n",
              "      <td>0.974007</td>\n",
              "      <td>2.029016</td>\n",
              "    </tr>\n",
              "    <tr>\n",
              "      <th>3</th>\n",
              "      <td>-1.509170</td>\n",
              "      <td>-0.699214</td>\n",
              "      <td>-1.372606</td>\n",
              "      <td>-0.758352</td>\n",
              "    </tr>\n",
              "    <tr>\n",
              "      <th>4</th>\n",
              "      <td>-1.567430</td>\n",
              "      <td>-2.377187</td>\n",
              "      <td>-0.746512</td>\n",
              "      <td>0.995785</td>\n",
              "    </tr>\n",
              "    <tr>\n",
              "      <th>5</th>\n",
              "      <td>-0.508581</td>\n",
              "      <td>0.458846</td>\n",
              "      <td>0.162456</td>\n",
              "      <td>0.337127</td>\n",
              "    </tr>\n",
              "    <tr>\n",
              "      <th>6</th>\n",
              "      <td>-1.862496</td>\n",
              "      <td>-0.354023</td>\n",
              "      <td>-0.989923</td>\n",
              "      <td>0.693150</td>\n",
              "    </tr>\n",
              "    <tr>\n",
              "      <th>7</th>\n",
              "      <td>1.049283</td>\n",
              "      <td>-0.329513</td>\n",
              "      <td>-0.351728</td>\n",
              "      <td>-0.051703</td>\n",
              "    </tr>\n",
              "    <tr>\n",
              "      <th>8</th>\n",
              "      <td>-1.509170</td>\n",
              "      <td>-0.699214</td>\n",
              "      <td>-1.372606</td>\n",
              "      <td>-0.758352</td>\n",
              "    </tr>\n",
              "  </tbody>\n",
              "</table>\n",
              "</div>"
            ],
            "text/plain": [
              "          A         B         C         D\n",
              "0 -1.680741  0.255366 -0.419130 -1.631675\n",
              "1  1.482570  1.321698  0.457030  1.267365\n",
              "2  0.439472 -0.907133  0.974007  2.029016\n",
              "3 -1.509170 -0.699214 -1.372606 -0.758352\n",
              "4 -1.567430 -2.377187 -0.746512  0.995785\n",
              "5 -0.508581  0.458846  0.162456  0.337127\n",
              "6 -1.862496 -0.354023 -0.989923  0.693150\n",
              "7  1.049283 -0.329513 -0.351728 -0.051703\n",
              "8 -1.509170 -0.699214 -1.372606 -0.758352"
            ]
          },
          "metadata": {
            "tags": []
          },
          "execution_count": 113
        }
      ]
    },
    {
      "cell_type": "markdown",
      "metadata": {
        "id": "XiOBNbGEvwpa"
      },
      "source": [
        "## Grouping\n",
        "\n",
        "By “group by” we are referring to a process involving one or more of the following steps\n",
        "\n",
        "* **Splitting** the data into groups based on some criteria\n",
        "* **Applying** a function to each group independently\n",
        "* **Combining** the results into a data structure\n",
        "\n",
        "Groupby is then basically split/apply/combine:\n",
        "\n",
        "![alt text](http://i.imgur.com/yjNkiwL.png)\n",
        "\n"
      ]
    },
    {
      "cell_type": "code",
      "metadata": {
        "id": "F9_Z5LE1vwpb"
      },
      "source": [
        "df = pd.DataFrame({'A' : ['foo', 'bar', 'foo', 'bar', 'foo', 'bar', 'foo', 'foo'],\n",
        "                                    'B' : ['one', 'one', 'two', 'three','two', 'two', 'one', 'three'],\n",
        "                                    'C' : np.random.randn(8),\n",
        "                                     'D' : np.random.randn(8)})"
      ],
      "execution_count": null,
      "outputs": []
    },
    {
      "cell_type": "code",
      "metadata": {
        "id": "SSHuY8nFvwpd",
        "outputId": "6835956d-cae9-4282-9a3a-6231067e834f",
        "colab": {
          "base_uri": "https://localhost:8080/",
          "height": 288
        }
      },
      "source": [
        "df"
      ],
      "execution_count": null,
      "outputs": [
        {
          "output_type": "execute_result",
          "data": {
            "text/html": [
              "<div>\n",
              "<style scoped>\n",
              "    .dataframe tbody tr th:only-of-type {\n",
              "        vertical-align: middle;\n",
              "    }\n",
              "\n",
              "    .dataframe tbody tr th {\n",
              "        vertical-align: top;\n",
              "    }\n",
              "\n",
              "    .dataframe thead th {\n",
              "        text-align: right;\n",
              "    }\n",
              "</style>\n",
              "<table border=\"1\" class=\"dataframe\">\n",
              "  <thead>\n",
              "    <tr style=\"text-align: right;\">\n",
              "      <th></th>\n",
              "      <th>A</th>\n",
              "      <th>B</th>\n",
              "      <th>C</th>\n",
              "      <th>D</th>\n",
              "    </tr>\n",
              "  </thead>\n",
              "  <tbody>\n",
              "    <tr>\n",
              "      <th>0</th>\n",
              "      <td>foo</td>\n",
              "      <td>one</td>\n",
              "      <td>0.487429</td>\n",
              "      <td>-0.521438</td>\n",
              "    </tr>\n",
              "    <tr>\n",
              "      <th>1</th>\n",
              "      <td>bar</td>\n",
              "      <td>one</td>\n",
              "      <td>-0.576294</td>\n",
              "      <td>-0.912114</td>\n",
              "    </tr>\n",
              "    <tr>\n",
              "      <th>2</th>\n",
              "      <td>foo</td>\n",
              "      <td>two</td>\n",
              "      <td>0.182413</td>\n",
              "      <td>-0.656929</td>\n",
              "    </tr>\n",
              "    <tr>\n",
              "      <th>3</th>\n",
              "      <td>bar</td>\n",
              "      <td>three</td>\n",
              "      <td>0.470163</td>\n",
              "      <td>0.700105</td>\n",
              "    </tr>\n",
              "    <tr>\n",
              "      <th>4</th>\n",
              "      <td>foo</td>\n",
              "      <td>two</td>\n",
              "      <td>0.476176</td>\n",
              "      <td>-1.183327</td>\n",
              "    </tr>\n",
              "    <tr>\n",
              "      <th>5</th>\n",
              "      <td>bar</td>\n",
              "      <td>two</td>\n",
              "      <td>0.079192</td>\n",
              "      <td>-0.877488</td>\n",
              "    </tr>\n",
              "    <tr>\n",
              "      <th>6</th>\n",
              "      <td>foo</td>\n",
              "      <td>one</td>\n",
              "      <td>-1.375786</td>\n",
              "      <td>-0.819829</td>\n",
              "    </tr>\n",
              "    <tr>\n",
              "      <th>7</th>\n",
              "      <td>foo</td>\n",
              "      <td>three</td>\n",
              "      <td>-0.065625</td>\n",
              "      <td>-1.722571</td>\n",
              "    </tr>\n",
              "  </tbody>\n",
              "</table>\n",
              "</div>"
            ],
            "text/plain": [
              "     A      B         C         D\n",
              "0  foo    one  0.487429 -0.521438\n",
              "1  bar    one -0.576294 -0.912114\n",
              "2  foo    two  0.182413 -0.656929\n",
              "3  bar  three  0.470163  0.700105\n",
              "4  foo    two  0.476176 -1.183327\n",
              "5  bar    two  0.079192 -0.877488\n",
              "6  foo    one -1.375786 -0.819829\n",
              "7  foo  three -0.065625 -1.722571"
            ]
          },
          "metadata": {
            "tags": []
          },
          "execution_count": 115
        }
      ]
    },
    {
      "cell_type": "markdown",
      "metadata": {
        "id": "0fMitvpivwph"
      },
      "source": [
        "Grouping and then applying a function sum to the resulting groups."
      ]
    },
    {
      "cell_type": "code",
      "metadata": {
        "id": "a0BJgYeavwpi",
        "outputId": "8c393df8-5ffc-453f-b082-8a82e9674052",
        "colab": {
          "base_uri": "https://localhost:8080/",
          "height": 138
        }
      },
      "source": [
        "df.groupby('A').sum()"
      ],
      "execution_count": null,
      "outputs": [
        {
          "output_type": "execute_result",
          "data": {
            "text/html": [
              "<div>\n",
              "<style scoped>\n",
              "    .dataframe tbody tr th:only-of-type {\n",
              "        vertical-align: middle;\n",
              "    }\n",
              "\n",
              "    .dataframe tbody tr th {\n",
              "        vertical-align: top;\n",
              "    }\n",
              "\n",
              "    .dataframe thead th {\n",
              "        text-align: right;\n",
              "    }\n",
              "</style>\n",
              "<table border=\"1\" class=\"dataframe\">\n",
              "  <thead>\n",
              "    <tr style=\"text-align: right;\">\n",
              "      <th></th>\n",
              "      <th>C</th>\n",
              "      <th>D</th>\n",
              "    </tr>\n",
              "    <tr>\n",
              "      <th>A</th>\n",
              "      <th></th>\n",
              "      <th></th>\n",
              "    </tr>\n",
              "  </thead>\n",
              "  <tbody>\n",
              "    <tr>\n",
              "      <th>bar</th>\n",
              "      <td>-0.026939</td>\n",
              "      <td>-1.089497</td>\n",
              "    </tr>\n",
              "    <tr>\n",
              "      <th>foo</th>\n",
              "      <td>-0.295393</td>\n",
              "      <td>-4.904095</td>\n",
              "    </tr>\n",
              "  </tbody>\n",
              "</table>\n",
              "</div>"
            ],
            "text/plain": [
              "            C         D\n",
              "A                      \n",
              "bar -0.026939 -1.089497\n",
              "foo -0.295393 -4.904095"
            ]
          },
          "metadata": {
            "tags": []
          },
          "execution_count": 116
        }
      ]
    },
    {
      "cell_type": "code",
      "metadata": {
        "id": "8LN7Lr7Avwpj",
        "outputId": "fb8b7ade-50b0-4cc5-fadb-e9429c6c4ee8",
        "colab": {
          "base_uri": "https://localhost:8080/",
          "height": 258
        }
      },
      "source": [
        "df.groupby(['A','B']).sum()"
      ],
      "execution_count": null,
      "outputs": [
        {
          "output_type": "execute_result",
          "data": {
            "text/html": [
              "<div>\n",
              "<style scoped>\n",
              "    .dataframe tbody tr th:only-of-type {\n",
              "        vertical-align: middle;\n",
              "    }\n",
              "\n",
              "    .dataframe tbody tr th {\n",
              "        vertical-align: top;\n",
              "    }\n",
              "\n",
              "    .dataframe thead th {\n",
              "        text-align: right;\n",
              "    }\n",
              "</style>\n",
              "<table border=\"1\" class=\"dataframe\">\n",
              "  <thead>\n",
              "    <tr style=\"text-align: right;\">\n",
              "      <th></th>\n",
              "      <th></th>\n",
              "      <th>C</th>\n",
              "      <th>D</th>\n",
              "    </tr>\n",
              "    <tr>\n",
              "      <th>A</th>\n",
              "      <th>B</th>\n",
              "      <th></th>\n",
              "      <th></th>\n",
              "    </tr>\n",
              "  </thead>\n",
              "  <tbody>\n",
              "    <tr>\n",
              "      <th rowspan=\"3\" valign=\"top\">bar</th>\n",
              "      <th>one</th>\n",
              "      <td>-0.576294</td>\n",
              "      <td>-0.912114</td>\n",
              "    </tr>\n",
              "    <tr>\n",
              "      <th>three</th>\n",
              "      <td>0.470163</td>\n",
              "      <td>0.700105</td>\n",
              "    </tr>\n",
              "    <tr>\n",
              "      <th>two</th>\n",
              "      <td>0.079192</td>\n",
              "      <td>-0.877488</td>\n",
              "    </tr>\n",
              "    <tr>\n",
              "      <th rowspan=\"3\" valign=\"top\">foo</th>\n",
              "      <th>one</th>\n",
              "      <td>-0.888357</td>\n",
              "      <td>-1.341268</td>\n",
              "    </tr>\n",
              "    <tr>\n",
              "      <th>three</th>\n",
              "      <td>-0.065625</td>\n",
              "      <td>-1.722571</td>\n",
              "    </tr>\n",
              "    <tr>\n",
              "      <th>two</th>\n",
              "      <td>0.658589</td>\n",
              "      <td>-1.840256</td>\n",
              "    </tr>\n",
              "  </tbody>\n",
              "</table>\n",
              "</div>"
            ],
            "text/plain": [
              "                  C         D\n",
              "A   B                        \n",
              "bar one   -0.576294 -0.912114\n",
              "    three  0.470163  0.700105\n",
              "    two    0.079192 -0.877488\n",
              "foo one   -0.888357 -1.341268\n",
              "    three -0.065625 -1.722571\n",
              "    two    0.658589 -1.840256"
            ]
          },
          "metadata": {
            "tags": []
          },
          "execution_count": 117
        }
      ]
    },
    {
      "cell_type": "markdown",
      "metadata": {
        "id": "35AWu63Evwpl"
      },
      "source": [
        "## Reshaping\n",
        "\n",
        "See the sections on [Hierarchical Indexing](http://pandas.pydata.org/pandas-docs/stable/advanced.html#advanced-hierarchical) and [Reshaping](http://pandas.pydata.org/pandas-docs/stable/reshaping.html#reshaping-stacking)."
      ]
    },
    {
      "cell_type": "markdown",
      "metadata": {
        "id": "4MV7RKP9vwpm"
      },
      "source": [
        "### Stack"
      ]
    },
    {
      "cell_type": "code",
      "metadata": {
        "id": "xQggnzXSvwpm"
      },
      "source": [
        "# Basically * takes all the lists and unpacks them\n",
        "tuples = list(zip(*[['bar', 'bar', 'baz', 'baz', 'foo', 'foo', 'qux', 'qux'],\n",
        "                                ['one', 'two', 'one', 'two', 'one', 'two', 'one', 'two'],\n",
        "                   ['yep', 'two', 'one', 'two', 'one', 'two', 'one', 'two']]))"
      ],
      "execution_count": null,
      "outputs": []
    },
    {
      "cell_type": "code",
      "metadata": {
        "id": "-aIaa6hJvwpp",
        "outputId": "732568ea-6479-4be2-9144-fae444403b74",
        "colab": {
          "base_uri": "https://localhost:8080/",
          "height": 71
        }
      },
      "source": [
        "index = pd.MultiIndex.from_tuples(tuples, names=['first', 'second', 'tuplemadness'])\n",
        "index"
      ],
      "execution_count": null,
      "outputs": [
        {
          "output_type": "execute_result",
          "data": {
            "text/plain": [
              "MultiIndex(levels=[['bar', 'baz', 'foo', 'qux'], ['one', 'two'], ['one', 'two', 'yep']],\n",
              "           codes=[[0, 0, 1, 1, 2, 2, 3, 3], [0, 1, 0, 1, 0, 1, 0, 1], [2, 1, 0, 1, 0, 1, 0, 1]],\n",
              "           names=['first', 'second', 'tuplemadness'])"
            ]
          },
          "metadata": {
            "tags": []
          },
          "execution_count": 22
        }
      ]
    },
    {
      "cell_type": "code",
      "metadata": {
        "id": "JGJNSumBvwpr"
      },
      "source": [
        "df = pd.DataFrame(np.random.randn(8, 2), index=index, columns=['A', 'B'])"
      ],
      "execution_count": null,
      "outputs": []
    },
    {
      "cell_type": "code",
      "metadata": {
        "id": "W1sUqgHIvwpt"
      },
      "source": [
        "df2 = df[:4]"
      ],
      "execution_count": null,
      "outputs": []
    },
    {
      "cell_type": "code",
      "metadata": {
        "id": "JWHru_Csvwpv",
        "outputId": "8aaf3709-5e2b-42de-a6c9-3ac12916f346",
        "colab": {
          "base_uri": "https://localhost:8080/",
          "height": 202
        }
      },
      "source": [
        "df2"
      ],
      "execution_count": null,
      "outputs": [
        {
          "output_type": "execute_result",
          "data": {
            "text/html": [
              "<div>\n",
              "<style scoped>\n",
              "    .dataframe tbody tr th:only-of-type {\n",
              "        vertical-align: middle;\n",
              "    }\n",
              "\n",
              "    .dataframe tbody tr th {\n",
              "        vertical-align: top;\n",
              "    }\n",
              "\n",
              "    .dataframe thead th {\n",
              "        text-align: right;\n",
              "    }\n",
              "</style>\n",
              "<table border=\"1\" class=\"dataframe\">\n",
              "  <thead>\n",
              "    <tr style=\"text-align: right;\">\n",
              "      <th></th>\n",
              "      <th></th>\n",
              "      <th></th>\n",
              "      <th>A</th>\n",
              "      <th>B</th>\n",
              "    </tr>\n",
              "    <tr>\n",
              "      <th>first</th>\n",
              "      <th>second</th>\n",
              "      <th>tuplemadness</th>\n",
              "      <th></th>\n",
              "      <th></th>\n",
              "    </tr>\n",
              "  </thead>\n",
              "  <tbody>\n",
              "    <tr>\n",
              "      <th rowspan=\"2\" valign=\"top\">bar</th>\n",
              "      <th>one</th>\n",
              "      <th>yep</th>\n",
              "      <td>-0.632890</td>\n",
              "      <td>-0.554859</td>\n",
              "    </tr>\n",
              "    <tr>\n",
              "      <th>two</th>\n",
              "      <th>two</th>\n",
              "      <td>0.957019</td>\n",
              "      <td>-0.063519</td>\n",
              "    </tr>\n",
              "    <tr>\n",
              "      <th rowspan=\"2\" valign=\"top\">baz</th>\n",
              "      <th>one</th>\n",
              "      <th>one</th>\n",
              "      <td>-0.808889</td>\n",
              "      <td>0.141139</td>\n",
              "    </tr>\n",
              "    <tr>\n",
              "      <th>two</th>\n",
              "      <th>two</th>\n",
              "      <td>-0.021400</td>\n",
              "      <td>-0.566166</td>\n",
              "    </tr>\n",
              "  </tbody>\n",
              "</table>\n",
              "</div>"
            ],
            "text/plain": [
              "                                  A         B\n",
              "first second tuplemadness                    \n",
              "bar   one    yep          -0.632890 -0.554859\n",
              "      two    two           0.957019 -0.063519\n",
              "baz   one    one          -0.808889  0.141139\n",
              "      two    two          -0.021400 -0.566166"
            ]
          },
          "metadata": {
            "tags": []
          },
          "execution_count": 29
        }
      ]
    },
    {
      "cell_type": "markdown",
      "metadata": {
        "id": "9ITYusRKvwpx"
      },
      "source": [
        "The stack() method “compresses” a level in the DataFrame’s columns."
      ]
    },
    {
      "cell_type": "code",
      "metadata": {
        "id": "bCu2L3Bjvwpy",
        "outputId": "138075d9-8733-4b2a-f379-42df5522ae09",
        "colab": {
          "base_uri": "https://localhost:8080/",
          "height": 321
        }
      },
      "source": [
        "stacked = df2.stack()"
      ],
      "execution_count": null,
      "outputs": [
        {
          "output_type": "error",
          "ename": "ValueError",
          "evalue": "ignored",
          "traceback": [
            "\u001b[0;31m---------------------------------------------------------------------------\u001b[0m",
            "\u001b[0;31mValueError\u001b[0m                                Traceback (most recent call last)",
            "\u001b[0;32m<ipython-input-31-b2b34bef2cdf>\u001b[0m in \u001b[0;36m<module>\u001b[0;34m()\u001b[0m\n\u001b[0;32m----> 1\u001b[0;31m \u001b[0mstacked\u001b[0m \u001b[0;34m=\u001b[0m \u001b[0mdf2\u001b[0m\u001b[0;34m.\u001b[0m\u001b[0mstack\u001b[0m\u001b[0;34m(\u001b[0m\u001b[0mdf\u001b[0m\u001b[0;34m[\u001b[0m\u001b[0;34m\"A\"\u001b[0m\u001b[0;34m]\u001b[0m\u001b[0;34m)\u001b[0m\u001b[0;34m\u001b[0m\u001b[0;34m\u001b[0m\u001b[0m\n\u001b[0m",
            "\u001b[0;32m/usr/local/lib/python3.6/dist-packages/pandas/core/frame.py\u001b[0m in \u001b[0;36mstack\u001b[0;34m(self, level, dropna)\u001b[0m\n\u001b[1;32m   5927\u001b[0m             \u001b[0;32mreturn\u001b[0m \u001b[0mstack_multiple\u001b[0m\u001b[0;34m(\u001b[0m\u001b[0mself\u001b[0m\u001b[0;34m,\u001b[0m \u001b[0mlevel\u001b[0m\u001b[0;34m,\u001b[0m \u001b[0mdropna\u001b[0m\u001b[0;34m=\u001b[0m\u001b[0mdropna\u001b[0m\u001b[0;34m)\u001b[0m\u001b[0;34m\u001b[0m\u001b[0;34m\u001b[0m\u001b[0m\n\u001b[1;32m   5928\u001b[0m         \u001b[0;32melse\u001b[0m\u001b[0;34m:\u001b[0m\u001b[0;34m\u001b[0m\u001b[0;34m\u001b[0m\u001b[0m\n\u001b[0;32m-> 5929\u001b[0;31m             \u001b[0;32mreturn\u001b[0m \u001b[0mstack\u001b[0m\u001b[0;34m(\u001b[0m\u001b[0mself\u001b[0m\u001b[0;34m,\u001b[0m \u001b[0mlevel\u001b[0m\u001b[0;34m,\u001b[0m \u001b[0mdropna\u001b[0m\u001b[0;34m=\u001b[0m\u001b[0mdropna\u001b[0m\u001b[0;34m)\u001b[0m\u001b[0;34m\u001b[0m\u001b[0;34m\u001b[0m\u001b[0m\n\u001b[0m\u001b[1;32m   5930\u001b[0m \u001b[0;34m\u001b[0m\u001b[0m\n\u001b[1;32m   5931\u001b[0m     \u001b[0;32mdef\u001b[0m \u001b[0munstack\u001b[0m\u001b[0;34m(\u001b[0m\u001b[0mself\u001b[0m\u001b[0;34m,\u001b[0m \u001b[0mlevel\u001b[0m\u001b[0;34m=\u001b[0m\u001b[0;34m-\u001b[0m\u001b[0;36m1\u001b[0m\u001b[0;34m,\u001b[0m \u001b[0mfill_value\u001b[0m\u001b[0;34m=\u001b[0m\u001b[0;32mNone\u001b[0m\u001b[0;34m)\u001b[0m\u001b[0;34m:\u001b[0m\u001b[0;34m\u001b[0m\u001b[0;34m\u001b[0m\u001b[0m\n",
            "\u001b[0;32m/usr/local/lib/python3.6/dist-packages/pandas/core/reshape/reshape.py\u001b[0m in \u001b[0;36mstack\u001b[0;34m(frame, level, dropna)\u001b[0m\n\u001b[1;32m    477\u001b[0m \u001b[0;34m\u001b[0m\u001b[0m\n\u001b[1;32m    478\u001b[0m     \u001b[0;31m# Will also convert negative level numbers and check if out of bounds.\u001b[0m\u001b[0;34m\u001b[0m\u001b[0;34m\u001b[0m\u001b[0;34m\u001b[0m\u001b[0m\n\u001b[0;32m--> 479\u001b[0;31m     \u001b[0mlevel_num\u001b[0m \u001b[0;34m=\u001b[0m \u001b[0mframe\u001b[0m\u001b[0;34m.\u001b[0m\u001b[0mcolumns\u001b[0m\u001b[0;34m.\u001b[0m\u001b[0m_get_level_number\u001b[0m\u001b[0;34m(\u001b[0m\u001b[0mlevel\u001b[0m\u001b[0;34m)\u001b[0m\u001b[0;34m\u001b[0m\u001b[0;34m\u001b[0m\u001b[0m\n\u001b[0m\u001b[1;32m    480\u001b[0m \u001b[0;34m\u001b[0m\u001b[0m\n\u001b[1;32m    481\u001b[0m     \u001b[0;32mif\u001b[0m \u001b[0misinstance\u001b[0m\u001b[0;34m(\u001b[0m\u001b[0mframe\u001b[0m\u001b[0;34m.\u001b[0m\u001b[0mcolumns\u001b[0m\u001b[0;34m,\u001b[0m \u001b[0mMultiIndex\u001b[0m\u001b[0;34m)\u001b[0m\u001b[0;34m:\u001b[0m\u001b[0;34m\u001b[0m\u001b[0;34m\u001b[0m\u001b[0m\n",
            "\u001b[0;32m/usr/local/lib/python3.6/dist-packages/pandas/core/indexes/base.py\u001b[0m in \u001b[0;36m_get_level_number\u001b[0;34m(self, level)\u001b[0m\n\u001b[1;32m   1425\u001b[0m \u001b[0;34m\u001b[0m\u001b[0m\n\u001b[1;32m   1426\u001b[0m     \u001b[0;32mdef\u001b[0m \u001b[0m_get_level_number\u001b[0m\u001b[0;34m(\u001b[0m\u001b[0mself\u001b[0m\u001b[0;34m,\u001b[0m \u001b[0mlevel\u001b[0m\u001b[0;34m)\u001b[0m\u001b[0;34m:\u001b[0m\u001b[0;34m\u001b[0m\u001b[0;34m\u001b[0m\u001b[0m\n\u001b[0;32m-> 1427\u001b[0;31m         \u001b[0mself\u001b[0m\u001b[0;34m.\u001b[0m\u001b[0m_validate_index_level\u001b[0m\u001b[0;34m(\u001b[0m\u001b[0mlevel\u001b[0m\u001b[0;34m)\u001b[0m\u001b[0;34m\u001b[0m\u001b[0;34m\u001b[0m\u001b[0m\n\u001b[0m\u001b[1;32m   1428\u001b[0m         \u001b[0;32mreturn\u001b[0m \u001b[0;36m0\u001b[0m\u001b[0;34m\u001b[0m\u001b[0;34m\u001b[0m\u001b[0m\n\u001b[1;32m   1429\u001b[0m \u001b[0;34m\u001b[0m\u001b[0m\n",
            "\u001b[0;32m/usr/local/lib/python3.6/dist-packages/pandas/core/indexes/base.py\u001b[0m in \u001b[0;36m_validate_index_level\u001b[0;34m(self, level)\u001b[0m\n\u001b[1;32m   1420\u001b[0m                                  \u001b[0;34m\" Index has only 1 level, not %d\"\u001b[0m \u001b[0;34m%\u001b[0m\u001b[0;34m\u001b[0m\u001b[0;34m\u001b[0m\u001b[0m\n\u001b[1;32m   1421\u001b[0m                                  (level + 1))\n\u001b[0;32m-> 1422\u001b[0;31m         \u001b[0;32melif\u001b[0m \u001b[0mlevel\u001b[0m \u001b[0;34m!=\u001b[0m \u001b[0mself\u001b[0m\u001b[0;34m.\u001b[0m\u001b[0mname\u001b[0m\u001b[0;34m:\u001b[0m\u001b[0;34m\u001b[0m\u001b[0;34m\u001b[0m\u001b[0m\n\u001b[0m\u001b[1;32m   1423\u001b[0m             raise KeyError('Level %s must be same as name (%s)' %\n\u001b[1;32m   1424\u001b[0m                            (level, self.name))\n",
            "\u001b[0;32m/usr/local/lib/python3.6/dist-packages/pandas/core/generic.py\u001b[0m in \u001b[0;36m__nonzero__\u001b[0;34m(self)\u001b[0m\n\u001b[1;32m   1476\u001b[0m         raise ValueError(\"The truth value of a {0} is ambiguous. \"\n\u001b[1;32m   1477\u001b[0m                          \u001b[0;34m\"Use a.empty, a.bool(), a.item(), a.any() or a.all().\"\u001b[0m\u001b[0;34m\u001b[0m\u001b[0;34m\u001b[0m\u001b[0m\n\u001b[0;32m-> 1478\u001b[0;31m                          .format(self.__class__.__name__))\n\u001b[0m\u001b[1;32m   1479\u001b[0m \u001b[0;34m\u001b[0m\u001b[0m\n\u001b[1;32m   1480\u001b[0m     \u001b[0m__bool__\u001b[0m \u001b[0;34m=\u001b[0m \u001b[0m__nonzero__\u001b[0m\u001b[0;34m\u001b[0m\u001b[0;34m\u001b[0m\u001b[0m\n",
            "\u001b[0;31mValueError\u001b[0m: The truth value of a Series is ambiguous. Use a.empty, a.bool(), a.item(), a.any() or a.all()."
          ]
        }
      ]
    },
    {
      "cell_type": "code",
      "metadata": {
        "id": "j-wLwDUKvwpz",
        "outputId": "a560444d-e092-46b3-8f66-6ec0eb0e6a1f",
        "colab": {
          "base_uri": "https://localhost:8080/",
          "height": 199
        }
      },
      "source": [
        "stacked"
      ],
      "execution_count": null,
      "outputs": [
        {
          "output_type": "execute_result",
          "data": {
            "text/plain": [
              "first  second   \n",
              "bar    one     A   -0.510239\n",
              "               B   -0.059499\n",
              "       two     A   -0.022032\n",
              "               B    1.938892\n",
              "baz    one     A   -0.984517\n",
              "               B   -0.965026\n",
              "       two     A   -0.114024\n",
              "               B   -1.062437\n",
              "dtype: float64"
            ]
          },
          "metadata": {
            "tags": []
          },
          "execution_count": 124
        }
      ]
    },
    {
      "cell_type": "markdown",
      "metadata": {
        "id": "703XWtEIvwp0"
      },
      "source": [
        "With a “stacked” DataFrame or Series (having a MultiIndex as the index), the inverse operation of stack() is unstack(), which by default unstacks the **last level**:"
      ]
    },
    {
      "cell_type": "code",
      "metadata": {
        "id": "A3bmrmtCvwp0",
        "outputId": "18f3abb0-4c1a-4ab1-d1fd-de650a04ed65",
        "colab": {
          "base_uri": "https://localhost:8080/",
          "height": 198
        }
      },
      "source": [
        "stacked.unstack()"
      ],
      "execution_count": null,
      "outputs": [
        {
          "output_type": "execute_result",
          "data": {
            "text/html": [
              "<div>\n",
              "<style scoped>\n",
              "    .dataframe tbody tr th:only-of-type {\n",
              "        vertical-align: middle;\n",
              "    }\n",
              "\n",
              "    .dataframe tbody tr th {\n",
              "        vertical-align: top;\n",
              "    }\n",
              "\n",
              "    .dataframe thead th {\n",
              "        text-align: right;\n",
              "    }\n",
              "</style>\n",
              "<table border=\"1\" class=\"dataframe\">\n",
              "  <thead>\n",
              "    <tr style=\"text-align: right;\">\n",
              "      <th></th>\n",
              "      <th></th>\n",
              "      <th>A</th>\n",
              "      <th>B</th>\n",
              "    </tr>\n",
              "    <tr>\n",
              "      <th>first</th>\n",
              "      <th>second</th>\n",
              "      <th></th>\n",
              "      <th></th>\n",
              "    </tr>\n",
              "  </thead>\n",
              "  <tbody>\n",
              "    <tr>\n",
              "      <th rowspan=\"2\" valign=\"top\">bar</th>\n",
              "      <th>one</th>\n",
              "      <td>-0.510239</td>\n",
              "      <td>-0.059499</td>\n",
              "    </tr>\n",
              "    <tr>\n",
              "      <th>two</th>\n",
              "      <td>-0.022032</td>\n",
              "      <td>1.938892</td>\n",
              "    </tr>\n",
              "    <tr>\n",
              "      <th rowspan=\"2\" valign=\"top\">baz</th>\n",
              "      <th>one</th>\n",
              "      <td>-0.984517</td>\n",
              "      <td>-0.965026</td>\n",
              "    </tr>\n",
              "    <tr>\n",
              "      <th>two</th>\n",
              "      <td>-0.114024</td>\n",
              "      <td>-1.062437</td>\n",
              "    </tr>\n",
              "  </tbody>\n",
              "</table>\n",
              "</div>"
            ],
            "text/plain": [
              "                     A         B\n",
              "first second                    \n",
              "bar   one    -0.510239 -0.059499\n",
              "      two    -0.022032  1.938892\n",
              "baz   one    -0.984517 -0.965026\n",
              "      two    -0.114024 -1.062437"
            ]
          },
          "metadata": {
            "tags": []
          },
          "execution_count": 125
        }
      ]
    },
    {
      "cell_type": "code",
      "metadata": {
        "id": "LC72dRMdvwp2",
        "outputId": "4e146825-0218-4034-cf4c-328b24e49b70",
        "colab": {
          "base_uri": "https://localhost:8080/",
          "height": 198
        }
      },
      "source": [
        "stacked.unstack()"
      ],
      "execution_count": null,
      "outputs": [
        {
          "output_type": "execute_result",
          "data": {
            "text/html": [
              "<div>\n",
              "<style scoped>\n",
              "    .dataframe tbody tr th:only-of-type {\n",
              "        vertical-align: middle;\n",
              "    }\n",
              "\n",
              "    .dataframe tbody tr th {\n",
              "        vertical-align: top;\n",
              "    }\n",
              "\n",
              "    .dataframe thead th {\n",
              "        text-align: right;\n",
              "    }\n",
              "</style>\n",
              "<table border=\"1\" class=\"dataframe\">\n",
              "  <thead>\n",
              "    <tr style=\"text-align: right;\">\n",
              "      <th></th>\n",
              "      <th>second</th>\n",
              "      <th>one</th>\n",
              "      <th>two</th>\n",
              "    </tr>\n",
              "    <tr>\n",
              "      <th>first</th>\n",
              "      <th></th>\n",
              "      <th></th>\n",
              "      <th></th>\n",
              "    </tr>\n",
              "  </thead>\n",
              "  <tbody>\n",
              "    <tr>\n",
              "      <th rowspan=\"2\" valign=\"top\">bar</th>\n",
              "      <th>A</th>\n",
              "      <td>-0.510239</td>\n",
              "      <td>-0.022032</td>\n",
              "    </tr>\n",
              "    <tr>\n",
              "      <th>B</th>\n",
              "      <td>-0.059499</td>\n",
              "      <td>1.938892</td>\n",
              "    </tr>\n",
              "    <tr>\n",
              "      <th rowspan=\"2\" valign=\"top\">baz</th>\n",
              "      <th>A</th>\n",
              "      <td>-0.984517</td>\n",
              "      <td>-0.114024</td>\n",
              "    </tr>\n",
              "    <tr>\n",
              "      <th>B</th>\n",
              "      <td>-0.965026</td>\n",
              "      <td>-1.062437</td>\n",
              "    </tr>\n",
              "  </tbody>\n",
              "</table>\n",
              "</div>"
            ],
            "text/plain": [
              "second        one       two\n",
              "first                      \n",
              "bar   A -0.510239 -0.022032\n",
              "      B -0.059499  1.938892\n",
              "baz   A -0.984517 -0.114024\n",
              "      B -0.965026 -1.062437"
            ]
          },
          "metadata": {
            "tags": []
          },
          "execution_count": 126
        }
      ]
    },
    {
      "cell_type": "code",
      "metadata": {
        "id": "ElZf722hvwp4",
        "outputId": "0c415e37-4288-45f6-e624-7e5294133436",
        "colab": {
          "base_uri": "https://localhost:8080/",
          "height": 198
        }
      },
      "source": [
        "stacked.unstack()"
      ],
      "execution_count": null,
      "outputs": [
        {
          "output_type": "execute_result",
          "data": {
            "text/html": [
              "<div>\n",
              "<style scoped>\n",
              "    .dataframe tbody tr th:only-of-type {\n",
              "        vertical-align: middle;\n",
              "    }\n",
              "\n",
              "    .dataframe tbody tr th {\n",
              "        vertical-align: top;\n",
              "    }\n",
              "\n",
              "    .dataframe thead th {\n",
              "        text-align: right;\n",
              "    }\n",
              "</style>\n",
              "<table border=\"1\" class=\"dataframe\">\n",
              "  <thead>\n",
              "    <tr style=\"text-align: right;\">\n",
              "      <th></th>\n",
              "      <th>first</th>\n",
              "      <th>bar</th>\n",
              "      <th>baz</th>\n",
              "    </tr>\n",
              "    <tr>\n",
              "      <th>second</th>\n",
              "      <th></th>\n",
              "      <th></th>\n",
              "      <th></th>\n",
              "    </tr>\n",
              "  </thead>\n",
              "  <tbody>\n",
              "    <tr>\n",
              "      <th rowspan=\"2\" valign=\"top\">one</th>\n",
              "      <th>A</th>\n",
              "      <td>-0.510239</td>\n",
              "      <td>-0.984517</td>\n",
              "    </tr>\n",
              "    <tr>\n",
              "      <th>B</th>\n",
              "      <td>-0.059499</td>\n",
              "      <td>-0.965026</td>\n",
              "    </tr>\n",
              "    <tr>\n",
              "      <th rowspan=\"2\" valign=\"top\">two</th>\n",
              "      <th>A</th>\n",
              "      <td>-0.022032</td>\n",
              "      <td>-0.114024</td>\n",
              "    </tr>\n",
              "    <tr>\n",
              "      <th>B</th>\n",
              "      <td>1.938892</td>\n",
              "      <td>-1.062437</td>\n",
              "    </tr>\n",
              "  </tbody>\n",
              "</table>\n",
              "</div>"
            ],
            "text/plain": [
              "first          bar       baz\n",
              "second                      \n",
              "one    A -0.510239 -0.984517\n",
              "       B -0.059499 -0.965026\n",
              "two    A -0.022032 -0.114024\n",
              "       B  1.938892 -1.062437"
            ]
          },
          "metadata": {
            "tags": []
          },
          "execution_count": 127
        }
      ]
    },
    {
      "cell_type": "markdown",
      "metadata": {
        "id": "t-QueLJTvwp6"
      },
      "source": [
        "### Pivot Tables\n"
      ]
    },
    {
      "cell_type": "code",
      "metadata": {
        "id": "MlQJIZxRvwp6"
      },
      "source": [
        "df = pd.DataFrame({'A' : ['one', 'one', 'two', 'three'] * 3,\n",
        "                                    'B' : ['A', 'B', 'C'] * 4,\n",
        "                                    'C' : ['foo', 'foo', 'foo', 'bar', 'bar', 'bar'] * 2,\n",
        "                                    'D' : np.random.randn(12),\n",
        "                                    'E' : np.random.randn(12)})"
      ],
      "execution_count": null,
      "outputs": []
    },
    {
      "cell_type": "code",
      "metadata": {
        "id": "bl0K9Qx6vwp8",
        "outputId": "14c0fe88-cd28-40fb-d5c5-8a964f0a1823",
        "colab": {
          "base_uri": "https://localhost:8080/",
          "height": 408
        }
      },
      "source": [
        "df"
      ],
      "execution_count": null,
      "outputs": [
        {
          "output_type": "execute_result",
          "data": {
            "text/html": [
              "<div>\n",
              "<style scoped>\n",
              "    .dataframe tbody tr th:only-of-type {\n",
              "        vertical-align: middle;\n",
              "    }\n",
              "\n",
              "    .dataframe tbody tr th {\n",
              "        vertical-align: top;\n",
              "    }\n",
              "\n",
              "    .dataframe thead th {\n",
              "        text-align: right;\n",
              "    }\n",
              "</style>\n",
              "<table border=\"1\" class=\"dataframe\">\n",
              "  <thead>\n",
              "    <tr style=\"text-align: right;\">\n",
              "      <th></th>\n",
              "      <th>A</th>\n",
              "      <th>B</th>\n",
              "      <th>C</th>\n",
              "      <th>D</th>\n",
              "      <th>E</th>\n",
              "    </tr>\n",
              "  </thead>\n",
              "  <tbody>\n",
              "    <tr>\n",
              "      <th>0</th>\n",
              "      <td>one</td>\n",
              "      <td>A</td>\n",
              "      <td>foo</td>\n",
              "      <td>-0.191017</td>\n",
              "      <td>-0.531548</td>\n",
              "    </tr>\n",
              "    <tr>\n",
              "      <th>1</th>\n",
              "      <td>one</td>\n",
              "      <td>B</td>\n",
              "      <td>foo</td>\n",
              "      <td>0.745599</td>\n",
              "      <td>1.571892</td>\n",
              "    </tr>\n",
              "    <tr>\n",
              "      <th>2</th>\n",
              "      <td>two</td>\n",
              "      <td>C</td>\n",
              "      <td>foo</td>\n",
              "      <td>-0.344807</td>\n",
              "      <td>-0.249129</td>\n",
              "    </tr>\n",
              "    <tr>\n",
              "      <th>3</th>\n",
              "      <td>three</td>\n",
              "      <td>A</td>\n",
              "      <td>bar</td>\n",
              "      <td>1.103290</td>\n",
              "      <td>0.146434</td>\n",
              "    </tr>\n",
              "    <tr>\n",
              "      <th>4</th>\n",
              "      <td>one</td>\n",
              "      <td>B</td>\n",
              "      <td>bar</td>\n",
              "      <td>-0.532790</td>\n",
              "      <td>-0.448409</td>\n",
              "    </tr>\n",
              "    <tr>\n",
              "      <th>5</th>\n",
              "      <td>one</td>\n",
              "      <td>C</td>\n",
              "      <td>bar</td>\n",
              "      <td>0.502221</td>\n",
              "      <td>-0.365021</td>\n",
              "    </tr>\n",
              "    <tr>\n",
              "      <th>6</th>\n",
              "      <td>two</td>\n",
              "      <td>A</td>\n",
              "      <td>foo</td>\n",
              "      <td>-0.992112</td>\n",
              "      <td>0.017388</td>\n",
              "    </tr>\n",
              "    <tr>\n",
              "      <th>7</th>\n",
              "      <td>three</td>\n",
              "      <td>B</td>\n",
              "      <td>foo</td>\n",
              "      <td>-0.984232</td>\n",
              "      <td>0.216756</td>\n",
              "    </tr>\n",
              "    <tr>\n",
              "      <th>8</th>\n",
              "      <td>one</td>\n",
              "      <td>C</td>\n",
              "      <td>foo</td>\n",
              "      <td>0.421739</td>\n",
              "      <td>-0.952408</td>\n",
              "    </tr>\n",
              "    <tr>\n",
              "      <th>9</th>\n",
              "      <td>one</td>\n",
              "      <td>A</td>\n",
              "      <td>bar</td>\n",
              "      <td>-1.454132</td>\n",
              "      <td>-1.281955</td>\n",
              "    </tr>\n",
              "    <tr>\n",
              "      <th>10</th>\n",
              "      <td>two</td>\n",
              "      <td>B</td>\n",
              "      <td>bar</td>\n",
              "      <td>1.590361</td>\n",
              "      <td>0.322159</td>\n",
              "    </tr>\n",
              "    <tr>\n",
              "      <th>11</th>\n",
              "      <td>three</td>\n",
              "      <td>C</td>\n",
              "      <td>bar</td>\n",
              "      <td>0.788256</td>\n",
              "      <td>-0.617955</td>\n",
              "    </tr>\n",
              "  </tbody>\n",
              "</table>\n",
              "</div>"
            ],
            "text/plain": [
              "        A  B    C         D         E\n",
              "0     one  A  foo -0.191017 -0.531548\n",
              "1     one  B  foo  0.745599  1.571892\n",
              "2     two  C  foo -0.344807 -0.249129\n",
              "3   three  A  bar  1.103290  0.146434\n",
              "4     one  B  bar -0.532790 -0.448409\n",
              "5     one  C  bar  0.502221 -0.365021\n",
              "6     two  A  foo -0.992112  0.017388\n",
              "7   three  B  foo -0.984232  0.216756\n",
              "8     one  C  foo  0.421739 -0.952408\n",
              "9     one  A  bar -1.454132 -1.281955\n",
              "10    two  B  bar  1.590361  0.322159\n",
              "11  three  C  bar  0.788256 -0.617955"
            ]
          },
          "metadata": {
            "tags": []
          },
          "execution_count": 129
        }
      ]
    },
    {
      "cell_type": "markdown",
      "metadata": {
        "id": "LZNiEyRbvwp9"
      },
      "source": [
        "We can produce pivot tables from this data very easily:"
      ]
    },
    {
      "cell_type": "code",
      "metadata": {
        "id": "xKbtBWN2vwp9",
        "outputId": "598c86a5-d1e4-4ece-cb71-e919ae7b2d89",
        "colab": {
          "base_uri": "https://localhost:8080/",
          "height": 348
        }
      },
      "source": [
        "pd.pivot_table(df, values='D', index=['A', 'B'], columns=['C'])"
      ],
      "execution_count": null,
      "outputs": [
        {
          "output_type": "execute_result",
          "data": {
            "text/html": [
              "<div>\n",
              "<style scoped>\n",
              "    .dataframe tbody tr th:only-of-type {\n",
              "        vertical-align: middle;\n",
              "    }\n",
              "\n",
              "    .dataframe tbody tr th {\n",
              "        vertical-align: top;\n",
              "    }\n",
              "\n",
              "    .dataframe thead th {\n",
              "        text-align: right;\n",
              "    }\n",
              "</style>\n",
              "<table border=\"1\" class=\"dataframe\">\n",
              "  <thead>\n",
              "    <tr style=\"text-align: right;\">\n",
              "      <th></th>\n",
              "      <th>C</th>\n",
              "      <th>bar</th>\n",
              "      <th>foo</th>\n",
              "    </tr>\n",
              "    <tr>\n",
              "      <th>A</th>\n",
              "      <th>B</th>\n",
              "      <th></th>\n",
              "      <th></th>\n",
              "    </tr>\n",
              "  </thead>\n",
              "  <tbody>\n",
              "    <tr>\n",
              "      <th rowspan=\"3\" valign=\"top\">one</th>\n",
              "      <th>A</th>\n",
              "      <td>-1.454132</td>\n",
              "      <td>-0.191017</td>\n",
              "    </tr>\n",
              "    <tr>\n",
              "      <th>B</th>\n",
              "      <td>-0.532790</td>\n",
              "      <td>0.745599</td>\n",
              "    </tr>\n",
              "    <tr>\n",
              "      <th>C</th>\n",
              "      <td>0.502221</td>\n",
              "      <td>0.421739</td>\n",
              "    </tr>\n",
              "    <tr>\n",
              "      <th rowspan=\"3\" valign=\"top\">three</th>\n",
              "      <th>A</th>\n",
              "      <td>1.103290</td>\n",
              "      <td>NaN</td>\n",
              "    </tr>\n",
              "    <tr>\n",
              "      <th>B</th>\n",
              "      <td>NaN</td>\n",
              "      <td>-0.984232</td>\n",
              "    </tr>\n",
              "    <tr>\n",
              "      <th>C</th>\n",
              "      <td>0.788256</td>\n",
              "      <td>NaN</td>\n",
              "    </tr>\n",
              "    <tr>\n",
              "      <th rowspan=\"3\" valign=\"top\">two</th>\n",
              "      <th>A</th>\n",
              "      <td>NaN</td>\n",
              "      <td>-0.992112</td>\n",
              "    </tr>\n",
              "    <tr>\n",
              "      <th>B</th>\n",
              "      <td>1.590361</td>\n",
              "      <td>NaN</td>\n",
              "    </tr>\n",
              "    <tr>\n",
              "      <th>C</th>\n",
              "      <td>NaN</td>\n",
              "      <td>-0.344807</td>\n",
              "    </tr>\n",
              "  </tbody>\n",
              "</table>\n",
              "</div>"
            ],
            "text/plain": [
              "C             bar       foo\n",
              "A     B                    \n",
              "one   A -1.454132 -0.191017\n",
              "      B -0.532790  0.745599\n",
              "      C  0.502221  0.421739\n",
              "three A  1.103290       NaN\n",
              "      B       NaN -0.984232\n",
              "      C  0.788256       NaN\n",
              "two   A       NaN -0.992112\n",
              "      B  1.590361       NaN\n",
              "      C       NaN -0.344807"
            ]
          },
          "metadata": {
            "tags": []
          },
          "execution_count": 130
        }
      ]
    },
    {
      "cell_type": "markdown",
      "metadata": {
        "id": "9jzd6TnWJSPB"
      },
      "source": [
        "## Time Series"
      ]
    },
    {
      "cell_type": "markdown",
      "metadata": {
        "id": "nKpuAsMSJSPC"
      },
      "source": [
        "Based on Jake VanderPlas work\n",
        "\n",
        "Pandas was developed in the context of financial modeling, so as you might expect, it contains a fairly extensive set of tools for working with dates, times, and time-indexed data.\n",
        "Date and time data comes in a few flavors, which we will discuss here:\n",
        "\n",
        "- *Time stamps* reference particular moments in time (e.g., July 4th, 2015 at 7:00am).\n",
        "- *Time intervals* and *periods* reference a length of time between a particular beginning and end point; for example, the year 2015. Periods usually reference a special case of time intervals in which each interval is of uniform length and does not overlap (e.g., 24 hour-long periods comprising days).\n",
        "- *Time deltas* or *durations* reference an exact length of time (e.g., a duration of 22.56 seconds).\n",
        "\n",
        "In this section, we will introduce how to work with each of these types of date/time data in Pandas.\n",
        "This short section is by no means a complete guide to the time series tools available in Python or Pandas, but instead is intended as a broad overview of how you as a user should approach working with time series.\n",
        "We will start with a brief discussion of tools for dealing with dates and times in Python, before moving more specifically to a discussion of the tools provided by Pandas.\n",
        "After listing some resources that go into more depth, we will review some short examples of working with time series data in Pandas."
      ]
    },
    {
      "cell_type": "markdown",
      "metadata": {
        "id": "fAAGs9jzJSPD"
      },
      "source": [
        "### Dates and Times in Python\n",
        "\n",
        "The Python world has a number of available representations of dates, times, deltas, and timespans.\n",
        "While the time series tools provided by Pandas tend to be the most useful for data science applications, it is helpful to see their relationship to other packages used in Python."
      ]
    },
    {
      "cell_type": "markdown",
      "metadata": {
        "id": "4n1cn2tIJSPE"
      },
      "source": [
        "#### Native Python dates and times: ``datetime`` and ``dateutil``\n",
        "\n",
        "Python's basic objects for working with dates and times reside in the built-in ``datetime`` module.\n",
        "Along with the third-party ``dateutil`` module, you can use it to quickly perform a host of useful functionalities on dates and times.\n",
        "For example, you can manually build a date using the ``datetime`` type:"
      ]
    },
    {
      "cell_type": "code",
      "metadata": {
        "id": "LnRBsNHiJSPG",
        "outputId": "7dfad87d-d046-4f88-dbce-46b01d38862f",
        "colab": {
          "base_uri": "https://localhost:8080/",
          "height": 35
        }
      },
      "source": [
        "from datetime import datetime\n",
        "datetime(year=2015, month=7, day=4)"
      ],
      "execution_count": null,
      "outputs": [
        {
          "output_type": "execute_result",
          "data": {
            "text/plain": [
              "datetime.datetime(2015, 7, 4, 0, 0)"
            ]
          },
          "metadata": {
            "tags": []
          },
          "execution_count": 32
        }
      ]
    },
    {
      "cell_type": "markdown",
      "metadata": {
        "id": "azoRhVi4JSPL"
      },
      "source": [
        "Or, using the ``dateutil`` module, you can parse dates from a variety of string formats:"
      ]
    },
    {
      "cell_type": "code",
      "metadata": {
        "id": "olZ3z0b0JSPM",
        "outputId": "760da457-2cd5-4385-e6ee-6bd216c9870f",
        "colab": {
          "base_uri": "https://localhost:8080/",
          "height": 35
        }
      },
      "source": [
        "from dateutil import parser\n",
        "date = parser.parse(\"4th of July, 2015\")\n",
        "date"
      ],
      "execution_count": null,
      "outputs": [
        {
          "output_type": "execute_result",
          "data": {
            "text/plain": [
              "datetime.datetime(2015, 7, 4, 0, 0)"
            ]
          },
          "metadata": {
            "tags": []
          },
          "execution_count": 33
        }
      ]
    },
    {
      "cell_type": "markdown",
      "metadata": {
        "collapsed": false,
        "id": "2Fj4yaq9JSPP"
      },
      "source": [
        "Once you have a ``datetime`` object, you can do things like printing the day of the week:"
      ]
    },
    {
      "cell_type": "code",
      "metadata": {
        "id": "nFqWI3ZpJSPQ",
        "outputId": "476cbc55-0bc3-49da-ccea-8bbc8559143b",
        "colab": {
          "base_uri": "https://localhost:8080/",
          "height": 35
        }
      },
      "source": [
        "date.strftime('%A')"
      ],
      "execution_count": null,
      "outputs": [
        {
          "output_type": "execute_result",
          "data": {
            "text/plain": [
              "'Saturday'"
            ]
          },
          "metadata": {
            "tags": []
          },
          "execution_count": 36
        }
      ]
    },
    {
      "cell_type": "markdown",
      "metadata": {
        "id": "BFbhZlErJSPT"
      },
      "source": [
        "In the final line, we've used one of the standard string format codes for printing dates (``\"%A\"``), which you can read about in the [strftime section](https://docs.python.org/3/library/datetime.html#strftime-and-strptime-behavior) of Python's [datetime documentation](https://docs.python.org/3/library/datetime.html).\n",
        "Documentation of other useful date utilities can be found in [dateutil's online documentation](http://labix.org/python-dateutil).\n",
        "A related package to be aware of is [``pytz``](http://pytz.sourceforge.net/), which contains tools for working with the most migrane-inducing piece of time series data: time zones.\n",
        "\n",
        "The power of ``datetime`` and ``dateutil`` lie in their flexibility and easy syntax: you can use these objects and their built-in methods to easily perform nearly any operation you might be interested in.\n",
        "Where they break down is when you wish to work with large arrays of dates and times:\n",
        "just as lists of Python numerical variables are suboptimal compared to NumPy-style typed numerical arrays, lists of Python datetime objects are suboptimal compared to typed arrays of encoded dates."
      ]
    },
    {
      "cell_type": "markdown",
      "metadata": {
        "id": "Qi_9O1SzJSPU"
      },
      "source": [
        "#### Typed arrays of times: NumPy's ``datetime64``\n",
        "\n",
        "The weaknesses of Python's datetime format inspired the NumPy team to add a set of native time series data type to NumPy.\n",
        "The ``datetime64`` dtype encodes dates as 64-bit integers, and thus allows arrays of dates to be represented very compactly.\n",
        "The ``datetime64`` requires a very specific input format:"
      ]
    },
    {
      "cell_type": "code",
      "metadata": {
        "id": "4XiNJ5njJSPV",
        "outputId": "95968c1f-fe64-4f3c-808c-9eeaf3bb97dd",
        "colab": {
          "base_uri": "https://localhost:8080/",
          "height": 35
        }
      },
      "source": [
        "import numpy as np\n",
        "date = np.array('2015-07-04', dtype=np.datetime64)\n",
        "date"
      ],
      "execution_count": null,
      "outputs": [
        {
          "output_type": "execute_result",
          "data": {
            "text/plain": [
              "array('2015-07-04', dtype='datetime64[D]')"
            ]
          },
          "metadata": {
            "tags": []
          },
          "execution_count": 134
        }
      ]
    },
    {
      "cell_type": "markdown",
      "metadata": {
        "id": "ewBjLynJJSPZ"
      },
      "source": [
        "Once we have this date formatted, however, we can quickly do vectorized operations on it:"
      ]
    },
    {
      "cell_type": "code",
      "metadata": {
        "id": "mMZlr8DYJSPa",
        "outputId": "f501e7db-09c1-488d-9f60-0aa7386cd3d2",
        "colab": {
          "base_uri": "https://localhost:8080/",
          "height": 90
        }
      },
      "source": [
        "date + np.arange(12)"
      ],
      "execution_count": null,
      "outputs": [
        {
          "output_type": "execute_result",
          "data": {
            "text/plain": [
              "array(['2015-07-04', '2015-07-05', '2015-07-06', '2015-07-07',\n",
              "       '2015-07-08', '2015-07-09', '2015-07-10', '2015-07-11',\n",
              "       '2015-07-12', '2015-07-13', '2015-07-14', '2015-07-15'],\n",
              "      dtype='datetime64[D]')"
            ]
          },
          "metadata": {
            "tags": []
          },
          "execution_count": 135
        }
      ]
    },
    {
      "cell_type": "markdown",
      "metadata": {
        "id": "GzvsvElvJSPd"
      },
      "source": [
        "Because of the uniform type in NumPy ``datetime64`` arrays, this type of operation can be accomplished much more quickly than if we were working directly with Python's ``datetime`` objects, especially as arrays get large\n",
        "(we introduced this type of vectorization in [Computation on NumPy Arrays: Universal Functions](02.03-Computation-on-arrays-ufuncs.ipynb)).\n",
        "\n",
        "One detail of the ``datetime64`` and ``timedelta64`` objects is that they are built on a *fundamental time unit*.\n",
        "Because the ``datetime64`` object is limited to 64-bit precision, the range of encodable times is $2^{64}$ times this fundamental unit.\n",
        "In other words, ``datetime64`` imposes a trade-off between *time resolution* and *maximum time span*.\n",
        "\n",
        "For example, if you want a time resolution of one nanosecond, you only have enough information to encode a range of $2^{64}$ nanoseconds, or just under 600 years.\n",
        "NumPy will infer the desired unit from the input; for example, here is a day-based datetime:"
      ]
    },
    {
      "cell_type": "code",
      "metadata": {
        "id": "pbX4CjYKJSPd",
        "outputId": "02d1a6f3-a099-442d-9a27-423aa2187649",
        "colab": {
          "base_uri": "https://localhost:8080/",
          "height": 35
        }
      },
      "source": [
        "np.datetime64('2015-07-04')"
      ],
      "execution_count": null,
      "outputs": [
        {
          "output_type": "execute_result",
          "data": {
            "text/plain": [
              "numpy.datetime64('2015-07-04')"
            ]
          },
          "metadata": {
            "tags": []
          },
          "execution_count": 136
        }
      ]
    },
    {
      "cell_type": "markdown",
      "metadata": {
        "id": "zwqE0le_JSPg"
      },
      "source": [
        "Here is a minute-based datetime:"
      ]
    },
    {
      "cell_type": "code",
      "metadata": {
        "id": "tcMKp5JZJSPh",
        "outputId": "20b285c7-b7f5-4d7a-8a7a-389e21bba1cb",
        "colab": {
          "base_uri": "https://localhost:8080/",
          "height": 35
        }
      },
      "source": [
        "np.datetime64('2015-07-04 12:00')"
      ],
      "execution_count": null,
      "outputs": [
        {
          "output_type": "execute_result",
          "data": {
            "text/plain": [
              "numpy.datetime64('2015-07-04T12:00')"
            ]
          },
          "metadata": {
            "tags": []
          },
          "execution_count": 137
        }
      ]
    },
    {
      "cell_type": "markdown",
      "metadata": {
        "id": "RIddwSqjJSPk"
      },
      "source": [
        "Notice that the time zone is automatically set to the local time on the computer executing the code.\n",
        "You can force any desired fundamental unit using one of many format codes; for example, here we'll force a nanosecond-based time:"
      ]
    },
    {
      "cell_type": "code",
      "metadata": {
        "id": "H-eNfjDwJSPl",
        "outputId": "f957ee1a-a206-4de4-a15f-59ea60bfca51",
        "colab": {
          "base_uri": "https://localhost:8080/",
          "height": 35
        }
      },
      "source": [
        "np.datetime64('2015-07-04 12:59:59.50', 'ns')"
      ],
      "execution_count": null,
      "outputs": [
        {
          "output_type": "execute_result",
          "data": {
            "text/plain": [
              "numpy.datetime64('2015-07-04T12:59:59.500000000')"
            ]
          },
          "metadata": {
            "tags": []
          },
          "execution_count": 138
        }
      ]
    },
    {
      "cell_type": "markdown",
      "metadata": {
        "id": "qqQStqrPJSPo"
      },
      "source": [
        "The following table, drawn from the [NumPy datetime64 documentation](http://docs.scipy.org/doc/numpy/reference/arrays.datetime.html), lists the available format codes along with the relative and absolute timespans that they can encode:"
      ]
    },
    {
      "cell_type": "markdown",
      "metadata": {
        "id": "WEZZo4huJSPp"
      },
      "source": [
        "|Code    | Meaning     | Time span (relative) | Time span (absolute)   |\n",
        "|--------|-------------|----------------------|------------------------|\n",
        "| ``Y``  | Year\t       | ± 9.2e18 years       | [9.2e18 BC, 9.2e18 AD] |\n",
        "| ``M``  | Month       | ± 7.6e17 years       | [7.6e17 BC, 7.6e17 AD] |\n",
        "| ``W``  | Week\t       | ± 1.7e17 years       | [1.7e17 BC, 1.7e17 AD] |\n",
        "| ``D``  | Day         | ± 2.5e16 years       | [2.5e16 BC, 2.5e16 AD] |\n",
        "| ``h``  | Hour        | ± 1.0e15 years       | [1.0e15 BC, 1.0e15 AD] |\n",
        "| ``m``  | Minute      | ± 1.7e13 years       | [1.7e13 BC, 1.7e13 AD] |\n",
        "| ``s``  | Second      | ± 2.9e12 years       | [ 2.9e9 BC, 2.9e9 AD]  |\n",
        "| ``ms`` | Millisecond | ± 2.9e9 years        | [ 2.9e6 BC, 2.9e6 AD]  |\n",
        "| ``us`` | Microsecond | ± 2.9e6 years        | [290301 BC, 294241 AD] |\n",
        "| ``ns`` | Nanosecond  | ± 292 years          | [ 1678 AD, 2262 AD]    |\n",
        "| ``ps`` | Picosecond  | ± 106 days           | [ 1969 AD, 1970 AD]    |\n",
        "| ``fs`` | Femtosecond | ± 2.6 hours          | [ 1969 AD, 1970 AD]    |\n",
        "| ``as`` | Attosecond  | ± 9.2 seconds        | [ 1969 AD, 1970 AD]    |"
      ]
    },
    {
      "cell_type": "markdown",
      "metadata": {
        "id": "7KkFM1bZJSPq"
      },
      "source": [
        "For the types of data we see in the real world, a useful default is ``datetime64[ns]``, as it can encode a useful range of modern dates with a suitably fine precision.\n",
        "\n",
        "Finally, we will note that while the ``datetime64`` data type addresses some of the deficiencies of the built-in Python ``datetime`` type, it lacks many of the convenient methods and functions provided by ``datetime`` and especially ``dateutil``.\n",
        "More information can be found in [NumPy's datetime64 documentation](http://docs.scipy.org/doc/numpy/reference/arrays.datetime.html)."
      ]
    },
    {
      "cell_type": "markdown",
      "metadata": {
        "id": "IyX-TasSJSPr"
      },
      "source": [
        "#### Dates and times in pandas: best of both worlds\n",
        "\n",
        "Pandas builds upon all the tools just discussed to provide a ``Timestamp`` object, which combines the ease-of-use of ``datetime`` and ``dateutil`` with the efficient storage and vectorized interface of ``numpy.datetime64``.\n",
        "From a group of these ``Timestamp`` objects, Pandas can construct a ``DatetimeIndex`` that can be used to index data in a ``Series`` or ``DataFrame``; we'll see many examples of this below.\n",
        "\n",
        "For example, we can use Pandas tools to repeat the demonstration from above.\n",
        "We can parse a flexibly formatted string date, and use format codes to output the day of the week:"
      ]
    },
    {
      "cell_type": "code",
      "metadata": {
        "id": "A8kLCnu8JSPs",
        "outputId": "73acce1b-22b0-4686-dc63-399ae4b413cd",
        "colab": {
          "base_uri": "https://localhost:8080/",
          "height": 35
        }
      },
      "source": [
        "import pandas as pd\n",
        "date = pd.to_datetime(\"4th of July, 2015\")\n",
        "date"
      ],
      "execution_count": null,
      "outputs": [
        {
          "output_type": "execute_result",
          "data": {
            "text/plain": [
              "Timestamp('2015-07-04 00:00:00')"
            ]
          },
          "metadata": {
            "tags": []
          },
          "execution_count": 139
        }
      ]
    },
    {
      "cell_type": "code",
      "metadata": {
        "id": "WTgrKug8JSPw",
        "outputId": "451fe3b4-8412-45f3-f98f-24861e6b89d9",
        "colab": {
          "base_uri": "https://localhost:8080/",
          "height": 35
        }
      },
      "source": [
        "date.strftime('%A')"
      ],
      "execution_count": null,
      "outputs": [
        {
          "output_type": "execute_result",
          "data": {
            "text/plain": [
              "'Saturday'"
            ]
          },
          "metadata": {
            "tags": []
          },
          "execution_count": 140
        }
      ]
    },
    {
      "cell_type": "markdown",
      "metadata": {
        "id": "yzJpwrwvJSP0"
      },
      "source": [
        "Additionally, we can do NumPy-style vectorized operations directly on this same object:"
      ]
    },
    {
      "cell_type": "code",
      "metadata": {
        "id": "sXrIQBumJSP0",
        "outputId": "c2675266-e7ec-45e3-e9ee-58301441ed60",
        "colab": {
          "base_uri": "https://localhost:8080/",
          "height": 90
        }
      },
      "source": [
        "date + pd.to_timedelta(np.arange(12), 'D')"
      ],
      "execution_count": null,
      "outputs": [
        {
          "output_type": "execute_result",
          "data": {
            "text/plain": [
              "DatetimeIndex(['2015-07-04', '2015-07-05', '2015-07-06', '2015-07-07',\n",
              "               '2015-07-08', '2015-07-09', '2015-07-10', '2015-07-11',\n",
              "               '2015-07-12', '2015-07-13', '2015-07-14', '2015-07-15'],\n",
              "              dtype='datetime64[ns]', freq=None)"
            ]
          },
          "metadata": {
            "tags": []
          },
          "execution_count": 141
        }
      ]
    },
    {
      "cell_type": "markdown",
      "metadata": {
        "id": "eZlEJNLpJSP3"
      },
      "source": [
        "In the next section, we will take a closer look at manipulating time series data with the tools provided by Pandas."
      ]
    },
    {
      "cell_type": "markdown",
      "metadata": {
        "id": "LFFTNSXHJSP4"
      },
      "source": [
        "### Pandas Time Series: Indexing by Time\n",
        "\n",
        "Where the Pandas time series tools really become useful is when you begin to *index data by timestamps*.\n",
        "For example, we can construct a ``Series`` object that has time indexed data:"
      ]
    },
    {
      "cell_type": "code",
      "metadata": {
        "id": "2cY1ZW4jJSP5",
        "outputId": "8c55cebd-4fd4-48a9-8f96-cab9e04daa35",
        "colab": {
          "base_uri": "https://localhost:8080/",
          "height": 108
        }
      },
      "source": [
        "index = pd.DatetimeIndex(['2014-07-04', '2014-08-04',\n",
        "                          '2015-07-04', '2015-08-04'])\n",
        "data = pd.Series([0, 1, 2, 3], index=index)\n",
        "data"
      ],
      "execution_count": null,
      "outputs": [
        {
          "output_type": "execute_result",
          "data": {
            "text/plain": [
              "2014-07-04    0\n",
              "2014-08-04    1\n",
              "2015-07-04    2\n",
              "2015-08-04    3\n",
              "dtype: int64"
            ]
          },
          "metadata": {
            "tags": []
          },
          "execution_count": 142
        }
      ]
    },
    {
      "cell_type": "markdown",
      "metadata": {
        "id": "kUEpxDl9JSP-"
      },
      "source": [
        "Now that we have this data in a ``Series``, we can make use of any of the ``Series`` indexing patterns we discussed in previous sections, passing values that can be coerced into dates:"
      ]
    },
    {
      "cell_type": "code",
      "metadata": {
        "id": "qj0SyUheJSP_",
        "outputId": "1c33e632-ccdf-4b56-b386-c56b9dc3ff1e",
        "colab": {
          "base_uri": "https://localhost:8080/",
          "height": 90
        }
      },
      "source": [
        "data['2014-07-04':'2015-07-04']"
      ],
      "execution_count": null,
      "outputs": [
        {
          "output_type": "execute_result",
          "data": {
            "text/plain": [
              "2014-07-04    0\n",
              "2014-08-04    1\n",
              "2015-07-04    2\n",
              "dtype: int64"
            ]
          },
          "metadata": {
            "tags": []
          },
          "execution_count": 143
        }
      ]
    },
    {
      "cell_type": "markdown",
      "metadata": {
        "id": "WsaOGvYIJSQj"
      },
      "source": [
        "There are additional special date-only indexing operations, such as passing a year to obtain a slice of all data from that year:"
      ]
    },
    {
      "cell_type": "code",
      "metadata": {
        "id": "4bgTU6UeJSQl",
        "outputId": "8c2c20ca-2d58-4a76-e825-75f1119288ce",
        "colab": {
          "base_uri": "https://localhost:8080/",
          "height": 72
        }
      },
      "source": [
        "data['2015']"
      ],
      "execution_count": null,
      "outputs": [
        {
          "output_type": "execute_result",
          "data": {
            "text/plain": [
              "2015-07-04    2\n",
              "2015-08-04    3\n",
              "dtype: int64"
            ]
          },
          "metadata": {
            "tags": []
          },
          "execution_count": 144
        }
      ]
    },
    {
      "cell_type": "markdown",
      "metadata": {
        "id": "NnfluP7iJSQ0"
      },
      "source": [
        "Later, we will see additional examples of the convenience of dates-as-indices.\n",
        "But first, a closer look at the available time series data structures."
      ]
    },
    {
      "cell_type": "markdown",
      "metadata": {
        "id": "i18FvAUQJSQ2"
      },
      "source": [
        "### Pandas Time Series Data Structures\n",
        "\n",
        "This section will introduce the fundamental Pandas data structures for working with time series data:\n",
        "\n",
        "- For *time stamps*, Pandas provides the ``Timestamp`` type. As mentioned before, it is essentially a replacement for Python's native ``datetime``, but is based on the more efficient ``numpy.datetime64`` data type. The associated Index structure is ``DatetimeIndex``.\n",
        "- For *time Periods*, Pandas provides the ``Period`` type. This encodes a fixed-frequency interval based on ``numpy.datetime64``. The associated index structure is ``PeriodIndex``.\n",
        "- For *time deltas* or *durations*, Pandas provides the ``Timedelta`` type. ``Timedelta`` is a more efficient replacement for Python's native ``datetime.timedelta`` type, and is based on ``numpy.timedelta64``. The associated index structure is ``TimedeltaIndex``."
      ]
    },
    {
      "cell_type": "markdown",
      "metadata": {
        "id": "ECGc4qQ8JSQ3"
      },
      "source": [
        "The most fundamental of these date/time objects are the ``Timestamp`` and ``DatetimeIndex`` objects.\n",
        "While these class objects can be invoked directly, it is more common to use the ``pd.to_datetime()`` function, which can parse a wide variety of formats.\n",
        "Passing a single date to ``pd.to_datetime()`` yields a ``Timestamp``; passing a series of dates by default yields a ``DatetimeIndex``:"
      ]
    },
    {
      "cell_type": "code",
      "metadata": {
        "id": "GkdCqMOZJSQ4",
        "outputId": "3f96c489-714c-4050-e596-129b98b4b45b",
        "colab": {
          "base_uri": "https://localhost:8080/",
          "height": 72
        }
      },
      "source": [
        "dates = pd.to_datetime([datetime(2015, 7, 3), '4th of July, 2015',\n",
        "                       '2015-Jul-6', '07-07-2015', '20150708'])\n",
        "dates"
      ],
      "execution_count": null,
      "outputs": [
        {
          "output_type": "execute_result",
          "data": {
            "text/plain": [
              "DatetimeIndex(['2015-07-03', '2015-07-04', '2015-07-06', '2015-07-07',\n",
              "               '2015-07-08'],\n",
              "              dtype='datetime64[ns]', freq=None)"
            ]
          },
          "metadata": {
            "tags": []
          },
          "execution_count": 145
        }
      ]
    },
    {
      "cell_type": "markdown",
      "metadata": {
        "id": "-7balXewJSQ7"
      },
      "source": [
        "Any ``DatetimeIndex`` can be converted to a ``PeriodIndex`` with the ``to_period()`` function with the addition of a frequency code; here we'll use ``'D'`` to indicate daily frequency:"
      ]
    },
    {
      "cell_type": "code",
      "metadata": {
        "id": "gkNz-DG8JSQ8",
        "outputId": "2ae788a8-357a-46a4-9775-b394dd98a8ce",
        "colab": {
          "base_uri": "https://localhost:8080/",
          "height": 35
        }
      },
      "source": [
        "dates.to_period('M')"
      ],
      "execution_count": null,
      "outputs": [
        {
          "output_type": "execute_result",
          "data": {
            "text/plain": [
              "PeriodIndex(['2019-12', '2019-12', '2019-12', '2019-12', '2019-12', '2019-12'], dtype='period[M]', freq='M')"
            ]
          },
          "metadata": {
            "tags": []
          },
          "execution_count": 42
        }
      ]
    },
    {
      "cell_type": "markdown",
      "metadata": {
        "id": "EgRF8PmjJSQ_"
      },
      "source": [
        "A ``TimedeltaIndex`` is created, for example, when a date is subtracted from another:"
      ]
    },
    {
      "cell_type": "code",
      "metadata": {
        "id": "g6xB79q-JSRA",
        "outputId": "2f9cd342-c1ec-4f64-b039-421086544290",
        "colab": {
          "base_uri": "https://localhost:8080/",
          "height": 35
        }
      },
      "source": [
        "dates - dates[0]"
      ],
      "execution_count": null,
      "outputs": [
        {
          "output_type": "execute_result",
          "data": {
            "text/plain": [
              "TimedeltaIndex(['0 days', '1 days', '3 days', '4 days', '5 days'], dtype='timedelta64[ns]', freq=None)"
            ]
          },
          "metadata": {
            "tags": []
          },
          "execution_count": 147
        }
      ]
    },
    {
      "cell_type": "markdown",
      "metadata": {
        "id": "TPqqN7nAJSRD"
      },
      "source": [
        "#### Regular sequences: ``pd.date_range()``\n",
        "\n",
        "To make the creation of regular date sequences more convenient, Pandas offers a few functions for this purpose: ``pd.date_range()`` for timestamps, ``pd.period_range()`` for periods, and ``pd.timedelta_range()`` for time deltas.\n",
        "We've seen that Python's ``range()`` and NumPy's ``np.arange()`` turn a startpoint, endpoint, and optional stepsize into a sequence.\n",
        "Similarly, ``pd.date_range()`` accepts a start date, an end date, and an optional frequency code to create a regular sequence of dates.\n",
        "By default, the frequency is one day:"
      ]
    },
    {
      "cell_type": "code",
      "metadata": {
        "id": "6r84Jp2SJSRE",
        "outputId": "60c5373c-d9db-4344-e8b6-5e7049a22471",
        "colab": {
          "base_uri": "https://localhost:8080/",
          "height": 71
        }
      },
      "source": [
        "pd.date_range('2015-07-03', '2015-07-10')"
      ],
      "execution_count": null,
      "outputs": [
        {
          "output_type": "execute_result",
          "data": {
            "text/plain": [
              "DatetimeIndex(['2015-07-03', '2015-07-04', '2015-07-05', '2015-07-06',\n",
              "               '2015-07-07', '2015-07-08', '2015-07-09', '2015-07-10'],\n",
              "              dtype='datetime64[ns]', freq='D')"
            ]
          },
          "metadata": {
            "tags": []
          },
          "execution_count": 37
        }
      ]
    },
    {
      "cell_type": "markdown",
      "metadata": {
        "id": "XPMZoG5cJSRH"
      },
      "source": [
        "Alternatively, the date range can be specified not with a start and endpoint, but with a startpoint and a number of periods:"
      ]
    },
    {
      "cell_type": "code",
      "metadata": {
        "id": "MUjXC6URJSRI",
        "outputId": "ff52c944-2265-4182-e4cf-ed2b3181d472",
        "colab": {
          "base_uri": "https://localhost:8080/",
          "height": 89
        }
      },
      "source": [
        "pd.date_range('2015-07-03', periods=10)"
      ],
      "execution_count": null,
      "outputs": [
        {
          "output_type": "execute_result",
          "data": {
            "text/plain": [
              "DatetimeIndex(['2015-07-03', '2015-07-04', '2015-07-05', '2015-07-06',\n",
              "               '2015-07-07', '2015-07-08', '2015-07-09', '2015-07-10',\n",
              "               '2015-07-11', '2015-07-12'],\n",
              "              dtype='datetime64[ns]', freq='D')"
            ]
          },
          "metadata": {
            "tags": []
          },
          "execution_count": 39
        }
      ]
    },
    {
      "cell_type": "markdown",
      "metadata": {
        "id": "3-pGQ62MJSRL"
      },
      "source": [
        "The spacing can be modified by altering the ``freq`` argument, which defaults to ``D``.\n",
        "For example, here we will construct a range of hourly timestamps:"
      ]
    },
    {
      "cell_type": "code",
      "metadata": {
        "id": "h-0cA9iyJSRM",
        "outputId": "f43a680e-df01-4673-9824-ce00740a7670",
        "colab": {
          "base_uri": "https://localhost:8080/",
          "height": 107
        }
      },
      "source": [
        "pd.date_range('2015-07-03', periods=8, freq='H')"
      ],
      "execution_count": null,
      "outputs": [
        {
          "output_type": "execute_result",
          "data": {
            "text/plain": [
              "DatetimeIndex(['2015-07-03 00:00:00', '2015-07-03 01:00:00',\n",
              "               '2015-07-03 02:00:00', '2015-07-03 03:00:00',\n",
              "               '2015-07-03 04:00:00', '2015-07-03 05:00:00',\n",
              "               '2015-07-03 06:00:00', '2015-07-03 07:00:00'],\n",
              "              dtype='datetime64[ns]', freq='H')"
            ]
          },
          "metadata": {
            "tags": []
          },
          "execution_count": 41
        }
      ]
    },
    {
      "cell_type": "markdown",
      "metadata": {
        "id": "KRRdhKEBJSRP"
      },
      "source": [
        "To create regular sequences of ``Period`` or ``Timedelta`` values, the very similar ``pd.period_range()`` and ``pd.timedelta_range()`` functions are useful.\n",
        "Here are some monthly periods:"
      ]
    },
    {
      "cell_type": "code",
      "metadata": {
        "id": "lypVid0LJSRQ",
        "outputId": "1f0fd5e1-c2d9-482b-b3a3-82a54dbc5137",
        "colab": {
          "base_uri": "https://localhost:8080/",
          "height": 72
        }
      },
      "source": [
        "pd.period_range('2015-07', periods=8, freq='M')"
      ],
      "execution_count": null,
      "outputs": [
        {
          "output_type": "execute_result",
          "data": {
            "text/plain": [
              "PeriodIndex(['2015-07', '2015-08', '2015-09', '2015-10', '2015-11', '2015-12',\n",
              "             '2016-01', '2016-02'],\n",
              "            dtype='period[M]', freq='M')"
            ]
          },
          "metadata": {
            "tags": []
          },
          "execution_count": 151
        }
      ]
    },
    {
      "cell_type": "markdown",
      "metadata": {
        "id": "6Dh4BPe7JSRZ"
      },
      "source": [
        "And a sequence of durations increasing by an hour:"
      ]
    },
    {
      "cell_type": "code",
      "metadata": {
        "id": "VXg1GiKvJSRa",
        "outputId": "174accc0-009d-4603-fd07-907e0574d63b",
        "colab": {
          "base_uri": "https://localhost:8080/",
          "height": 72
        }
      },
      "source": [
        "pd.timedelta_range(0, periods=10, freq='H')"
      ],
      "execution_count": null,
      "outputs": [
        {
          "output_type": "execute_result",
          "data": {
            "text/plain": [
              "TimedeltaIndex(['00:00:00', '01:00:00', '02:00:00', '03:00:00', '04:00:00',\n",
              "                '05:00:00', '06:00:00', '07:00:00', '08:00:00', '09:00:00'],\n",
              "               dtype='timedelta64[ns]', freq='H')"
            ]
          },
          "metadata": {
            "tags": []
          },
          "execution_count": 152
        }
      ]
    },
    {
      "cell_type": "markdown",
      "metadata": {
        "id": "zMotAVQuJSRd"
      },
      "source": [
        "All of these require an understanding of Pandas frequency codes, which we'll summarize in the next section."
      ]
    },
    {
      "cell_type": "markdown",
      "metadata": {
        "id": "Qqrbnxa7JSRe"
      },
      "source": [
        "### Frequencies and Offsets\n",
        "\n",
        "Fundamental to these Pandas time series tools is the concept of a frequency or date offset.\n",
        "Just as we saw the ``D`` (day) and ``H`` (hour) codes above, we can use such codes to specify any desired frequency spacing.\n",
        "The following table summarizes the main codes available:"
      ]
    },
    {
      "cell_type": "markdown",
      "metadata": {
        "id": "URqgwF8eJSRf"
      },
      "source": [
        "| Code   | Description         | Code   | Description          |\n",
        "|--------|---------------------|--------|----------------------|\n",
        "| ``D``  | Calendar day        | ``B``  | Business day         |\n",
        "| ``W``  | Weekly              |        |                      |\n",
        "| ``M``  | Month end           | ``BM`` | Business month end   |\n",
        "| ``Q``  | Quarter end         | ``BQ`` | Business quarter end |\n",
        "| ``A``  | Year end            | ``BA`` | Business year end    |\n",
        "| ``H``  | Hours               | ``BH`` | Business hours       |\n",
        "| ``T``  | Minutes             |        |                      |\n",
        "| ``S``  | Seconds             |        |                      |\n",
        "| ``L``  | Milliseonds         |        |                      |\n",
        "| ``U``  | Microseconds        |        |                      |\n",
        "| ``N``  | nanoseconds         |        |                      |"
      ]
    },
    {
      "cell_type": "markdown",
      "metadata": {
        "id": "Wgr7AczaJSRg"
      },
      "source": [
        "The monthly, quarterly, and annual frequencies are all marked at the end of the specified period.\n",
        "By adding an ``S`` suffix to any of these, they instead will be marked at the beginning:"
      ]
    },
    {
      "cell_type": "markdown",
      "metadata": {
        "id": "ilEuiOr8JSRg"
      },
      "source": [
        "| Code    | Description            || Code    | Description            |\n",
        "|---------|------------------------||---------|------------------------|\n",
        "| ``MS``  | Month start            ||``BMS``  | Business month start   |\n",
        "| ``QS``  | Quarter start          ||``BQS``  | Business quarter start |\n",
        "| ``AS``  | Year start             ||``BAS``  | Business year start    |"
      ]
    },
    {
      "cell_type": "markdown",
      "metadata": {
        "id": "_KSn6sSOJSRh"
      },
      "source": [
        "Additionally, you can change the month used to mark any quarterly or annual code by adding a three-letter month code as a suffix:\n",
        "\n",
        "- ``Q-JAN``, ``BQ-FEB``, ``QS-MAR``, ``BQS-APR``, etc.\n",
        "- ``A-JAN``, ``BA-FEB``, ``AS-MAR``, ``BAS-APR``, etc.\n",
        "\n",
        "In the same way, the split-point of the weekly frequency can be modified by adding a three-letter weekday code:\n",
        "\n",
        "- ``W-SUN``, ``W-MON``, ``W-TUE``, ``W-WED``, etc.\n",
        "\n",
        "On top of this, codes can be combined with numbers to specify other frequencies.\n",
        "For example, for a frequency of 2 hours 30 minutes, we can combine the hour (``H``) and minute (``T``) codes as follows:"
      ]
    },
    {
      "cell_type": "code",
      "metadata": {
        "id": "qvvPjR-7JSRj",
        "outputId": "311ef904-a406-4978-998d-75862eb0d3b2",
        "colab": {
          "base_uri": "https://localhost:8080/",
          "height": 89
        }
      },
      "source": [
        "pd.timedelta_range('00', periods=9, freq=\"1H30T\")"
      ],
      "execution_count": null,
      "outputs": [
        {
          "output_type": "execute_result",
          "data": {
            "text/plain": [
              "TimedeltaIndex(['00:00:00.000000', '01:30:00.000000', '03:00:00.000000',\n",
              "                '04:30:00.000000', '06:00:00.000000', '07:30:00.000000',\n",
              "                '09:00:00.000000', '10:30:00.000000', '12:00:00.000000'],\n",
              "               dtype='timedelta64[ns]', freq='90T')"
            ]
          },
          "metadata": {
            "tags": []
          },
          "execution_count": 47
        }
      ]
    },
    {
      "cell_type": "markdown",
      "metadata": {
        "id": "XAaR42f5JSRm"
      },
      "source": [
        "All of these short codes refer to specific instances of Pandas time series offsets, which can be found in the ``pd.tseries.offsets`` module.\n",
        "For example, we can create a business day offset directly as follows:"
      ]
    },
    {
      "cell_type": "code",
      "metadata": {
        "id": "5G9eg8tIJSRn",
        "outputId": "fb4d03df-2d84-4a82-ed4d-968716483d4c",
        "colab": {
          "base_uri": "https://localhost:8080/",
          "height": 72
        }
      },
      "source": [
        "from pandas.tseries.offsets import BDay\n",
        "pd.date_range('2015-07-01', periods=5, freq=BDay())"
      ],
      "execution_count": null,
      "outputs": [
        {
          "output_type": "execute_result",
          "data": {
            "text/plain": [
              "DatetimeIndex(['2015-07-01', '2015-07-02', '2015-07-03', '2015-07-06',\n",
              "               '2015-07-07'],\n",
              "              dtype='datetime64[ns]', freq='B')"
            ]
          },
          "metadata": {
            "tags": []
          },
          "execution_count": 154
        }
      ]
    },
    {
      "cell_type": "markdown",
      "metadata": {
        "id": "-OF3R3uDJSRq"
      },
      "source": [
        "For more discussion of the use of frequencies and offsets, see the [\"DateOffset\" section](http://pandas.pydata.org/pandas-docs/stable/timeseries.html#dateoffset-objects) of the Pandas documentation."
      ]
    },
    {
      "cell_type": "markdown",
      "metadata": {
        "id": "a9kUKRofJSSU"
      },
      "source": [
        "### Example: Visualizing Seattle Bicycle Counts\n",
        "\n",
        "As a more involved example of working with some time series data, let's take a look at bicycle counts on Seattle's [Fremont Bridge](http://www.openstreetmap.org/#map=17/47.64813/-122.34965).\n",
        "This data comes from an automated bicycle counter, installed in late 2012, which has inductive sensors on the east and west sidewalks of the bridge.\n",
        "The hourly bicycle counts can be downloaded from http://data.seattle.gov/; here is the [direct link to the dataset](https://data.seattle.gov/Transportation/Fremont-Bridge-Hourly-Bicycle-Counts-by-Month-Octo/65db-xm6k).\n",
        "\n",
        "As 3/10/2019, the CSV can be downloaded as follows:"
      ]
    },
    {
      "cell_type": "code",
      "metadata": {
        "id": "L4nXrGoqJSSV",
        "outputId": "b6f2f1c2-64ad-4199-88e6-0fc07f247529",
        "colab": {
          "base_uri": "https://localhost:8080/",
          "height": 71
        }
      },
      "source": [
        "!curl -o FremontBridge.csv https://data.seattle.gov/api/views/65db-xm6k/rows.csv?accessType=DOWNLOAD"
      ],
      "execution_count": null,
      "outputs": [
        {
          "output_type": "stream",
          "text": [
            "  % Total    % Received % Xferd  Average Speed   Time    Time     Time  Current\n",
            "                                 Dload  Upload   Total   Spent    Left  Speed\n",
            "100 1721k    0 1721k    0     0  1239k      0 --:--:--  0:00:01 --:--:-- 1239k\n"
          ],
          "name": "stdout"
        }
      ]
    },
    {
      "cell_type": "markdown",
      "metadata": {
        "id": "7TEfwoQjJSSX"
      },
      "source": [
        "Once this dataset is downloaded, we can use Pandas to read the CSV output into a ``DataFrame``.\n",
        "We will specify that we want the Date as an index, and we want these dates to be automatically parsed:"
      ]
    },
    {
      "cell_type": "code",
      "metadata": {
        "id": "J0JC1PGYJSSY",
        "outputId": "bb43b456-9a7a-4227-b6c6-8662323112e5",
        "colab": {
          "base_uri": "https://localhost:8080/",
          "height": 233
        }
      },
      "source": [
        "data = pd.read_csv('FremontBridge.csv', index_col='Date', parse_dates=True)\n",
        "data.head()"
      ],
      "execution_count": null,
      "outputs": [
        {
          "output_type": "execute_result",
          "data": {
            "text/html": [
              "<div>\n",
              "<style scoped>\n",
              "    .dataframe tbody tr th:only-of-type {\n",
              "        vertical-align: middle;\n",
              "    }\n",
              "\n",
              "    .dataframe tbody tr th {\n",
              "        vertical-align: top;\n",
              "    }\n",
              "\n",
              "    .dataframe thead th {\n",
              "        text-align: right;\n",
              "    }\n",
              "</style>\n",
              "<table border=\"1\" class=\"dataframe\">\n",
              "  <thead>\n",
              "    <tr style=\"text-align: right;\">\n",
              "      <th></th>\n",
              "      <th>Fremont Bridge East Sidewalk</th>\n",
              "      <th>Fremont Bridge West Sidewalk</th>\n",
              "    </tr>\n",
              "    <tr>\n",
              "      <th>Date</th>\n",
              "      <th></th>\n",
              "      <th></th>\n",
              "    </tr>\n",
              "  </thead>\n",
              "  <tbody>\n",
              "    <tr>\n",
              "      <th>2015-02-24 02:00:00</th>\n",
              "      <td>3.0</td>\n",
              "      <td>3.0</td>\n",
              "    </tr>\n",
              "    <tr>\n",
              "      <th>2019-01-01 00:00:00</th>\n",
              "      <td>0.0</td>\n",
              "      <td>9.0</td>\n",
              "    </tr>\n",
              "    <tr>\n",
              "      <th>2019-01-01 01:00:00</th>\n",
              "      <td>2.0</td>\n",
              "      <td>22.0</td>\n",
              "    </tr>\n",
              "    <tr>\n",
              "      <th>2016-02-15 00:00:00</th>\n",
              "      <td>3.0</td>\n",
              "      <td>3.0</td>\n",
              "    </tr>\n",
              "    <tr>\n",
              "      <th>2019-01-01 02:00:00</th>\n",
              "      <td>1.0</td>\n",
              "      <td>11.0</td>\n",
              "    </tr>\n",
              "  </tbody>\n",
              "</table>\n",
              "</div>"
            ],
            "text/plain": [
              "                     Fremont Bridge East Sidewalk  Fremont Bridge West Sidewalk\n",
              "Date                                                                           \n",
              "2015-02-24 02:00:00                           3.0                           3.0\n",
              "2019-01-01 00:00:00                           0.0                           9.0\n",
              "2019-01-01 01:00:00                           2.0                          22.0\n",
              "2016-02-15 00:00:00                           3.0                           3.0\n",
              "2019-01-01 02:00:00                           1.0                          11.0"
            ]
          },
          "metadata": {
            "tags": []
          },
          "execution_count": 75
        }
      ]
    },
    {
      "cell_type": "markdown",
      "metadata": {
        "id": "EAo7hHI6JSSa"
      },
      "source": [
        "For convenience, we'll further process this dataset by shortening the column names and adding a \"Total\" column:"
      ]
    },
    {
      "cell_type": "code",
      "metadata": {
        "id": "sHP0e7u2JSSa"
      },
      "source": [
        "data.columns = ['West', 'East']"
      ],
      "execution_count": null,
      "outputs": []
    },
    {
      "cell_type": "code",
      "metadata": {
        "id": "2PzEgPAK3tkd"
      },
      "source": [
        "data['Total'] = data.eval('West + East')"
      ],
      "execution_count": null,
      "outputs": []
    },
    {
      "cell_type": "markdown",
      "metadata": {
        "id": "m152kLt-JSSd"
      },
      "source": [
        "Now let's take a look at the summary statistics for this data:"
      ]
    },
    {
      "cell_type": "code",
      "metadata": {
        "id": "YsZ7WaxVJSSe",
        "outputId": "65d308d9-9d9b-425d-fb38-4160b358a1b7",
        "colab": {
          "base_uri": "https://localhost:8080/",
          "height": 288
        }
      },
      "source": [
        "data.dropna().describe()"
      ],
      "execution_count": null,
      "outputs": [
        {
          "output_type": "execute_result",
          "data": {
            "text/html": [
              "<div>\n",
              "<style scoped>\n",
              "    .dataframe tbody tr th:only-of-type {\n",
              "        vertical-align: middle;\n",
              "    }\n",
              "\n",
              "    .dataframe tbody tr th {\n",
              "        vertical-align: top;\n",
              "    }\n",
              "\n",
              "    .dataframe thead th {\n",
              "        text-align: right;\n",
              "    }\n",
              "</style>\n",
              "<table border=\"1\" class=\"dataframe\">\n",
              "  <thead>\n",
              "    <tr style=\"text-align: right;\">\n",
              "      <th></th>\n",
              "      <th>West</th>\n",
              "      <th>East</th>\n",
              "      <th>Total</th>\n",
              "    </tr>\n",
              "  </thead>\n",
              "  <tbody>\n",
              "    <tr>\n",
              "      <th>count</th>\n",
              "      <td>61287.000000</td>\n",
              "      <td>61287.000000</td>\n",
              "      <td>61287.000000</td>\n",
              "    </tr>\n",
              "    <tr>\n",
              "      <th>mean</th>\n",
              "      <td>52.894790</td>\n",
              "      <td>61.444874</td>\n",
              "      <td>114.339664</td>\n",
              "    </tr>\n",
              "    <tr>\n",
              "      <th>std</th>\n",
              "      <td>67.815951</td>\n",
              "      <td>89.875981</td>\n",
              "      <td>145.211368</td>\n",
              "    </tr>\n",
              "    <tr>\n",
              "      <th>min</th>\n",
              "      <td>0.000000</td>\n",
              "      <td>0.000000</td>\n",
              "      <td>0.000000</td>\n",
              "    </tr>\n",
              "    <tr>\n",
              "      <th>25%</th>\n",
              "      <td>7.000000</td>\n",
              "      <td>7.000000</td>\n",
              "      <td>15.000000</td>\n",
              "    </tr>\n",
              "    <tr>\n",
              "      <th>50%</th>\n",
              "      <td>29.000000</td>\n",
              "      <td>30.000000</td>\n",
              "      <td>62.000000</td>\n",
              "    </tr>\n",
              "    <tr>\n",
              "      <th>75%</th>\n",
              "      <td>71.000000</td>\n",
              "      <td>74.000000</td>\n",
              "      <td>150.000000</td>\n",
              "    </tr>\n",
              "    <tr>\n",
              "      <th>max</th>\n",
              "      <td>698.000000</td>\n",
              "      <td>850.000000</td>\n",
              "      <td>1097.000000</td>\n",
              "    </tr>\n",
              "  </tbody>\n",
              "</table>\n",
              "</div>"
            ],
            "text/plain": [
              "               West          East         Total\n",
              "count  61287.000000  61287.000000  61287.000000\n",
              "mean      52.894790     61.444874    114.339664\n",
              "std       67.815951     89.875981    145.211368\n",
              "min        0.000000      0.000000      0.000000\n",
              "25%        7.000000      7.000000     15.000000\n",
              "50%       29.000000     30.000000     62.000000\n",
              "75%       71.000000     74.000000    150.000000\n",
              "max      698.000000    850.000000   1097.000000"
            ]
          },
          "metadata": {
            "tags": []
          },
          "execution_count": 158
        }
      ]
    },
    {
      "cell_type": "markdown",
      "metadata": {
        "id": "YPp0D4dpJSSh"
      },
      "source": [
        "#### Visualizing the data\n",
        "\n",
        "We can gain some insight into the dataset by visualizing it.\n",
        "Let's start by plotting the raw data:"
      ]
    },
    {
      "cell_type": "code",
      "metadata": {
        "id": "mZkAvtUCJSSi"
      },
      "source": [
        "%matplotlib inline\n",
        "import seaborn; seaborn.set()"
      ],
      "execution_count": null,
      "outputs": []
    },
    {
      "cell_type": "code",
      "metadata": {
        "id": "oNSagYB8JSSl",
        "outputId": "acb96b3d-0b07-4596-863f-5bc2164c7afa",
        "colab": {
          "base_uri": "https://localhost:8080/",
          "height": 282
        }
      },
      "source": [
        "data.plot()\n",
        "plt.ylabel('Hourly Bicycle Count');"
      ],
      "execution_count": null,
      "outputs": [
        {
          "output_type": "display_data",
          "data": {
            "image/png": "[encoded data removed]",
            "text/plain": [
              "<Figure size 432x288 with 1 Axes>"
            ]
          },
          "metadata": {
            "tags": []
          }
        }
      ]
    },
    {
      "cell_type": "markdown",
      "metadata": {
        "id": "aEoMawZ3JSSp"
      },
      "source": [
        "The ~25,000 hourly samples are far too dense for us to make much sense of.\n",
        "We can gain more insight by resampling the data to a coarser grid.\n",
        "Let's resample by week:"
      ]
    },
    {
      "cell_type": "code",
      "metadata": {
        "id": "RALjP4YtJSSp",
        "outputId": "fefe7c01-e1fb-4f46-dcfb-1b7b5d9bc8e5",
        "colab": {
          "base_uri": "https://localhost:8080/",
          "height": 291
        }
      },
      "source": [
        "weekly = data.resample('W').sum()\n",
        "weekly.plot(style=[':', '--', '-'])\n",
        "plt.ylabel('Weekly bicycle count');"
      ],
      "execution_count": null,
      "outputs": [
        {
          "output_type": "display_data",
          "data": {
            "image/png": "[encoded data removed]",
            "text/plain": [
              "<Figure size 432x288 with 1 Axes>"
            ]
          },
          "metadata": {
            "tags": []
          }
        }
      ]
    },
    {
      "cell_type": "markdown",
      "metadata": {
        "id": "Wz5y-n3HJSSr"
      },
      "source": [
        "This shows us some interesting seasonal trends: as you might expect, people bicycle more in the summer than in the winter, and even within a particular season the bicycle use varies from week to week (likely dependent on weather; see [In Depth: Linear Regression](05.06-Linear-Regression.ipynb) where we explore this further).\n",
        "\n",
        "Another way that comes in handy for aggregating the data is to use a rolling mean, utilizing the ``pd.rolling_mean()`` function.\n",
        "Here we'll do a 30 day rolling mean of our data, making sure to center the window:"
      ]
    },
    {
      "cell_type": "code",
      "metadata": {
        "id": "JLWNtLPCJSSs",
        "outputId": "38948656-242a-4c92-87d8-ca3489adcb43",
        "colab": {
          "base_uri": "https://localhost:8080/",
          "height": 291
        }
      },
      "source": [
        "daily = data.resample('D').sum()\n",
        "daily.rolling(30, center=True).sum().plot(style=[':', '--', '-'])\n",
        "plt.ylabel('mean hourly count');"
      ],
      "execution_count": null,
      "outputs": [
        {
          "output_type": "display_data",
          "data": {
            "image/png": "[encoded data removed]",
            "text/plain": [
              "<Figure size 432x288 with 1 Axes>"
            ]
          },
          "metadata": {
            "tags": []
          }
        }
      ]
    },
    {
      "cell_type": "markdown",
      "metadata": {
        "id": "s20gLua5JSSu"
      },
      "source": [
        "The jaggedness of the result is due to the hard cutoff of the window.\n",
        "We can get a smoother version of a rolling mean using a window function–for example, a Gaussian window.\n",
        "The following code specifies both the width of the window (we chose 50 days) and the width of the Gaussian within the window (we chose 10 days):"
      ]
    },
    {
      "cell_type": "code",
      "metadata": {
        "id": "Gsb9mS2MJSSu",
        "outputId": "e1a1c470-b371-4715-ab5d-5bbb96566adc",
        "colab": {
          "base_uri": "https://localhost:8080/",
          "height": 291
        }
      },
      "source": [
        "daily.rolling(50, center=True,\n",
        "              win_type='gaussian').sum(std=10).plot(style=[':', '--', '-']);"
      ],
      "execution_count": null,
      "outputs": [
        {
          "output_type": "display_data",
          "data": {
            "image/png": "[encoded data removed]",
            "text/plain": [
              "<Figure size 432x288 with 1 Axes>"
            ]
          },
          "metadata": {
            "tags": []
          }
        }
      ]
    },
    {
      "cell_type": "markdown",
      "metadata": {
        "id": "ebAm3Pr8JSSx"
      },
      "source": [
        "#### Digging into the data\n",
        "\n",
        "While these smoothed data views are useful to get an idea of the general trend in the data, they hide much of the interesting structure.\n",
        "For example, we might want to look at the average traffic as a function of the time of day.\n",
        "We can do this using the GroupBy functionality discussed in [Aggregation and Grouping](03.08-Aggregation-and-Grouping.ipynb):"
      ]
    },
    {
      "cell_type": "code",
      "metadata": {
        "id": "7biNXzO4JSSy",
        "outputId": "ccde9055-a6b9-43bc-9a1e-833a59a7cbd2",
        "colab": {
          "base_uri": "https://localhost:8080/",
          "height": 291
        }
      },
      "source": [
        "by_time = data.groupby(data.index.time).mean()\n",
        "hourly_ticks = 4 * 60 * 60 * np.arange(6)\n",
        "by_time.plot(xticks=hourly_ticks, style=[':', '--', '-']);"
      ],
      "execution_count": null,
      "outputs": [
        {
          "output_type": "display_data",
          "data": {
            "image/png": "[encoded data removed]",
            "text/plain": [
              "<Figure size 432x288 with 1 Axes>"
            ]
          },
          "metadata": {
            "tags": []
          }
        }
      ]
    },
    {
      "cell_type": "markdown",
      "metadata": {
        "id": "Qk-zdb5bJSS3"
      },
      "source": [
        "The hourly traffic is a strongly bimodal distribution, with peaks around 8:00 in the morning and 5:00 in the evening.\n",
        "This is likely evidence of a strong component of commuter traffic crossing the bridge.\n",
        "This is further evidenced by the differences between the western sidewalk (generally used going toward downtown Seattle), which peaks more strongly in the morning, and the eastern sidewalk (generally used going away from downtown Seattle), which peaks more strongly in the evening.\n",
        "\n",
        "We also might be curious about how things change based on the day of the week. Again, we can do this with a simple groupby:"
      ]
    },
    {
      "cell_type": "code",
      "metadata": {
        "id": "WwUnz2E6JSS4",
        "outputId": "ecbe2ef0-8578-4032-f0f6-87d117154d4b",
        "colab": {
          "base_uri": "https://localhost:8080/",
          "height": 274
        }
      },
      "source": [
        "by_weekday = data.groupby(data.index.weekday).mean()\n",
        "by_weekday.index = ['Mon', 'Tues', 'Wed', 'Thurs', 'Fri', 'Sat', 'Sun']\n",
        "by_weekday.plot(style=[':', '--', '-']);"
      ],
      "execution_count": null,
      "outputs": [
        {
          "output_type": "display_data",
          "data": {
            "image/png": "[encoded data removed]",
            "text/plain": [
              "<Figure size 432x288 with 1 Axes>"
            ]
          },
          "metadata": {
            "tags": []
          }
        }
      ]
    },
    {
      "cell_type": "markdown",
      "metadata": {
        "id": "g5mdqwz2JSS9"
      },
      "source": [
        "This shows a strong distinction between weekday and weekend totals, with around twice as many average riders crossing the bridge on Monday through Friday than on Saturday and Sunday.\n",
        "\n",
        "With this in mind, let's do a compound GroupBy and look at the hourly trend on weekdays versus weekends.\n",
        "We'll start by grouping by both a flag marking the weekend, and the time of day:"
      ]
    },
    {
      "cell_type": "code",
      "metadata": {
        "id": "OhWN8qJ4JSS-",
        "outputId": "8cb4f86f-bfbf-4803-d66c-1b1c1341c5e3",
        "colab": {
          "base_uri": "https://localhost:8080/",
          "height": 1000
        }
      },
      "source": [
        "weekend = np.where(data.index.weekday < 5, 'Weekday', 'Weekend')\n",
        "weekend\n",
        "by_time = data.groupby([weekend, data.index.time]).mean()\n",
        "by_time"
      ],
      "execution_count": null,
      "outputs": [
        {
          "output_type": "execute_result",
          "data": {
            "text/plain": [
              "array(['Weekday', 'Weekday', 'Weekday', ..., 'Weekday', 'Weekday',\n",
              "       'Weekday'], dtype='<U7')"
            ]
          },
          "metadata": {
            "tags": []
          },
          "execution_count": 166
        },
        {
          "output_type": "execute_result",
          "data": {
            "text/html": [
              "<div>\n",
              "<style scoped>\n",
              "    .dataframe tbody tr th:only-of-type {\n",
              "        vertical-align: middle;\n",
              "    }\n",
              "\n",
              "    .dataframe tbody tr th {\n",
              "        vertical-align: top;\n",
              "    }\n",
              "\n",
              "    .dataframe thead th {\n",
              "        text-align: right;\n",
              "    }\n",
              "</style>\n",
              "<table border=\"1\" class=\"dataframe\">\n",
              "  <thead>\n",
              "    <tr style=\"text-align: right;\">\n",
              "      <th></th>\n",
              "      <th></th>\n",
              "      <th>West</th>\n",
              "      <th>East</th>\n",
              "      <th>Total</th>\n",
              "    </tr>\n",
              "  </thead>\n",
              "  <tbody>\n",
              "    <tr>\n",
              "      <th rowspan=\"24\" valign=\"top\">Weekday</th>\n",
              "      <th>00:00:00</th>\n",
              "      <td>4.289474</td>\n",
              "      <td>5.638158</td>\n",
              "      <td>9.927632</td>\n",
              "    </tr>\n",
              "    <tr>\n",
              "      <th>01:00:00</th>\n",
              "      <td>2.231360</td>\n",
              "      <td>2.682566</td>\n",
              "      <td>4.913925</td>\n",
              "    </tr>\n",
              "    <tr>\n",
              "      <th>02:00:00</th>\n",
              "      <td>1.633224</td>\n",
              "      <td>1.652412</td>\n",
              "      <td>3.285636</td>\n",
              "    </tr>\n",
              "    <tr>\n",
              "      <th>03:00:00</th>\n",
              "      <td>1.459430</td>\n",
              "      <td>1.341009</td>\n",
              "      <td>2.800439</td>\n",
              "    </tr>\n",
              "    <tr>\n",
              "      <th>04:00:00</th>\n",
              "      <td>4.304276</td>\n",
              "      <td>3.456140</td>\n",
              "      <td>7.760417</td>\n",
              "    </tr>\n",
              "    <tr>\n",
              "      <th>05:00:00</th>\n",
              "      <td>21.259320</td>\n",
              "      <td>12.713268</td>\n",
              "      <td>33.972588</td>\n",
              "    </tr>\n",
              "    <tr>\n",
              "      <th>06:00:00</th>\n",
              "      <td>75.686404</td>\n",
              "      <td>46.796053</td>\n",
              "      <td>122.482456</td>\n",
              "    </tr>\n",
              "    <tr>\n",
              "      <th>07:00:00</th>\n",
              "      <td>199.649123</td>\n",
              "      <td>113.598136</td>\n",
              "      <td>313.247259</td>\n",
              "    </tr>\n",
              "    <tr>\n",
              "      <th>08:00:00</th>\n",
              "      <td>264.989035</td>\n",
              "      <td>171.995614</td>\n",
              "      <td>436.984649</td>\n",
              "    </tr>\n",
              "    <tr>\n",
              "      <th>09:00:00</th>\n",
              "      <td>131.913878</td>\n",
              "      <td>104.257268</td>\n",
              "      <td>236.171146</td>\n",
              "    </tr>\n",
              "    <tr>\n",
              "      <th>10:00:00</th>\n",
              "      <td>53.517828</td>\n",
              "      <td>47.388371</td>\n",
              "      <td>100.906199</td>\n",
              "    </tr>\n",
              "    <tr>\n",
              "      <th>11:00:00</th>\n",
              "      <td>39.803620</td>\n",
              "      <td>36.080636</td>\n",
              "      <td>75.884257</td>\n",
              "    </tr>\n",
              "    <tr>\n",
              "      <th>12:00:00</th>\n",
              "      <td>39.780033</td>\n",
              "      <td>38.393308</td>\n",
              "      <td>78.173341</td>\n",
              "    </tr>\n",
              "    <tr>\n",
              "      <th>13:00:00</th>\n",
              "      <td>41.923246</td>\n",
              "      <td>42.398026</td>\n",
              "      <td>84.321272</td>\n",
              "    </tr>\n",
              "    <tr>\n",
              "      <th>14:00:00</th>\n",
              "      <td>44.238487</td>\n",
              "      <td>51.272478</td>\n",
              "      <td>95.510965</td>\n",
              "    </tr>\n",
              "    <tr>\n",
              "      <th>15:00:00</th>\n",
              "      <td>58.081689</td>\n",
              "      <td>80.104167</td>\n",
              "      <td>138.185855</td>\n",
              "    </tr>\n",
              "    <tr>\n",
              "      <th>16:00:00</th>\n",
              "      <td>90.699561</td>\n",
              "      <td>181.498355</td>\n",
              "      <td>272.197917</td>\n",
              "    </tr>\n",
              "    <tr>\n",
              "      <th>17:00:00</th>\n",
              "      <td>138.552083</td>\n",
              "      <td>370.560855</td>\n",
              "      <td>509.112939</td>\n",
              "    </tr>\n",
              "    <tr>\n",
              "      <th>18:00:00</th>\n",
              "      <td>111.139254</td>\n",
              "      <td>232.707237</td>\n",
              "      <td>343.846491</td>\n",
              "    </tr>\n",
              "    <tr>\n",
              "      <th>19:00:00</th>\n",
              "      <td>59.467105</td>\n",
              "      <td>103.350329</td>\n",
              "      <td>162.817434</td>\n",
              "    </tr>\n",
              "    <tr>\n",
              "      <th>20:00:00</th>\n",
              "      <td>35.828399</td>\n",
              "      <td>54.611294</td>\n",
              "      <td>90.439693</td>\n",
              "    </tr>\n",
              "    <tr>\n",
              "      <th>21:00:00</th>\n",
              "      <td>24.645285</td>\n",
              "      <td>32.141996</td>\n",
              "      <td>56.787281</td>\n",
              "    </tr>\n",
              "    <tr>\n",
              "      <th>22:00:00</th>\n",
              "      <td>15.536732</td>\n",
              "      <td>20.751645</td>\n",
              "      <td>36.288377</td>\n",
              "    </tr>\n",
              "    <tr>\n",
              "      <th>23:00:00</th>\n",
              "      <td>9.354167</td>\n",
              "      <td>13.413925</td>\n",
              "      <td>22.768092</td>\n",
              "    </tr>\n",
              "    <tr>\n",
              "      <th rowspan=\"24\" valign=\"top\">Weekend</th>\n",
              "      <th>00:00:00</th>\n",
              "      <td>6.967123</td>\n",
              "      <td>9.686301</td>\n",
              "      <td>16.653425</td>\n",
              "    </tr>\n",
              "    <tr>\n",
              "      <th>01:00:00</th>\n",
              "      <td>4.310959</td>\n",
              "      <td>5.360274</td>\n",
              "      <td>9.671233</td>\n",
              "    </tr>\n",
              "    <tr>\n",
              "      <th>02:00:00</th>\n",
              "      <td>2.936552</td>\n",
              "      <td>3.315862</td>\n",
              "      <td>6.252414</td>\n",
              "    </tr>\n",
              "    <tr>\n",
              "      <th>03:00:00</th>\n",
              "      <td>1.838356</td>\n",
              "      <td>1.791781</td>\n",
              "      <td>3.630137</td>\n",
              "    </tr>\n",
              "    <tr>\n",
              "      <th>04:00:00</th>\n",
              "      <td>1.669863</td>\n",
              "      <td>2.360274</td>\n",
              "      <td>4.030137</td>\n",
              "    </tr>\n",
              "    <tr>\n",
              "      <th>05:00:00</th>\n",
              "      <td>4.091781</td>\n",
              "      <td>3.480822</td>\n",
              "      <td>7.572603</td>\n",
              "    </tr>\n",
              "    <tr>\n",
              "      <th>06:00:00</th>\n",
              "      <td>8.257534</td>\n",
              "      <td>9.142466</td>\n",
              "      <td>17.400000</td>\n",
              "    </tr>\n",
              "    <tr>\n",
              "      <th>07:00:00</th>\n",
              "      <td>17.294521</td>\n",
              "      <td>15.779452</td>\n",
              "      <td>33.073973</td>\n",
              "    </tr>\n",
              "    <tr>\n",
              "      <th>08:00:00</th>\n",
              "      <td>32.327397</td>\n",
              "      <td>28.852055</td>\n",
              "      <td>61.179452</td>\n",
              "    </tr>\n",
              "    <tr>\n",
              "      <th>09:00:00</th>\n",
              "      <td>43.693151</td>\n",
              "      <td>39.236986</td>\n",
              "      <td>82.930137</td>\n",
              "    </tr>\n",
              "    <tr>\n",
              "      <th>10:00:00</th>\n",
              "      <td>53.871233</td>\n",
              "      <td>46.616438</td>\n",
              "      <td>100.487671</td>\n",
              "    </tr>\n",
              "    <tr>\n",
              "      <th>11:00:00</th>\n",
              "      <td>63.030137</td>\n",
              "      <td>57.606849</td>\n",
              "      <td>120.636986</td>\n",
              "    </tr>\n",
              "    <tr>\n",
              "      <th>12:00:00</th>\n",
              "      <td>68.989041</td>\n",
              "      <td>63.894521</td>\n",
              "      <td>132.883562</td>\n",
              "    </tr>\n",
              "    <tr>\n",
              "      <th>13:00:00</th>\n",
              "      <td>71.606849</td>\n",
              "      <td>67.784932</td>\n",
              "      <td>139.391781</td>\n",
              "    </tr>\n",
              "    <tr>\n",
              "      <th>14:00:00</th>\n",
              "      <td>72.678082</td>\n",
              "      <td>68.547945</td>\n",
              "      <td>141.226027</td>\n",
              "    </tr>\n",
              "    <tr>\n",
              "      <th>15:00:00</th>\n",
              "      <td>71.323288</td>\n",
              "      <td>67.806849</td>\n",
              "      <td>139.130137</td>\n",
              "    </tr>\n",
              "    <tr>\n",
              "      <th>16:00:00</th>\n",
              "      <td>65.854795</td>\n",
              "      <td>63.156164</td>\n",
              "      <td>129.010959</td>\n",
              "    </tr>\n",
              "    <tr>\n",
              "      <th>17:00:00</th>\n",
              "      <td>54.650685</td>\n",
              "      <td>53.521918</td>\n",
              "      <td>108.172603</td>\n",
              "    </tr>\n",
              "    <tr>\n",
              "      <th>18:00:00</th>\n",
              "      <td>42.812329</td>\n",
              "      <td>41.430137</td>\n",
              "      <td>84.242466</td>\n",
              "    </tr>\n",
              "    <tr>\n",
              "      <th>19:00:00</th>\n",
              "      <td>28.308219</td>\n",
              "      <td>28.831507</td>\n",
              "      <td>57.139726</td>\n",
              "    </tr>\n",
              "    <tr>\n",
              "      <th>20:00:00</th>\n",
              "      <td>19.997260</td>\n",
              "      <td>22.063014</td>\n",
              "      <td>42.060274</td>\n",
              "    </tr>\n",
              "    <tr>\n",
              "      <th>21:00:00</th>\n",
              "      <td>14.012329</td>\n",
              "      <td>15.993151</td>\n",
              "      <td>30.005479</td>\n",
              "    </tr>\n",
              "    <tr>\n",
              "      <th>22:00:00</th>\n",
              "      <td>10.250685</td>\n",
              "      <td>12.505479</td>\n",
              "      <td>22.756164</td>\n",
              "    </tr>\n",
              "    <tr>\n",
              "      <th>23:00:00</th>\n",
              "      <td>7.438356</td>\n",
              "      <td>10.573973</td>\n",
              "      <td>18.012329</td>\n",
              "    </tr>\n",
              "  </tbody>\n",
              "</table>\n",
              "</div>"
            ],
            "text/plain": [
              "                        West        East       Total\n",
              "Weekday 00:00:00    4.289474    5.638158    9.927632\n",
              "        01:00:00    2.231360    2.682566    4.913925\n",
              "        02:00:00    1.633224    1.652412    3.285636\n",
              "        03:00:00    1.459430    1.341009    2.800439\n",
              "        04:00:00    4.304276    3.456140    7.760417\n",
              "        05:00:00   21.259320   12.713268   33.972588\n",
              "        06:00:00   75.686404   46.796053  122.482456\n",
              "        07:00:00  199.649123  113.598136  313.247259\n",
              "        08:00:00  264.989035  171.995614  436.984649\n",
              "        09:00:00  131.913878  104.257268  236.171146\n",
              "        10:00:00   53.517828   47.388371  100.906199\n",
              "        11:00:00   39.803620   36.080636   75.884257\n",
              "        12:00:00   39.780033   38.393308   78.173341\n",
              "        13:00:00   41.923246   42.398026   84.321272\n",
              "        14:00:00   44.238487   51.272478   95.510965\n",
              "        15:00:00   58.081689   80.104167  138.185855\n",
              "        16:00:00   90.699561  181.498355  272.197917\n",
              "        17:00:00  138.552083  370.560855  509.112939\n",
              "        18:00:00  111.139254  232.707237  343.846491\n",
              "        19:00:00   59.467105  103.350329  162.817434\n",
              "        20:00:00   35.828399   54.611294   90.439693\n",
              "        21:00:00   24.645285   32.141996   56.787281\n",
              "        22:00:00   15.536732   20.751645   36.288377\n",
              "        23:00:00    9.354167   13.413925   22.768092\n",
              "Weekend 00:00:00    6.967123    9.686301   16.653425\n",
              "        01:00:00    4.310959    5.360274    9.671233\n",
              "        02:00:00    2.936552    3.315862    6.252414\n",
              "        03:00:00    1.838356    1.791781    3.630137\n",
              "        04:00:00    1.669863    2.360274    4.030137\n",
              "        05:00:00    4.091781    3.480822    7.572603\n",
              "        06:00:00    8.257534    9.142466   17.400000\n",
              "        07:00:00   17.294521   15.779452   33.073973\n",
              "        08:00:00   32.327397   28.852055   61.179452\n",
              "        09:00:00   43.693151   39.236986   82.930137\n",
              "        10:00:00   53.871233   46.616438  100.487671\n",
              "        11:00:00   63.030137   57.606849  120.636986\n",
              "        12:00:00   68.989041   63.894521  132.883562\n",
              "        13:00:00   71.606849   67.784932  139.391781\n",
              "        14:00:00   72.678082   68.547945  141.226027\n",
              "        15:00:00   71.323288   67.806849  139.130137\n",
              "        16:00:00   65.854795   63.156164  129.010959\n",
              "        17:00:00   54.650685   53.521918  108.172603\n",
              "        18:00:00   42.812329   41.430137   84.242466\n",
              "        19:00:00   28.308219   28.831507   57.139726\n",
              "        20:00:00   19.997260   22.063014   42.060274\n",
              "        21:00:00   14.012329   15.993151   30.005479\n",
              "        22:00:00   10.250685   12.505479   22.756164\n",
              "        23:00:00    7.438356   10.573973   18.012329"
            ]
          },
          "metadata": {
            "tags": []
          },
          "execution_count": 166
        }
      ]
    },
    {
      "cell_type": "markdown",
      "metadata": {
        "id": "O4VV5YyhJSTB"
      },
      "source": [
        "Now we'll use some of the Matplotlib tools described in [Multiple Subplots](04.08-Multiple-Subplots.ipynb) to plot two panels side by side:"
      ]
    },
    {
      "cell_type": "code",
      "metadata": {
        "id": "lmm8V5XjJSTC",
        "outputId": "34f97357-8bc4-4ec5-c017-3ef5ab454402",
        "colab": {
          "base_uri": "https://localhost:8080/",
          "height": 355
        }
      },
      "source": [
        "import matplotlib.pyplot as plt\n",
        "fig, ax = plt.subplots(1, 2, figsize=(14, 5))\n",
        "by_time.loc['Weekday'].plot(ax=ax[0], title='Weekdays',\n",
        "                           xticks=hourly_ticks, style=[':', '--', '-'])\n",
        "by_time.loc['Weekend'].plot(ax=ax[1], title='Weekends',\n",
        "                           xticks=hourly_ticks, style=[':', '--', '-']);"
      ],
      "execution_count": null,
      "outputs": [
        {
          "output_type": "display_data",
          "data": {
            "image/png": "[encoded data removed]",
            "text/plain": [
              "<Figure size 1008x360 with 2 Axes>"
            ]
          },
          "metadata": {
            "tags": []
          }
        }
      ]
    },
    {
      "cell_type": "markdown",
      "metadata": {
        "id": "jtjsVgkIJSTJ"
      },
      "source": [
        "The result is very interesting: we see a bimodal commute pattern during the work week, and a unimodal recreational pattern during the weekends.\n",
        "It would be interesting to dig through this data in more detail, and examine the effect of weather, temperature, time of year, and other factors on people's commuting patterns; for further discussion, see my blog post [\"Is Seattle Really Seeing an Uptick In Cycling?\"](https://jakevdp.github.io/blog/2014/06/10/is-seattle-really-seeing-an-uptick-in-cycling/), which uses a subset of this data.\n",
        "We will also revisit this dataset in the context of modeling in [In Depth: Linear Regression](05.06-Linear-Regression.ipynb)."
      ]
    },
    {
      "cell_type": "markdown",
      "metadata": {
        "id": "sF4hYT-enshg"
      },
      "source": [
        "## Advanced IO"
      ]
    },
    {
      "cell_type": "markdown",
      "metadata": {
        "id": "IsF3MmgdoHI7"
      },
      "source": [
        "All about loading tricky datasets. More often than not, you will need to refer to [pandas reader documentation](https://pandas.pydata.org/pandas-docs/stable/reference/api/pandas.read_csv.html) to look for ways to load data when hell breaks loose."
      ]
    },
    {
      "cell_type": "code",
      "metadata": {
        "id": "7gBVvA1Gotzj"
      },
      "source": [
        "# This goes in handy\n",
        "pd.read_csv?"
      ],
      "execution_count": null,
      "outputs": []
    },
    {
      "cell_type": "code",
      "metadata": {
        "id": "hwHOt3LF8iGT",
        "outputId": "de230347-8fec-4792-f01d-fefd0ce493e4",
        "colab": {
          "base_uri": "https://localhost:8080/",
          "height": 1000
        }
      },
      "source": [
        "df = pd.read_csv(\"https://github.com/vfp1/bts-mbds-data-science-foundations/raw/master/sessions/data/model.txt\")\n",
        "df"
      ],
      "execution_count": null,
      "outputs": [
        {
          "output_type": "execute_result",
          "data": {
            "text/html": [
              "<div>\n",
              "<style scoped>\n",
              "    .dataframe tbody tr th:only-of-type {\n",
              "        vertical-align: middle;\n",
              "    }\n",
              "\n",
              "    .dataframe tbody tr th {\n",
              "        vertical-align: top;\n",
              "    }\n",
              "\n",
              "    .dataframe thead th {\n",
              "        text-align: right;\n",
              "    }\n",
              "</style>\n",
              "<table border=\"1\" class=\"dataframe\">\n",
              "  <thead>\n",
              "    <tr style=\"text-align: right;\">\n",
              "      <th></th>\n",
              "      <th>Lat=0  Lon=0  Hub-Height=987  Timezone=88   ASL-Height(avg. 3km-grid)=0</th>\n",
              "    </tr>\n",
              "  </thead>\n",
              "  <tbody>\n",
              "    <tr>\n",
              "      <th>0</th>\n",
              "      <td>Provider (www.provider.noway) - Computed at 3k...</td>\n",
              "    </tr>\n",
              "    <tr>\n",
              "      <th>1</th>\n",
              "      <td>YYYYMMDD HHMM  M(m/s) D(deg)  T(C)  De(k/m3) P...</td>\n",
              "    </tr>\n",
              "    <tr>\n",
              "      <th>2</th>\n",
              "      <td>19840101 0000   20.8    243    7.3    1.25    ...</td>\n",
              "    </tr>\n",
              "    <tr>\n",
              "      <th>3</th>\n",
              "      <td>19840101 0100   20.8    243    7.3    1.25    ...</td>\n",
              "    </tr>\n",
              "    <tr>\n",
              "      <th>4</th>\n",
              "      <td>19840101 0200   20.6    243    7.4    1.24    ...</td>\n",
              "    </tr>\n",
              "    <tr>\n",
              "      <th>5</th>\n",
              "      <td>19840101 0300   20.4    244    7.5    1.24    ...</td>\n",
              "    </tr>\n",
              "    <tr>\n",
              "      <th>6</th>\n",
              "      <td>19840101 0400   20.3    245    7.5    1.24    ...</td>\n",
              "    </tr>\n",
              "    <tr>\n",
              "      <th>7</th>\n",
              "      <td>19840101 0500   20.4    245    7.6    1.24    ...</td>\n",
              "    </tr>\n",
              "    <tr>\n",
              "      <th>8</th>\n",
              "      <td>19840101 0600   20.8    246    7.7    1.24    ...</td>\n",
              "    </tr>\n",
              "    <tr>\n",
              "      <th>9</th>\n",
              "      <td>19840101 0700   20.8    246    7.8    1.24    ...</td>\n",
              "    </tr>\n",
              "    <tr>\n",
              "      <th>10</th>\n",
              "      <td>19840101 0800   20.5    244    7.9    1.24    ...</td>\n",
              "    </tr>\n",
              "    <tr>\n",
              "      <th>11</th>\n",
              "      <td>19840101 0900   19.9    242    8.1    1.24    ...</td>\n",
              "    </tr>\n",
              "    <tr>\n",
              "      <th>12</th>\n",
              "      <td>19840101 1000   19.4    240    8.2    1.24    ...</td>\n",
              "    </tr>\n",
              "    <tr>\n",
              "      <th>13</th>\n",
              "      <td>19840101 1100   19.0    239    8.4    1.24    ...</td>\n",
              "    </tr>\n",
              "    <tr>\n",
              "      <th>14</th>\n",
              "      <td>19840101 1200   18.6    238    8.6    1.24    ...</td>\n",
              "    </tr>\n",
              "    <tr>\n",
              "      <th>15</th>\n",
              "      <td>19840101 1300   18.4    238    8.8    1.23    ...</td>\n",
              "    </tr>\n",
              "    <tr>\n",
              "      <th>16</th>\n",
              "      <td>19840101 1400   18.6    240    8.9    1.23    ...</td>\n",
              "    </tr>\n",
              "    <tr>\n",
              "      <th>17</th>\n",
              "      <td>19840101 1500   19.0    242    8.9    1.23    ...</td>\n",
              "    </tr>\n",
              "    <tr>\n",
              "      <th>18</th>\n",
              "      <td>19840101 1600   19.2    243    8.9    1.23    ...</td>\n",
              "    </tr>\n",
              "    <tr>\n",
              "      <th>19</th>\n",
              "      <td>19840101 1700   19.3    243    8.9    1.23    ...</td>\n",
              "    </tr>\n",
              "    <tr>\n",
              "      <th>20</th>\n",
              "      <td>19840101 1800   19.4    242    8.9    1.23    ...</td>\n",
              "    </tr>\n",
              "    <tr>\n",
              "      <th>21</th>\n",
              "      <td>19840101 1900   19.3    243    8.9    1.23    ...</td>\n",
              "    </tr>\n",
              "    <tr>\n",
              "      <th>22</th>\n",
              "      <td>19840101 2000   19.1    246    8.9    1.23    ...</td>\n",
              "    </tr>\n",
              "    <tr>\n",
              "      <th>23</th>\n",
              "      <td>19840101 2100   18.3    250    8.7    1.23    ...</td>\n",
              "    </tr>\n",
              "    <tr>\n",
              "      <th>24</th>\n",
              "      <td>19840101 2200   17.2    254    8.6    1.23    ...</td>\n",
              "    </tr>\n",
              "    <tr>\n",
              "      <th>25</th>\n",
              "      <td>19840101 2300   16.1    259    8.4    1.24    ...</td>\n",
              "    </tr>\n",
              "    <tr>\n",
              "      <th>26</th>\n",
              "      <td>19840102 0000   15.1    264    8.2    1.24    ...</td>\n",
              "    </tr>\n",
              "    <tr>\n",
              "      <th>27</th>\n",
              "      <td>19840102 0100   13.8    268    7.9    1.24    ...</td>\n",
              "    </tr>\n",
              "    <tr>\n",
              "      <th>28</th>\n",
              "      <td>19840102 0200   12.2    269    7.7    1.24    ...</td>\n",
              "    </tr>\n",
              "    <tr>\n",
              "      <th>29</th>\n",
              "      <td>19840102 0300   11.7    264    7.4    1.24    ...</td>\n",
              "    </tr>\n",
              "    <tr>\n",
              "      <th>...</th>\n",
              "      <td>...</td>\n",
              "    </tr>\n",
              "    <tr>\n",
              "      <th>277772</th>\n",
              "      <td>20150909 1800    9.3     78   15.7    1.22    ...</td>\n",
              "    </tr>\n",
              "    <tr>\n",
              "      <th>277773</th>\n",
              "      <td>20150909 1900    9.4     79   15.8    1.22    ...</td>\n",
              "    </tr>\n",
              "    <tr>\n",
              "      <th>277774</th>\n",
              "      <td>20150909 2000    9.3     79   15.9    1.22    ...</td>\n",
              "    </tr>\n",
              "    <tr>\n",
              "      <th>277775</th>\n",
              "      <td>20150909 2100    9.3     81   15.9    1.22    ...</td>\n",
              "    </tr>\n",
              "    <tr>\n",
              "      <th>277776</th>\n",
              "      <td>20150909 2200    9.5     83   15.7    1.22    ...</td>\n",
              "    </tr>\n",
              "    <tr>\n",
              "      <th>277777</th>\n",
              "      <td>20150909 2300    9.4     85   15.5    1.22    ...</td>\n",
              "    </tr>\n",
              "    <tr>\n",
              "      <th>277778</th>\n",
              "      <td>20150910 0000    9.5     87   15.3    1.22    ...</td>\n",
              "    </tr>\n",
              "    <tr>\n",
              "      <th>277779</th>\n",
              "      <td>20150910 0100    9.4     90   15.1    1.22    ...</td>\n",
              "    </tr>\n",
              "    <tr>\n",
              "      <th>277780</th>\n",
              "      <td>20150910 0200    9.4     93   14.8    1.22    ...</td>\n",
              "    </tr>\n",
              "    <tr>\n",
              "      <th>277781</th>\n",
              "      <td>20150910 0300    9.4     96   14.6    1.22    ...</td>\n",
              "    </tr>\n",
              "    <tr>\n",
              "      <th>277782</th>\n",
              "      <td>20150910 0400    9.4     96   14.5    1.22    ...</td>\n",
              "    </tr>\n",
              "    <tr>\n",
              "      <th>277783</th>\n",
              "      <td>20150910 0500    9.4     96   14.4    1.22    ...</td>\n",
              "    </tr>\n",
              "    <tr>\n",
              "      <th>277784</th>\n",
              "      <td>20150910 0600    9.4     96   14.4    1.23    ...</td>\n",
              "    </tr>\n",
              "    <tr>\n",
              "      <th>277785</th>\n",
              "      <td>20150910 0700    9.5     95   14.3    1.23    ...</td>\n",
              "    </tr>\n",
              "    <tr>\n",
              "      <th>277786</th>\n",
              "      <td>20150910 0800    9.3     94   14.2    1.23    ...</td>\n",
              "    </tr>\n",
              "    <tr>\n",
              "      <th>277787</th>\n",
              "      <td>20150910 0900    9.0     92   14.2    1.23    ...</td>\n",
              "    </tr>\n",
              "    <tr>\n",
              "      <th>277788</th>\n",
              "      <td>20150910 1000    8.7     89   14.4    1.22    ...</td>\n",
              "    </tr>\n",
              "    <tr>\n",
              "      <th>277789</th>\n",
              "      <td>20150910 1100    8.7     86   14.7    1.22    ...</td>\n",
              "    </tr>\n",
              "    <tr>\n",
              "      <th>277790</th>\n",
              "      <td>20150910 1200    8.8     83   15.0    1.22    ...</td>\n",
              "    </tr>\n",
              "    <tr>\n",
              "      <th>277791</th>\n",
              "      <td>20150910 1300    9.0     83   15.3    1.22    ...</td>\n",
              "    </tr>\n",
              "    <tr>\n",
              "      <th>277792</th>\n",
              "      <td>20150910 1400    9.3     84   15.6    1.22    ...</td>\n",
              "    </tr>\n",
              "    <tr>\n",
              "      <th>277793</th>\n",
              "      <td>20150910 1500    9.5     85   15.9    1.22    ...</td>\n",
              "    </tr>\n",
              "    <tr>\n",
              "      <th>277794</th>\n",
              "      <td>20150910 1600    9.4     85   16.0    1.22    ...</td>\n",
              "    </tr>\n",
              "    <tr>\n",
              "      <th>277795</th>\n",
              "      <td>20150910 1700    9.4     85   16.0    1.22    ...</td>\n",
              "    </tr>\n",
              "    <tr>\n",
              "      <th>277796</th>\n",
              "      <td>20150910 1800    9.2     85   16.1    1.22    ...</td>\n",
              "    </tr>\n",
              "    <tr>\n",
              "      <th>277797</th>\n",
              "      <td>20150910 1900    9.2     85   16.1    1.22    ...</td>\n",
              "    </tr>\n",
              "    <tr>\n",
              "      <th>277798</th>\n",
              "      <td>20150910 2000    9.2     85   16.2    1.21    ...</td>\n",
              "    </tr>\n",
              "    <tr>\n",
              "      <th>277799</th>\n",
              "      <td>20150910 2100    9.5     87   16.2    1.21    ...</td>\n",
              "    </tr>\n",
              "    <tr>\n",
              "      <th>277800</th>\n",
              "      <td>20150910 2200   10.0     90   16.0    1.21    ...</td>\n",
              "    </tr>\n",
              "    <tr>\n",
              "      <th>277801</th>\n",
              "      <td>20150910 2300   10.0     94   15.8    1.22    ...</td>\n",
              "    </tr>\n",
              "  </tbody>\n",
              "</table>\n",
              "<p>277802 rows × 1 columns</p>\n",
              "</div>"
            ],
            "text/plain": [
              "       Lat=0  Lon=0  Hub-Height=987  Timezone=88   ASL-Height(avg. 3km-grid)=0\n",
              "0       Provider (www.provider.noway) - Computed at 3k...                     \n",
              "1       YYYYMMDD HHMM  M(m/s) D(deg)  T(C)  De(k/m3) P...                     \n",
              "2       19840101 0000   20.8    243    7.3    1.25    ...                     \n",
              "3       19840101 0100   20.8    243    7.3    1.25    ...                     \n",
              "4       19840101 0200   20.6    243    7.4    1.24    ...                     \n",
              "5       19840101 0300   20.4    244    7.5    1.24    ...                     \n",
              "6       19840101 0400   20.3    245    7.5    1.24    ...                     \n",
              "7       19840101 0500   20.4    245    7.6    1.24    ...                     \n",
              "8       19840101 0600   20.8    246    7.7    1.24    ...                     \n",
              "9       19840101 0700   20.8    246    7.8    1.24    ...                     \n",
              "10      19840101 0800   20.5    244    7.9    1.24    ...                     \n",
              "11      19840101 0900   19.9    242    8.1    1.24    ...                     \n",
              "12      19840101 1000   19.4    240    8.2    1.24    ...                     \n",
              "13      19840101 1100   19.0    239    8.4    1.24    ...                     \n",
              "14      19840101 1200   18.6    238    8.6    1.24    ...                     \n",
              "15      19840101 1300   18.4    238    8.8    1.23    ...                     \n",
              "16      19840101 1400   18.6    240    8.9    1.23    ...                     \n",
              "17      19840101 1500   19.0    242    8.9    1.23    ...                     \n",
              "18      19840101 1600   19.2    243    8.9    1.23    ...                     \n",
              "19      19840101 1700   19.3    243    8.9    1.23    ...                     \n",
              "20      19840101 1800   19.4    242    8.9    1.23    ...                     \n",
              "21      19840101 1900   19.3    243    8.9    1.23    ...                     \n",
              "22      19840101 2000   19.1    246    8.9    1.23    ...                     \n",
              "23      19840101 2100   18.3    250    8.7    1.23    ...                     \n",
              "24      19840101 2200   17.2    254    8.6    1.23    ...                     \n",
              "25      19840101 2300   16.1    259    8.4    1.24    ...                     \n",
              "26      19840102 0000   15.1    264    8.2    1.24    ...                     \n",
              "27      19840102 0100   13.8    268    7.9    1.24    ...                     \n",
              "28      19840102 0200   12.2    269    7.7    1.24    ...                     \n",
              "29      19840102 0300   11.7    264    7.4    1.24    ...                     \n",
              "...                                                   ...                     \n",
              "277772  20150909 1800    9.3     78   15.7    1.22    ...                     \n",
              "277773  20150909 1900    9.4     79   15.8    1.22    ...                     \n",
              "277774  20150909 2000    9.3     79   15.9    1.22    ...                     \n",
              "277775  20150909 2100    9.3     81   15.9    1.22    ...                     \n",
              "277776  20150909 2200    9.5     83   15.7    1.22    ...                     \n",
              "277777  20150909 2300    9.4     85   15.5    1.22    ...                     \n",
              "277778  20150910 0000    9.5     87   15.3    1.22    ...                     \n",
              "277779  20150910 0100    9.4     90   15.1    1.22    ...                     \n",
              "277780  20150910 0200    9.4     93   14.8    1.22    ...                     \n",
              "277781  20150910 0300    9.4     96   14.6    1.22    ...                     \n",
              "277782  20150910 0400    9.4     96   14.5    1.22    ...                     \n",
              "277783  20150910 0500    9.4     96   14.4    1.22    ...                     \n",
              "277784  20150910 0600    9.4     96   14.4    1.23    ...                     \n",
              "277785  20150910 0700    9.5     95   14.3    1.23    ...                     \n",
              "277786  20150910 0800    9.3     94   14.2    1.23    ...                     \n",
              "277787  20150910 0900    9.0     92   14.2    1.23    ...                     \n",
              "277788  20150910 1000    8.7     89   14.4    1.22    ...                     \n",
              "277789  20150910 1100    8.7     86   14.7    1.22    ...                     \n",
              "277790  20150910 1200    8.8     83   15.0    1.22    ...                     \n",
              "277791  20150910 1300    9.0     83   15.3    1.22    ...                     \n",
              "277792  20150910 1400    9.3     84   15.6    1.22    ...                     \n",
              "277793  20150910 1500    9.5     85   15.9    1.22    ...                     \n",
              "277794  20150910 1600    9.4     85   16.0    1.22    ...                     \n",
              "277795  20150910 1700    9.4     85   16.0    1.22    ...                     \n",
              "277796  20150910 1800    9.2     85   16.1    1.22    ...                     \n",
              "277797  20150910 1900    9.2     85   16.1    1.22    ...                     \n",
              "277798  20150910 2000    9.2     85   16.2    1.21    ...                     \n",
              "277799  20150910 2100    9.5     87   16.2    1.21    ...                     \n",
              "277800  20150910 2200   10.0     90   16.0    1.21    ...                     \n",
              "277801  20150910 2300   10.0     94   15.8    1.22    ...                     \n",
              "\n",
              "[277802 rows x 1 columns]"
            ]
          },
          "metadata": {
            "tags": []
          },
          "execution_count": 71
        }
      ]
    },
    {
      "cell_type": "code",
      "metadata": {
        "id": "OWpp-XSEoj9d",
        "outputId": "78ad0b82-c6f6-4dd1-f26f-22c4bfff2efd",
        "colab": {
          "base_uri": "https://localhost:8080/",
          "height": 202
        }
      },
      "source": [
        "import pandas as pd\n",
        "\n",
        "df = pd.read_csv(\n",
        "    \"https://github.com/vfp1/bts-mbds-data-science-foundations/raw/master/sessions/data/model.txt\",\n",
        "    delim_whitespace=True,\n",
        "    header=2,\n",
        "    parse_dates={'date': ['YYYYMMDD', 'HHMM']},\n",
        ")\n",
        "df.head()"
      ],
      "execution_count": null,
      "outputs": [
        {
          "output_type": "execute_result",
          "data": {
            "text/html": [
              "<div>\n",
              "<style scoped>\n",
              "    .dataframe tbody tr th:only-of-type {\n",
              "        vertical-align: middle;\n",
              "    }\n",
              "\n",
              "    .dataframe tbody tr th {\n",
              "        vertical-align: top;\n",
              "    }\n",
              "\n",
              "    .dataframe thead th {\n",
              "        text-align: right;\n",
              "    }\n",
              "</style>\n",
              "<table border=\"1\" class=\"dataframe\">\n",
              "  <thead>\n",
              "    <tr style=\"text-align: right;\">\n",
              "      <th></th>\n",
              "      <th>date</th>\n",
              "      <th>M(m/s)</th>\n",
              "      <th>D(deg)</th>\n",
              "      <th>T(C)</th>\n",
              "      <th>De(k/m3)</th>\n",
              "      <th>PRE(hPa)</th>\n",
              "      <th>RiNumber</th>\n",
              "      <th>RH(%)</th>\n",
              "    </tr>\n",
              "  </thead>\n",
              "  <tbody>\n",
              "    <tr>\n",
              "      <th>0</th>\n",
              "      <td>1984-01-01 00:00:00</td>\n",
              "      <td>20.8</td>\n",
              "      <td>243</td>\n",
              "      <td>7.3</td>\n",
              "      <td>1.25</td>\n",
              "      <td>1002.8</td>\n",
              "      <td>0.04</td>\n",
              "      <td>86.3</td>\n",
              "    </tr>\n",
              "    <tr>\n",
              "      <th>1</th>\n",
              "      <td>1984-01-01 01:00:00</td>\n",
              "      <td>20.8</td>\n",
              "      <td>243</td>\n",
              "      <td>7.3</td>\n",
              "      <td>1.25</td>\n",
              "      <td>1002.2</td>\n",
              "      <td>0.04</td>\n",
              "      <td>86.9</td>\n",
              "    </tr>\n",
              "    <tr>\n",
              "      <th>2</th>\n",
              "      <td>1984-01-01 02:00:00</td>\n",
              "      <td>20.6</td>\n",
              "      <td>243</td>\n",
              "      <td>7.4</td>\n",
              "      <td>1.24</td>\n",
              "      <td>1001.8</td>\n",
              "      <td>0.04</td>\n",
              "      <td>87.0</td>\n",
              "    </tr>\n",
              "    <tr>\n",
              "      <th>3</th>\n",
              "      <td>1984-01-01 03:00:00</td>\n",
              "      <td>20.4</td>\n",
              "      <td>244</td>\n",
              "      <td>7.5</td>\n",
              "      <td>1.24</td>\n",
              "      <td>1001.5</td>\n",
              "      <td>0.05</td>\n",
              "      <td>86.2</td>\n",
              "    </tr>\n",
              "    <tr>\n",
              "      <th>4</th>\n",
              "      <td>1984-01-01 04:00:00</td>\n",
              "      <td>20.3</td>\n",
              "      <td>245</td>\n",
              "      <td>7.5</td>\n",
              "      <td>1.24</td>\n",
              "      <td>1001.2</td>\n",
              "      <td>0.05</td>\n",
              "      <td>85.6</td>\n",
              "    </tr>\n",
              "  </tbody>\n",
              "</table>\n",
              "</div>"
            ],
            "text/plain": [
              "                 date  M(m/s)  D(deg)  ...  PRE(hPa)  RiNumber  RH(%)\n",
              "0 1984-01-01 00:00:00    20.8     243  ...    1002.8      0.04   86.3\n",
              "1 1984-01-01 01:00:00    20.8     243  ...    1002.2      0.04   86.9\n",
              "2 1984-01-01 02:00:00    20.6     243  ...    1001.8      0.04   87.0\n",
              "3 1984-01-01 03:00:00    20.4     244  ...    1001.5      0.05   86.2\n",
              "4 1984-01-01 04:00:00    20.3     245  ...    1001.2      0.05   85.6\n",
              "\n",
              "[5 rows x 8 columns]"
            ]
          },
          "metadata": {
            "tags": []
          },
          "execution_count": 73
        }
      ]
    },
    {
      "cell_type": "code",
      "metadata": {
        "id": "x4G068uYpXwS",
        "outputId": "9ab66648-e19d-4202-9f25-46c43d550f6e",
        "colab": {
          "base_uri": "https://localhost:8080/",
          "height": 181
        }
      },
      "source": [
        "df.dtypes"
      ],
      "execution_count": null,
      "outputs": [
        {
          "output_type": "execute_result",
          "data": {
            "text/plain": [
              "date        datetime64[ns]\n",
              "M(m/s)             float64\n",
              "D(deg)               int64\n",
              "T(C)               float64\n",
              "De(k/m3)           float64\n",
              "PRE(hPa)           float64\n",
              "RiNumber           float64\n",
              "RH(%)              float64\n",
              "dtype: object"
            ]
          },
          "metadata": {
            "tags": []
          },
          "execution_count": 170
        }
      ]
    },
    {
      "cell_type": "code",
      "metadata": {
        "id": "u8M3SBLDpqAe",
        "outputId": "b631231d-de3a-4f40-eab9-0f4fc89b3301",
        "colab": {
          "base_uri": "https://localhost:8080/",
          "height": 198
        }
      },
      "source": [
        "pd.read_csv(\n",
        "    \"https://github.com/vfp1/bts-mbds-data-science-foundations/raw/master/sessions/data/tabernas_meteo_data.txt\",\n",
        "    delim_whitespace=True,\n",
        "    skiprows=[1],\n",
        "    parse_dates={'date': ['FECHA']},\n",
        ").drop('DIA', axis=1).head()"
      ],
      "execution_count": null,
      "outputs": [
        {
          "output_type": "execute_result",
          "data": {
            "text/html": [
              "<div>\n",
              "<style scoped>\n",
              "    .dataframe tbody tr th:only-of-type {\n",
              "        vertical-align: middle;\n",
              "    }\n",
              "\n",
              "    .dataframe tbody tr th {\n",
              "        vertical-align: top;\n",
              "    }\n",
              "\n",
              "    .dataframe thead th {\n",
              "        text-align: right;\n",
              "    }\n",
              "</style>\n",
              "<table border=\"1\" class=\"dataframe\">\n",
              "  <thead>\n",
              "    <tr style=\"text-align: right;\">\n",
              "      <th></th>\n",
              "      <th>date</th>\n",
              "      <th>Al04TMax</th>\n",
              "      <th>Al04TMin</th>\n",
              "      <th>Al04TMed</th>\n",
              "      <th>Al04Precip</th>\n",
              "    </tr>\n",
              "  </thead>\n",
              "  <tbody>\n",
              "    <tr>\n",
              "      <th>0</th>\n",
              "      <td>2016-12-13</td>\n",
              "      <td>14.6</td>\n",
              "      <td>4.0</td>\n",
              "      <td>8.9</td>\n",
              "      <td>0.2</td>\n",
              "    </tr>\n",
              "    <tr>\n",
              "      <th>1</th>\n",
              "      <td>2016-12-12</td>\n",
              "      <td>15.9</td>\n",
              "      <td>3.0</td>\n",
              "      <td>8.7</td>\n",
              "      <td>0.2</td>\n",
              "    </tr>\n",
              "    <tr>\n",
              "      <th>2</th>\n",
              "      <td>2016-11-12</td>\n",
              "      <td>16.9</td>\n",
              "      <td>5.0</td>\n",
              "      <td>10.2</td>\n",
              "      <td>0.2</td>\n",
              "    </tr>\n",
              "    <tr>\n",
              "      <th>3</th>\n",
              "      <td>2016-10-12</td>\n",
              "      <td>16.4</td>\n",
              "      <td>6.3</td>\n",
              "      <td>10.9</td>\n",
              "      <td>0.2</td>\n",
              "    </tr>\n",
              "    <tr>\n",
              "      <th>4</th>\n",
              "      <td>2016-09-12</td>\n",
              "      <td>13.6</td>\n",
              "      <td>9.5</td>\n",
              "      <td>11.2</td>\n",
              "      <td>1.8</td>\n",
              "    </tr>\n",
              "  </tbody>\n",
              "</table>\n",
              "</div>"
            ],
            "text/plain": [
              "        date  Al04TMax  Al04TMin  Al04TMed  Al04Precip\n",
              "0 2016-12-13      14.6       4.0       8.9         0.2\n",
              "1 2016-12-12      15.9       3.0       8.7         0.2\n",
              "2 2016-11-12      16.9       5.0      10.2         0.2\n",
              "3 2016-10-12      16.4       6.3      10.9         0.2\n",
              "4 2016-09-12      13.6       9.5      11.2         1.8"
            ]
          },
          "metadata": {
            "tags": []
          },
          "execution_count": 171
        }
      ]
    },
    {
      "cell_type": "code",
      "metadata": {
        "id": "PWFsjZ_AqOJy",
        "outputId": "f29207c9-341e-4dc9-a734-e8786f4c23eb",
        "colab": {
          "base_uri": "https://localhost:8080/",
          "height": 320
        }
      },
      "source": [
        "bikes = pd.read_csv('https://github.com/vfp1/bts-mbds-data-science-foundations-2019/raw/master/sessions/data/bikes.csv', sep=';', encoding='latin1', parse_dates=['Date'], dayfirst=True, index_col='Date')\n",
        "bikes['Berri 1'].plot()"
      ],
      "execution_count": null,
      "outputs": [
        {
          "output_type": "execute_result",
          "data": {
            "text/plain": [
              "<matplotlib.axes._subplots.AxesSubplot at 0x7f645b497a20>"
            ]
          },
          "metadata": {
            "tags": []
          },
          "execution_count": 172
        },
        {
          "output_type": "display_data",
          "data": {
            "image/png": "[encoded data removed]",
            "text/plain": [
              "<Figure size 432x288 with 1 Axes>"
            ]
          },
          "metadata": {
            "tags": []
          }
        }
      ]
    },
    {
      "cell_type": "markdown",
      "metadata": {
        "id": "39yM1EP7nxPD"
      },
      "source": [
        "## Cleaning data. Small example\n",
        "\n",
        "An example on data cleaning approaches with pandas"
      ]
    },
    {
      "cell_type": "code",
      "metadata": {
        "id": "OxRW-N9hnwQt",
        "outputId": "727e1bf3-1813-4820-cd0b-51f74de6b2a0",
        "colab": {
          "base_uri": "https://localhost:8080/",
          "height": 54
        }
      },
      "source": [
        "service_reqs = pd.read_csv(\"https://github.com/vfp1/bts-mbds-data-science-foundations-2019/raw/master/sessions/data/311-service-requests.csv\")"
      ],
      "execution_count": null,
      "outputs": [
        {
          "output_type": "stream",
          "text": [
            "/usr/local/lib/python3.6/dist-packages/IPython/core/interactiveshell.py:2718: DtypeWarning: Columns (8) have mixed types. Specify dtype option on import or set low_memory=False.\n",
            "  interactivity=interactivity, compiler=compiler, result=result)\n"
          ],
          "name": "stderr"
        }
      ]
    },
    {
      "cell_type": "code",
      "metadata": {
        "id": "7ACLh0RPtKF2",
        "outputId": "7984a552-5ab2-42c1-acc0-5fce40143ac2",
        "colab": {
          "base_uri": "https://localhost:8080/",
          "height": 460
        }
      },
      "source": [
        "service_reqs.head()"
      ],
      "execution_count": null,
      "outputs": [
        {
          "output_type": "execute_result",
          "data": {
            "text/html": [
              "<div>\n",
              "<style scoped>\n",
              "    .dataframe tbody tr th:only-of-type {\n",
              "        vertical-align: middle;\n",
              "    }\n",
              "\n",
              "    .dataframe tbody tr th {\n",
              "        vertical-align: top;\n",
              "    }\n",
              "\n",
              "    .dataframe thead th {\n",
              "        text-align: right;\n",
              "    }\n",
              "</style>\n",
              "<table border=\"1\" class=\"dataframe\">\n",
              "  <thead>\n",
              "    <tr style=\"text-align: right;\">\n",
              "      <th></th>\n",
              "      <th>Unique Key</th>\n",
              "      <th>Created Date</th>\n",
              "      <th>Closed Date</th>\n",
              "      <th>Agency</th>\n",
              "      <th>Agency Name</th>\n",
              "      <th>Complaint Type</th>\n",
              "      <th>Descriptor</th>\n",
              "      <th>Location Type</th>\n",
              "      <th>Incident Zip</th>\n",
              "      <th>Incident Address</th>\n",
              "      <th>Street Name</th>\n",
              "      <th>Cross Street 1</th>\n",
              "      <th>Cross Street 2</th>\n",
              "      <th>Intersection Street 1</th>\n",
              "      <th>Intersection Street 2</th>\n",
              "      <th>Address Type</th>\n",
              "      <th>City</th>\n",
              "      <th>Landmark</th>\n",
              "      <th>Facility Type</th>\n",
              "      <th>Status</th>\n",
              "      <th>Due Date</th>\n",
              "      <th>Resolution Action Updated Date</th>\n",
              "      <th>Community Board</th>\n",
              "      <th>Borough</th>\n",
              "      <th>X Coordinate (State Plane)</th>\n",
              "      <th>Y Coordinate (State Plane)</th>\n",
              "      <th>Park Facility Name</th>\n",
              "      <th>Park Borough</th>\n",
              "      <th>School Name</th>\n",
              "      <th>School Number</th>\n",
              "      <th>School Region</th>\n",
              "      <th>School Code</th>\n",
              "      <th>School Phone Number</th>\n",
              "      <th>School Address</th>\n",
              "      <th>School City</th>\n",
              "      <th>School State</th>\n",
              "      <th>School Zip</th>\n",
              "      <th>School Not Found</th>\n",
              "      <th>School or Citywide Complaint</th>\n",
              "      <th>Vehicle Type</th>\n",
              "      <th>Taxi Company Borough</th>\n",
              "      <th>Taxi Pick Up Location</th>\n",
              "      <th>Bridge Highway Name</th>\n",
              "      <th>Bridge Highway Direction</th>\n",
              "      <th>Road Ramp</th>\n",
              "      <th>Bridge Highway Segment</th>\n",
              "      <th>Garage Lot Name</th>\n",
              "      <th>Ferry Direction</th>\n",
              "      <th>Ferry Terminal Name</th>\n",
              "      <th>Latitude</th>\n",
              "      <th>Longitude</th>\n",
              "      <th>Location</th>\n",
              "    </tr>\n",
              "  </thead>\n",
              "  <tbody>\n",
              "    <tr>\n",
              "      <th>0</th>\n",
              "      <td>26589651</td>\n",
              "      <td>10/31/2013 02:08:41 AM</td>\n",
              "      <td>NaN</td>\n",
              "      <td>NYPD</td>\n",
              "      <td>New York City Police Department</td>\n",
              "      <td>Noise - Street/Sidewalk</td>\n",
              "      <td>Loud Talking</td>\n",
              "      <td>Street/Sidewalk</td>\n",
              "      <td>11432</td>\n",
              "      <td>90-03 169 STREET</td>\n",
              "      <td>169 STREET</td>\n",
              "      <td>90 AVENUE</td>\n",
              "      <td>91 AVENUE</td>\n",
              "      <td>NaN</td>\n",
              "      <td>NaN</td>\n",
              "      <td>ADDRESS</td>\n",
              "      <td>JAMAICA</td>\n",
              "      <td>NaN</td>\n",
              "      <td>Precinct</td>\n",
              "      <td>Assigned</td>\n",
              "      <td>10/31/2013 10:08:41 AM</td>\n",
              "      <td>10/31/2013 02:35:17 AM</td>\n",
              "      <td>12 QUEENS</td>\n",
              "      <td>QUEENS</td>\n",
              "      <td>1042027.0</td>\n",
              "      <td>197389.0</td>\n",
              "      <td>Unspecified</td>\n",
              "      <td>QUEENS</td>\n",
              "      <td>Unspecified</td>\n",
              "      <td>Unspecified</td>\n",
              "      <td>Unspecified</td>\n",
              "      <td>Unspecified</td>\n",
              "      <td>Unspecified</td>\n",
              "      <td>Unspecified</td>\n",
              "      <td>Unspecified</td>\n",
              "      <td>Unspecified</td>\n",
              "      <td>Unspecified</td>\n",
              "      <td>N</td>\n",
              "      <td>NaN</td>\n",
              "      <td>NaN</td>\n",
              "      <td>NaN</td>\n",
              "      <td>NaN</td>\n",
              "      <td>NaN</td>\n",
              "      <td>NaN</td>\n",
              "      <td>NaN</td>\n",
              "      <td>NaN</td>\n",
              "      <td>NaN</td>\n",
              "      <td>NaN</td>\n",
              "      <td>NaN</td>\n",
              "      <td>40.708275</td>\n",
              "      <td>-73.791604</td>\n",
              "      <td>(40.70827532593202, -73.79160395779721)</td>\n",
              "    </tr>\n",
              "    <tr>\n",
              "      <th>1</th>\n",
              "      <td>26593698</td>\n",
              "      <td>10/31/2013 02:01:04 AM</td>\n",
              "      <td>NaN</td>\n",
              "      <td>NYPD</td>\n",
              "      <td>New York City Police Department</td>\n",
              "      <td>Illegal Parking</td>\n",
              "      <td>Commercial Overnight Parking</td>\n",
              "      <td>Street/Sidewalk</td>\n",
              "      <td>11378</td>\n",
              "      <td>58 AVENUE</td>\n",
              "      <td>58 AVENUE</td>\n",
              "      <td>58 PLACE</td>\n",
              "      <td>59 STREET</td>\n",
              "      <td>NaN</td>\n",
              "      <td>NaN</td>\n",
              "      <td>BLOCKFACE</td>\n",
              "      <td>MASPETH</td>\n",
              "      <td>NaN</td>\n",
              "      <td>Precinct</td>\n",
              "      <td>Open</td>\n",
              "      <td>10/31/2013 10:01:04 AM</td>\n",
              "      <td>NaN</td>\n",
              "      <td>05 QUEENS</td>\n",
              "      <td>QUEENS</td>\n",
              "      <td>1009349.0</td>\n",
              "      <td>201984.0</td>\n",
              "      <td>Unspecified</td>\n",
              "      <td>QUEENS</td>\n",
              "      <td>Unspecified</td>\n",
              "      <td>Unspecified</td>\n",
              "      <td>Unspecified</td>\n",
              "      <td>Unspecified</td>\n",
              "      <td>Unspecified</td>\n",
              "      <td>Unspecified</td>\n",
              "      <td>Unspecified</td>\n",
              "      <td>Unspecified</td>\n",
              "      <td>Unspecified</td>\n",
              "      <td>N</td>\n",
              "      <td>NaN</td>\n",
              "      <td>NaN</td>\n",
              "      <td>NaN</td>\n",
              "      <td>NaN</td>\n",
              "      <td>NaN</td>\n",
              "      <td>NaN</td>\n",
              "      <td>NaN</td>\n",
              "      <td>NaN</td>\n",
              "      <td>NaN</td>\n",
              "      <td>NaN</td>\n",
              "      <td>NaN</td>\n",
              "      <td>40.721041</td>\n",
              "      <td>-73.909453</td>\n",
              "      <td>(40.721040535628305, -73.90945306791765)</td>\n",
              "    </tr>\n",
              "    <tr>\n",
              "      <th>2</th>\n",
              "      <td>26594139</td>\n",
              "      <td>10/31/2013 02:00:24 AM</td>\n",
              "      <td>10/31/2013 02:40:32 AM</td>\n",
              "      <td>NYPD</td>\n",
              "      <td>New York City Police Department</td>\n",
              "      <td>Noise - Commercial</td>\n",
              "      <td>Loud Music/Party</td>\n",
              "      <td>Club/Bar/Restaurant</td>\n",
              "      <td>10032</td>\n",
              "      <td>4060 BROADWAY</td>\n",
              "      <td>BROADWAY</td>\n",
              "      <td>WEST 171 STREET</td>\n",
              "      <td>WEST 172 STREET</td>\n",
              "      <td>NaN</td>\n",
              "      <td>NaN</td>\n",
              "      <td>ADDRESS</td>\n",
              "      <td>NEW YORK</td>\n",
              "      <td>NaN</td>\n",
              "      <td>Precinct</td>\n",
              "      <td>Closed</td>\n",
              "      <td>10/31/2013 10:00:24 AM</td>\n",
              "      <td>10/31/2013 02:39:42 AM</td>\n",
              "      <td>12 MANHATTAN</td>\n",
              "      <td>MANHATTAN</td>\n",
              "      <td>1001088.0</td>\n",
              "      <td>246531.0</td>\n",
              "      <td>Unspecified</td>\n",
              "      <td>MANHATTAN</td>\n",
              "      <td>Unspecified</td>\n",
              "      <td>Unspecified</td>\n",
              "      <td>Unspecified</td>\n",
              "      <td>Unspecified</td>\n",
              "      <td>Unspecified</td>\n",
              "      <td>Unspecified</td>\n",
              "      <td>Unspecified</td>\n",
              "      <td>Unspecified</td>\n",
              "      <td>Unspecified</td>\n",
              "      <td>N</td>\n",
              "      <td>NaN</td>\n",
              "      <td>NaN</td>\n",
              "      <td>NaN</td>\n",
              "      <td>NaN</td>\n",
              "      <td>NaN</td>\n",
              "      <td>NaN</td>\n",
              "      <td>NaN</td>\n",
              "      <td>NaN</td>\n",
              "      <td>NaN</td>\n",
              "      <td>NaN</td>\n",
              "      <td>NaN</td>\n",
              "      <td>40.843330</td>\n",
              "      <td>-73.939144</td>\n",
              "      <td>(40.84332975466513, -73.93914371913482)</td>\n",
              "    </tr>\n",
              "    <tr>\n",
              "      <th>3</th>\n",
              "      <td>26595721</td>\n",
              "      <td>10/31/2013 01:56:23 AM</td>\n",
              "      <td>10/31/2013 02:21:48 AM</td>\n",
              "      <td>NYPD</td>\n",
              "      <td>New York City Police Department</td>\n",
              "      <td>Noise - Vehicle</td>\n",
              "      <td>Car/Truck Horn</td>\n",
              "      <td>Street/Sidewalk</td>\n",
              "      <td>10023</td>\n",
              "      <td>WEST 72 STREET</td>\n",
              "      <td>WEST 72 STREET</td>\n",
              "      <td>COLUMBUS AVENUE</td>\n",
              "      <td>AMSTERDAM AVENUE</td>\n",
              "      <td>NaN</td>\n",
              "      <td>NaN</td>\n",
              "      <td>BLOCKFACE</td>\n",
              "      <td>NEW YORK</td>\n",
              "      <td>NaN</td>\n",
              "      <td>Precinct</td>\n",
              "      <td>Closed</td>\n",
              "      <td>10/31/2013 09:56:23 AM</td>\n",
              "      <td>10/31/2013 02:21:10 AM</td>\n",
              "      <td>07 MANHATTAN</td>\n",
              "      <td>MANHATTAN</td>\n",
              "      <td>989730.0</td>\n",
              "      <td>222727.0</td>\n",
              "      <td>Unspecified</td>\n",
              "      <td>MANHATTAN</td>\n",
              "      <td>Unspecified</td>\n",
              "      <td>Unspecified</td>\n",
              "      <td>Unspecified</td>\n",
              "      <td>Unspecified</td>\n",
              "      <td>Unspecified</td>\n",
              "      <td>Unspecified</td>\n",
              "      <td>Unspecified</td>\n",
              "      <td>Unspecified</td>\n",
              "      <td>Unspecified</td>\n",
              "      <td>N</td>\n",
              "      <td>NaN</td>\n",
              "      <td>NaN</td>\n",
              "      <td>NaN</td>\n",
              "      <td>NaN</td>\n",
              "      <td>NaN</td>\n",
              "      <td>NaN</td>\n",
              "      <td>NaN</td>\n",
              "      <td>NaN</td>\n",
              "      <td>NaN</td>\n",
              "      <td>NaN</td>\n",
              "      <td>NaN</td>\n",
              "      <td>40.778009</td>\n",
              "      <td>-73.980213</td>\n",
              "      <td>(40.7780087446372, -73.98021349023975)</td>\n",
              "    </tr>\n",
              "    <tr>\n",
              "      <th>4</th>\n",
              "      <td>26590930</td>\n",
              "      <td>10/31/2013 01:53:44 AM</td>\n",
              "      <td>NaN</td>\n",
              "      <td>DOHMH</td>\n",
              "      <td>Department of Health and Mental Hygiene</td>\n",
              "      <td>Rodent</td>\n",
              "      <td>Condition Attracting Rodents</td>\n",
              "      <td>Vacant Lot</td>\n",
              "      <td>10027</td>\n",
              "      <td>WEST 124 STREET</td>\n",
              "      <td>WEST 124 STREET</td>\n",
              "      <td>LENOX AVENUE</td>\n",
              "      <td>ADAM CLAYTON POWELL JR BOULEVARD</td>\n",
              "      <td>NaN</td>\n",
              "      <td>NaN</td>\n",
              "      <td>BLOCKFACE</td>\n",
              "      <td>NEW YORK</td>\n",
              "      <td>NaN</td>\n",
              "      <td>NaN</td>\n",
              "      <td>Pending</td>\n",
              "      <td>11/30/2013 01:53:44 AM</td>\n",
              "      <td>10/31/2013 01:59:54 AM</td>\n",
              "      <td>10 MANHATTAN</td>\n",
              "      <td>MANHATTAN</td>\n",
              "      <td>998815.0</td>\n",
              "      <td>233545.0</td>\n",
              "      <td>Unspecified</td>\n",
              "      <td>MANHATTAN</td>\n",
              "      <td>Unspecified</td>\n",
              "      <td>Unspecified</td>\n",
              "      <td>Unspecified</td>\n",
              "      <td>Unspecified</td>\n",
              "      <td>Unspecified</td>\n",
              "      <td>Unspecified</td>\n",
              "      <td>Unspecified</td>\n",
              "      <td>Unspecified</td>\n",
              "      <td>Unspecified</td>\n",
              "      <td>N</td>\n",
              "      <td>NaN</td>\n",
              "      <td>NaN</td>\n",
              "      <td>NaN</td>\n",
              "      <td>NaN</td>\n",
              "      <td>NaN</td>\n",
              "      <td>NaN</td>\n",
              "      <td>NaN</td>\n",
              "      <td>NaN</td>\n",
              "      <td>NaN</td>\n",
              "      <td>NaN</td>\n",
              "      <td>NaN</td>\n",
              "      <td>40.807691</td>\n",
              "      <td>-73.947387</td>\n",
              "      <td>(40.80769092704951, -73.94738703491433)</td>\n",
              "    </tr>\n",
              "  </tbody>\n",
              "</table>\n",
              "</div>"
            ],
            "text/plain": [
              "   Unique Key  ...                                  Location\n",
              "0    26589651  ...   (40.70827532593202, -73.79160395779721)\n",
              "1    26593698  ...  (40.721040535628305, -73.90945306791765)\n",
              "2    26594139  ...   (40.84332975466513, -73.93914371913482)\n",
              "3    26595721  ...    (40.7780087446372, -73.98021349023975)\n",
              "4    26590930  ...   (40.80769092704951, -73.94738703491433)\n",
              "\n",
              "[5 rows x 52 columns]"
            ]
          },
          "metadata": {
            "tags": []
          },
          "execution_count": 174
        }
      ]
    },
    {
      "cell_type": "code",
      "metadata": {
        "id": "LtYoREuptN4v",
        "outputId": "62cb8e99-c7d4-41a9-e146-9d66198803c0",
        "colab": {
          "base_uri": "https://localhost:8080/",
          "height": 1000
        }
      },
      "source": [
        "service_reqs['Incident Zip'].unique()\n"
      ],
      "execution_count": null,
      "outputs": [
        {
          "output_type": "execute_result",
          "data": {
            "text/plain": [
              "array([11432.0, 11378.0, 10032.0, 10023.0, 10027.0, 11372.0, 11419.0,\n",
              "       11417.0, 10011.0, 11225.0, 11218.0, 10003.0, 10029.0, 10466.0,\n",
              "       11219.0, 10025.0, 10310.0, 11236.0, nan, 10033.0, 11216.0, 10016.0,\n",
              "       10305.0, 10312.0, 10026.0, 10309.0, 10036.0, 11433.0, 11235.0,\n",
              "       11213.0, 11379.0, 11101.0, 10014.0, 11231.0, 11234.0, 10457.0,\n",
              "       10459.0, 10465.0, 11207.0, 10002.0, 10034.0, 11233.0, 10453.0,\n",
              "       10456.0, 10469.0, 11374.0, 11221.0, 11421.0, 11215.0, 10007.0,\n",
              "       10019.0, 11205.0, 11418.0, 11369.0, 11249.0, 10005.0, 10009.0,\n",
              "       11211.0, 11412.0, 10458.0, 11229.0, 10065.0, 10030.0, 11222.0,\n",
              "       10024.0, 10013.0, 11420.0, 11365.0, 10012.0, 11214.0, 11212.0,\n",
              "       10022.0, 11232.0, 11040.0, 11226.0, 10281.0, 11102.0, 11208.0,\n",
              "       10001.0, 10472.0, 11414.0, 11223.0, 10040.0, 11220.0, 11373.0,\n",
              "       11203.0, 11691.0, 11356.0, 10017.0, 10452.0, 10280.0, 11217.0,\n",
              "       10031.0, 11201.0, 11358.0, 10128.0, 11423.0, 10039.0, 10010.0,\n",
              "       11209.0, 10021.0, 10037.0, 11413.0, 11375.0, 11238.0, 10473.0,\n",
              "       11103.0, 11354.0, 11361.0, 11106.0, 11385.0, 10463.0, 10467.0,\n",
              "       11204.0, 11237.0, 11377.0, 11364.0, 11434.0, 11435.0, 11210.0,\n",
              "       11228.0, 11368.0, 11694.0, 10464.0, 11415.0, 10314.0, 10301.0,\n",
              "       10018.0, 10038.0, 11105.0, 11230.0, 10468.0, 11104.0, 10471.0,\n",
              "       11416.0, 10075.0, 11422.0, 11355.0, 10028.0, 10462.0, 10306.0,\n",
              "       10461.0, 11224.0, 11429.0, 10035.0, 11366.0, 11362.0, 11206.0,\n",
              "       10460.0, 10304.0, 11360.0, 11411.0, 10455.0, 10475.0, 10069.0,\n",
              "       10303.0, 10308.0, 10302.0, 11357.0, 10470.0, 11367.0, 11370.0,\n",
              "       10454.0, 10451.0, 11436.0, 11426.0, 10153.0, 11004.0, 11428.0,\n",
              "       11427.0, 11001.0, 11363.0, 10004.0, 10474.0, 11430.0, 10000.0,\n",
              "       10307.0, 11239.0, 10119.0, 10006.0, 10048.0, 11697.0, 11692.0,\n",
              "       11693.0, 10573.0, 83.0, 11559.0, 10020.0, 77056.0, 11776.0,\n",
              "       70711.0, 10282.0, 11109.0, 10044.0, '10452', '11233', '10468',\n",
              "       '10310', '11105', '10462', '10029', '10301', '10457', '10467',\n",
              "       '10469', '11225', '10035', '10031', '11226', '10454', '11221',\n",
              "       '10025', '11229', '11235', '11422', '10472', '11208', '11102',\n",
              "       '10032', '11216', '10473', '10463', '11213', '10040', '10302',\n",
              "       '11231', '10470', '11204', '11104', '11212', '10466', '11416',\n",
              "       '11214', '10009', '11692', '11385', '11423', '11201', '10024',\n",
              "       '11435', '10312', '10030', '11106', '10033', '10303', '11215',\n",
              "       '11222', '11354', '10016', '10034', '11420', '10304', '10019',\n",
              "       '11237', '11249', '11230', '11372', '11207', '11378', '11419',\n",
              "       '11361', '10011', '11357', '10012', '11358', '10003', '10002',\n",
              "       '11374', '10007', '11234', '10065', '11369', '11434', '11205',\n",
              "       '11206', '11415', '11236', '11218', '11413', '10458', '11101',\n",
              "       '10306', '11355', '10023', '11368', '10314', '11421', '10010',\n",
              "       '10018', '11223', '10455', '11377', '11433', '11375', '10037',\n",
              "       '11209', '10459', '10128', '10014', '10282', '11373', '10451',\n",
              "       '11238', '11211', '10038', '11694', '11203', '11691', '11232',\n",
              "       '10305', '10021', '11228', '10036', '10001', '10017', '11217',\n",
              "       '11219', '10308', '10465', '11379', '11414', '10460', '11417',\n",
              "       '11220', '11366', '10027', '11370', '10309', '11412', '11356',\n",
              "       '10456', '11432', '10022', '10013', '11367', '11040', '10026',\n",
              "       '10475', '11210', '11364', '11426', '10471', '10119', '11224',\n",
              "       '11418', '11429', '11365', '10461', '11239', '10039', '00083',\n",
              "       '11411', '10075', '11004', '11360', '10453', '10028', '11430',\n",
              "       '10307', '11103', '10004', '10069', '10005', '10474', '11428',\n",
              "       '11436', '10020', '11001', '11362', '11693', '10464', '11427',\n",
              "       '10044', '11363', '10006', '10000', '02061', '77092-2016', '10280',\n",
              "       '11109', '14225', '55164-0737', '19711', '07306', '000000',\n",
              "       'NO CLUE', '90010', '10281', '11747', '23541', '11776', '11697',\n",
              "       '11788', '07604', 10112.0, 11788.0, 11563.0, 11580.0, 7087.0,\n",
              "       11042.0, 7093.0, 11501.0, 92123.0, 0.0, 11575.0, 7109.0, 11797.0,\n",
              "       '10803', '11716', '11722', '11549-3650', '10162', '92123', '23502',\n",
              "       '11518', '07020', '08807', '11577', '07114', '11003', '07201',\n",
              "       '11563', '61702', '10103', '29616-0759', '35209-3114', '11520',\n",
              "       '11735', '10129', '11005', '41042', '11590', 6901.0, 7208.0,\n",
              "       11530.0, 13221.0, 10954.0, 11735.0, 10103.0, 7114.0, 11111.0,\n",
              "       10107.0], dtype=object)"
            ]
          },
          "metadata": {
            "tags": []
          },
          "execution_count": 175
        }
      ]
    },
    {
      "cell_type": "code",
      "metadata": {
        "id": "tknbh8jxuoWb",
        "outputId": "2c9c014b-5673-4298-878c-d34cf292cbb8",
        "colab": {
          "base_uri": "https://localhost:8080/",
          "height": 1000
        }
      },
      "source": [
        "service_reqs['Incident Zip'].value_counts()"
      ],
      "execution_count": null,
      "outputs": [
        {
          "output_type": "execute_result",
          "data": {
            "text/plain": [
              "11226         1226\n",
              "10467         1038\n",
              "10458          939\n",
              "11233          900\n",
              "11221          809\n",
              "10468          788\n",
              "11207          785\n",
              "11226.0        770\n",
              "10457          720\n",
              "10032          707\n",
              "10031          705\n",
              "11208          683\n",
              "10453          682\n",
              "11225          675\n",
              "11212          663\n",
              "11203          659\n",
              "11230          657\n",
              "11235          634\n",
              "11238          631\n",
              "11216          631\n",
              "11385          627\n",
              "10456          624\n",
              "10458.0        603\n",
              "10467.0        590\n",
              "10466          572\n",
              "11207.0        570\n",
              "11213          563\n",
              "10025          560\n",
              "10452          557\n",
              "11218          554\n",
              "              ... \n",
              "61702            1\n",
              "70711.0          1\n",
              "11776            1\n",
              "07201            1\n",
              "11577            1\n",
              "NO CLUE          1\n",
              "6901.0           1\n",
              "7087.0           1\n",
              "7093.0           1\n",
              "35209-3114       1\n",
              "7109.0           1\n",
              "7114.0           1\n",
              "7208.0           1\n",
              "11005            1\n",
              "10129            1\n",
              "11520            1\n",
              "11747            1\n",
              "11735            1\n",
              "14225            1\n",
              "000000           1\n",
              "10803            1\n",
              "11590            1\n",
              "10107.0          1\n",
              "92123.0          1\n",
              "11549-3650       1\n",
              "08807            1\n",
              "10573.0          1\n",
              "10954.0          1\n",
              "11716            1\n",
              "0.0              1\n",
              "Name: Incident Zip, Length: 441, dtype: int64"
            ]
          },
          "metadata": {
            "tags": []
          },
          "execution_count": 176
        }
      ]
    },
    {
      "cell_type": "markdown",
      "metadata": {
        "id": "oiQHyOlptkVP"
      },
      "source": [
        "To get a sense for whether a column has problems, we can use .unique() to look at all its values. If it's a numeric column, we can plot a histogram to get a sense of the distribution.\n",
        "\n",
        "What we can do with this dataset:\n",
        "\n",
        "* Normalize 'N/A' and 'NO CLUE' into regular nan values\n",
        "* Look at what's up with the 83, and decide what to do\n",
        "* Make everything strings"
      ]
    },
    {
      "cell_type": "markdown",
      "metadata": {
        "id": "29xsIizeuNV5"
      },
      "source": [
        "We can pass na_values option to the read_csv method, to clean NaNs with the strings of the weird stuff we have seen. To make things easier, we can specify that the *Incident Zip* is a string, not a float, dashed number or whatever."
      ]
    },
    {
      "cell_type": "code",
      "metadata": {
        "id": "3pqvtf2Tt7SH"
      },
      "source": [
        "pd.read_csv()\n",
        "na_values = ['NO CLUE', 'N/A', '0']\n",
        "requests = pd.read_csv('https://github.com/vfp1/bts-mbds-data-science-foundations-2019/raw/master/sessions/data/311-service-requests.csv', \n",
        "                       na_values=na_values, dtype={'Incident Zip': str})"
      ],
      "execution_count": null,
      "outputs": []
    },
    {
      "cell_type": "code",
      "metadata": {
        "id": "KVBsg7xRvOs9",
        "outputId": "8aeea409-54c6-45af-c667-7ae381662b3e",
        "colab": {
          "base_uri": "https://localhost:8080/",
          "height": 672
        }
      },
      "source": [
        "requests['Incident Zip'].unique()"
      ],
      "execution_count": null,
      "outputs": [
        {
          "output_type": "execute_result",
          "data": {
            "text/plain": [
              "array(['11432', '11378', '10032', '10023', '10027', '11372', '11419',\n",
              "       '11417', '10011', '11225', '11218', '10003', '10029', '10466',\n",
              "       '11219', '10025', '10310', '11236', nan, '10033', '11216', '10016',\n",
              "       '10305', '10312', '10026', '10309', '10036', '11433', '11235',\n",
              "       '11213', '11379', '11101', '10014', '11231', '11234', '10457',\n",
              "       '10459', '10465', '11207', '10002', '10034', '11233', '10453',\n",
              "       '10456', '10469', '11374', '11221', '11421', '11215', '10007',\n",
              "       '10019', '11205', '11418', '11369', '11249', '10005', '10009',\n",
              "       '11211', '11412', '10458', '11229', '10065', '10030', '11222',\n",
              "       '10024', '10013', '11420', '11365', '10012', '11214', '11212',\n",
              "       '10022', '11232', '11040', '11226', '10281', '11102', '11208',\n",
              "       '10001', '10472', '11414', '11223', '10040', '11220', '11373',\n",
              "       '11203', '11691', '11356', '10017', '10452', '10280', '11217',\n",
              "       '10031', '11201', '11358', '10128', '11423', '10039', '10010',\n",
              "       '11209', '10021', '10037', '11413', '11375', '11238', '10473',\n",
              "       '11103', '11354', '11361', '11106', '11385', '10463', '10467',\n",
              "       '11204', '11237', '11377', '11364', '11434', '11435', '11210',\n",
              "       '11228', '11368', '11694', '10464', '11415', '10314', '10301',\n",
              "       '10018', '10038', '11105', '11230', '10468', '11104', '10471',\n",
              "       '11416', '10075', '11422', '11355', '10028', '10462', '10306',\n",
              "       '10461', '11224', '11429', '10035', '11366', '11362', '11206',\n",
              "       '10460', '10304', '11360', '11411', '10455', '10475', '10069',\n",
              "       '10303', '10308', '10302', '11357', '10470', '11367', '11370',\n",
              "       '10454', '10451', '11436', '11426', '10153', '11004', '11428',\n",
              "       '11427', '11001', '11363', '10004', '10474', '11430', '10000',\n",
              "       '10307', '11239', '10119', '10006', '10048', '11697', '11692',\n",
              "       '11693', '10573', '00083', '11559', '10020', '77056', '11776',\n",
              "       '70711', '10282', '11109', '10044', '02061', '77092-2016', '14225',\n",
              "       '55164-0737', '19711', '07306', '000000', '90010', '11747',\n",
              "       '23541', '11788', '07604', '10112', '11563', '11580', '07087',\n",
              "       '11042', '07093', '11501', '92123', '00000', '11575', '07109',\n",
              "       '11797', '10803', '11716', '11722', '11549-3650', '10162', '23502',\n",
              "       '11518', '07020', '08807', '11577', '07114', '11003', '07201',\n",
              "       '61702', '10103', '29616-0759', '35209-3114', '11520', '11735',\n",
              "       '10129', '11005', '41042', '11590', '06901', '07208', '11530',\n",
              "       '13221', '10954', '11111', '10107'], dtype=object)"
            ]
          },
          "metadata": {
            "tags": []
          },
          "execution_count": 178
        }
      ]
    },
    {
      "cell_type": "markdown",
      "metadata": {
        "id": "zsd9apMGvjx7"
      },
      "source": [
        "Let's try to fix the dashes"
      ]
    },
    {
      "cell_type": "code",
      "metadata": {
        "id": "oCainXScvRfO",
        "outputId": "62c2c01c-bca8-44f8-d599-358b23e06097",
        "colab": {
          "base_uri": "https://localhost:8080/",
          "height": 35
        }
      },
      "source": [
        "rows_with_dashes = requests['Incident Zip'].str.contains('-').fillna(False)\n",
        "len(requests[rows_with_dashes])"
      ],
      "execution_count": null,
      "outputs": [
        {
          "output_type": "execute_result",
          "data": {
            "text/plain": [
              "5"
            ]
          },
          "metadata": {
            "tags": []
          },
          "execution_count": 179
        }
      ]
    },
    {
      "cell_type": "code",
      "metadata": {
        "id": "M91qgvZTv0l_",
        "outputId": "91b72f25-1678-40b4-d0a4-aeacbf5bc22c",
        "colab": {
          "base_uri": "https://localhost:8080/",
          "height": 512
        }
      },
      "source": [
        "requests[rows_with_dashes]\n"
      ],
      "execution_count": null,
      "outputs": [
        {
          "output_type": "execute_result",
          "data": {
            "text/html": [
              "<div>\n",
              "<style scoped>\n",
              "    .dataframe tbody tr th:only-of-type {\n",
              "        vertical-align: middle;\n",
              "    }\n",
              "\n",
              "    .dataframe tbody tr th {\n",
              "        vertical-align: top;\n",
              "    }\n",
              "\n",
              "    .dataframe thead th {\n",
              "        text-align: right;\n",
              "    }\n",
              "</style>\n",
              "<table border=\"1\" class=\"dataframe\">\n",
              "  <thead>\n",
              "    <tr style=\"text-align: right;\">\n",
              "      <th></th>\n",
              "      <th>Unique Key</th>\n",
              "      <th>Created Date</th>\n",
              "      <th>Closed Date</th>\n",
              "      <th>Agency</th>\n",
              "      <th>Agency Name</th>\n",
              "      <th>Complaint Type</th>\n",
              "      <th>Descriptor</th>\n",
              "      <th>Location Type</th>\n",
              "      <th>Incident Zip</th>\n",
              "      <th>Incident Address</th>\n",
              "      <th>Street Name</th>\n",
              "      <th>Cross Street 1</th>\n",
              "      <th>Cross Street 2</th>\n",
              "      <th>Intersection Street 1</th>\n",
              "      <th>Intersection Street 2</th>\n",
              "      <th>Address Type</th>\n",
              "      <th>City</th>\n",
              "      <th>Landmark</th>\n",
              "      <th>Facility Type</th>\n",
              "      <th>Status</th>\n",
              "      <th>Due Date</th>\n",
              "      <th>Resolution Action Updated Date</th>\n",
              "      <th>Community Board</th>\n",
              "      <th>Borough</th>\n",
              "      <th>X Coordinate (State Plane)</th>\n",
              "      <th>Y Coordinate (State Plane)</th>\n",
              "      <th>Park Facility Name</th>\n",
              "      <th>Park Borough</th>\n",
              "      <th>School Name</th>\n",
              "      <th>School Number</th>\n",
              "      <th>School Region</th>\n",
              "      <th>School Code</th>\n",
              "      <th>School Phone Number</th>\n",
              "      <th>School Address</th>\n",
              "      <th>School City</th>\n",
              "      <th>School State</th>\n",
              "      <th>School Zip</th>\n",
              "      <th>School Not Found</th>\n",
              "      <th>School or Citywide Complaint</th>\n",
              "      <th>Vehicle Type</th>\n",
              "      <th>Taxi Company Borough</th>\n",
              "      <th>Taxi Pick Up Location</th>\n",
              "      <th>Bridge Highway Name</th>\n",
              "      <th>Bridge Highway Direction</th>\n",
              "      <th>Road Ramp</th>\n",
              "      <th>Bridge Highway Segment</th>\n",
              "      <th>Garage Lot Name</th>\n",
              "      <th>Ferry Direction</th>\n",
              "      <th>Ferry Terminal Name</th>\n",
              "      <th>Latitude</th>\n",
              "      <th>Longitude</th>\n",
              "      <th>Location</th>\n",
              "    </tr>\n",
              "  </thead>\n",
              "  <tbody>\n",
              "    <tr>\n",
              "      <th>29136</th>\n",
              "      <td>26550551</td>\n",
              "      <td>10/24/2013 06:16:34 PM</td>\n",
              "      <td>NaN</td>\n",
              "      <td>DCA</td>\n",
              "      <td>Department of Consumer Affairs</td>\n",
              "      <td>Consumer Complaint</td>\n",
              "      <td>False Advertising</td>\n",
              "      <td>NaN</td>\n",
              "      <td>77092-2016</td>\n",
              "      <td>2700 EAST SELTICE WAY</td>\n",
              "      <td>EAST SELTICE WAY</td>\n",
              "      <td>NaN</td>\n",
              "      <td>NaN</td>\n",
              "      <td>NaN</td>\n",
              "      <td>NaN</td>\n",
              "      <td>NaN</td>\n",
              "      <td>HOUSTON</td>\n",
              "      <td>NaN</td>\n",
              "      <td>NaN</td>\n",
              "      <td>Assigned</td>\n",
              "      <td>11/13/2013 11:15:20 AM</td>\n",
              "      <td>10/29/2013 11:16:16 AM</td>\n",
              "      <td>0 Unspecified</td>\n",
              "      <td>Unspecified</td>\n",
              "      <td>NaN</td>\n",
              "      <td>NaN</td>\n",
              "      <td>Unspecified</td>\n",
              "      <td>Unspecified</td>\n",
              "      <td>Unspecified</td>\n",
              "      <td>Unspecified</td>\n",
              "      <td>Unspecified</td>\n",
              "      <td>Unspecified</td>\n",
              "      <td>Unspecified</td>\n",
              "      <td>Unspecified</td>\n",
              "      <td>Unspecified</td>\n",
              "      <td>Unspecified</td>\n",
              "      <td>Unspecified</td>\n",
              "      <td>N</td>\n",
              "      <td>NaN</td>\n",
              "      <td>NaN</td>\n",
              "      <td>NaN</td>\n",
              "      <td>NaN</td>\n",
              "      <td>NaN</td>\n",
              "      <td>NaN</td>\n",
              "      <td>NaN</td>\n",
              "      <td>NaN</td>\n",
              "      <td>NaN</td>\n",
              "      <td>NaN</td>\n",
              "      <td>NaN</td>\n",
              "      <td>NaN</td>\n",
              "      <td>NaN</td>\n",
              "      <td>NaN</td>\n",
              "    </tr>\n",
              "    <tr>\n",
              "      <th>30939</th>\n",
              "      <td>26548831</td>\n",
              "      <td>10/24/2013 09:35:10 AM</td>\n",
              "      <td>NaN</td>\n",
              "      <td>DCA</td>\n",
              "      <td>Department of Consumer Affairs</td>\n",
              "      <td>Consumer Complaint</td>\n",
              "      <td>Harassment</td>\n",
              "      <td>NaN</td>\n",
              "      <td>55164-0737</td>\n",
              "      <td>P.O. BOX 64437</td>\n",
              "      <td>64437</td>\n",
              "      <td>NaN</td>\n",
              "      <td>NaN</td>\n",
              "      <td>NaN</td>\n",
              "      <td>NaN</td>\n",
              "      <td>NaN</td>\n",
              "      <td>ST. PAUL</td>\n",
              "      <td>NaN</td>\n",
              "      <td>NaN</td>\n",
              "      <td>Assigned</td>\n",
              "      <td>11/13/2013 02:30:21 PM</td>\n",
              "      <td>10/29/2013 02:31:06 PM</td>\n",
              "      <td>0 Unspecified</td>\n",
              "      <td>Unspecified</td>\n",
              "      <td>NaN</td>\n",
              "      <td>NaN</td>\n",
              "      <td>Unspecified</td>\n",
              "      <td>Unspecified</td>\n",
              "      <td>Unspecified</td>\n",
              "      <td>Unspecified</td>\n",
              "      <td>Unspecified</td>\n",
              "      <td>Unspecified</td>\n",
              "      <td>Unspecified</td>\n",
              "      <td>Unspecified</td>\n",
              "      <td>Unspecified</td>\n",
              "      <td>Unspecified</td>\n",
              "      <td>Unspecified</td>\n",
              "      <td>N</td>\n",
              "      <td>NaN</td>\n",
              "      <td>NaN</td>\n",
              "      <td>NaN</td>\n",
              "      <td>NaN</td>\n",
              "      <td>NaN</td>\n",
              "      <td>NaN</td>\n",
              "      <td>NaN</td>\n",
              "      <td>NaN</td>\n",
              "      <td>NaN</td>\n",
              "      <td>NaN</td>\n",
              "      <td>NaN</td>\n",
              "      <td>NaN</td>\n",
              "      <td>NaN</td>\n",
              "      <td>NaN</td>\n",
              "    </tr>\n",
              "    <tr>\n",
              "      <th>70539</th>\n",
              "      <td>26488417</td>\n",
              "      <td>10/15/2013 03:40:33 PM</td>\n",
              "      <td>NaN</td>\n",
              "      <td>TLC</td>\n",
              "      <td>Taxi and Limousine Commission</td>\n",
              "      <td>Taxi Complaint</td>\n",
              "      <td>Driver Complaint</td>\n",
              "      <td>Street</td>\n",
              "      <td>11549-3650</td>\n",
              "      <td>365 HOFSTRA UNIVERSITY</td>\n",
              "      <td>HOFSTRA UNIVERSITY</td>\n",
              "      <td>NaN</td>\n",
              "      <td>NaN</td>\n",
              "      <td>NaN</td>\n",
              "      <td>NaN</td>\n",
              "      <td>NaN</td>\n",
              "      <td>HEMSTEAD</td>\n",
              "      <td>NaN</td>\n",
              "      <td>NaN</td>\n",
              "      <td>Assigned</td>\n",
              "      <td>11/30/2013 01:20:33 PM</td>\n",
              "      <td>10/16/2013 01:21:39 PM</td>\n",
              "      <td>0 Unspecified</td>\n",
              "      <td>Unspecified</td>\n",
              "      <td>NaN</td>\n",
              "      <td>NaN</td>\n",
              "      <td>Unspecified</td>\n",
              "      <td>Unspecified</td>\n",
              "      <td>Unspecified</td>\n",
              "      <td>Unspecified</td>\n",
              "      <td>Unspecified</td>\n",
              "      <td>Unspecified</td>\n",
              "      <td>Unspecified</td>\n",
              "      <td>Unspecified</td>\n",
              "      <td>Unspecified</td>\n",
              "      <td>Unspecified</td>\n",
              "      <td>Unspecified</td>\n",
              "      <td>N</td>\n",
              "      <td>NaN</td>\n",
              "      <td>NaN</td>\n",
              "      <td>NaN</td>\n",
              "      <td>La Guardia Airport</td>\n",
              "      <td>NaN</td>\n",
              "      <td>NaN</td>\n",
              "      <td>NaN</td>\n",
              "      <td>NaN</td>\n",
              "      <td>NaN</td>\n",
              "      <td>NaN</td>\n",
              "      <td>NaN</td>\n",
              "      <td>NaN</td>\n",
              "      <td>NaN</td>\n",
              "      <td>NaN</td>\n",
              "    </tr>\n",
              "    <tr>\n",
              "      <th>85821</th>\n",
              "      <td>26468296</td>\n",
              "      <td>10/10/2013 12:36:43 PM</td>\n",
              "      <td>10/26/2013 01:07:07 AM</td>\n",
              "      <td>DCA</td>\n",
              "      <td>Department of Consumer Affairs</td>\n",
              "      <td>Consumer Complaint</td>\n",
              "      <td>Debt Not Owed</td>\n",
              "      <td>NaN</td>\n",
              "      <td>29616-0759</td>\n",
              "      <td>PO BOX 25759</td>\n",
              "      <td>BOX 25759</td>\n",
              "      <td>NaN</td>\n",
              "      <td>NaN</td>\n",
              "      <td>NaN</td>\n",
              "      <td>NaN</td>\n",
              "      <td>NaN</td>\n",
              "      <td>GREENVILLE</td>\n",
              "      <td>NaN</td>\n",
              "      <td>NaN</td>\n",
              "      <td>Closed</td>\n",
              "      <td>10/26/2013 09:20:28 AM</td>\n",
              "      <td>10/26/2013 01:07:07 AM</td>\n",
              "      <td>0 Unspecified</td>\n",
              "      <td>Unspecified</td>\n",
              "      <td>NaN</td>\n",
              "      <td>NaN</td>\n",
              "      <td>Unspecified</td>\n",
              "      <td>Unspecified</td>\n",
              "      <td>Unspecified</td>\n",
              "      <td>Unspecified</td>\n",
              "      <td>Unspecified</td>\n",
              "      <td>Unspecified</td>\n",
              "      <td>Unspecified</td>\n",
              "      <td>Unspecified</td>\n",
              "      <td>Unspecified</td>\n",
              "      <td>Unspecified</td>\n",
              "      <td>Unspecified</td>\n",
              "      <td>N</td>\n",
              "      <td>NaN</td>\n",
              "      <td>NaN</td>\n",
              "      <td>NaN</td>\n",
              "      <td>NaN</td>\n",
              "      <td>NaN</td>\n",
              "      <td>NaN</td>\n",
              "      <td>NaN</td>\n",
              "      <td>NaN</td>\n",
              "      <td>NaN</td>\n",
              "      <td>NaN</td>\n",
              "      <td>NaN</td>\n",
              "      <td>NaN</td>\n",
              "      <td>NaN</td>\n",
              "      <td>NaN</td>\n",
              "    </tr>\n",
              "    <tr>\n",
              "      <th>89304</th>\n",
              "      <td>26461137</td>\n",
              "      <td>10/09/2013 05:23:46 PM</td>\n",
              "      <td>10/25/2013 01:06:41 AM</td>\n",
              "      <td>DCA</td>\n",
              "      <td>Department of Consumer Affairs</td>\n",
              "      <td>Consumer Complaint</td>\n",
              "      <td>Harassment</td>\n",
              "      <td>NaN</td>\n",
              "      <td>35209-3114</td>\n",
              "      <td>600 BEACON PKWY</td>\n",
              "      <td>BEACON PKWY</td>\n",
              "      <td>NaN</td>\n",
              "      <td>NaN</td>\n",
              "      <td>NaN</td>\n",
              "      <td>NaN</td>\n",
              "      <td>NaN</td>\n",
              "      <td>BIRMINGHAM</td>\n",
              "      <td>NaN</td>\n",
              "      <td>NaN</td>\n",
              "      <td>Closed</td>\n",
              "      <td>10/25/2013 02:43:42 PM</td>\n",
              "      <td>10/25/2013 01:06:41 AM</td>\n",
              "      <td>0 Unspecified</td>\n",
              "      <td>Unspecified</td>\n",
              "      <td>NaN</td>\n",
              "      <td>NaN</td>\n",
              "      <td>Unspecified</td>\n",
              "      <td>Unspecified</td>\n",
              "      <td>Unspecified</td>\n",
              "      <td>Unspecified</td>\n",
              "      <td>Unspecified</td>\n",
              "      <td>Unspecified</td>\n",
              "      <td>Unspecified</td>\n",
              "      <td>Unspecified</td>\n",
              "      <td>Unspecified</td>\n",
              "      <td>Unspecified</td>\n",
              "      <td>Unspecified</td>\n",
              "      <td>N</td>\n",
              "      <td>NaN</td>\n",
              "      <td>NaN</td>\n",
              "      <td>NaN</td>\n",
              "      <td>NaN</td>\n",
              "      <td>NaN</td>\n",
              "      <td>NaN</td>\n",
              "      <td>NaN</td>\n",
              "      <td>NaN</td>\n",
              "      <td>NaN</td>\n",
              "      <td>NaN</td>\n",
              "      <td>NaN</td>\n",
              "      <td>NaN</td>\n",
              "      <td>NaN</td>\n",
              "      <td>NaN</td>\n",
              "    </tr>\n",
              "  </tbody>\n",
              "</table>\n",
              "</div>"
            ],
            "text/plain": [
              "       Unique Key            Created Date  ... Longitude Location\n",
              "29136    26550551  10/24/2013 06:16:34 PM  ...       NaN      NaN\n",
              "30939    26548831  10/24/2013 09:35:10 AM  ...       NaN      NaN\n",
              "70539    26488417  10/15/2013 03:40:33 PM  ...       NaN      NaN\n",
              "85821    26468296  10/10/2013 12:36:43 PM  ...       NaN      NaN\n",
              "89304    26461137  10/09/2013 05:23:46 PM  ...       NaN      NaN\n",
              "\n",
              "[5 rows x 52 columns]"
            ]
          },
          "metadata": {
            "tags": []
          },
          "execution_count": 180
        }
      ]
    },
    {
      "cell_type": "code",
      "metadata": {
        "id": "oRIejUVqv2Qv",
        "outputId": "5dc01c31-23d0-449a-ece1-3aac76c6ecad",
        "colab": {
          "base_uri": "https://localhost:8080/",
          "height": 35
        }
      },
      "source": [
        "requests['Incident Zip'] = requests['Incident Zip'].str.slice(0, 5)\n",
        "\n",
        "rows_with_dashes = requests['Incident Zip'].str.contains('-').fillna(False)\n",
        "len(requests[rows_with_dashes])"
      ],
      "execution_count": null,
      "outputs": [
        {
          "output_type": "execute_result",
          "data": {
            "text/plain": [
              "0"
            ]
          },
          "metadata": {
            "tags": []
          },
          "execution_count": 181
        }
      ]
    },
    {
      "cell_type": "markdown",
      "metadata": {
        "id": "laW7ejb2_Y3N"
      },
      "source": [
        "# In class exercises 1: merging the houses!\n",
        "\n",
        "I will create some dummy data simulating some housing market. I will create some Series dataset. You need to:\n",
        "\n",
        "* Create a DataFrame by joining the Series column\n",
        "* Change the name of the columns to bedrs, bathrs and price_sqr_meter\n",
        "*  Create a one column DataFrame with the values of the 3 Series and assign it to 'bigcolumn'\n",
        "* The column is supposed to be 300 rows but only shows 99. Fix it by using reset_index method"
      ]
    },
    {
      "cell_type": "code",
      "metadata": {
        "id": "js5gSUGl_oxq"
      },
      "source": [
        "# Within IPython notebook, add multiple print capabilities\n",
        "from IPython.core.interactiveshell import InteractiveShell\n",
        "InteractiveShell.ast_node_interactivity = \"all\"\n",
        "\n",
        "import pandas as pd\n",
        "import numpy as np\n",
        "\n",
        "s1 = pd.Series(np.random.randint(1, high=5, size=100, dtype='l'))\n",
        "s2 = pd.Series(np.random.randint(1, high=4, size=100, dtype='l'))\n",
        "s3 = pd.Series(np.random.randint(10000, high=30001, size=100, dtype='l'))"
      ],
      "execution_count": null,
      "outputs": []
    },
    {
      "cell_type": "code",
      "metadata": {
        "id": "iz2EnTY3AKze",
        "outputId": "e113a559-3eda-47a1-980a-264c2923924a",
        "colab": {
          "base_uri": "https://localhost:8080/",
          "height": 198
        }
      },
      "source": [
        "# Create a DataFrame by joining the Series column\n"
      ],
      "execution_count": null,
      "outputs": [
        {
          "output_type": "execute_result",
          "data": {
            "text/html": [
              "<div>\n",
              "<style scoped>\n",
              "    .dataframe tbody tr th:only-of-type {\n",
              "        vertical-align: middle;\n",
              "    }\n",
              "\n",
              "    .dataframe tbody tr th {\n",
              "        vertical-align: top;\n",
              "    }\n",
              "\n",
              "    .dataframe thead th {\n",
              "        text-align: right;\n",
              "    }\n",
              "</style>\n",
              "<table border=\"1\" class=\"dataframe\">\n",
              "  <thead>\n",
              "    <tr style=\"text-align: right;\">\n",
              "      <th></th>\n",
              "      <th>0</th>\n",
              "      <th>1</th>\n",
              "      <th>2</th>\n",
              "    </tr>\n",
              "  </thead>\n",
              "  <tbody>\n",
              "    <tr>\n",
              "      <th>0</th>\n",
              "      <td>3</td>\n",
              "      <td>1</td>\n",
              "      <td>22587</td>\n",
              "    </tr>\n",
              "    <tr>\n",
              "      <th>1</th>\n",
              "      <td>1</td>\n",
              "      <td>1</td>\n",
              "      <td>29650</td>\n",
              "    </tr>\n",
              "    <tr>\n",
              "      <th>2</th>\n",
              "      <td>2</td>\n",
              "      <td>2</td>\n",
              "      <td>27265</td>\n",
              "    </tr>\n",
              "    <tr>\n",
              "      <th>3</th>\n",
              "      <td>2</td>\n",
              "      <td>1</td>\n",
              "      <td>18141</td>\n",
              "    </tr>\n",
              "    <tr>\n",
              "      <th>4</th>\n",
              "      <td>3</td>\n",
              "      <td>3</td>\n",
              "      <td>22425</td>\n",
              "    </tr>\n",
              "  </tbody>\n",
              "</table>\n",
              "</div>"
            ],
            "text/plain": [
              "   0  1      2\n",
              "0  3  1  22587\n",
              "1  1  1  29650\n",
              "2  2  2  27265\n",
              "3  2  1  18141\n",
              "4  3  3  22425"
            ]
          },
          "metadata": {
            "tags": []
          },
          "execution_count": 183
        }
      ]
    },
    {
      "cell_type": "code",
      "metadata": {
        "id": "WhYzyu9IAXZu",
        "outputId": "5c7e49d1-851d-493c-a3e8-e14014a0149f",
        "colab": {
          "base_uri": "https://localhost:8080/",
          "height": 198
        }
      },
      "source": [
        "# Change the name of the columns to bedrs, bathrs and price_sqr_meter. You need to use a rename() function:\n"
      ],
      "execution_count": null,
      "outputs": [
        {
          "output_type": "execute_result",
          "data": {
            "text/html": [
              "<div>\n",
              "<style scoped>\n",
              "    .dataframe tbody tr th:only-of-type {\n",
              "        vertical-align: middle;\n",
              "    }\n",
              "\n",
              "    .dataframe tbody tr th {\n",
              "        vertical-align: top;\n",
              "    }\n",
              "\n",
              "    .dataframe thead th {\n",
              "        text-align: right;\n",
              "    }\n",
              "</style>\n",
              "<table border=\"1\" class=\"dataframe\">\n",
              "  <thead>\n",
              "    <tr style=\"text-align: right;\">\n",
              "      <th></th>\n",
              "      <th>bedrs</th>\n",
              "      <th>bathrs</th>\n",
              "      <th>price_sqr_meter</th>\n",
              "    </tr>\n",
              "  </thead>\n",
              "  <tbody>\n",
              "    <tr>\n",
              "      <th>0</th>\n",
              "      <td>3</td>\n",
              "      <td>1</td>\n",
              "      <td>22587</td>\n",
              "    </tr>\n",
              "    <tr>\n",
              "      <th>1</th>\n",
              "      <td>1</td>\n",
              "      <td>1</td>\n",
              "      <td>29650</td>\n",
              "    </tr>\n",
              "    <tr>\n",
              "      <th>2</th>\n",
              "      <td>2</td>\n",
              "      <td>2</td>\n",
              "      <td>27265</td>\n",
              "    </tr>\n",
              "    <tr>\n",
              "      <th>3</th>\n",
              "      <td>2</td>\n",
              "      <td>1</td>\n",
              "      <td>18141</td>\n",
              "    </tr>\n",
              "    <tr>\n",
              "      <th>4</th>\n",
              "      <td>3</td>\n",
              "      <td>3</td>\n",
              "      <td>22425</td>\n",
              "    </tr>\n",
              "  </tbody>\n",
              "</table>\n",
              "</div>"
            ],
            "text/plain": [
              "   bedrs  bathrs  price_sqr_meter\n",
              "0      3       1            22587\n",
              "1      1       1            29650\n",
              "2      2       2            27265\n",
              "3      2       1            18141\n",
              "4      3       3            22425"
            ]
          },
          "metadata": {
            "tags": []
          },
          "execution_count": 184
        }
      ]
    },
    {
      "cell_type": "code",
      "metadata": {
        "id": "aOT7DP_kAz4x",
        "outputId": "907c6fc5-4d8f-463d-da24-396963623ea3",
        "colab": {
          "base_uri": "https://localhost:8080/",
          "height": 1000
        }
      },
      "source": [
        "# Create a one column DataFrame with the values of the 3 Series and assign it to 'bigcolumn'\n",
        "# You need to convert the series to a DataFrame using \"to_frame()\" method\n",
        "\n"
      ],
      "execution_count": null,
      "outputs": [
        {
          "output_type": "stream",
          "text": [
            "<class 'pandas.core.frame.DataFrame'>\n"
          ],
          "name": "stdout"
        },
        {
          "output_type": "execute_result",
          "data": {
            "text/html": [
              "<div>\n",
              "<style scoped>\n",
              "    .dataframe tbody tr th:only-of-type {\n",
              "        vertical-align: middle;\n",
              "    }\n",
              "\n",
              "    .dataframe tbody tr th {\n",
              "        vertical-align: top;\n",
              "    }\n",
              "\n",
              "    .dataframe thead th {\n",
              "        text-align: right;\n",
              "    }\n",
              "</style>\n",
              "<table border=\"1\" class=\"dataframe\">\n",
              "  <thead>\n",
              "    <tr style=\"text-align: right;\">\n",
              "      <th></th>\n",
              "      <th>0</th>\n",
              "    </tr>\n",
              "  </thead>\n",
              "  <tbody>\n",
              "    <tr>\n",
              "      <th>0</th>\n",
              "      <td>3</td>\n",
              "    </tr>\n",
              "    <tr>\n",
              "      <th>1</th>\n",
              "      <td>1</td>\n",
              "    </tr>\n",
              "    <tr>\n",
              "      <th>2</th>\n",
              "      <td>2</td>\n",
              "    </tr>\n",
              "    <tr>\n",
              "      <th>3</th>\n",
              "      <td>2</td>\n",
              "    </tr>\n",
              "    <tr>\n",
              "      <th>4</th>\n",
              "      <td>3</td>\n",
              "    </tr>\n",
              "    <tr>\n",
              "      <th>5</th>\n",
              "      <td>2</td>\n",
              "    </tr>\n",
              "    <tr>\n",
              "      <th>6</th>\n",
              "      <td>4</td>\n",
              "    </tr>\n",
              "    <tr>\n",
              "      <th>7</th>\n",
              "      <td>2</td>\n",
              "    </tr>\n",
              "    <tr>\n",
              "      <th>8</th>\n",
              "      <td>1</td>\n",
              "    </tr>\n",
              "    <tr>\n",
              "      <th>9</th>\n",
              "      <td>3</td>\n",
              "    </tr>\n",
              "    <tr>\n",
              "      <th>10</th>\n",
              "      <td>1</td>\n",
              "    </tr>\n",
              "    <tr>\n",
              "      <th>11</th>\n",
              "      <td>2</td>\n",
              "    </tr>\n",
              "    <tr>\n",
              "      <th>12</th>\n",
              "      <td>4</td>\n",
              "    </tr>\n",
              "    <tr>\n",
              "      <th>13</th>\n",
              "      <td>3</td>\n",
              "    </tr>\n",
              "    <tr>\n",
              "      <th>14</th>\n",
              "      <td>1</td>\n",
              "    </tr>\n",
              "    <tr>\n",
              "      <th>15</th>\n",
              "      <td>1</td>\n",
              "    </tr>\n",
              "    <tr>\n",
              "      <th>16</th>\n",
              "      <td>3</td>\n",
              "    </tr>\n",
              "    <tr>\n",
              "      <th>17</th>\n",
              "      <td>2</td>\n",
              "    </tr>\n",
              "    <tr>\n",
              "      <th>18</th>\n",
              "      <td>2</td>\n",
              "    </tr>\n",
              "    <tr>\n",
              "      <th>19</th>\n",
              "      <td>4</td>\n",
              "    </tr>\n",
              "    <tr>\n",
              "      <th>20</th>\n",
              "      <td>1</td>\n",
              "    </tr>\n",
              "    <tr>\n",
              "      <th>21</th>\n",
              "      <td>3</td>\n",
              "    </tr>\n",
              "    <tr>\n",
              "      <th>22</th>\n",
              "      <td>3</td>\n",
              "    </tr>\n",
              "    <tr>\n",
              "      <th>23</th>\n",
              "      <td>2</td>\n",
              "    </tr>\n",
              "    <tr>\n",
              "      <th>24</th>\n",
              "      <td>2</td>\n",
              "    </tr>\n",
              "    <tr>\n",
              "      <th>25</th>\n",
              "      <td>2</td>\n",
              "    </tr>\n",
              "    <tr>\n",
              "      <th>26</th>\n",
              "      <td>1</td>\n",
              "    </tr>\n",
              "    <tr>\n",
              "      <th>27</th>\n",
              "      <td>4</td>\n",
              "    </tr>\n",
              "    <tr>\n",
              "      <th>28</th>\n",
              "      <td>4</td>\n",
              "    </tr>\n",
              "    <tr>\n",
              "      <th>29</th>\n",
              "      <td>2</td>\n",
              "    </tr>\n",
              "    <tr>\n",
              "      <th>...</th>\n",
              "      <td>...</td>\n",
              "    </tr>\n",
              "    <tr>\n",
              "      <th>70</th>\n",
              "      <td>10325</td>\n",
              "    </tr>\n",
              "    <tr>\n",
              "      <th>71</th>\n",
              "      <td>28469</td>\n",
              "    </tr>\n",
              "    <tr>\n",
              "      <th>72</th>\n",
              "      <td>12117</td>\n",
              "    </tr>\n",
              "    <tr>\n",
              "      <th>73</th>\n",
              "      <td>15982</td>\n",
              "    </tr>\n",
              "    <tr>\n",
              "      <th>74</th>\n",
              "      <td>23268</td>\n",
              "    </tr>\n",
              "    <tr>\n",
              "      <th>75</th>\n",
              "      <td>13897</td>\n",
              "    </tr>\n",
              "    <tr>\n",
              "      <th>76</th>\n",
              "      <td>19910</td>\n",
              "    </tr>\n",
              "    <tr>\n",
              "      <th>77</th>\n",
              "      <td>23486</td>\n",
              "    </tr>\n",
              "    <tr>\n",
              "      <th>78</th>\n",
              "      <td>19836</td>\n",
              "    </tr>\n",
              "    <tr>\n",
              "      <th>79</th>\n",
              "      <td>22456</td>\n",
              "    </tr>\n",
              "    <tr>\n",
              "      <th>80</th>\n",
              "      <td>21892</td>\n",
              "    </tr>\n",
              "    <tr>\n",
              "      <th>81</th>\n",
              "      <td>20647</td>\n",
              "    </tr>\n",
              "    <tr>\n",
              "      <th>82</th>\n",
              "      <td>14791</td>\n",
              "    </tr>\n",
              "    <tr>\n",
              "      <th>83</th>\n",
              "      <td>12892</td>\n",
              "    </tr>\n",
              "    <tr>\n",
              "      <th>84</th>\n",
              "      <td>28043</td>\n",
              "    </tr>\n",
              "    <tr>\n",
              "      <th>85</th>\n",
              "      <td>25373</td>\n",
              "    </tr>\n",
              "    <tr>\n",
              "      <th>86</th>\n",
              "      <td>29447</td>\n",
              "    </tr>\n",
              "    <tr>\n",
              "      <th>87</th>\n",
              "      <td>24722</td>\n",
              "    </tr>\n",
              "    <tr>\n",
              "      <th>88</th>\n",
              "      <td>29091</td>\n",
              "    </tr>\n",
              "    <tr>\n",
              "      <th>89</th>\n",
              "      <td>20611</td>\n",
              "    </tr>\n",
              "    <tr>\n",
              "      <th>90</th>\n",
              "      <td>18954</td>\n",
              "    </tr>\n",
              "    <tr>\n",
              "      <th>91</th>\n",
              "      <td>23347</td>\n",
              "    </tr>\n",
              "    <tr>\n",
              "      <th>92</th>\n",
              "      <td>15539</td>\n",
              "    </tr>\n",
              "    <tr>\n",
              "      <th>93</th>\n",
              "      <td>19556</td>\n",
              "    </tr>\n",
              "    <tr>\n",
              "      <th>94</th>\n",
              "      <td>22404</td>\n",
              "    </tr>\n",
              "    <tr>\n",
              "      <th>95</th>\n",
              "      <td>23429</td>\n",
              "    </tr>\n",
              "    <tr>\n",
              "      <th>96</th>\n",
              "      <td>20284</td>\n",
              "    </tr>\n",
              "    <tr>\n",
              "      <th>97</th>\n",
              "      <td>17024</td>\n",
              "    </tr>\n",
              "    <tr>\n",
              "      <th>98</th>\n",
              "      <td>27649</td>\n",
              "    </tr>\n",
              "    <tr>\n",
              "      <th>99</th>\n",
              "      <td>24396</td>\n",
              "    </tr>\n",
              "  </tbody>\n",
              "</table>\n",
              "<p>300 rows × 1 columns</p>\n",
              "</div>"
            ],
            "text/plain": [
              "        0\n",
              "0       3\n",
              "1       1\n",
              "2       2\n",
              "3       2\n",
              "4       3\n",
              "5       2\n",
              "6       4\n",
              "7       2\n",
              "8       1\n",
              "9       3\n",
              "10      1\n",
              "11      2\n",
              "12      4\n",
              "13      3\n",
              "14      1\n",
              "15      1\n",
              "16      3\n",
              "17      2\n",
              "18      2\n",
              "19      4\n",
              "20      1\n",
              "21      3\n",
              "22      3\n",
              "23      2\n",
              "24      2\n",
              "25      2\n",
              "26      1\n",
              "27      4\n",
              "28      4\n",
              "29      2\n",
              "..    ...\n",
              "70  10325\n",
              "71  28469\n",
              "72  12117\n",
              "73  15982\n",
              "74  23268\n",
              "75  13897\n",
              "76  19910\n",
              "77  23486\n",
              "78  19836\n",
              "79  22456\n",
              "80  21892\n",
              "81  20647\n",
              "82  14791\n",
              "83  12892\n",
              "84  28043\n",
              "85  25373\n",
              "86  29447\n",
              "87  24722\n",
              "88  29091\n",
              "89  20611\n",
              "90  18954\n",
              "91  23347\n",
              "92  15539\n",
              "93  19556\n",
              "94  22404\n",
              "95  23429\n",
              "96  20284\n",
              "97  17024\n",
              "98  27649\n",
              "99  24396\n",
              "\n",
              "[300 rows x 1 columns]"
            ]
          },
          "metadata": {
            "tags": []
          },
          "execution_count": 185
        }
      ]
    },
    {
      "cell_type": "code",
      "metadata": {
        "id": "BkRWPPfRBf_B",
        "outputId": "6418b19f-ccec-42d6-9085-c0b359c191ac",
        "colab": {
          "base_uri": "https://localhost:8080/",
          "height": 1000
        }
      },
      "source": [
        "# The column is supposed to be 300 rows but only shows 99. Fix it by using reset_index method\n"
      ],
      "execution_count": null,
      "outputs": [
        {
          "output_type": "execute_result",
          "data": {
            "text/html": [
              "<div>\n",
              "<style scoped>\n",
              "    .dataframe tbody tr th:only-of-type {\n",
              "        vertical-align: middle;\n",
              "    }\n",
              "\n",
              "    .dataframe tbody tr th {\n",
              "        vertical-align: top;\n",
              "    }\n",
              "\n",
              "    .dataframe thead th {\n",
              "        text-align: right;\n",
              "    }\n",
              "</style>\n",
              "<table border=\"1\" class=\"dataframe\">\n",
              "  <thead>\n",
              "    <tr style=\"text-align: right;\">\n",
              "      <th></th>\n",
              "      <th>0</th>\n",
              "    </tr>\n",
              "  </thead>\n",
              "  <tbody>\n",
              "    <tr>\n",
              "      <th>0</th>\n",
              "      <td>3</td>\n",
              "    </tr>\n",
              "    <tr>\n",
              "      <th>1</th>\n",
              "      <td>1</td>\n",
              "    </tr>\n",
              "    <tr>\n",
              "      <th>2</th>\n",
              "      <td>2</td>\n",
              "    </tr>\n",
              "    <tr>\n",
              "      <th>3</th>\n",
              "      <td>2</td>\n",
              "    </tr>\n",
              "    <tr>\n",
              "      <th>4</th>\n",
              "      <td>3</td>\n",
              "    </tr>\n",
              "    <tr>\n",
              "      <th>5</th>\n",
              "      <td>2</td>\n",
              "    </tr>\n",
              "    <tr>\n",
              "      <th>6</th>\n",
              "      <td>4</td>\n",
              "    </tr>\n",
              "    <tr>\n",
              "      <th>7</th>\n",
              "      <td>2</td>\n",
              "    </tr>\n",
              "    <tr>\n",
              "      <th>8</th>\n",
              "      <td>1</td>\n",
              "    </tr>\n",
              "    <tr>\n",
              "      <th>9</th>\n",
              "      <td>3</td>\n",
              "    </tr>\n",
              "    <tr>\n",
              "      <th>10</th>\n",
              "      <td>1</td>\n",
              "    </tr>\n",
              "    <tr>\n",
              "      <th>11</th>\n",
              "      <td>2</td>\n",
              "    </tr>\n",
              "    <tr>\n",
              "      <th>12</th>\n",
              "      <td>4</td>\n",
              "    </tr>\n",
              "    <tr>\n",
              "      <th>13</th>\n",
              "      <td>3</td>\n",
              "    </tr>\n",
              "    <tr>\n",
              "      <th>14</th>\n",
              "      <td>1</td>\n",
              "    </tr>\n",
              "    <tr>\n",
              "      <th>15</th>\n",
              "      <td>1</td>\n",
              "    </tr>\n",
              "    <tr>\n",
              "      <th>16</th>\n",
              "      <td>3</td>\n",
              "    </tr>\n",
              "    <tr>\n",
              "      <th>17</th>\n",
              "      <td>2</td>\n",
              "    </tr>\n",
              "    <tr>\n",
              "      <th>18</th>\n",
              "      <td>2</td>\n",
              "    </tr>\n",
              "    <tr>\n",
              "      <th>19</th>\n",
              "      <td>4</td>\n",
              "    </tr>\n",
              "    <tr>\n",
              "      <th>20</th>\n",
              "      <td>1</td>\n",
              "    </tr>\n",
              "    <tr>\n",
              "      <th>21</th>\n",
              "      <td>3</td>\n",
              "    </tr>\n",
              "    <tr>\n",
              "      <th>22</th>\n",
              "      <td>3</td>\n",
              "    </tr>\n",
              "    <tr>\n",
              "      <th>23</th>\n",
              "      <td>2</td>\n",
              "    </tr>\n",
              "    <tr>\n",
              "      <th>24</th>\n",
              "      <td>2</td>\n",
              "    </tr>\n",
              "    <tr>\n",
              "      <th>25</th>\n",
              "      <td>2</td>\n",
              "    </tr>\n",
              "    <tr>\n",
              "      <th>26</th>\n",
              "      <td>1</td>\n",
              "    </tr>\n",
              "    <tr>\n",
              "      <th>27</th>\n",
              "      <td>4</td>\n",
              "    </tr>\n",
              "    <tr>\n",
              "      <th>28</th>\n",
              "      <td>4</td>\n",
              "    </tr>\n",
              "    <tr>\n",
              "      <th>29</th>\n",
              "      <td>2</td>\n",
              "    </tr>\n",
              "    <tr>\n",
              "      <th>...</th>\n",
              "      <td>...</td>\n",
              "    </tr>\n",
              "    <tr>\n",
              "      <th>270</th>\n",
              "      <td>10325</td>\n",
              "    </tr>\n",
              "    <tr>\n",
              "      <th>271</th>\n",
              "      <td>28469</td>\n",
              "    </tr>\n",
              "    <tr>\n",
              "      <th>272</th>\n",
              "      <td>12117</td>\n",
              "    </tr>\n",
              "    <tr>\n",
              "      <th>273</th>\n",
              "      <td>15982</td>\n",
              "    </tr>\n",
              "    <tr>\n",
              "      <th>274</th>\n",
              "      <td>23268</td>\n",
              "    </tr>\n",
              "    <tr>\n",
              "      <th>275</th>\n",
              "      <td>13897</td>\n",
              "    </tr>\n",
              "    <tr>\n",
              "      <th>276</th>\n",
              "      <td>19910</td>\n",
              "    </tr>\n",
              "    <tr>\n",
              "      <th>277</th>\n",
              "      <td>23486</td>\n",
              "    </tr>\n",
              "    <tr>\n",
              "      <th>278</th>\n",
              "      <td>19836</td>\n",
              "    </tr>\n",
              "    <tr>\n",
              "      <th>279</th>\n",
              "      <td>22456</td>\n",
              "    </tr>\n",
              "    <tr>\n",
              "      <th>280</th>\n",
              "      <td>21892</td>\n",
              "    </tr>\n",
              "    <tr>\n",
              "      <th>281</th>\n",
              "      <td>20647</td>\n",
              "    </tr>\n",
              "    <tr>\n",
              "      <th>282</th>\n",
              "      <td>14791</td>\n",
              "    </tr>\n",
              "    <tr>\n",
              "      <th>283</th>\n",
              "      <td>12892</td>\n",
              "    </tr>\n",
              "    <tr>\n",
              "      <th>284</th>\n",
              "      <td>28043</td>\n",
              "    </tr>\n",
              "    <tr>\n",
              "      <th>285</th>\n",
              "      <td>25373</td>\n",
              "    </tr>\n",
              "    <tr>\n",
              "      <th>286</th>\n",
              "      <td>29447</td>\n",
              "    </tr>\n",
              "    <tr>\n",
              "      <th>287</th>\n",
              "      <td>24722</td>\n",
              "    </tr>\n",
              "    <tr>\n",
              "      <th>288</th>\n",
              "      <td>29091</td>\n",
              "    </tr>\n",
              "    <tr>\n",
              "      <th>289</th>\n",
              "      <td>20611</td>\n",
              "    </tr>\n",
              "    <tr>\n",
              "      <th>290</th>\n",
              "      <td>18954</td>\n",
              "    </tr>\n",
              "    <tr>\n",
              "      <th>291</th>\n",
              "      <td>23347</td>\n",
              "    </tr>\n",
              "    <tr>\n",
              "      <th>292</th>\n",
              "      <td>15539</td>\n",
              "    </tr>\n",
              "    <tr>\n",
              "      <th>293</th>\n",
              "      <td>19556</td>\n",
              "    </tr>\n",
              "    <tr>\n",
              "      <th>294</th>\n",
              "      <td>22404</td>\n",
              "    </tr>\n",
              "    <tr>\n",
              "      <th>295</th>\n",
              "      <td>23429</td>\n",
              "    </tr>\n",
              "    <tr>\n",
              "      <th>296</th>\n",
              "      <td>20284</td>\n",
              "    </tr>\n",
              "    <tr>\n",
              "      <th>297</th>\n",
              "      <td>17024</td>\n",
              "    </tr>\n",
              "    <tr>\n",
              "      <th>298</th>\n",
              "      <td>27649</td>\n",
              "    </tr>\n",
              "    <tr>\n",
              "      <th>299</th>\n",
              "      <td>24396</td>\n",
              "    </tr>\n",
              "  </tbody>\n",
              "</table>\n",
              "<p>300 rows × 1 columns</p>\n",
              "</div>"
            ],
            "text/plain": [
              "         0\n",
              "0        3\n",
              "1        1\n",
              "2        2\n",
              "3        2\n",
              "4        3\n",
              "5        2\n",
              "6        4\n",
              "7        2\n",
              "8        1\n",
              "9        3\n",
              "10       1\n",
              "11       2\n",
              "12       4\n",
              "13       3\n",
              "14       1\n",
              "15       1\n",
              "16       3\n",
              "17       2\n",
              "18       2\n",
              "19       4\n",
              "20       1\n",
              "21       3\n",
              "22       3\n",
              "23       2\n",
              "24       2\n",
              "25       2\n",
              "26       1\n",
              "27       4\n",
              "28       4\n",
              "29       2\n",
              "..     ...\n",
              "270  10325\n",
              "271  28469\n",
              "272  12117\n",
              "273  15982\n",
              "274  23268\n",
              "275  13897\n",
              "276  19910\n",
              "277  23486\n",
              "278  19836\n",
              "279  22456\n",
              "280  21892\n",
              "281  20647\n",
              "282  14791\n",
              "283  12892\n",
              "284  28043\n",
              "285  25373\n",
              "286  29447\n",
              "287  24722\n",
              "288  29091\n",
              "289  20611\n",
              "290  18954\n",
              "291  23347\n",
              "292  15539\n",
              "293  19556\n",
              "294  22404\n",
              "295  23429\n",
              "296  20284\n",
              "297  17024\n",
              "298  27649\n",
              "299  24396\n",
              "\n",
              "[300 rows x 1 columns]"
            ]
          },
          "metadata": {
            "tags": []
          },
          "execution_count": 186
        }
      ]
    },
    {
      "cell_type": "markdown",
      "metadata": {
        "id": "VpmzfKTdxbzb"
      },
      "source": [
        "# In class exercises 2: groupby bikes\n",
        "\n",
        "Given the bike data:\n",
        "\n",
        "* Load the dataset\n",
        "* Plot the \"Berri 1\" column\n",
        "* Copy the DataFrame to create a \"Berri 1\" only DataFrame\n",
        "* Print the index of the DataFrame and explore the associated parameters using Tab, can you find [this](https://pandas.pydata.org/pandas-docs/stable/reference/api/pandas.DatetimeIndex.weekday.html)?\n",
        "* Add weekday column to the DataFrame using loc and relating it to the weekday index\n",
        "* Groupby the number of ciclist by weekday\n",
        "* Combine with the Index of week\n",
        "* Plot a bar plot"
      ]
    },
    {
      "cell_type": "code",
      "metadata": {
        "id": "e4PB5jnc4H6E"
      },
      "source": [
        "# Within IPython notebook, add multiple print capabilities\n",
        "from IPython.core.interactiveshell import InteractiveShell\n",
        "InteractiveShell.ast_node_interactivity = \"all\""
      ],
      "execution_count": null,
      "outputs": []
    },
    {
      "cell_type": "code",
      "metadata": {
        "id": "4iwnxfQzxfsd",
        "outputId": "d4ba48ca-fb61-4d68-a8cd-904b1022c373",
        "colab": {
          "base_uri": "https://localhost:8080/",
          "height": 1000
        }
      },
      "source": [
        "# Load the dataset\n",
        "import pandas as pd\n",
        "bikes = pd.read_csv('https://github.com/vfp1/bts-mbds-data-science-foundations-2019/raw/master/sessions/data/bikes.csv', sep=';', encoding='latin1', parse_dates=['Date'], dayfirst=True, index_col='Date')\n",
        "bikes"
      ],
      "execution_count": null,
      "outputs": [
        {
          "output_type": "execute_result",
          "data": {
            "text/html": [
              "<div>\n",
              "<style scoped>\n",
              "    .dataframe tbody tr th:only-of-type {\n",
              "        vertical-align: middle;\n",
              "    }\n",
              "\n",
              "    .dataframe tbody tr th {\n",
              "        vertical-align: top;\n",
              "    }\n",
              "\n",
              "    .dataframe thead th {\n",
              "        text-align: right;\n",
              "    }\n",
              "</style>\n",
              "<table border=\"1\" class=\"dataframe\">\n",
              "  <thead>\n",
              "    <tr style=\"text-align: right;\">\n",
              "      <th></th>\n",
              "      <th>Berri 1</th>\n",
              "      <th>Brébeuf (données non disponibles)</th>\n",
              "      <th>Côte-Sainte-Catherine</th>\n",
              "      <th>Maisonneuve 1</th>\n",
              "      <th>Maisonneuve 2</th>\n",
              "      <th>du Parc</th>\n",
              "      <th>Pierre-Dupuy</th>\n",
              "      <th>Rachel1</th>\n",
              "      <th>St-Urbain (données non disponibles)</th>\n",
              "    </tr>\n",
              "    <tr>\n",
              "      <th>Date</th>\n",
              "      <th></th>\n",
              "      <th></th>\n",
              "      <th></th>\n",
              "      <th></th>\n",
              "      <th></th>\n",
              "      <th></th>\n",
              "      <th></th>\n",
              "      <th></th>\n",
              "      <th></th>\n",
              "    </tr>\n",
              "  </thead>\n",
              "  <tbody>\n",
              "    <tr>\n",
              "      <th>2012-01-01</th>\n",
              "      <td>35</td>\n",
              "      <td>NaN</td>\n",
              "      <td>0</td>\n",
              "      <td>38</td>\n",
              "      <td>51</td>\n",
              "      <td>26</td>\n",
              "      <td>10</td>\n",
              "      <td>16</td>\n",
              "      <td>NaN</td>\n",
              "    </tr>\n",
              "    <tr>\n",
              "      <th>2012-01-02</th>\n",
              "      <td>83</td>\n",
              "      <td>NaN</td>\n",
              "      <td>1</td>\n",
              "      <td>68</td>\n",
              "      <td>153</td>\n",
              "      <td>53</td>\n",
              "      <td>6</td>\n",
              "      <td>43</td>\n",
              "      <td>NaN</td>\n",
              "    </tr>\n",
              "    <tr>\n",
              "      <th>2012-01-03</th>\n",
              "      <td>135</td>\n",
              "      <td>NaN</td>\n",
              "      <td>2</td>\n",
              "      <td>104</td>\n",
              "      <td>248</td>\n",
              "      <td>89</td>\n",
              "      <td>3</td>\n",
              "      <td>58</td>\n",
              "      <td>NaN</td>\n",
              "    </tr>\n",
              "    <tr>\n",
              "      <th>2012-01-04</th>\n",
              "      <td>144</td>\n",
              "      <td>NaN</td>\n",
              "      <td>1</td>\n",
              "      <td>116</td>\n",
              "      <td>318</td>\n",
              "      <td>111</td>\n",
              "      <td>8</td>\n",
              "      <td>61</td>\n",
              "      <td>NaN</td>\n",
              "    </tr>\n",
              "    <tr>\n",
              "      <th>2012-01-05</th>\n",
              "      <td>197</td>\n",
              "      <td>NaN</td>\n",
              "      <td>2</td>\n",
              "      <td>124</td>\n",
              "      <td>330</td>\n",
              "      <td>97</td>\n",
              "      <td>13</td>\n",
              "      <td>95</td>\n",
              "      <td>NaN</td>\n",
              "    </tr>\n",
              "    <tr>\n",
              "      <th>2012-01-06</th>\n",
              "      <td>146</td>\n",
              "      <td>NaN</td>\n",
              "      <td>0</td>\n",
              "      <td>98</td>\n",
              "      <td>244</td>\n",
              "      <td>86</td>\n",
              "      <td>4</td>\n",
              "      <td>75</td>\n",
              "      <td>NaN</td>\n",
              "    </tr>\n",
              "    <tr>\n",
              "      <th>2012-01-07</th>\n",
              "      <td>98</td>\n",
              "      <td>NaN</td>\n",
              "      <td>2</td>\n",
              "      <td>80</td>\n",
              "      <td>108</td>\n",
              "      <td>53</td>\n",
              "      <td>6</td>\n",
              "      <td>54</td>\n",
              "      <td>NaN</td>\n",
              "    </tr>\n",
              "    <tr>\n",
              "      <th>2012-01-08</th>\n",
              "      <td>95</td>\n",
              "      <td>NaN</td>\n",
              "      <td>1</td>\n",
              "      <td>62</td>\n",
              "      <td>98</td>\n",
              "      <td>64</td>\n",
              "      <td>11</td>\n",
              "      <td>63</td>\n",
              "      <td>NaN</td>\n",
              "    </tr>\n",
              "    <tr>\n",
              "      <th>2012-01-09</th>\n",
              "      <td>244</td>\n",
              "      <td>NaN</td>\n",
              "      <td>2</td>\n",
              "      <td>165</td>\n",
              "      <td>432</td>\n",
              "      <td>198</td>\n",
              "      <td>12</td>\n",
              "      <td>173</td>\n",
              "      <td>NaN</td>\n",
              "    </tr>\n",
              "    <tr>\n",
              "      <th>2012-01-10</th>\n",
              "      <td>397</td>\n",
              "      <td>NaN</td>\n",
              "      <td>3</td>\n",
              "      <td>238</td>\n",
              "      <td>563</td>\n",
              "      <td>275</td>\n",
              "      <td>18</td>\n",
              "      <td>241</td>\n",
              "      <td>NaN</td>\n",
              "    </tr>\n",
              "    <tr>\n",
              "      <th>2012-01-11</th>\n",
              "      <td>273</td>\n",
              "      <td>NaN</td>\n",
              "      <td>0</td>\n",
              "      <td>182</td>\n",
              "      <td>443</td>\n",
              "      <td>258</td>\n",
              "      <td>12</td>\n",
              "      <td>194</td>\n",
              "      <td>NaN</td>\n",
              "    </tr>\n",
              "    <tr>\n",
              "      <th>2012-01-12</th>\n",
              "      <td>157</td>\n",
              "      <td>NaN</td>\n",
              "      <td>1</td>\n",
              "      <td>134</td>\n",
              "      <td>261</td>\n",
              "      <td>137</td>\n",
              "      <td>9</td>\n",
              "      <td>63</td>\n",
              "      <td>NaN</td>\n",
              "    </tr>\n",
              "    <tr>\n",
              "      <th>2012-01-13</th>\n",
              "      <td>75</td>\n",
              "      <td>NaN</td>\n",
              "      <td>0</td>\n",
              "      <td>41</td>\n",
              "      <td>105</td>\n",
              "      <td>64</td>\n",
              "      <td>2</td>\n",
              "      <td>0</td>\n",
              "      <td>NaN</td>\n",
              "    </tr>\n",
              "    <tr>\n",
              "      <th>2012-01-14</th>\n",
              "      <td>32</td>\n",
              "      <td>NaN</td>\n",
              "      <td>0</td>\n",
              "      <td>54</td>\n",
              "      <td>56</td>\n",
              "      <td>19</td>\n",
              "      <td>0</td>\n",
              "      <td>1</td>\n",
              "      <td>NaN</td>\n",
              "    </tr>\n",
              "    <tr>\n",
              "      <th>2012-01-15</th>\n",
              "      <td>54</td>\n",
              "      <td>NaN</td>\n",
              "      <td>0</td>\n",
              "      <td>33</td>\n",
              "      <td>60</td>\n",
              "      <td>18</td>\n",
              "      <td>0</td>\n",
              "      <td>0</td>\n",
              "      <td>NaN</td>\n",
              "    </tr>\n",
              "    <tr>\n",
              "      <th>2012-01-16</th>\n",
              "      <td>168</td>\n",
              "      <td>NaN</td>\n",
              "      <td>2</td>\n",
              "      <td>136</td>\n",
              "      <td>312</td>\n",
              "      <td>137</td>\n",
              "      <td>1</td>\n",
              "      <td>0</td>\n",
              "      <td>NaN</td>\n",
              "    </tr>\n",
              "    <tr>\n",
              "      <th>2012-01-17</th>\n",
              "      <td>155</td>\n",
              "      <td>NaN</td>\n",
              "      <td>0</td>\n",
              "      <td>86</td>\n",
              "      <td>256</td>\n",
              "      <td>74</td>\n",
              "      <td>0</td>\n",
              "      <td>0</td>\n",
              "      <td>NaN</td>\n",
              "    </tr>\n",
              "    <tr>\n",
              "      <th>2012-01-18</th>\n",
              "      <td>139</td>\n",
              "      <td>NaN</td>\n",
              "      <td>0</td>\n",
              "      <td>66</td>\n",
              "      <td>188</td>\n",
              "      <td>68</td>\n",
              "      <td>3</td>\n",
              "      <td>0</td>\n",
              "      <td>NaN</td>\n",
              "    </tr>\n",
              "    <tr>\n",
              "      <th>2012-01-19</th>\n",
              "      <td>191</td>\n",
              "      <td>NaN</td>\n",
              "      <td>1</td>\n",
              "      <td>104</td>\n",
              "      <td>248</td>\n",
              "      <td>79</td>\n",
              "      <td>3</td>\n",
              "      <td>0</td>\n",
              "      <td>NaN</td>\n",
              "    </tr>\n",
              "    <tr>\n",
              "      <th>2012-01-20</th>\n",
              "      <td>161</td>\n",
              "      <td>NaN</td>\n",
              "      <td>4</td>\n",
              "      <td>96</td>\n",
              "      <td>217</td>\n",
              "      <td>67</td>\n",
              "      <td>1</td>\n",
              "      <td>1</td>\n",
              "      <td>NaN</td>\n",
              "    </tr>\n",
              "    <tr>\n",
              "      <th>2012-01-21</th>\n",
              "      <td>53</td>\n",
              "      <td>NaN</td>\n",
              "      <td>0</td>\n",
              "      <td>47</td>\n",
              "      <td>70</td>\n",
              "      <td>32</td>\n",
              "      <td>1</td>\n",
              "      <td>0</td>\n",
              "      <td>NaN</td>\n",
              "    </tr>\n",
              "    <tr>\n",
              "      <th>2012-01-22</th>\n",
              "      <td>71</td>\n",
              "      <td>NaN</td>\n",
              "      <td>0</td>\n",
              "      <td>41</td>\n",
              "      <td>73</td>\n",
              "      <td>35</td>\n",
              "      <td>5</td>\n",
              "      <td>0</td>\n",
              "      <td>NaN</td>\n",
              "    </tr>\n",
              "    <tr>\n",
              "      <th>2012-01-23</th>\n",
              "      <td>210</td>\n",
              "      <td>NaN</td>\n",
              "      <td>6</td>\n",
              "      <td>114</td>\n",
              "      <td>357</td>\n",
              "      <td>91</td>\n",
              "      <td>6</td>\n",
              "      <td>0</td>\n",
              "      <td>NaN</td>\n",
              "    </tr>\n",
              "    <tr>\n",
              "      <th>2012-01-24</th>\n",
              "      <td>299</td>\n",
              "      <td>NaN</td>\n",
              "      <td>1</td>\n",
              "      <td>189</td>\n",
              "      <td>444</td>\n",
              "      <td>174</td>\n",
              "      <td>4</td>\n",
              "      <td>0</td>\n",
              "      <td>NaN</td>\n",
              "    </tr>\n",
              "    <tr>\n",
              "      <th>2012-01-25</th>\n",
              "      <td>334</td>\n",
              "      <td>NaN</td>\n",
              "      <td>1</td>\n",
              "      <td>217</td>\n",
              "      <td>453</td>\n",
              "      <td>180</td>\n",
              "      <td>4</td>\n",
              "      <td>0</td>\n",
              "      <td>NaN</td>\n",
              "    </tr>\n",
              "    <tr>\n",
              "      <th>2012-01-26</th>\n",
              "      <td>306</td>\n",
              "      <td>NaN</td>\n",
              "      <td>0</td>\n",
              "      <td>215</td>\n",
              "      <td>495</td>\n",
              "      <td>191</td>\n",
              "      <td>0</td>\n",
              "      <td>1</td>\n",
              "      <td>NaN</td>\n",
              "    </tr>\n",
              "    <tr>\n",
              "      <th>2012-01-27</th>\n",
              "      <td>91</td>\n",
              "      <td>NaN</td>\n",
              "      <td>5</td>\n",
              "      <td>79</td>\n",
              "      <td>204</td>\n",
              "      <td>65</td>\n",
              "      <td>0</td>\n",
              "      <td>0</td>\n",
              "      <td>NaN</td>\n",
              "    </tr>\n",
              "    <tr>\n",
              "      <th>2012-01-28</th>\n",
              "      <td>80</td>\n",
              "      <td>NaN</td>\n",
              "      <td>1</td>\n",
              "      <td>61</td>\n",
              "      <td>123</td>\n",
              "      <td>33</td>\n",
              "      <td>9</td>\n",
              "      <td>1</td>\n",
              "      <td>NaN</td>\n",
              "    </tr>\n",
              "    <tr>\n",
              "      <th>2012-01-29</th>\n",
              "      <td>87</td>\n",
              "      <td>NaN</td>\n",
              "      <td>1</td>\n",
              "      <td>65</td>\n",
              "      <td>132</td>\n",
              "      <td>40</td>\n",
              "      <td>7</td>\n",
              "      <td>0</td>\n",
              "      <td>NaN</td>\n",
              "    </tr>\n",
              "    <tr>\n",
              "      <th>2012-01-30</th>\n",
              "      <td>219</td>\n",
              "      <td>NaN</td>\n",
              "      <td>0</td>\n",
              "      <td>146</td>\n",
              "      <td>371</td>\n",
              "      <td>152</td>\n",
              "      <td>2</td>\n",
              "      <td>0</td>\n",
              "      <td>NaN</td>\n",
              "    </tr>\n",
              "    <tr>\n",
              "      <th>...</th>\n",
              "      <td>...</td>\n",
              "      <td>...</td>\n",
              "      <td>...</td>\n",
              "      <td>...</td>\n",
              "      <td>...</td>\n",
              "      <td>...</td>\n",
              "      <td>...</td>\n",
              "      <td>...</td>\n",
              "      <td>...</td>\n",
              "    </tr>\n",
              "    <tr>\n",
              "      <th>2012-10-07</th>\n",
              "      <td>1580</td>\n",
              "      <td>NaN</td>\n",
              "      <td>660</td>\n",
              "      <td>922</td>\n",
              "      <td>1629</td>\n",
              "      <td>860</td>\n",
              "      <td>695</td>\n",
              "      <td>2052</td>\n",
              "      <td>NaN</td>\n",
              "    </tr>\n",
              "    <tr>\n",
              "      <th>2012-10-08</th>\n",
              "      <td>1854</td>\n",
              "      <td>NaN</td>\n",
              "      <td>880</td>\n",
              "      <td>987</td>\n",
              "      <td>1818</td>\n",
              "      <td>1040</td>\n",
              "      <td>1115</td>\n",
              "      <td>2502</td>\n",
              "      <td>NaN</td>\n",
              "    </tr>\n",
              "    <tr>\n",
              "      <th>2012-10-09</th>\n",
              "      <td>4787</td>\n",
              "      <td>NaN</td>\n",
              "      <td>2210</td>\n",
              "      <td>3026</td>\n",
              "      <td>5138</td>\n",
              "      <td>3418</td>\n",
              "      <td>927</td>\n",
              "      <td>4078</td>\n",
              "      <td>NaN</td>\n",
              "    </tr>\n",
              "    <tr>\n",
              "      <th>2012-10-10</th>\n",
              "      <td>3115</td>\n",
              "      <td>NaN</td>\n",
              "      <td>1537</td>\n",
              "      <td>2081</td>\n",
              "      <td>3681</td>\n",
              "      <td>2608</td>\n",
              "      <td>560</td>\n",
              "      <td>2703</td>\n",
              "      <td>NaN</td>\n",
              "    </tr>\n",
              "    <tr>\n",
              "      <th>2012-10-11</th>\n",
              "      <td>3746</td>\n",
              "      <td>NaN</td>\n",
              "      <td>1857</td>\n",
              "      <td>2569</td>\n",
              "      <td>4694</td>\n",
              "      <td>3034</td>\n",
              "      <td>558</td>\n",
              "      <td>3457</td>\n",
              "      <td>NaN</td>\n",
              "    </tr>\n",
              "    <tr>\n",
              "      <th>2012-10-12</th>\n",
              "      <td>3169</td>\n",
              "      <td>NaN</td>\n",
              "      <td>1460</td>\n",
              "      <td>2261</td>\n",
              "      <td>4045</td>\n",
              "      <td>2564</td>\n",
              "      <td>448</td>\n",
              "      <td>3224</td>\n",
              "      <td>NaN</td>\n",
              "    </tr>\n",
              "    <tr>\n",
              "      <th>2012-10-13</th>\n",
              "      <td>1783</td>\n",
              "      <td>NaN</td>\n",
              "      <td>802</td>\n",
              "      <td>1205</td>\n",
              "      <td>2113</td>\n",
              "      <td>1183</td>\n",
              "      <td>681</td>\n",
              "      <td>2309</td>\n",
              "      <td>NaN</td>\n",
              "    </tr>\n",
              "    <tr>\n",
              "      <th>2012-10-14</th>\n",
              "      <td>587</td>\n",
              "      <td>NaN</td>\n",
              "      <td>287</td>\n",
              "      <td>443</td>\n",
              "      <td>852</td>\n",
              "      <td>503</td>\n",
              "      <td>65</td>\n",
              "      <td>952</td>\n",
              "      <td>NaN</td>\n",
              "    </tr>\n",
              "    <tr>\n",
              "      <th>2012-10-15</th>\n",
              "      <td>3292</td>\n",
              "      <td>NaN</td>\n",
              "      <td>1678</td>\n",
              "      <td>2165</td>\n",
              "      <td>4197</td>\n",
              "      <td>2754</td>\n",
              "      <td>560</td>\n",
              "      <td>3183</td>\n",
              "      <td>NaN</td>\n",
              "    </tr>\n",
              "    <tr>\n",
              "      <th>2012-10-16</th>\n",
              "      <td>3739</td>\n",
              "      <td>NaN</td>\n",
              "      <td>1858</td>\n",
              "      <td>2684</td>\n",
              "      <td>4681</td>\n",
              "      <td>2997</td>\n",
              "      <td>554</td>\n",
              "      <td>3593</td>\n",
              "      <td>NaN</td>\n",
              "    </tr>\n",
              "    <tr>\n",
              "      <th>2012-10-17</th>\n",
              "      <td>4098</td>\n",
              "      <td>NaN</td>\n",
              "      <td>1964</td>\n",
              "      <td>2645</td>\n",
              "      <td>4836</td>\n",
              "      <td>3063</td>\n",
              "      <td>728</td>\n",
              "      <td>3834</td>\n",
              "      <td>NaN</td>\n",
              "    </tr>\n",
              "    <tr>\n",
              "      <th>2012-10-18</th>\n",
              "      <td>4671</td>\n",
              "      <td>NaN</td>\n",
              "      <td>2292</td>\n",
              "      <td>3129</td>\n",
              "      <td>5542</td>\n",
              "      <td>3477</td>\n",
              "      <td>1108</td>\n",
              "      <td>4245</td>\n",
              "      <td>NaN</td>\n",
              "    </tr>\n",
              "    <tr>\n",
              "      <th>2012-10-19</th>\n",
              "      <td>1313</td>\n",
              "      <td>NaN</td>\n",
              "      <td>597</td>\n",
              "      <td>885</td>\n",
              "      <td>1668</td>\n",
              "      <td>1209</td>\n",
              "      <td>111</td>\n",
              "      <td>1486</td>\n",
              "      <td>NaN</td>\n",
              "    </tr>\n",
              "    <tr>\n",
              "      <th>2012-10-20</th>\n",
              "      <td>2011</td>\n",
              "      <td>NaN</td>\n",
              "      <td>748</td>\n",
              "      <td>1323</td>\n",
              "      <td>2266</td>\n",
              "      <td>1213</td>\n",
              "      <td>797</td>\n",
              "      <td>2243</td>\n",
              "      <td>NaN</td>\n",
              "    </tr>\n",
              "    <tr>\n",
              "      <th>2012-10-21</th>\n",
              "      <td>1277</td>\n",
              "      <td>NaN</td>\n",
              "      <td>609</td>\n",
              "      <td>869</td>\n",
              "      <td>1777</td>\n",
              "      <td>898</td>\n",
              "      <td>242</td>\n",
              "      <td>1648</td>\n",
              "      <td>NaN</td>\n",
              "    </tr>\n",
              "    <tr>\n",
              "      <th>2012-10-22</th>\n",
              "      <td>3650</td>\n",
              "      <td>NaN</td>\n",
              "      <td>1819</td>\n",
              "      <td>2495</td>\n",
              "      <td>4800</td>\n",
              "      <td>3023</td>\n",
              "      <td>757</td>\n",
              "      <td>3721</td>\n",
              "      <td>NaN</td>\n",
              "    </tr>\n",
              "    <tr>\n",
              "      <th>2012-10-23</th>\n",
              "      <td>4177</td>\n",
              "      <td>NaN</td>\n",
              "      <td>1997</td>\n",
              "      <td>2795</td>\n",
              "      <td>5216</td>\n",
              "      <td>3233</td>\n",
              "      <td>795</td>\n",
              "      <td>3554</td>\n",
              "      <td>NaN</td>\n",
              "    </tr>\n",
              "    <tr>\n",
              "      <th>2012-10-24</th>\n",
              "      <td>3744</td>\n",
              "      <td>NaN</td>\n",
              "      <td>1868</td>\n",
              "      <td>2625</td>\n",
              "      <td>4900</td>\n",
              "      <td>3035</td>\n",
              "      <td>649</td>\n",
              "      <td>3622</td>\n",
              "      <td>NaN</td>\n",
              "    </tr>\n",
              "    <tr>\n",
              "      <th>2012-10-25</th>\n",
              "      <td>3735</td>\n",
              "      <td>NaN</td>\n",
              "      <td>1815</td>\n",
              "      <td>2528</td>\n",
              "      <td>5010</td>\n",
              "      <td>3017</td>\n",
              "      <td>631</td>\n",
              "      <td>3767</td>\n",
              "      <td>NaN</td>\n",
              "    </tr>\n",
              "    <tr>\n",
              "      <th>2012-10-26</th>\n",
              "      <td>4290</td>\n",
              "      <td>NaN</td>\n",
              "      <td>1987</td>\n",
              "      <td>2754</td>\n",
              "      <td>5246</td>\n",
              "      <td>3000</td>\n",
              "      <td>1456</td>\n",
              "      <td>4578</td>\n",
              "      <td>NaN</td>\n",
              "    </tr>\n",
              "    <tr>\n",
              "      <th>2012-10-27</th>\n",
              "      <td>1857</td>\n",
              "      <td>NaN</td>\n",
              "      <td>792</td>\n",
              "      <td>1244</td>\n",
              "      <td>2461</td>\n",
              "      <td>1193</td>\n",
              "      <td>618</td>\n",
              "      <td>2471</td>\n",
              "      <td>NaN</td>\n",
              "    </tr>\n",
              "    <tr>\n",
              "      <th>2012-10-28</th>\n",
              "      <td>1310</td>\n",
              "      <td>NaN</td>\n",
              "      <td>697</td>\n",
              "      <td>910</td>\n",
              "      <td>1776</td>\n",
              "      <td>955</td>\n",
              "      <td>387</td>\n",
              "      <td>1876</td>\n",
              "      <td>NaN</td>\n",
              "    </tr>\n",
              "    <tr>\n",
              "      <th>2012-10-29</th>\n",
              "      <td>2919</td>\n",
              "      <td>NaN</td>\n",
              "      <td>1458</td>\n",
              "      <td>2071</td>\n",
              "      <td>3768</td>\n",
              "      <td>2440</td>\n",
              "      <td>411</td>\n",
              "      <td>2795</td>\n",
              "      <td>NaN</td>\n",
              "    </tr>\n",
              "    <tr>\n",
              "      <th>2012-10-30</th>\n",
              "      <td>2887</td>\n",
              "      <td>NaN</td>\n",
              "      <td>1251</td>\n",
              "      <td>2007</td>\n",
              "      <td>3516</td>\n",
              "      <td>2255</td>\n",
              "      <td>338</td>\n",
              "      <td>2790</td>\n",
              "      <td>NaN</td>\n",
              "    </tr>\n",
              "    <tr>\n",
              "      <th>2012-10-31</th>\n",
              "      <td>2634</td>\n",
              "      <td>NaN</td>\n",
              "      <td>1294</td>\n",
              "      <td>1835</td>\n",
              "      <td>3453</td>\n",
              "      <td>2220</td>\n",
              "      <td>245</td>\n",
              "      <td>2570</td>\n",
              "      <td>NaN</td>\n",
              "    </tr>\n",
              "    <tr>\n",
              "      <th>2012-11-01</th>\n",
              "      <td>2405</td>\n",
              "      <td>NaN</td>\n",
              "      <td>1208</td>\n",
              "      <td>1701</td>\n",
              "      <td>3082</td>\n",
              "      <td>2076</td>\n",
              "      <td>165</td>\n",
              "      <td>2461</td>\n",
              "      <td>NaN</td>\n",
              "    </tr>\n",
              "    <tr>\n",
              "      <th>2012-11-02</th>\n",
              "      <td>1582</td>\n",
              "      <td>NaN</td>\n",
              "      <td>737</td>\n",
              "      <td>1109</td>\n",
              "      <td>2277</td>\n",
              "      <td>1392</td>\n",
              "      <td>97</td>\n",
              "      <td>1888</td>\n",
              "      <td>NaN</td>\n",
              "    </tr>\n",
              "    <tr>\n",
              "      <th>2012-11-03</th>\n",
              "      <td>844</td>\n",
              "      <td>NaN</td>\n",
              "      <td>380</td>\n",
              "      <td>612</td>\n",
              "      <td>1137</td>\n",
              "      <td>713</td>\n",
              "      <td>105</td>\n",
              "      <td>1302</td>\n",
              "      <td>NaN</td>\n",
              "    </tr>\n",
              "    <tr>\n",
              "      <th>2012-11-04</th>\n",
              "      <td>966</td>\n",
              "      <td>NaN</td>\n",
              "      <td>446</td>\n",
              "      <td>710</td>\n",
              "      <td>1277</td>\n",
              "      <td>692</td>\n",
              "      <td>197</td>\n",
              "      <td>1374</td>\n",
              "      <td>NaN</td>\n",
              "    </tr>\n",
              "    <tr>\n",
              "      <th>2012-11-05</th>\n",
              "      <td>2247</td>\n",
              "      <td>NaN</td>\n",
              "      <td>1170</td>\n",
              "      <td>1705</td>\n",
              "      <td>3221</td>\n",
              "      <td>2143</td>\n",
              "      <td>179</td>\n",
              "      <td>2430</td>\n",
              "      <td>NaN</td>\n",
              "    </tr>\n",
              "  </tbody>\n",
              "</table>\n",
              "<p>310 rows × 9 columns</p>\n",
              "</div>"
            ],
            "text/plain": [
              "            Berri 1  ...  St-Urbain (données non disponibles)\n",
              "Date                 ...                                     \n",
              "2012-01-01       35  ...                                  NaN\n",
              "2012-01-02       83  ...                                  NaN\n",
              "2012-01-03      135  ...                                  NaN\n",
              "2012-01-04      144  ...                                  NaN\n",
              "2012-01-05      197  ...                                  NaN\n",
              "2012-01-06      146  ...                                  NaN\n",
              "2012-01-07       98  ...                                  NaN\n",
              "2012-01-08       95  ...                                  NaN\n",
              "2012-01-09      244  ...                                  NaN\n",
              "2012-01-10      397  ...                                  NaN\n",
              "2012-01-11      273  ...                                  NaN\n",
              "2012-01-12      157  ...                                  NaN\n",
              "2012-01-13       75  ...                                  NaN\n",
              "2012-01-14       32  ...                                  NaN\n",
              "2012-01-15       54  ...                                  NaN\n",
              "2012-01-16      168  ...                                  NaN\n",
              "2012-01-17      155  ...                                  NaN\n",
              "2012-01-18      139  ...                                  NaN\n",
              "2012-01-19      191  ...                                  NaN\n",
              "2012-01-20      161  ...                                  NaN\n",
              "2012-01-21       53  ...                                  NaN\n",
              "2012-01-22       71  ...                                  NaN\n",
              "2012-01-23      210  ...                                  NaN\n",
              "2012-01-24      299  ...                                  NaN\n",
              "2012-01-25      334  ...                                  NaN\n",
              "2012-01-26      306  ...                                  NaN\n",
              "2012-01-27       91  ...                                  NaN\n",
              "2012-01-28       80  ...                                  NaN\n",
              "2012-01-29       87  ...                                  NaN\n",
              "2012-01-30      219  ...                                  NaN\n",
              "...             ...  ...                                  ...\n",
              "2012-10-07     1580  ...                                  NaN\n",
              "2012-10-08     1854  ...                                  NaN\n",
              "2012-10-09     4787  ...                                  NaN\n",
              "2012-10-10     3115  ...                                  NaN\n",
              "2012-10-11     3746  ...                                  NaN\n",
              "2012-10-12     3169  ...                                  NaN\n",
              "2012-10-13     1783  ...                                  NaN\n",
              "2012-10-14      587  ...                                  NaN\n",
              "2012-10-15     3292  ...                                  NaN\n",
              "2012-10-16     3739  ...                                  NaN\n",
              "2012-10-17     4098  ...                                  NaN\n",
              "2012-10-18     4671  ...                                  NaN\n",
              "2012-10-19     1313  ...                                  NaN\n",
              "2012-10-20     2011  ...                                  NaN\n",
              "2012-10-21     1277  ...                                  NaN\n",
              "2012-10-22     3650  ...                                  NaN\n",
              "2012-10-23     4177  ...                                  NaN\n",
              "2012-10-24     3744  ...                                  NaN\n",
              "2012-10-25     3735  ...                                  NaN\n",
              "2012-10-26     4290  ...                                  NaN\n",
              "2012-10-27     1857  ...                                  NaN\n",
              "2012-10-28     1310  ...                                  NaN\n",
              "2012-10-29     2919  ...                                  NaN\n",
              "2012-10-30     2887  ...                                  NaN\n",
              "2012-10-31     2634  ...                                  NaN\n",
              "2012-11-01     2405  ...                                  NaN\n",
              "2012-11-02     1582  ...                                  NaN\n",
              "2012-11-03      844  ...                                  NaN\n",
              "2012-11-04      966  ...                                  NaN\n",
              "2012-11-05     2247  ...                                  NaN\n",
              "\n",
              "[310 rows x 9 columns]"
            ]
          },
          "metadata": {
            "tags": []
          },
          "execution_count": 188
        }
      ]
    },
    {
      "cell_type": "code",
      "metadata": {
        "id": "2wXAQW4631oX",
        "outputId": "4ea94933-d6ae-44e5-aaba-c3f8470e824e",
        "colab": {
          "base_uri": "https://localhost:8080/",
          "height": 217
        }
      },
      "source": [
        "# Explore the index\n"
      ],
      "execution_count": null,
      "outputs": [
        {
          "output_type": "execute_result",
          "data": {
            "text/plain": [
              "DatetimeIndex(['2012-01-01', '2012-01-02', '2012-01-03', '2012-01-04',\n",
              "               '2012-01-05', '2012-01-06', '2012-01-07', '2012-01-08',\n",
              "               '2012-01-09', '2012-01-10',\n",
              "               ...\n",
              "               '2012-10-27', '2012-10-28', '2012-10-29', '2012-10-30',\n",
              "               '2012-10-31', '2012-11-01', '2012-11-02', '2012-11-03',\n",
              "               '2012-11-04', '2012-11-05'],\n",
              "              dtype='datetime64[ns]', name='Date', length=310, freq=None)"
            ]
          },
          "metadata": {
            "tags": []
          },
          "execution_count": 189
        },
        {
          "output_type": "execute_result",
          "data": {
            "text/plain": [
              "Int64Index([6, 0, 1, 2, 3, 4, 5, 6, 0, 1,\n",
              "            ...\n",
              "            5, 6, 0, 1, 2, 3, 4, 5, 6, 0],\n",
              "           dtype='int64', name='Date', length=310)"
            ]
          },
          "metadata": {
            "tags": []
          },
          "execution_count": 189
        }
      ]
    },
    {
      "cell_type": "code",
      "metadata": {
        "id": "8xL2OJ3e2Fhu",
        "outputId": "8b0ba428-21f9-4c25-b04a-5f1d5cba8c2b",
        "colab": {
          "base_uri": "https://localhost:8080/",
          "height": 320
        }
      },
      "source": [
        "#Plot the Berri1 column\n"
      ],
      "execution_count": null,
      "outputs": [
        {
          "output_type": "execute_result",
          "data": {
            "text/plain": [
              "<matplotlib.axes._subplots.AxesSubplot at 0x7f645665c2e8>"
            ]
          },
          "metadata": {
            "tags": []
          },
          "execution_count": 190
        },
        {
          "output_type": "display_data",
          "data": {
            "image/png": "[encoded data removed]",
            "text/plain": [
              "<Figure size 432x288 with 1 Axes>"
            ]
          },
          "metadata": {
            "tags": []
          }
        }
      ]
    },
    {
      "cell_type": "code",
      "metadata": {
        "id": "_fS25rD_yKn_"
      },
      "source": [
        "# Copy the \"Berri 1\" to a new dataframe\n"
      ],
      "execution_count": null,
      "outputs": []
    },
    {
      "cell_type": "code",
      "metadata": {
        "id": "LNfgIq6r5H_V"
      },
      "source": [
        "# Add the weekday column using loc\n"
      ],
      "execution_count": null,
      "outputs": []
    },
    {
      "cell_type": "code",
      "metadata": {
        "id": "d90JdYhE5Pa9"
      },
      "source": [
        "# Groupby the number of cyclists by weekday and plot!\n"
      ],
      "execution_count": null,
      "outputs": []
    },
    {
      "cell_type": "code",
      "metadata": {
        "id": "HOjDVjUV5bah"
      },
      "source": [
        "# Combine/Add the index of the week\n"
      ],
      "execution_count": null,
      "outputs": []
    },
    {
      "cell_type": "code",
      "metadata": {
        "id": "34F_Avbv2W0M",
        "outputId": "0cf49fd0-551c-4e72-946b-47cd2e12fb5d",
        "colab": {
          "base_uri": "https://localhost:8080/",
          "height": 346
        }
      },
      "source": [
        "# Plot a bar plot\n"
      ],
      "execution_count": null,
      "outputs": [
        {
          "output_type": "execute_result",
          "data": {
            "text/plain": [
              "<matplotlib.axes._subplots.AxesSubplot at 0x7f6454dd0588>"
            ]
          },
          "metadata": {
            "tags": []
          },
          "execution_count": 195
        },
        {
          "output_type": "display_data",
          "data": {
            "image/png": "[encoded data removed]",
            "text/plain": [
              "<Figure size 432x288 with 1 Axes>"
            ]
          },
          "metadata": {
            "tags": []
          }
        }
      ]
    },
    {
      "cell_type": "markdown",
      "metadata": {
        "id": "8A9xnGaB6BpF"
      },
      "source": [
        "# In-class exercises 3: groupby drinking game\n",
        "\n",
        "* Import the dataset from [this git address](https://github.com/vfp1/bts-mbds-data-science-foundations-2019/raw/master/sessions/data/drinks.csv)\n",
        "* Which continent drinks more beer on average? Plot it.\n",
        "* Which country drinks the most spirits on average? Plot it.\n",
        "* For each continent print the statistics for wine consumption\n",
        "* Which is the mean alcohol consumption per continent for every column entry?\n",
        "* Print the mean, median, min and max values for spirit consumption"
      ]
    },
    {
      "cell_type": "code",
      "metadata": {
        "id": "h9hdf6SJ6yfh",
        "outputId": "4b18b8bb-0037-4e22-d496-1e1f4a28497e",
        "colab": {
          "base_uri": "https://localhost:8080/",
          "height": 198
        }
      },
      "source": [
        "# Within IPython notebook, add multiple print capabilities\n",
        "from IPython.core.interactiveshell import InteractiveShell\n",
        "InteractiveShell.ast_node_interactivity = \"all\"\n",
        "\n",
        "# Import dataset\n"
      ],
      "execution_count": null,
      "outputs": [
        {
          "output_type": "execute_result",
          "data": {
            "text/html": [
              "<div>\n",
              "<style scoped>\n",
              "    .dataframe tbody tr th:only-of-type {\n",
              "        vertical-align: middle;\n",
              "    }\n",
              "\n",
              "    .dataframe tbody tr th {\n",
              "        vertical-align: top;\n",
              "    }\n",
              "\n",
              "    .dataframe thead th {\n",
              "        text-align: right;\n",
              "    }\n",
              "</style>\n",
              "<table border=\"1\" class=\"dataframe\">\n",
              "  <thead>\n",
              "    <tr style=\"text-align: right;\">\n",
              "      <th></th>\n",
              "      <th>country</th>\n",
              "      <th>beer_servings</th>\n",
              "      <th>spirit_servings</th>\n",
              "      <th>wine_servings</th>\n",
              "      <th>total_litres_of_pure_alcohol</th>\n",
              "      <th>continent</th>\n",
              "    </tr>\n",
              "  </thead>\n",
              "  <tbody>\n",
              "    <tr>\n",
              "      <th>0</th>\n",
              "      <td>Afghanistan</td>\n",
              "      <td>0</td>\n",
              "      <td>0</td>\n",
              "      <td>0</td>\n",
              "      <td>0.0</td>\n",
              "      <td>AS</td>\n",
              "    </tr>\n",
              "    <tr>\n",
              "      <th>1</th>\n",
              "      <td>Albania</td>\n",
              "      <td>89</td>\n",
              "      <td>132</td>\n",
              "      <td>54</td>\n",
              "      <td>4.9</td>\n",
              "      <td>EU</td>\n",
              "    </tr>\n",
              "    <tr>\n",
              "      <th>2</th>\n",
              "      <td>Algeria</td>\n",
              "      <td>25</td>\n",
              "      <td>0</td>\n",
              "      <td>14</td>\n",
              "      <td>0.7</td>\n",
              "      <td>AF</td>\n",
              "    </tr>\n",
              "    <tr>\n",
              "      <th>3</th>\n",
              "      <td>Andorra</td>\n",
              "      <td>245</td>\n",
              "      <td>138</td>\n",
              "      <td>312</td>\n",
              "      <td>12.4</td>\n",
              "      <td>EU</td>\n",
              "    </tr>\n",
              "    <tr>\n",
              "      <th>4</th>\n",
              "      <td>Angola</td>\n",
              "      <td>217</td>\n",
              "      <td>57</td>\n",
              "      <td>45</td>\n",
              "      <td>5.9</td>\n",
              "      <td>AF</td>\n",
              "    </tr>\n",
              "  </tbody>\n",
              "</table>\n",
              "</div>"
            ],
            "text/plain": [
              "       country  beer_servings  ...  total_litres_of_pure_alcohol  continent\n",
              "0  Afghanistan              0  ...                           0.0         AS\n",
              "1      Albania             89  ...                           4.9         EU\n",
              "2      Algeria             25  ...                           0.7         AF\n",
              "3      Andorra            245  ...                          12.4         EU\n",
              "4       Angola            217  ...                           5.9         AF\n",
              "\n",
              "[5 rows x 6 columns]"
            ]
          },
          "metadata": {
            "tags": []
          },
          "execution_count": 196
        }
      ]
    },
    {
      "cell_type": "code",
      "metadata": {
        "id": "1GELT3K27wz9",
        "outputId": "984a5b10-1e54-4618-f717-b09a60e397bc",
        "colab": {
          "base_uri": "https://localhost:8080/",
          "height": 425
        }
      },
      "source": [
        "# Which continent drinks more beer on average? Plot it.\n"
      ],
      "execution_count": null,
      "outputs": [
        {
          "output_type": "execute_result",
          "data": {
            "text/plain": [
              "continent\n",
              "AF     61.471698\n",
              "AS     37.045455\n",
              "EU    193.777778\n",
              "OC     89.687500\n",
              "SA    175.083333\n",
              "Name: beer_servings, dtype: float64"
            ]
          },
          "metadata": {
            "tags": []
          },
          "execution_count": 197
        },
        {
          "output_type": "execute_result",
          "data": {
            "text/plain": [
              "<matplotlib.axes._subplots.AxesSubplot at 0x7f6454d4eba8>"
            ]
          },
          "metadata": {
            "tags": []
          },
          "execution_count": 197
        },
        {
          "output_type": "display_data",
          "data": {
            "image/png": "[encoded data removed]",
            "text/plain": [
              "<Figure size 432x288 with 1 Axes>"
            ]
          },
          "metadata": {
            "tags": []
          }
        }
      ]
    },
    {
      "cell_type": "code",
      "metadata": {
        "id": "r7poW7VU7z-4",
        "outputId": "17d6f6f2-35b0-49fe-c209-d5285672bbee",
        "colab": {
          "base_uri": "https://localhost:8080/",
          "height": 425
        }
      },
      "source": [
        "# Which country drinks the most spirits on average? Plot it.\n"
      ],
      "execution_count": null,
      "outputs": [
        {
          "output_type": "execute_result",
          "data": {
            "text/plain": [
              "continent\n",
              "AF     16.339623\n",
              "AS     60.840909\n",
              "EU    132.555556\n",
              "OC     58.437500\n",
              "SA    114.750000\n",
              "Name: spirit_servings, dtype: float64"
            ]
          },
          "metadata": {
            "tags": []
          },
          "execution_count": 198
        },
        {
          "output_type": "execute_result",
          "data": {
            "text/plain": [
              "<matplotlib.axes._subplots.AxesSubplot at 0x7f6454d28e10>"
            ]
          },
          "metadata": {
            "tags": []
          },
          "execution_count": 198
        },
        {
          "output_type": "display_data",
          "data": {
            "image/png": "[encoded data removed]",
            "text/plain": [
              "<Figure size 432x288 with 1 Axes>"
            ]
          },
          "metadata": {
            "tags": []
          }
        }
      ]
    },
    {
      "cell_type": "code",
      "metadata": {
        "id": "OLrErfZM734Q",
        "outputId": "20c86c93-6967-42aa-b102-8af5d8b2ed16",
        "colab": {
          "base_uri": "https://localhost:8080/",
          "height": 228
        }
      },
      "source": [
        "# For each continent print the statistics for wine consumption\n"
      ],
      "execution_count": null,
      "outputs": [
        {
          "output_type": "execute_result",
          "data": {
            "text/html": [
              "<div>\n",
              "<style scoped>\n",
              "    .dataframe tbody tr th:only-of-type {\n",
              "        vertical-align: middle;\n",
              "    }\n",
              "\n",
              "    .dataframe tbody tr th {\n",
              "        vertical-align: top;\n",
              "    }\n",
              "\n",
              "    .dataframe thead th {\n",
              "        text-align: right;\n",
              "    }\n",
              "</style>\n",
              "<table border=\"1\" class=\"dataframe\">\n",
              "  <thead>\n",
              "    <tr style=\"text-align: right;\">\n",
              "      <th></th>\n",
              "      <th>count</th>\n",
              "      <th>mean</th>\n",
              "      <th>std</th>\n",
              "      <th>min</th>\n",
              "      <th>25%</th>\n",
              "      <th>50%</th>\n",
              "      <th>75%</th>\n",
              "      <th>max</th>\n",
              "    </tr>\n",
              "    <tr>\n",
              "      <th>continent</th>\n",
              "      <th></th>\n",
              "      <th></th>\n",
              "      <th></th>\n",
              "      <th></th>\n",
              "      <th></th>\n",
              "      <th></th>\n",
              "      <th></th>\n",
              "      <th></th>\n",
              "    </tr>\n",
              "  </thead>\n",
              "  <tbody>\n",
              "    <tr>\n",
              "      <th>AF</th>\n",
              "      <td>53.0</td>\n",
              "      <td>16.264151</td>\n",
              "      <td>38.846419</td>\n",
              "      <td>0.0</td>\n",
              "      <td>1.0</td>\n",
              "      <td>2.0</td>\n",
              "      <td>13.00</td>\n",
              "      <td>233.0</td>\n",
              "    </tr>\n",
              "    <tr>\n",
              "      <th>AS</th>\n",
              "      <td>44.0</td>\n",
              "      <td>9.068182</td>\n",
              "      <td>21.667034</td>\n",
              "      <td>0.0</td>\n",
              "      <td>0.0</td>\n",
              "      <td>1.0</td>\n",
              "      <td>8.00</td>\n",
              "      <td>123.0</td>\n",
              "    </tr>\n",
              "    <tr>\n",
              "      <th>EU</th>\n",
              "      <td>45.0</td>\n",
              "      <td>142.222222</td>\n",
              "      <td>97.421738</td>\n",
              "      <td>0.0</td>\n",
              "      <td>59.0</td>\n",
              "      <td>128.0</td>\n",
              "      <td>195.00</td>\n",
              "      <td>370.0</td>\n",
              "    </tr>\n",
              "    <tr>\n",
              "      <th>OC</th>\n",
              "      <td>16.0</td>\n",
              "      <td>35.625000</td>\n",
              "      <td>64.555790</td>\n",
              "      <td>0.0</td>\n",
              "      <td>1.0</td>\n",
              "      <td>8.5</td>\n",
              "      <td>23.25</td>\n",
              "      <td>212.0</td>\n",
              "    </tr>\n",
              "    <tr>\n",
              "      <th>SA</th>\n",
              "      <td>12.0</td>\n",
              "      <td>62.416667</td>\n",
              "      <td>88.620189</td>\n",
              "      <td>1.0</td>\n",
              "      <td>3.0</td>\n",
              "      <td>12.0</td>\n",
              "      <td>98.50</td>\n",
              "      <td>221.0</td>\n",
              "    </tr>\n",
              "  </tbody>\n",
              "</table>\n",
              "</div>"
            ],
            "text/plain": [
              "           count        mean        std  min   25%    50%     75%    max\n",
              "continent                                                               \n",
              "AF          53.0   16.264151  38.846419  0.0   1.0    2.0   13.00  233.0\n",
              "AS          44.0    9.068182  21.667034  0.0   0.0    1.0    8.00  123.0\n",
              "EU          45.0  142.222222  97.421738  0.0  59.0  128.0  195.00  370.0\n",
              "OC          16.0   35.625000  64.555790  0.0   1.0    8.5   23.25  212.0\n",
              "SA          12.0   62.416667  88.620189  1.0   3.0   12.0   98.50  221.0"
            ]
          },
          "metadata": {
            "tags": []
          },
          "execution_count": 199
        }
      ]
    },
    {
      "cell_type": "code",
      "metadata": {
        "id": "QHPu_R0p766Y",
        "outputId": "aeaa248e-ce66-45bd-a5e3-95ca4ab29785",
        "colab": {
          "base_uri": "https://localhost:8080/",
          "height": 228
        }
      },
      "source": [
        "# Which is the mean alcohol consumption per continent for every column entry?\n"
      ],
      "execution_count": null,
      "outputs": [
        {
          "output_type": "execute_result",
          "data": {
            "text/html": [
              "<div>\n",
              "<style scoped>\n",
              "    .dataframe tbody tr th:only-of-type {\n",
              "        vertical-align: middle;\n",
              "    }\n",
              "\n",
              "    .dataframe tbody tr th {\n",
              "        vertical-align: top;\n",
              "    }\n",
              "\n",
              "    .dataframe thead th {\n",
              "        text-align: right;\n",
              "    }\n",
              "</style>\n",
              "<table border=\"1\" class=\"dataframe\">\n",
              "  <thead>\n",
              "    <tr style=\"text-align: right;\">\n",
              "      <th></th>\n",
              "      <th>beer_servings</th>\n",
              "      <th>spirit_servings</th>\n",
              "      <th>wine_servings</th>\n",
              "      <th>total_litres_of_pure_alcohol</th>\n",
              "    </tr>\n",
              "    <tr>\n",
              "      <th>continent</th>\n",
              "      <th></th>\n",
              "      <th></th>\n",
              "      <th></th>\n",
              "      <th></th>\n",
              "    </tr>\n",
              "  </thead>\n",
              "  <tbody>\n",
              "    <tr>\n",
              "      <th>AF</th>\n",
              "      <td>61.471698</td>\n",
              "      <td>16.339623</td>\n",
              "      <td>16.264151</td>\n",
              "      <td>3.007547</td>\n",
              "    </tr>\n",
              "    <tr>\n",
              "      <th>AS</th>\n",
              "      <td>37.045455</td>\n",
              "      <td>60.840909</td>\n",
              "      <td>9.068182</td>\n",
              "      <td>2.170455</td>\n",
              "    </tr>\n",
              "    <tr>\n",
              "      <th>EU</th>\n",
              "      <td>193.777778</td>\n",
              "      <td>132.555556</td>\n",
              "      <td>142.222222</td>\n",
              "      <td>8.617778</td>\n",
              "    </tr>\n",
              "    <tr>\n",
              "      <th>OC</th>\n",
              "      <td>89.687500</td>\n",
              "      <td>58.437500</td>\n",
              "      <td>35.625000</td>\n",
              "      <td>3.381250</td>\n",
              "    </tr>\n",
              "    <tr>\n",
              "      <th>SA</th>\n",
              "      <td>175.083333</td>\n",
              "      <td>114.750000</td>\n",
              "      <td>62.416667</td>\n",
              "      <td>6.308333</td>\n",
              "    </tr>\n",
              "  </tbody>\n",
              "</table>\n",
              "</div>"
            ],
            "text/plain": [
              "           beer_servings  ...  total_litres_of_pure_alcohol\n",
              "continent                 ...                              \n",
              "AF             61.471698  ...                      3.007547\n",
              "AS             37.045455  ...                      2.170455\n",
              "EU            193.777778  ...                      8.617778\n",
              "OC             89.687500  ...                      3.381250\n",
              "SA            175.083333  ...                      6.308333\n",
              "\n",
              "[5 rows x 4 columns]"
            ]
          },
          "metadata": {
            "tags": []
          },
          "execution_count": 200
        }
      ]
    },
    {
      "cell_type": "code",
      "metadata": {
        "id": "xypjYDEQ7955",
        "outputId": "0ff6bc17-6fe2-41a9-c657-c819fbd4255a",
        "colab": {
          "base_uri": "https://localhost:8080/",
          "height": 228
        }
      },
      "source": [
        "# Print the mean, median, min and max values for spirit consumption\n"
      ],
      "execution_count": null,
      "outputs": [
        {
          "output_type": "execute_result",
          "data": {
            "text/html": [
              "<div>\n",
              "<style scoped>\n",
              "    .dataframe tbody tr th:only-of-type {\n",
              "        vertical-align: middle;\n",
              "    }\n",
              "\n",
              "    .dataframe tbody tr th {\n",
              "        vertical-align: top;\n",
              "    }\n",
              "\n",
              "    .dataframe thead th {\n",
              "        text-align: right;\n",
              "    }\n",
              "</style>\n",
              "<table border=\"1\" class=\"dataframe\">\n",
              "  <thead>\n",
              "    <tr style=\"text-align: right;\">\n",
              "      <th></th>\n",
              "      <th>mean</th>\n",
              "      <th>median</th>\n",
              "      <th>min</th>\n",
              "      <th>max</th>\n",
              "    </tr>\n",
              "    <tr>\n",
              "      <th>continent</th>\n",
              "      <th></th>\n",
              "      <th></th>\n",
              "      <th></th>\n",
              "      <th></th>\n",
              "    </tr>\n",
              "  </thead>\n",
              "  <tbody>\n",
              "    <tr>\n",
              "      <th>AF</th>\n",
              "      <td>16.339623</td>\n",
              "      <td>3.0</td>\n",
              "      <td>0</td>\n",
              "      <td>152</td>\n",
              "    </tr>\n",
              "    <tr>\n",
              "      <th>AS</th>\n",
              "      <td>60.840909</td>\n",
              "      <td>16.0</td>\n",
              "      <td>0</td>\n",
              "      <td>326</td>\n",
              "    </tr>\n",
              "    <tr>\n",
              "      <th>EU</th>\n",
              "      <td>132.555556</td>\n",
              "      <td>122.0</td>\n",
              "      <td>0</td>\n",
              "      <td>373</td>\n",
              "    </tr>\n",
              "    <tr>\n",
              "      <th>OC</th>\n",
              "      <td>58.437500</td>\n",
              "      <td>37.0</td>\n",
              "      <td>0</td>\n",
              "      <td>254</td>\n",
              "    </tr>\n",
              "    <tr>\n",
              "      <th>SA</th>\n",
              "      <td>114.750000</td>\n",
              "      <td>108.5</td>\n",
              "      <td>25</td>\n",
              "      <td>302</td>\n",
              "    </tr>\n",
              "  </tbody>\n",
              "</table>\n",
              "</div>"
            ],
            "text/plain": [
              "                 mean  median  min  max\n",
              "continent                              \n",
              "AF          16.339623     3.0    0  152\n",
              "AS          60.840909    16.0    0  326\n",
              "EU         132.555556   122.0    0  373\n",
              "OC          58.437500    37.0    0  254\n",
              "SA         114.750000   108.5   25  302"
            ]
          },
          "metadata": {
            "tags": []
          },
          "execution_count": 201
        }
      ]
    },
    {
      "cell_type": "markdown",
      "metadata": {
        "id": "DS4n1x3fByQV"
      },
      "source": [
        "# In-class exercise 4: apple stock time series\n",
        "\n",
        "We will need to import [this dataset](https://github.com/vfp1/bts-mbds-data-science-foundations-2019/raw/master/sessions/data/appl_1980_2014.csv)\n",
        "\n",
        "* Assign the dataset to a variable called 'apple'\n",
        "* Check the data type in each column\n",
        "* Date is an object, not a datetime, transform it to datetime using \"to_datetime\"\n",
        "* Set the Date column as an index by using \"set_index\"\n"
      ]
    },
    {
      "cell_type": "code",
      "metadata": {
        "id": "Rq79mUAUCAuo"
      },
      "source": [
        "# Within IPython notebook, add multiple print capabilities\n",
        "from IPython.core.interactiveshell import InteractiveShell\n",
        "InteractiveShell.ast_node_interactivity = \"all\"\n",
        "\n",
        "# Import dataset\n",
        "import pandas as pd"
      ],
      "execution_count": null,
      "outputs": []
    },
    {
      "cell_type": "code",
      "metadata": {
        "id": "nVgbQrSlCxG5",
        "outputId": "7b9b6688-3bfe-4a63-9702-969f58aaba34",
        "colab": {
          "base_uri": "https://localhost:8080/",
          "height": 198
        }
      },
      "source": [
        "# Assign the dataset to a variable called 'apple'\n"
      ],
      "execution_count": null,
      "outputs": [
        {
          "output_type": "execute_result",
          "data": {
            "text/html": [
              "<div>\n",
              "<style scoped>\n",
              "    .dataframe tbody tr th:only-of-type {\n",
              "        vertical-align: middle;\n",
              "    }\n",
              "\n",
              "    .dataframe tbody tr th {\n",
              "        vertical-align: top;\n",
              "    }\n",
              "\n",
              "    .dataframe thead th {\n",
              "        text-align: right;\n",
              "    }\n",
              "</style>\n",
              "<table border=\"1\" class=\"dataframe\">\n",
              "  <thead>\n",
              "    <tr style=\"text-align: right;\">\n",
              "      <th></th>\n",
              "      <th>Date</th>\n",
              "      <th>Open</th>\n",
              "      <th>High</th>\n",
              "      <th>Low</th>\n",
              "      <th>Close</th>\n",
              "      <th>Volume</th>\n",
              "      <th>Adj Close</th>\n",
              "    </tr>\n",
              "  </thead>\n",
              "  <tbody>\n",
              "    <tr>\n",
              "      <th>0</th>\n",
              "      <td>2014-07-08</td>\n",
              "      <td>96.27</td>\n",
              "      <td>96.80</td>\n",
              "      <td>93.92</td>\n",
              "      <td>95.35</td>\n",
              "      <td>65130000</td>\n",
              "      <td>95.35</td>\n",
              "    </tr>\n",
              "    <tr>\n",
              "      <th>1</th>\n",
              "      <td>2014-07-07</td>\n",
              "      <td>94.14</td>\n",
              "      <td>95.99</td>\n",
              "      <td>94.10</td>\n",
              "      <td>95.97</td>\n",
              "      <td>56305400</td>\n",
              "      <td>95.97</td>\n",
              "    </tr>\n",
              "    <tr>\n",
              "      <th>2</th>\n",
              "      <td>2014-07-03</td>\n",
              "      <td>93.67</td>\n",
              "      <td>94.10</td>\n",
              "      <td>93.20</td>\n",
              "      <td>94.03</td>\n",
              "      <td>22891800</td>\n",
              "      <td>94.03</td>\n",
              "    </tr>\n",
              "    <tr>\n",
              "      <th>3</th>\n",
              "      <td>2014-07-02</td>\n",
              "      <td>93.87</td>\n",
              "      <td>94.06</td>\n",
              "      <td>93.09</td>\n",
              "      <td>93.48</td>\n",
              "      <td>28420900</td>\n",
              "      <td>93.48</td>\n",
              "    </tr>\n",
              "    <tr>\n",
              "      <th>4</th>\n",
              "      <td>2014-07-01</td>\n",
              "      <td>93.52</td>\n",
              "      <td>94.07</td>\n",
              "      <td>93.13</td>\n",
              "      <td>93.52</td>\n",
              "      <td>38170200</td>\n",
              "      <td>93.52</td>\n",
              "    </tr>\n",
              "  </tbody>\n",
              "</table>\n",
              "</div>"
            ],
            "text/plain": [
              "         Date   Open   High    Low  Close    Volume  Adj Close\n",
              "0  2014-07-08  96.27  96.80  93.92  95.35  65130000      95.35\n",
              "1  2014-07-07  94.14  95.99  94.10  95.97  56305400      95.97\n",
              "2  2014-07-03  93.67  94.10  93.20  94.03  22891800      94.03\n",
              "3  2014-07-02  93.87  94.06  93.09  93.48  28420900      93.48\n",
              "4  2014-07-01  93.52  94.07  93.13  93.52  38170200      93.52"
            ]
          },
          "metadata": {
            "tags": []
          },
          "execution_count": 203
        }
      ]
    },
    {
      "cell_type": "code",
      "metadata": {
        "id": "r3ANwgDIDKGo",
        "outputId": "41858ca4-75b6-4359-8f0c-6c841625792a",
        "colab": {
          "base_uri": "https://localhost:8080/",
          "height": 163
        }
      },
      "source": [
        "# Check the data type in each column\n"
      ],
      "execution_count": null,
      "outputs": [
        {
          "output_type": "execute_result",
          "data": {
            "text/plain": [
              "Date          object\n",
              "Open         float64\n",
              "High         float64\n",
              "Low          float64\n",
              "Close        float64\n",
              "Volume         int64\n",
              "Adj Close    float64\n",
              "dtype: object"
            ]
          },
          "metadata": {
            "tags": []
          },
          "execution_count": 204
        }
      ]
    },
    {
      "cell_type": "code",
      "metadata": {
        "id": "j4xyLhzTDTaY",
        "outputId": "f2f05417-cedc-42bc-a090-c9ea550091de",
        "colab": {
          "base_uri": "https://localhost:8080/",
          "height": 126
        }
      },
      "source": [
        "# Date is an object, not a datetime, transform it to datetime using \"to_datetime\"\n"
      ],
      "execution_count": null,
      "outputs": [
        {
          "output_type": "execute_result",
          "data": {
            "text/plain": [
              "0   2014-07-08\n",
              "1   2014-07-07\n",
              "2   2014-07-03\n",
              "3   2014-07-02\n",
              "4   2014-07-01\n",
              "Name: Date, dtype: datetime64[ns]"
            ]
          },
          "metadata": {
            "tags": []
          },
          "execution_count": 205
        }
      ]
    },
    {
      "cell_type": "code",
      "metadata": {
        "id": "vVI-s1pCDeQw",
        "outputId": "b19722e1-d10d-43f4-9444-fd13c85545c4",
        "colab": {
          "base_uri": "https://localhost:8080/",
          "height": 228
        }
      },
      "source": [
        "# Set the Date column as an index by using \"set_index\"\n"
      ],
      "execution_count": null,
      "outputs": [
        {
          "output_type": "execute_result",
          "data": {
            "text/html": [
              "<div>\n",
              "<style scoped>\n",
              "    .dataframe tbody tr th:only-of-type {\n",
              "        vertical-align: middle;\n",
              "    }\n",
              "\n",
              "    .dataframe tbody tr th {\n",
              "        vertical-align: top;\n",
              "    }\n",
              "\n",
              "    .dataframe thead th {\n",
              "        text-align: right;\n",
              "    }\n",
              "</style>\n",
              "<table border=\"1\" class=\"dataframe\">\n",
              "  <thead>\n",
              "    <tr style=\"text-align: right;\">\n",
              "      <th></th>\n",
              "      <th>Open</th>\n",
              "      <th>High</th>\n",
              "      <th>Low</th>\n",
              "      <th>Close</th>\n",
              "      <th>Volume</th>\n",
              "      <th>Adj Close</th>\n",
              "    </tr>\n",
              "    <tr>\n",
              "      <th>Date</th>\n",
              "      <th></th>\n",
              "      <th></th>\n",
              "      <th></th>\n",
              "      <th></th>\n",
              "      <th></th>\n",
              "      <th></th>\n",
              "    </tr>\n",
              "  </thead>\n",
              "  <tbody>\n",
              "    <tr>\n",
              "      <th>2014-07-08</th>\n",
              "      <td>96.27</td>\n",
              "      <td>96.80</td>\n",
              "      <td>93.92</td>\n",
              "      <td>95.35</td>\n",
              "      <td>65130000</td>\n",
              "      <td>95.35</td>\n",
              "    </tr>\n",
              "    <tr>\n",
              "      <th>2014-07-07</th>\n",
              "      <td>94.14</td>\n",
              "      <td>95.99</td>\n",
              "      <td>94.10</td>\n",
              "      <td>95.97</td>\n",
              "      <td>56305400</td>\n",
              "      <td>95.97</td>\n",
              "    </tr>\n",
              "    <tr>\n",
              "      <th>2014-07-03</th>\n",
              "      <td>93.67</td>\n",
              "      <td>94.10</td>\n",
              "      <td>93.20</td>\n",
              "      <td>94.03</td>\n",
              "      <td>22891800</td>\n",
              "      <td>94.03</td>\n",
              "    </tr>\n",
              "    <tr>\n",
              "      <th>2014-07-02</th>\n",
              "      <td>93.87</td>\n",
              "      <td>94.06</td>\n",
              "      <td>93.09</td>\n",
              "      <td>93.48</td>\n",
              "      <td>28420900</td>\n",
              "      <td>93.48</td>\n",
              "    </tr>\n",
              "    <tr>\n",
              "      <th>2014-07-01</th>\n",
              "      <td>93.52</td>\n",
              "      <td>94.07</td>\n",
              "      <td>93.13</td>\n",
              "      <td>93.52</td>\n",
              "      <td>38170200</td>\n",
              "      <td>93.52</td>\n",
              "    </tr>\n",
              "  </tbody>\n",
              "</table>\n",
              "</div>"
            ],
            "text/plain": [
              "             Open   High    Low  Close    Volume  Adj Close\n",
              "Date                                                       \n",
              "2014-07-08  96.27  96.80  93.92  95.35  65130000      95.35\n",
              "2014-07-07  94.14  95.99  94.10  95.97  56305400      95.97\n",
              "2014-07-03  93.67  94.10  93.20  94.03  22891800      94.03\n",
              "2014-07-02  93.87  94.06  93.09  93.48  28420900      93.48\n",
              "2014-07-01  93.52  94.07  93.13  93.52  38170200      93.52"
            ]
          },
          "metadata": {
            "tags": []
          },
          "execution_count": 206
        }
      ]
    },
    {
      "cell_type": "code",
      "metadata": {
        "id": "V0u2Bb4eDw1f",
        "outputId": "61e6bc1b-1369-49db-8ba9-d480b52fe90d",
        "colab": {
          "base_uri": "https://localhost:8080/",
          "height": 228
        }
      },
      "source": [
        "# Sort the index so that the first data comes first\n"
      ],
      "execution_count": null,
      "outputs": [
        {
          "output_type": "execute_result",
          "data": {
            "text/html": [
              "<div>\n",
              "<style scoped>\n",
              "    .dataframe tbody tr th:only-of-type {\n",
              "        vertical-align: middle;\n",
              "    }\n",
              "\n",
              "    .dataframe tbody tr th {\n",
              "        vertical-align: top;\n",
              "    }\n",
              "\n",
              "    .dataframe thead th {\n",
              "        text-align: right;\n",
              "    }\n",
              "</style>\n",
              "<table border=\"1\" class=\"dataframe\">\n",
              "  <thead>\n",
              "    <tr style=\"text-align: right;\">\n",
              "      <th></th>\n",
              "      <th>Open</th>\n",
              "      <th>High</th>\n",
              "      <th>Low</th>\n",
              "      <th>Close</th>\n",
              "      <th>Volume</th>\n",
              "      <th>Adj Close</th>\n",
              "    </tr>\n",
              "    <tr>\n",
              "      <th>Date</th>\n",
              "      <th></th>\n",
              "      <th></th>\n",
              "      <th></th>\n",
              "      <th></th>\n",
              "      <th></th>\n",
              "      <th></th>\n",
              "    </tr>\n",
              "  </thead>\n",
              "  <tbody>\n",
              "    <tr>\n",
              "      <th>1980-12-12</th>\n",
              "      <td>28.75</td>\n",
              "      <td>28.87</td>\n",
              "      <td>28.75</td>\n",
              "      <td>28.75</td>\n",
              "      <td>117258400</td>\n",
              "      <td>0.45</td>\n",
              "    </tr>\n",
              "    <tr>\n",
              "      <th>1980-12-15</th>\n",
              "      <td>27.38</td>\n",
              "      <td>27.38</td>\n",
              "      <td>27.25</td>\n",
              "      <td>27.25</td>\n",
              "      <td>43971200</td>\n",
              "      <td>0.42</td>\n",
              "    </tr>\n",
              "    <tr>\n",
              "      <th>1980-12-16</th>\n",
              "      <td>25.37</td>\n",
              "      <td>25.37</td>\n",
              "      <td>25.25</td>\n",
              "      <td>25.25</td>\n",
              "      <td>26432000</td>\n",
              "      <td>0.39</td>\n",
              "    </tr>\n",
              "    <tr>\n",
              "      <th>1980-12-17</th>\n",
              "      <td>25.87</td>\n",
              "      <td>26.00</td>\n",
              "      <td>25.87</td>\n",
              "      <td>25.87</td>\n",
              "      <td>21610400</td>\n",
              "      <td>0.40</td>\n",
              "    </tr>\n",
              "    <tr>\n",
              "      <th>1980-12-18</th>\n",
              "      <td>26.63</td>\n",
              "      <td>26.75</td>\n",
              "      <td>26.63</td>\n",
              "      <td>26.63</td>\n",
              "      <td>18362400</td>\n",
              "      <td>0.41</td>\n",
              "    </tr>\n",
              "  </tbody>\n",
              "</table>\n",
              "</div>"
            ],
            "text/plain": [
              "             Open   High    Low  Close     Volume  Adj Close\n",
              "Date                                                        \n",
              "1980-12-12  28.75  28.87  28.75  28.75  117258400       0.45\n",
              "1980-12-15  27.38  27.38  27.25  27.25   43971200       0.42\n",
              "1980-12-16  25.37  25.37  25.25  25.25   26432000       0.39\n",
              "1980-12-17  25.87  26.00  25.87  25.87   21610400       0.40\n",
              "1980-12-18  26.63  26.75  26.63  26.63   18362400       0.41"
            ]
          },
          "metadata": {
            "tags": []
          },
          "execution_count": 207
        }
      ]
    },
    {
      "cell_type": "code",
      "metadata": {
        "id": "vbwMyEtcD3uR",
        "outputId": "20ebdef2-f594-484d-8722-986cad71ba49",
        "colab": {
          "base_uri": "https://localhost:8080/",
          "height": 228
        }
      },
      "source": [
        "# Get the last business day of each month using frequency \"BM\"\n"
      ],
      "execution_count": null,
      "outputs": [
        {
          "output_type": "execute_result",
          "data": {
            "text/html": [
              "<div>\n",
              "<style scoped>\n",
              "    .dataframe tbody tr th:only-of-type {\n",
              "        vertical-align: middle;\n",
              "    }\n",
              "\n",
              "    .dataframe tbody tr th {\n",
              "        vertical-align: top;\n",
              "    }\n",
              "\n",
              "    .dataframe thead th {\n",
              "        text-align: right;\n",
              "    }\n",
              "</style>\n",
              "<table border=\"1\" class=\"dataframe\">\n",
              "  <thead>\n",
              "    <tr style=\"text-align: right;\">\n",
              "      <th></th>\n",
              "      <th>Open</th>\n",
              "      <th>High</th>\n",
              "      <th>Low</th>\n",
              "      <th>Close</th>\n",
              "      <th>Volume</th>\n",
              "      <th>Adj Close</th>\n",
              "    </tr>\n",
              "    <tr>\n",
              "      <th>Date</th>\n",
              "      <th></th>\n",
              "      <th></th>\n",
              "      <th></th>\n",
              "      <th></th>\n",
              "      <th></th>\n",
              "      <th></th>\n",
              "    </tr>\n",
              "  </thead>\n",
              "  <tbody>\n",
              "    <tr>\n",
              "      <th>1980-12-31</th>\n",
              "      <td>30.481538</td>\n",
              "      <td>30.567692</td>\n",
              "      <td>30.443077</td>\n",
              "      <td>30.443077</td>\n",
              "      <td>2.586252e+07</td>\n",
              "      <td>0.473077</td>\n",
              "    </tr>\n",
              "    <tr>\n",
              "      <th>1981-01-30</th>\n",
              "      <td>31.754762</td>\n",
              "      <td>31.826667</td>\n",
              "      <td>31.654762</td>\n",
              "      <td>31.654762</td>\n",
              "      <td>7.249867e+06</td>\n",
              "      <td>0.493810</td>\n",
              "    </tr>\n",
              "    <tr>\n",
              "      <th>1981-02-27</th>\n",
              "      <td>26.480000</td>\n",
              "      <td>26.572105</td>\n",
              "      <td>26.407895</td>\n",
              "      <td>26.407895</td>\n",
              "      <td>4.231832e+06</td>\n",
              "      <td>0.411053</td>\n",
              "    </tr>\n",
              "    <tr>\n",
              "      <th>1981-03-31</th>\n",
              "      <td>24.937727</td>\n",
              "      <td>25.016818</td>\n",
              "      <td>24.836364</td>\n",
              "      <td>24.836364</td>\n",
              "      <td>7.962691e+06</td>\n",
              "      <td>0.387727</td>\n",
              "    </tr>\n",
              "    <tr>\n",
              "      <th>1981-04-30</th>\n",
              "      <td>27.286667</td>\n",
              "      <td>27.368095</td>\n",
              "      <td>27.227143</td>\n",
              "      <td>27.227143</td>\n",
              "      <td>6.392000e+06</td>\n",
              "      <td>0.423333</td>\n",
              "    </tr>\n",
              "  </tbody>\n",
              "</table>\n",
              "</div>"
            ],
            "text/plain": [
              "                 Open       High        Low      Close        Volume  Adj Close\n",
              "Date                                                                           \n",
              "1980-12-31  30.481538  30.567692  30.443077  30.443077  2.586252e+07   0.473077\n",
              "1981-01-30  31.754762  31.826667  31.654762  31.654762  7.249867e+06   0.493810\n",
              "1981-02-27  26.480000  26.572105  26.407895  26.407895  4.231832e+06   0.411053\n",
              "1981-03-31  24.937727  25.016818  24.836364  24.836364  7.962691e+06   0.387727\n",
              "1981-04-30  27.286667  27.368095  27.227143  27.227143  6.392000e+06   0.423333"
            ]
          },
          "metadata": {
            "tags": []
          },
          "execution_count": 208
        }
      ]
    },
    {
      "cell_type": "code",
      "metadata": {
        "id": "E7efOTruEYBp",
        "outputId": "cc7e77bd-b702-4307-857f-5091b55c4e30",
        "colab": {
          "base_uri": "https://localhost:8080/",
          "height": 35
        }
      },
      "source": [
        "# How many months of data we have?\n"
      ],
      "execution_count": null,
      "outputs": [
        {
          "output_type": "execute_result",
          "data": {
            "text/plain": [
              "404"
            ]
          },
          "metadata": {
            "tags": []
          },
          "execution_count": 209
        }
      ]
    },
    {
      "cell_type": "code",
      "metadata": {
        "id": "SPbj-O6tEfOC",
        "outputId": "522fccde-74ff-4ea8-f64a-a391fa332d58",
        "colab": {
          "base_uri": "https://localhost:8080/",
          "height": 301
        }
      },
      "source": [
        "# Plot a line chart with the Adj close value through the period\n"
      ],
      "execution_count": null,
      "outputs": [
        {
          "output_type": "display_data",
          "data": {
            "image/png": "[encoded data removed]",
            "text/plain": [
              "<Figure size 432x288 with 1 Axes>"
            ]
          },
          "metadata": {
            "tags": []
          }
        }
      ]
    },
    {
      "cell_type": "code",
      "metadata": {
        "id": "AHqsPn8gEzJ4"
      },
      "source": [
        ""
      ],
      "execution_count": null,
      "outputs": []
    }
  ]
}
